{
 "cells": [
  {
   "cell_type": "code",
   "execution_count": 0,
   "metadata": {
    "application/vnd.databricks.v1+cell": {
     "cellMetadata": {
      "byteLimit": 2048000,
      "rowLimit": 10000
     },
     "inputWidgets": {},
     "nuid": "d65d2337-c347-41c6-829a-bd28e882df40",
     "showTitle": false,
     "tableResultSettingsMap": {},
     "title": ""
    }
   },
   "outputs": [],
   "source": [
    "from pyspark.sql import functions as F"
   ]
  },
  {
   "cell_type": "markdown",
   "metadata": {
    "application/vnd.databricks.v1+cell": {
     "cellMetadata": {},
     "inputWidgets": {},
     "nuid": "1105919d-ed9f-4327-8f45-bdbb87330b8f",
     "showTitle": false,
     "tableResultSettingsMap": {},
     "title": ""
    }
   },
   "source": [
    "# Create parameter"
   ]
  },
  {
   "cell_type": "code",
   "execution_count": 0,
   "metadata": {
    "application/vnd.databricks.v1+cell": {
     "cellMetadata": {},
     "inputWidgets": {},
     "nuid": "322c386f-22ac-4acb-a20f-26ecc58ad8a5",
     "showTitle": false,
     "tableResultSettingsMap": {},
     "title": ""
    }
   },
   "outputs": [],
   "source": [
    "dbutils.widgets.text('storage_account', '0')"
   ]
  },
  {
   "cell_type": "markdown",
   "metadata": {
    "application/vnd.databricks.v1+cell": {
     "cellMetadata": {
      "byteLimit": 2048000,
      "rowLimit": 10000
     },
     "inputWidgets": {},
     "nuid": "1620de03-6792-4d76-9982-188ee7277dd2",
     "showTitle": false,
     "tableResultSettingsMap": {},
     "title": ""
    }
   },
   "source": [
    "# Read data from bronze"
   ]
  },
  {
   "cell_type": "code",
   "execution_count": 0,
   "metadata": {
    "application/vnd.databricks.v1+cell": {
     "cellMetadata": {
      "byteLimit": 2048000,
      "rowLimit": 10000
     },
     "inputWidgets": {},
     "nuid": "726baafc-3812-4dbc-9f8d-79aad803314f",
     "showTitle": false,
     "tableResultSettingsMap": {},
     "title": ""
    }
   },
   "outputs": [],
   "source": [
    "storage_account = dbutils.widgets.get('storage_account')\n",
    "year = 2022\n",
    "month = 8\n",
    "day = 31"
   ]
  },
  {
   "cell_type": "code",
   "execution_count": 0,
   "metadata": {
    "application/vnd.databricks.v1+cell": {
     "cellMetadata": {
      "byteLimit": 2048000,
      "rowLimit": 10000
     },
     "inputWidgets": {},
     "nuid": "55e402fd-d809-486d-be2d-6bf95fa37c9e",
     "showTitle": false,
     "tableResultSettingsMap": {},
     "title": ""
    }
   },
   "outputs": [],
   "source": [
    "df = spark \\\n",
    "        .read \\\n",
    "        .format('parquet') \\\n",
    "        .option('inferSchema', True) \\\n",
    "        .load(f'abfss://bronze@{storage_account}.dfs.core.windows.net/raw_data/{year}/{month}/{day}/')"
   ]
  },
  {
   "cell_type": "markdown",
   "metadata": {
    "application/vnd.databricks.v1+cell": {
     "cellMetadata": {
      "byteLimit": 2048000,
      "rowLimit": 10000
     },
     "inputWidgets": {},
     "nuid": "30464dc0-a95f-4e7b-9121-323093a9dd7b",
     "showTitle": false,
     "tableResultSettingsMap": {},
     "title": ""
    }
   },
   "source": [
    "# Explore data"
   ]
  },
  {
   "cell_type": "markdown",
   "metadata": {
    "application/vnd.databricks.v1+cell": {
     "cellMetadata": {
      "byteLimit": 2048000,
      "rowLimit": 10000
     },
     "inputWidgets": {},
     "nuid": "e07aa786-d3d9-4551-8c45-c54119b99d1b",
     "showTitle": false,
     "tableResultSettingsMap": {},
     "title": ""
    }
   },
   "source": [
    "### Overview"
   ]
  },
  {
   "cell_type": "code",
   "execution_count": 0,
   "metadata": {
    "application/vnd.databricks.v1+cell": {
     "cellMetadata": {
      "byteLimit": 2048000,
      "rowLimit": 10000
     },
     "inputWidgets": {},
     "nuid": "db42ee58-6920-435b-a168-ab3b9e2bb956",
     "showTitle": false,
     "tableResultSettingsMap": {},
     "title": ""
    }
   },
   "outputs": [
    {
     "data": {
      "text/html": [
       "<style scoped>\n",
       "  .table-result-container {\n",
       "    max-height: 300px;\n",
       "    overflow: auto;\n",
       "  }\n",
       "  table, th, td {\n",
       "    border: 1px solid black;\n",
       "    border-collapse: collapse;\n",
       "  }\n",
       "  th, td {\n",
       "    padding: 5px;\n",
       "  }\n",
       "  th {\n",
       "    text-align: left;\n",
       "  }\n",
       "</style><div class='table-result-container'><table class='table-result'><thead style='background-color: white'><tr><th>Sales_Person_ID</th><th>Sales_Person</th><th>Country</th><th>Product_ID</th><th>Product</th><th>Date</th><th>Amount</th><th>Boxes_Shipped</th></tr></thead><tbody><tr><td>14</td><td>Jehu Rudeforth</td><td>UK</td><td>15</td><td>Mint Chip Choco</td><td>2022-01-04</td><td>$5,320 </td><td>180</td></tr><tr><td>24</td><td>Van Tuxwell</td><td>India</td><td>3</td><td>85% Dark Bars</td><td>2022-08-01</td><td>$7,896 </td><td>94</td></tr><tr><td>10</td><td>Gigi Bohling</td><td>India</td><td>18</td><td>Peanut Butter Cubes</td><td>2022-07-07</td><td>$4,501 </td><td>91</td></tr><tr><td>13</td><td>Jan Morforth</td><td>Australia</td><td>18</td><td>Peanut Butter Cubes</td><td>2022-04-27</td><td>$12,726 </td><td>342</td></tr><tr><td>14</td><td>Jehu Rudeforth</td><td>UK</td><td>18</td><td>Peanut Butter Cubes</td><td>2022-02-24</td><td>$13,685 </td><td>184</td></tr><tr><td>24</td><td>Van Tuxwell</td><td>India</td><td>20</td><td>Smooth Sliky Salty</td><td>2022-06-06</td><td>$5,376 </td><td>38</td></tr><tr><td>21</td><td>Oby Sorrel</td><td>UK</td><td>4</td><td>99% Dark & Pure</td><td>2022-01-25</td><td>$13,685 </td><td>176</td></tr><tr><td>11</td><td>Gunar Cockshoot</td><td>Australia</td><td>5</td><td>After Nines</td><td>2022-03-24</td><td>$3,080 </td><td>73</td></tr><tr><td>14</td><td>Jehu Rudeforth</td><td>New Zealand</td><td>1</td><td>50% Dark Bites</td><td>2022-04-20</td><td>$3,990 </td><td>59</td></tr><tr><td>4</td><td>Brien Boise</td><td>Australia</td><td>4</td><td>99% Dark & Pure</td><td>2022-07-04</td><td>$2,835 </td><td>102</td></tr><tr><td>22</td><td>Rafaelita Blaksland</td><td>UK</td><td>20</td><td>Smooth Sliky Salty</td><td>2022-01-13</td><td>$4,704 </td><td>62</td></tr><tr><td>2</td><td>Barr Faughny</td><td>USA</td><td>16</td><td>Orange Choco</td><td>2022-03-10</td><td>$3,703 </td><td>11</td></tr><tr><td>19</td><td>Mallorie Waber</td><td>Canada</td><td>11</td><td>Eclairs</td><td>2022-01-13</td><td>$1,442 </td><td>286</td></tr><tr><td>16</td><td>Karlen McCaffrey</td><td>New Zealand</td><td>10</td><td>Drinking Coco</td><td>2022-07-28</td><td>$168 </td><td>156</td></tr><tr><td>20</td><td>Marney O'Breen</td><td>New Zealand</td><td>18</td><td>Peanut Butter Cubes</td><td>2022-08-03</td><td>$8,379 </td><td>173</td></tr><tr><td>3</td><td>Beverie Moffet</td><td>Australia</td><td>17</td><td>Organic Choco Syrup</td><td>2022-01-26</td><td>$6,790 </td><td>356</td></tr><tr><td>24</td><td>Van Tuxwell</td><td>Canada</td><td>17</td><td>Organic Choco Syrup</td><td>2022-02-14</td><td>$4,067 </td><td>42</td></tr><tr><td>23</td><td>Roddy Speechley</td><td>USA</td><td>20</td><td>Smooth Sliky Salty</td><td>2022-04-05</td><td>$3,017 </td><td>140</td></tr><tr><td>3</td><td>Beverie Moffet</td><td>Canada</td><td>14</td><td>Milk Bars</td><td>2022-02-16</td><td>$8,799 </td><td>250</td></tr><tr><td>7</td><td>Curtice Advani</td><td>UK</td><td>3</td><td>85% Dark Bars</td><td>2022-06-08</td><td>$1,085 </td><td>172</td></tr><tr><td>4</td><td>Brien Boise</td><td>Australia</td><td>11</td><td>Eclairs</td><td>2022-06-27</td><td>$6,888 </td><td>88</td></tr><tr><td>11</td><td>Gunar Cockshoot</td><td>USA</td><td>21</td><td>Spicy Special Slims</td><td>2022-02-17</td><td>$1,267 </td><td>157</td></tr><tr><td>20</td><td>Marney O'Breen</td><td>USA</td><td>5</td><td>After Nines</td><td>2022-05-30</td><td>$4,753 </td><td>163</td></tr><tr><td>12</td><td>Husein Augar</td><td>UK</td><td>10</td><td>Drinking Coco</td><td>2022-03-14</td><td>$3,003 </td><td>113</td></tr><tr><td>15</td><td>Kaine Padly</td><td>Australia</td><td>11</td><td>Eclairs</td><td>2022-02-28</td><td>$7,672 </td><td>115</td></tr><tr><td>16</td><td>Karlen McCaffrey</td><td>India</td><td>12</td><td>Fruit & Nut Bars</td><td>2022-01-26</td><td>$168 </td><td>321</td></tr><tr><td>23</td><td>Roddy Speechley</td><td>Canada</td><td>21</td><td>Spicy Special Slims</td><td>2022-02-09</td><td>$1,652 </td><td>186</td></tr><tr><td>12</td><td>Husein Augar</td><td>USA</td><td>11</td><td>Eclairs</td><td>2022-07-07</td><td>$4,025 </td><td>112</td></tr><tr><td>8</td><td>Dennison Crosswaite</td><td>New Zealand</td><td>22</td><td>White Choc</td><td>2022-07-05</td><td>$9,492 </td><td>151</td></tr><tr><td>8</td><td>Dennison Crosswaite</td><td>New Zealand</td><td>13</td><td>Manuka Honey Choco</td><td>2022-06-15</td><td>$5,061 </td><td>301</td></tr><tr><td>24</td><td>Van Tuxwell</td><td>New Zealand</td><td>3</td><td>85% Dark Bars</td><td>2022-05-24</td><td>$1,722 </td><td>121</td></tr><tr><td>22</td><td>Rafaelita Blaksland</td><td>UK</td><td>4</td><td>99% Dark & Pure</td><td>2022-06-29</td><td>$12,446 </td><td>150</td></tr><tr><td>25</td><td>Wilone O'Kielt</td><td>Australia</td><td>13</td><td>Manuka Honey Choco</td><td>2022-05-11</td><td>$4,284 </td><td>94</td></tr><tr><td>16</td><td>Karlen McCaffrey</td><td>UK</td><td>6</td><td>Almond Choco</td><td>2022-06-30</td><td>$6,839 </td><td>133</td></tr><tr><td>1</td><td>Andria Kimpton</td><td>Canada</td><td>5</td><td>After Nines</td><td>2022-05-11</td><td>$2,163 </td><td>70</td></tr><tr><td>23</td><td>Roddy Speechley</td><td>USA</td><td>13</td><td>Manuka Honey Choco</td><td>2022-07-22</td><td>$9,583 </td><td>315</td></tr><tr><td>1</td><td>Andria Kimpton</td><td>UK</td><td>1</td><td>50% Dark Bites</td><td>2022-08-24</td><td>$2,653 </td><td>314</td></tr><tr><td>17</td><td>Kelci Walkden</td><td>New Zealand</td><td>5</td><td>After Nines</td><td>2022-07-07</td><td>$147 </td><td>72</td></tr><tr><td>5</td><td>Camilla Castle</td><td>Australia</td><td>3</td><td>85% Dark Bars</td><td>2022-05-19</td><td>$3,654 </td><td>14</td></tr><tr><td>16</td><td>Karlen McCaffrey</td><td>India</td><td>13</td><td>Manuka Honey Choco</td><td>2022-07-04</td><td>$2,443 </td><td>581</td></tr><tr><td>17</td><td>Kelci Walkden</td><td>USA</td><td>5</td><td>After Nines</td><td>2022-06-02</td><td>$938 </td><td>16</td></tr><tr><td>16</td><td>Karlen McCaffrey</td><td>USA</td><td>19</td><td>Raspberry Choco</td><td>2022-04-15</td><td>$14,749 </td><td>354</td></tr><tr><td>19</td><td>Mallorie Waber</td><td>Canada</td><td>9</td><td>Choco Coated Almonds</td><td>2022-07-11</td><td>$4,781 </td><td>241</td></tr><tr><td>1</td><td>Andria Kimpton</td><td>India</td><td>21</td><td>Spicy Special Slims</td><td>2022-02-23</td><td>$6,307 </td><td>142</td></tr><tr><td>18</td><td>Madelene Upcott</td><td>Canada</td><td>6</td><td>Almond Choco</td><td>2022-08-22</td><td>$7,602 </td><td>102</td></tr><tr><td>15</td><td>Kaine Padly</td><td>USA</td><td>18</td><td>Peanut Butter Cubes</td><td>2022-02-16</td><td>$6,790 </td><td>188</td></tr><tr><td>24</td><td>Van Tuxwell</td><td>USA</td><td>1</td><td>50% Dark Bites</td><td>2022-01-13</td><td>$9,737 </td><td>160</td></tr><tr><td>7</td><td>Curtice Advani</td><td>Australia</td><td>14</td><td>Milk Bars</td><td>2022-02-14</td><td>$6,979 </td><td>18</td></tr><tr><td>23</td><td>Roddy Speechley</td><td>India</td><td>11</td><td>Eclairs</td><td>2022-06-10</td><td>$4,382 </td><td>303</td></tr><tr><td>7</td><td>Curtice Advani</td><td>India</td><td>12</td><td>Fruit & Nut Bars</td><td>2022-07-07</td><td>$5,243 </td><td>176</td></tr><tr><td>7</td><td>Curtice Advani</td><td>Canada</td><td>6</td><td>Almond Choco</td><td>2022-03-24</td><td>$4,865 </td><td>70</td></tr><tr><td>4</td><td>Brien Boise</td><td>Australia</td><td>12</td><td>Fruit & Nut Bars</td><td>2022-06-06</td><td>$8,575 </td><td>23</td></tr><tr><td>9</td><td>Dotty Strutley</td><td>Australia</td><td>10</td><td>Drinking Coco</td><td>2022-07-19</td><td>$91 </td><td>135</td></tr><tr><td>3</td><td>Beverie Moffet</td><td>USA</td><td>19</td><td>Raspberry Choco</td><td>2022-04-19</td><td>$14,798 </td><td>83</td></tr><tr><td>20</td><td>Marney O'Breen</td><td>India</td><td>3</td><td>85% Dark Bars</td><td>2022-07-19</td><td>$2,205 </td><td>179</td></tr><tr><td>14</td><td>Jehu Rudeforth</td><td>Canada</td><td>10</td><td>Drinking Coco</td><td>2022-07-15</td><td>$441 </td><td>24</td></tr><tr><td>6</td><td>Ches Bonnell</td><td>New Zealand</td><td>21</td><td>Spicy Special Slims</td><td>2022-02-14</td><td>$3,556 </td><td>18</td></tr><tr><td>4</td><td>Brien Boise</td><td>Canada</td><td>4</td><td>99% Dark & Pure</td><td>2022-05-18</td><td>$16,793 </td><td>416</td></tr><tr><td>2</td><td>Barr Faughny</td><td>Australia</td><td>12</td><td>Fruit & Nut Bars</td><td>2022-06-30</td><td>$15,421 </td><td>55</td></tr><tr><td>1</td><td>Andria Kimpton</td><td>Australia</td><td>1</td><td>50% Dark Bites</td><td>2022-06-02</td><td>$4,438 </td><td>227</td></tr><tr><td>1</td><td>Andria Kimpton</td><td>Australia</td><td>10</td><td>Drinking Coco</td><td>2022-06-28</td><td>$1,603 </td><td>48</td></tr><tr><td>20</td><td>Marney O'Breen</td><td>Australia</td><td>17</td><td>Organic Choco Syrup</td><td>2022-05-16</td><td>$273 </td><td>174</td></tr><tr><td>17</td><td>Kelci Walkden</td><td>Canada</td><td>7</td><td>Baker's Choco Chips</td><td>2022-05-26</td><td>$3,073 </td><td>302</td></tr><tr><td>16</td><td>Karlen McCaffrey</td><td>India</td><td>6</td><td>Almond Choco</td><td>2022-07-06</td><td>$6,090 </td><td>149</td></tr><tr><td>21</td><td>Oby Sorrel</td><td>India</td><td>4</td><td>99% Dark & Pure</td><td>2022-05-27</td><td>$10,255 </td><td>11</td></tr><tr><td>25</td><td>Wilone O'Kielt</td><td>Australia</td><td>8</td><td>Caramel Stuffed Bars</td><td>2022-04-14</td><td>$2,030 </td><td>11</td></tr><tr><td>24</td><td>Van Tuxwell</td><td>Australia</td><td>17</td><td>Organic Choco Syrup</td><td>2022-08-10</td><td>$19,453 </td><td>14</td></tr><tr><td>5</td><td>Camilla Castle</td><td>India</td><td>1</td><td>50% Dark Bites</td><td>2022-07-04</td><td>$9,275 </td><td>411</td></tr><tr><td>21</td><td>Oby Sorrel</td><td>India</td><td>17</td><td>Organic Choco Syrup</td><td>2022-07-08</td><td>$6,181 </td><td>56</td></tr><tr><td>13</td><td>Jan Morforth</td><td>USA</td><td>18</td><td>Peanut Butter Cubes</td><td>2022-07-22</td><td>$9,037 </td><td>102</td></tr><tr><td>10</td><td>Gigi Bohling</td><td>USA</td><td>9</td><td>Choco Coated Almonds</td><td>2022-03-02</td><td>$12,313 </td><td>103</td></tr><tr><td>10</td><td>Gigi Bohling</td><td>UK</td><td>6</td><td>Almond Choco</td><td>2022-01-10</td><td>$5,642 </td><td>9</td></tr><tr><td>14</td><td>Jehu Rudeforth</td><td>New Zealand</td><td>22</td><td>White Choc</td><td>2022-03-11</td><td>$2,800 </td><td>241</td></tr><tr><td>1</td><td>Andria Kimpton</td><td>New Zealand</td><td>18</td><td>Peanut Butter Cubes</td><td>2022-06-20</td><td>$959 </td><td>265</td></tr><tr><td>24</td><td>Van Tuxwell</td><td>UK</td><td>17</td><td>Organic Choco Syrup</td><td>2022-08-26</td><td>$2,002 </td><td>214</td></tr><tr><td>23</td><td>Roddy Speechley</td><td>Canada</td><td>14</td><td>Milk Bars</td><td>2022-07-13</td><td>$609 </td><td>32</td></tr><tr><td>5</td><td>Camilla Castle</td><td>USA</td><td>21</td><td>Spicy Special Slims</td><td>2022-02-11</td><td>$1,274 </td><td>244</td></tr><tr><td>20</td><td>Marney O'Breen</td><td>USA</td><td>16</td><td>Orange Choco</td><td>2022-01-27</td><td>$7,595 </td><td>181</td></tr><tr><td>24</td><td>Van Tuxwell</td><td>UK</td><td>4</td><td>99% Dark & Pure</td><td>2022-01-31</td><td>$4,725 </td><td>137</td></tr><tr><td>5</td><td>Camilla Castle</td><td>USA</td><td>22</td><td>White Choc</td><td>2022-08-18</td><td>$9,681 </td><td>24</td></tr><tr><td>1</td><td>Andria Kimpton</td><td>USA</td><td>19</td><td>Raspberry Choco</td><td>2022-06-30</td><td>$14,504 </td><td>21</td></tr><tr><td>9</td><td>Dotty Strutley</td><td>Australia</td><td>12</td><td>Fruit & Nut Bars</td><td>2022-08-23</td><td>$280 </td><td>311</td></tr><tr><td>4</td><td>Brien Boise</td><td>New Zealand</td><td>15</td><td>Mint Chip Choco</td><td>2022-08-01</td><td>$63 </td><td>181</td></tr><tr><td>23</td><td>Roddy Speechley</td><td>New Zealand</td><td>5</td><td>After Nines</td><td>2022-05-25</td><td>$8,001 </td><td>10</td></tr><tr><td>23</td><td>Roddy Speechley</td><td>Canada</td><td>17</td><td>Organic Choco Syrup</td><td>2022-01-10</td><td>$4,032 </td><td>82</td></tr><tr><td>8</td><td>Dennison Crosswaite</td><td>Australia</td><td>2</td><td>70% Dark Bites</td><td>2022-02-07</td><td>$5,859 </td><td>108</td></tr><tr><td>16</td><td>Karlen McCaffrey</td><td>USA</td><td>16</td><td>Orange Choco</td><td>2022-05-12</td><td>$11,095 </td><td>401</td></tr><tr><td>18</td><td>Madelene Upcott</td><td>Australia</td><td>21</td><td>Spicy Special Slims</td><td>2022-03-07</td><td>$7,182 </td><td>408</td></tr><tr><td>8</td><td>Dennison Crosswaite</td><td>Australia</td><td>3</td><td>85% Dark Bars</td><td>2022-04-05</td><td>$6,881 </td><td>420</td></tr><tr><td>1</td><td>Andria Kimpton</td><td>Canada</td><td>8</td><td>Caramel Stuffed Bars</td><td>2022-01-03</td><td>$7,154 </td><td>348</td></tr><tr><td>8</td><td>Dennison Crosswaite</td><td>UK</td><td>11</td><td>Eclairs</td><td>2022-03-24</td><td>$6,188 </td><td>270</td></tr><tr><td>18</td><td>Madelene Upcott</td><td>India</td><td>19</td><td>Raspberry Choco</td><td>2022-07-07</td><td>$4,221 </td><td>9</td></tr><tr><td>24</td><td>Van Tuxwell</td><td>USA</td><td>5</td><td>After Nines</td><td>2022-07-26</td><td>$630 </td><td>264</td></tr><tr><td>25</td><td>Wilone O'Kielt</td><td>Australia</td><td>17</td><td>Organic Choco Syrup</td><td>2022-07-07</td><td>$1,743 </td><td>111</td></tr><tr><td>16</td><td>Karlen McCaffrey</td><td>Canada</td><td>1</td><td>50% Dark Bites</td><td>2022-07-15</td><td>$2,919 </td><td>65</td></tr><tr><td>23</td><td>Roddy Speechley</td><td>New Zealand</td><td>16</td><td>Orange Choco</td><td>2022-04-01</td><td>$49 </td><td>97</td></tr><tr><td>3</td><td>Beverie Moffet</td><td>Australia</td><td>11</td><td>Eclairs</td><td>2022-06-20</td><td>$1,827 </td><td>6</td></tr><tr><td>17</td><td>Kelci Walkden</td><td>UK</td><td>12</td><td>Fruit & Nut Bars</td><td>2022-06-29</td><td>$13,006 </td><td>482</td></tr><tr><td>20</td><td>Marney O'Breen</td><td>USA</td><td>1</td><td>50% Dark Bites</td><td>2022-06-15</td><td>$1,064 </td><td>106</td></tr><tr><td>12</td><td>Husein Augar</td><td>USA</td><td>5</td><td>After Nines</td><td>2022-04-08</td><td>$11,571 </td><td>180</td></tr><tr><td>8</td><td>Dennison Crosswaite</td><td>Australia</td><td>19</td><td>Raspberry Choco</td><td>2022-03-14</td><td>$5,740 </td><td>31</td></tr><tr><td>1</td><td>Andria Kimpton</td><td>USA</td><td>12</td><td>Fruit & Nut Bars</td><td>2022-07-15</td><td>$1,456 </td><td>359</td></tr><tr><td>17</td><td>Kelci Walkden</td><td>India</td><td>11</td><td>Eclairs</td><td>2022-04-19</td><td>$5,334 </td><td>80</td></tr><tr><td>20</td><td>Marney O'Breen</td><td>USA</td><td>4</td><td>99% Dark & Pure</td><td>2022-03-28</td><td>$4,151 </td><td>296</td></tr><tr><td>4</td><td>Brien Boise</td><td>Canada</td><td>21</td><td>Spicy Special Slims</td><td>2022-03-04</td><td>$8,106 </td><td>101</td></tr><tr><td>16</td><td>Karlen McCaffrey</td><td>New Zealand</td><td>2</td><td>70% Dark Bites</td><td>2022-08-02</td><td>$126 </td><td>40</td></tr><tr><td>12</td><td>Husein Augar</td><td>UK</td><td>21</td><td>Spicy Special Slims</td><td>2022-08-25</td><td>$4,697 </td><td>42</td></tr><tr><td>20</td><td>Marney O'Breen</td><td>USA</td><td>6</td><td>Almond Choco</td><td>2022-02-25</td><td>$7,798 </td><td>167</td></tr><tr><td>17</td><td>Kelci Walkden</td><td>India</td><td>16</td><td>Orange Choco</td><td>2022-06-07</td><td>$9,408 </td><td>138</td></tr><tr><td>13</td><td>Jan Morforth</td><td>India</td><td>21</td><td>Spicy Special Slims</td><td>2022-04-12</td><td>$1,939 </td><td>520</td></tr><tr><td>6</td><td>Ches Bonnell</td><td>India</td><td>21</td><td>Spicy Special Slims</td><td>2022-07-06</td><td>$10,906 </td><td>94</td></tr><tr><td>17</td><td>Kelci Walkden</td><td>UK</td><td>20</td><td>Smooth Sliky Salty</td><td>2022-01-19</td><td>$5,929 </td><td>175</td></tr><tr><td>18</td><td>Madelene Upcott</td><td>Australia</td><td>12</td><td>Fruit & Nut Bars</td><td>2022-01-05</td><td>$5,579 </td><td>92</td></tr><tr><td>18</td><td>Madelene Upcott</td><td>Canada</td><td>2</td><td>70% Dark Bites</td><td>2022-01-24</td><td>$10,927 </td><td>141</td></tr><tr><td>25</td><td>Wilone O'Kielt</td><td>Australia</td><td>10</td><td>Drinking Coco</td><td>2022-04-06</td><td>$623 </td><td>283</td></tr><tr><td>11</td><td>Gunar Cockshoot</td><td>Australia</td><td>12</td><td>Fruit & Nut Bars</td><td>2022-06-15</td><td>$6,013 </td><td>21</td></tr><tr><td>10</td><td>Gigi Bohling</td><td>Canada</td><td>7</td><td>Baker's Choco Chips</td><td>2022-01-28</td><td>$1,505 </td><td>47</td></tr><tr><td>17</td><td>Kelci Walkden</td><td>India</td><td>8</td><td>Caramel Stuffed Bars</td><td>2022-03-16</td><td>$476 </td><td>125</td></tr><tr><td>22</td><td>Rafaelita Blaksland</td><td>Australia</td><td>10</td><td>Drinking Coco</td><td>2022-02-21</td><td>$11,550 </td><td>396</td></tr><tr><td>17</td><td>Kelci Walkden</td><td>USA</td><td>13</td><td>Manuka Honey Choco</td><td>2022-02-16</td><td>$17,318 </td><td>87</td></tr><tr><td>14</td><td>Jehu Rudeforth</td><td>Canada</td><td>21</td><td>Spicy Special Slims</td><td>2022-01-13</td><td>$1,848 </td><td>27</td></tr><tr><td>17</td><td>Kelci Walkden</td><td>Australia</td><td>11</td><td>Eclairs</td><td>2022-03-23</td><td>$7,273 </td><td>547</td></tr><tr><td>7</td><td>Curtice Advani</td><td>Canada</td><td>21</td><td>Spicy Special Slims</td><td>2022-06-16</td><td>$854 </td><td>118</td></tr><tr><td>21</td><td>Oby Sorrel</td><td>India</td><td>19</td><td>Raspberry Choco</td><td>2022-04-14</td><td>$6,832 </td><td>46</td></tr><tr><td>17</td><td>Kelci Walkden</td><td>UK</td><td>11</td><td>Eclairs</td><td>2022-01-25</td><td>$4,606 </td><td>57</td></tr><tr><td>13</td><td>Jan Morforth</td><td>India</td><td>6</td><td>Almond Choco</td><td>2022-03-11</td><td>$4,466 </td><td>22</td></tr><tr><td>9</td><td>Dotty Strutley</td><td>UK</td><td>6</td><td>Almond Choco</td><td>2022-07-28</td><td>$16,114 </td><td>96</td></tr><tr><td>20</td><td>Marney O'Breen</td><td>New Zealand</td><td>5</td><td>After Nines</td><td>2022-03-09</td><td>$1,561 </td><td>44</td></tr><tr><td>12</td><td>Husein Augar</td><td>Australia</td><td>16</td><td>Orange Choco</td><td>2022-06-28</td><td>$8,897 </td><td>188</td></tr><tr><td>20</td><td>Marney O'Breen</td><td>Australia</td><td>14</td><td>Milk Bars</td><td>2022-07-28</td><td>$2,464 </td><td>387</td></tr><tr><td>17</td><td>Kelci Walkden</td><td>Canada</td><td>4</td><td>99% Dark & Pure</td><td>2022-08-15</td><td>$4,830 </td><td>50</td></tr><tr><td>15</td><td>Kaine Padly</td><td>Australia</td><td>13</td><td>Manuka Honey Choco</td><td>2022-01-12</td><td>$2,765 </td><td>264</td></tr><tr><td>3</td><td>Beverie Moffet</td><td>New Zealand</td><td>22</td><td>White Choc</td><td>2022-03-24</td><td>$7,126 </td><td>7</td></tr><tr><td>24</td><td>Van Tuxwell</td><td>UK</td><td>14</td><td>Milk Bars</td><td>2022-07-25</td><td>$4,263 </td><td>90</td></tr><tr><td>21</td><td>Oby Sorrel</td><td>Canada</td><td>4</td><td>99% Dark & Pure</td><td>2022-08-01</td><td>$3,605 </td><td>403</td></tr><tr><td>24</td><td>Van Tuxwell</td><td>India</td><td>17</td><td>Organic Choco Syrup</td><td>2022-05-16</td><td>$19,929 </td><td>174</td></tr><tr><td>23</td><td>Roddy Speechley</td><td>India</td><td>20</td><td>Smooth Sliky Salty</td><td>2022-08-10</td><td>$5,103 </td><td>140</td></tr><tr><td>13</td><td>Jan Morforth</td><td>India</td><td>11</td><td>Eclairs</td><td>2022-01-05</td><td>$2,541 </td><td>27</td></tr><tr><td>6</td><td>Ches Bonnell</td><td>UK</td><td>20</td><td>Smooth Sliky Salty</td><td>2022-07-11</td><td>$5,663 </td><td>110</td></tr><tr><td>25</td><td>Wilone O'Kielt</td><td>USA</td><td>5</td><td>After Nines</td><td>2022-04-25</td><td>$392 </td><td>30</td></tr><tr><td>10</td><td>Gigi Bohling</td><td>New Zealand</td><td>12</td><td>Fruit & Nut Bars</td><td>2022-04-04</td><td>$10,976 </td><td>121</td></tr><tr><td>2</td><td>Barr Faughny</td><td>USA</td><td>19</td><td>Raspberry Choco</td><td>2022-04-12</td><td>$9,282 </td><td>101</td></tr><tr><td>25</td><td>Wilone O'Kielt</td><td>New Zealand</td><td>3</td><td>85% Dark Bars</td><td>2022-08-02</td><td>$1,827 </td><td>117</td></tr><tr><td>10</td><td>Gigi Bohling</td><td>New Zealand</td><td>13</td><td>Manuka Honey Choco</td><td>2022-06-28</td><td>$8,267 </td><td>272</td></tr><tr><td>6</td><td>Ches Bonnell</td><td>Australia</td><td>11</td><td>Eclairs</td><td>2022-07-05</td><td>$4,116 </td><td>128</td></tr><tr><td>22</td><td>Rafaelita Blaksland</td><td>New Zealand</td><td>9</td><td>Choco Coated Almonds</td><td>2022-06-07</td><td>$2,093 </td><td>45</td></tr><tr><td>4</td><td>Brien Boise</td><td>New Zealand</td><td>20</td><td>Smooth Sliky Salty</td><td>2022-01-18</td><td>$1,015 </td><td>27</td></tr><tr><td>4</td><td>Brien Boise</td><td>Australia</td><td>7</td><td>Baker's Choco Chips</td><td>2022-01-04</td><td>$12,516 </td><td>212</td></tr><tr><td>8</td><td>Dennison Crosswaite</td><td>Australia</td><td>4</td><td>99% Dark & Pure</td><td>2022-01-31</td><td>$2,758 </td><td>18</td></tr><tr><td>17</td><td>Kelci Walkden</td><td>India</td><td>6</td><td>Almond Choco</td><td>2022-03-14</td><td>$3,297 </td><td>149</td></tr><tr><td>5</td><td>Camilla Castle</td><td>Australia</td><td>2</td><td>70% Dark Bites</td><td>2022-04-29</td><td>$6,048 </td><td>477</td></tr><tr><td>21</td><td>Oby Sorrel</td><td>India</td><td>20</td><td>Smooth Sliky Salty</td><td>2022-02-07</td><td>$10,101 </td><td>108</td></tr><tr><td>15</td><td>Kaine Padly</td><td>UK</td><td>17</td><td>Organic Choco Syrup</td><td>2022-03-31</td><td>$2,282 </td><td>178</td></tr><tr><td>20</td><td>Marney O'Breen</td><td>India</td><td>8</td><td>Caramel Stuffed Bars</td><td>2022-03-16</td><td>$4,361 </td><td>81</td></tr><tr><td>16</td><td>Karlen McCaffrey</td><td>UK</td><td>11</td><td>Eclairs</td><td>2022-01-25</td><td>$7,798 </td><td>196</td></tr><tr><td>24</td><td>Van Tuxwell</td><td>India</td><td>7</td><td>Baker's Choco Chips</td><td>2022-06-20</td><td>$3,052 </td><td>447</td></tr><tr><td>10</td><td>Gigi Bohling</td><td>UK</td><td>5</td><td>After Nines</td><td>2022-03-29</td><td>$8,029 </td><td>175</td></tr><tr><td>7</td><td>Curtice Advani</td><td>Australia</td><td>16</td><td>Orange Choco</td><td>2022-07-12</td><td>$854 </td><td>136</td></tr><tr><td>14</td><td>Jehu Rudeforth</td><td>Canada</td><td>20</td><td>Smooth Sliky Salty</td><td>2022-07-11</td><td>$5,460 </td><td>138</td></tr><tr><td>16</td><td>Karlen McCaffrey</td><td>Canada</td><td>20</td><td>Smooth Sliky Salty</td><td>2022-01-19</td><td>$3,017 </td><td>184</td></tr><tr><td>1</td><td>Andria Kimpton</td><td>USA</td><td>3</td><td>85% Dark Bars</td><td>2022-04-05</td><td>$8,911 </td><td>82</td></tr><tr><td>14</td><td>Jehu Rudeforth</td><td>Canada</td><td>14</td><td>Milk Bars</td><td>2022-02-21</td><td>$7,203 </td><td>12</td></tr><tr><td>22</td><td>Rafaelita Blaksland</td><td>New Zealand</td><td>8</td><td>Caramel Stuffed Bars</td><td>2022-05-20</td><td>$13,083 </td><td>14</td></tr><tr><td>19</td><td>Mallorie Waber</td><td>Australia</td><td>14</td><td>Milk Bars</td><td>2022-07-29</td><td>$2,779 </td><td>104</td></tr><tr><td>2</td><td>Barr Faughny</td><td>USA</td><td>12</td><td>Fruit & Nut Bars</td><td>2022-01-28</td><td>$9,058 </td><td>46</td></tr><tr><td>20</td><td>Marney O'Breen</td><td>UK</td><td>8</td><td>Caramel Stuffed Bars</td><td>2022-07-19</td><td>$3,549 </td><td>112</td></tr><tr><td>19</td><td>Mallorie Waber</td><td>New Zealand</td><td>13</td><td>Manuka Honey Choco</td><td>2022-04-13</td><td>$9,436 </td><td>11</td></tr><tr><td>23</td><td>Roddy Speechley</td><td>India</td><td>18</td><td>Peanut Butter Cubes</td><td>2022-02-11</td><td>$10,283 </td><td>21</td></tr><tr><td>23</td><td>Roddy Speechley</td><td>New Zealand</td><td>14</td><td>Milk Bars</td><td>2022-03-02</td><td>$5,446 </td><td>116</td></tr><tr><td>6</td><td>Ches Bonnell</td><td>Australia</td><td>22</td><td>White Choc</td><td>2022-03-02</td><td>$1,043 </td><td>202</td></tr><tr><td>24</td><td>Van Tuxwell</td><td>USA</td><td>4</td><td>99% Dark & Pure</td><td>2022-07-28</td><td>$12,586 </td><td>6</td></tr><tr><td>17</td><td>Kelci Walkden</td><td>India</td><td>5</td><td>After Nines</td><td>2022-01-07</td><td>$1,687 </td><td>520</td></tr><tr><td>4</td><td>Brien Boise</td><td>UK</td><td>22</td><td>White Choc</td><td>2022-04-12</td><td>$5,299 </td><td>167</td></tr><tr><td>24</td><td>Van Tuxwell</td><td>Canada</td><td>6</td><td>Almond Choco</td><td>2022-06-27</td><td>$3,213 </td><td>72</td></tr><tr><td>14</td><td>Jehu Rudeforth</td><td>Australia</td><td>1</td><td>50% Dark Bites</td><td>2022-01-14</td><td>$5,194 </td><td>418</td></tr><tr><td>16</td><td>Karlen McCaffrey</td><td>UK</td><td>7</td><td>Baker's Choco Chips</td><td>2022-02-07</td><td>$4,753 </td><td>389</td></tr><tr><td>14</td><td>Jehu Rudeforth</td><td>Australia</td><td>16</td><td>Orange Choco</td><td>2022-03-23</td><td>$13,706 </td><td>26</td></tr><tr><td>20</td><td>Marney O'Breen</td><td>India</td><td>18</td><td>Peanut Butter Cubes</td><td>2022-01-10</td><td>$6,489 </td><td>146</td></tr><tr><td>21</td><td>Oby Sorrel</td><td>UK</td><td>9</td><td>Choco Coated Almonds</td><td>2022-03-17</td><td>$9,324 </td><td>41</td></tr><tr><td>10</td><td>Gigi Bohling</td><td>USA</td><td>21</td><td>Spicy Special Slims</td><td>2022-01-21</td><td>$10,829 </td><td>54</td></tr><tr><td>2</td><td>Barr Faughny</td><td>Australia</td><td>22</td><td>White Choc</td><td>2022-07-04</td><td>$8,113 </td><td>370</td></tr><tr><td>15</td><td>Kaine Padly</td><td>Canada</td><td>18</td><td>Peanut Butter Cubes</td><td>2022-07-04</td><td>$3,269 </td><td>176</td></tr><tr><td>9</td><td>Dotty Strutley</td><td>USA</td><td>13</td><td>Manuka Honey Choco</td><td>2022-08-10</td><td>$273 </td><td>210</td></tr><tr><td>8</td><td>Dennison Crosswaite</td><td>Australia</td><td>1</td><td>50% Dark Bites</td><td>2022-04-01</td><td>$7,287 </td><td>12</td></tr><tr><td>10</td><td>Gigi Bohling</td><td>India</td><td>19</td><td>Raspberry Choco</td><td>2022-02-22</td><td>$2,583 </td><td>159</td></tr><tr><td>5</td><td>Camilla Castle</td><td>UK</td><td>22</td><td>White Choc</td><td>2022-01-03</td><td>$9,982 </td><td>187</td></tr><tr><td>16</td><td>Karlen McCaffrey</td><td>India</td><td>10</td><td>Drinking Coco</td><td>2022-05-31</td><td>$4,795 </td><td>233</td></tr><tr><td>9</td><td>Dotty Strutley</td><td>UK</td><td>4</td><td>99% Dark & Pure</td><td>2022-01-03</td><td>$9,310 </td><td>282</td></tr><tr><td>12</td><td>Husein Augar</td><td>New Zealand</td><td>8</td><td>Caramel Stuffed Bars</td><td>2022-01-27</td><td>$497 </td><td>475</td></tr><tr><td>2</td><td>Barr Faughny</td><td>UK</td><td>1</td><td>50% Dark Bites</td><td>2022-01-28</td><td>$581 </td><td>65</td></tr><tr><td>7</td><td>Curtice Advani</td><td>Australia</td><td>17</td><td>Organic Choco Syrup</td><td>2022-06-28</td><td>$3,472 </td><td>311</td></tr><tr><td>12</td><td>Husein Augar</td><td>UK</td><td>9</td><td>Choco Coated Almonds</td><td>2022-03-02</td><td>$4,333 </td><td>43</td></tr><tr><td>25</td><td>Wilone O'Kielt</td><td>Australia</td><td>5</td><td>After Nines</td><td>2022-05-27</td><td>$3,325 </td><td>26</td></tr><tr><td>8</td><td>Dennison Crosswaite</td><td>USA</td><td>6</td><td>Almond Choco</td><td>2022-06-30</td><td>$11,718 </td><td>84</td></tr><tr><td>2</td><td>Barr Faughny</td><td>Canada</td><td>18</td><td>Peanut Butter Cubes</td><td>2022-06-07</td><td>$2,100 </td><td>78</td></tr><tr><td>15</td><td>Kaine Padly</td><td>USA</td><td>2</td><td>70% Dark Bites</td><td>2022-05-12</td><td>$4,018 </td><td>100</td></tr><tr><td>2</td><td>Barr Faughny</td><td>New Zealand</td><td>19</td><td>Raspberry Choco</td><td>2022-07-29</td><td>$6,468 </td><td>66</td></tr><tr><td>8</td><td>Dennison Crosswaite</td><td>UK</td><td>22</td><td>White Choc</td><td>2022-08-03</td><td>$7,238 </td><td>265</td></tr><tr><td>2</td><td>Barr Faughny</td><td>India</td><td>7</td><td>Baker's Choco Chips</td><td>2022-08-18</td><td>$6,454 </td><td>141</td></tr><tr><td>24</td><td>Van Tuxwell</td><td>New Zealand</td><td>20</td><td>Smooth Sliky Salty</td><td>2022-06-14</td><td>$3,115 </td><td>42</td></tr><tr><td>3</td><td>Beverie Moffet</td><td>UK</td><td>22</td><td>White Choc</td><td>2022-06-30</td><td>$6,475 </td><td>76</td></tr><tr><td>5</td><td>Camilla Castle</td><td>New Zealand</td><td>15</td><td>Mint Chip Choco</td><td>2022-06-13</td><td>$1,162 </td><td>190</td></tr><tr><td>6</td><td>Ches Bonnell</td><td>UK</td><td>16</td><td>Orange Choco</td><td>2022-04-27</td><td>$14,238 </td><td>54</td></tr><tr><td>13</td><td>Jan Morforth</td><td>Australia</td><td>22</td><td>White Choc</td><td>2022-07-27</td><td>$3,472 </td><td>32</td></tr><tr><td>19</td><td>Mallorie Waber</td><td>Canada</td><td>3</td><td>85% Dark Bars</td><td>2022-04-20</td><td>$1,428 </td><td>424</td></tr><tr><td>22</td><td>Rafaelita Blaksland</td><td>India</td><td>21</td><td>Spicy Special Slims</td><td>2022-01-04</td><td>$8,064 </td><td>134</td></tr><tr><td>6</td><td>Ches Bonnell</td><td>Australia</td><td>15</td><td>Mint Chip Choco</td><td>2022-02-21</td><td>$9,660 </td><td>92</td></tr><tr><td>16</td><td>Karlen McCaffrey</td><td>Australia</td><td>22</td><td>White Choc</td><td>2022-01-05</td><td>$7,357 </td><td>48</td></tr><tr><td>3</td><td>Beverie Moffet</td><td>India</td><td>10</td><td>Drinking Coco</td><td>2022-07-15</td><td>$6,055 </td><td>46</td></tr><tr><td>4</td><td>Brien Boise</td><td>Australia</td><td>9</td><td>Choco Coated Almonds</td><td>2022-05-25</td><td>$5,124 </td><td>62</td></tr><tr><td>16</td><td>Karlen McCaffrey</td><td>Canada</td><td>11</td><td>Eclairs</td><td>2022-04-20</td><td>$3,479 </td><td>358</td></tr><tr><td>10</td><td>Gigi Bohling</td><td>USA</td><td>4</td><td>99% Dark & Pure</td><td>2022-06-02</td><td>$784 </td><td>249</td></tr><tr><td>20</td><td>Marney O'Breen</td><td>UK</td><td>20</td><td>Smooth Sliky Salty</td><td>2022-05-13</td><td>$18,991 </td><td>88</td></tr><tr><td>3</td><td>Beverie Moffet</td><td>New Zealand</td><td>7</td><td>Baker's Choco Chips</td><td>2022-08-03</td><td>$1,372 </td><td>144</td></tr><tr><td>3</td><td>Beverie Moffet</td><td>Australia</td><td>14</td><td>Milk Bars</td><td>2022-05-25</td><td>$735 </td><td>390</td></tr><tr><td>24</td><td>Van Tuxwell</td><td>UK</td><td>19</td><td>Raspberry Choco</td><td>2022-03-16</td><td>$6,538 </td><td>79</td></tr><tr><td>13</td><td>Jan Morforth</td><td>Australia</td><td>16</td><td>Orange Choco</td><td>2022-07-04</td><td>$3,199 </td><td>122</td></tr><tr><td>14</td><td>Jehu Rudeforth</td><td>India</td><td>1</td><td>50% Dark Bites</td><td>2022-07-05</td><td>$3,472 </td><td>135</td></tr><tr><td>18</td><td>Madelene Upcott</td><td>USA</td><td>5</td><td>After Nines</td><td>2022-03-15</td><td>$4,571 </td><td>430</td></tr><tr><td>2</td><td>Barr Faughny</td><td>UK</td><td>19</td><td>Raspberry Choco</td><td>2022-08-22</td><td>$5,481 </td><td>69</td></tr><tr><td>6</td><td>Ches Bonnell</td><td>Australia</td><td>2</td><td>70% Dark Bites</td><td>2022-01-12</td><td>$3,136 </td><td>125</td></tr><tr><td>20</td><td>Marney O'Breen</td><td>UK</td><td>7</td><td>Baker's Choco Chips</td><td>2022-06-10</td><td>$252 </td><td>154</td></tr><tr><td>15</td><td>Kaine Padly</td><td>Australia</td><td>18</td><td>Peanut Butter Cubes</td><td>2022-03-25</td><td>$5,460 </td><td>286</td></tr><tr><td>22</td><td>Rafaelita Blaksland</td><td>India</td><td>6</td><td>Almond Choco</td><td>2022-07-27</td><td>$3,395 </td><td>99</td></tr><tr><td>12</td><td>Husein Augar</td><td>UK</td><td>8</td><td>Caramel Stuffed Bars</td><td>2022-04-15</td><td>$14,938 </td><td>433</td></tr><tr><td>23</td><td>Roddy Speechley</td><td>India</td><td>16</td><td>Orange Choco</td><td>2022-06-27</td><td>$4,053 </td><td>19</td></tr><tr><td>14</td><td>Jehu Rudeforth</td><td>UK</td><td>2</td><td>70% Dark Bites</td><td>2022-04-14</td><td>$5,565 </td><td>258</td></tr><tr><td>12</td><td>Husein Augar</td><td>Australia</td><td>13</td><td>Manuka Honey Choco</td><td>2022-03-15</td><td>$7,161 </td><td>92</td></tr><tr><td>18</td><td>Madelene Upcott</td><td>USA</td><td>11</td><td>Eclairs</td><td>2022-03-18</td><td>$8,883 </td><td>200</td></tr><tr><td>4</td><td>Brien Boise</td><td>India</td><td>11</td><td>Eclairs</td><td>2022-04-29</td><td>$1,351 </td><td>61</td></tr><tr><td>19</td><td>Mallorie Waber</td><td>New Zealand</td><td>22</td><td>White Choc</td><td>2022-02-25</td><td>$3,171 </td><td>246</td></tr><tr><td>12</td><td>Husein Augar</td><td>USA</td><td>14</td><td>Milk Bars</td><td>2022-03-02</td><td>$854 </td><td>56</td></tr><tr><td>24</td><td>Van Tuxwell</td><td>Australia</td><td>14</td><td>Milk Bars</td><td>2022-06-20</td><td>$7,910 </td><td>87</td></tr><tr><td>3</td><td>Beverie Moffet</td><td>Canada</td><td>22</td><td>White Choc</td><td>2022-07-15</td><td>$9,275 </td><td>173</td></tr><tr><td>9</td><td>Dotty Strutley</td><td>Australia</td><td>1</td><td>50% Dark Bites</td><td>2022-05-12</td><td>$3,108 </td><td>252</td></tr><tr><td>19</td><td>Mallorie Waber</td><td>New Zealand</td><td>17</td><td>Organic Choco Syrup</td><td>2022-07-01</td><td>$5,075 </td><td>256</td></tr><tr><td>12</td><td>Husein Augar</td><td>USA</td><td>3</td><td>85% Dark Bars</td><td>2022-08-08</td><td>$378 </td><td>54</td></tr><tr><td>18</td><td>Madelene Upcott</td><td>Australia</td><td>1</td><td>50% Dark Bites</td><td>2022-07-25</td><td>$7,350 </td><td>6</td></tr><tr><td>25</td><td>Wilone O'Kielt</td><td>UK</td><td>10</td><td>Drinking Coco</td><td>2022-05-18</td><td>$3,388 </td><td>55</td></tr><tr><td>5</td><td>Camilla Castle</td><td>India</td><td>18</td><td>Peanut Butter Cubes</td><td>2022-07-15</td><td>$11,837 </td><td>277</td></tr><tr><td>7</td><td>Curtice Advani</td><td>India</td><td>2</td><td>70% Dark Bites</td><td>2022-07-05</td><td>$2,282 </td><td>44</td></tr><tr><td>19</td><td>Mallorie Waber</td><td>USA</td><td>13</td><td>Manuka Honey Choco</td><td>2022-07-04</td><td>$5,425 </td><td>96</td></tr><tr><td>9</td><td>Dotty Strutley</td><td>UK</td><td>2</td><td>70% Dark Bites</td><td>2022-06-20</td><td>$1,267 </td><td>216</td></tr><tr><td>11</td><td>Gunar Cockshoot</td><td>Australia</td><td>6</td><td>Almond Choco</td><td>2022-01-25</td><td>$3,752 </td><td>424</td></tr><tr><td>15</td><td>Kaine Padly</td><td>New Zealand</td><td>21</td><td>Spicy Special Slims</td><td>2022-07-01</td><td>$7,728 </td><td>37</td></tr><tr><td>10</td><td>Gigi Bohling</td><td>USA</td><td>1</td><td>50% Dark Bites</td><td>2022-04-13</td><td>$2,296 </td><td>59</td></tr><tr><td>3</td><td>Beverie Moffet</td><td>UK</td><td>20</td><td>Smooth Sliky Salty</td><td>2022-05-04</td><td>$4,403 </td><td>76</td></tr><tr><td>3</td><td>Beverie Moffet</td><td>Australia</td><td>7</td><td>Baker's Choco Chips</td><td>2022-08-04</td><td>$3,192 </td><td>109</td></tr><tr><td>3</td><td>Beverie Moffet</td><td>India</td><td>2</td><td>70% Dark Bites</td><td>2022-06-01</td><td>$448 </td><td>146</td></tr><tr><td>14</td><td>Jehu Rudeforth</td><td>UK</td><td>9</td><td>Choco Coated Almonds</td><td>2022-04-22</td><td>$4,270 </td><td>185</td></tr><tr><td>15</td><td>Kaine Padly</td><td>USA</td><td>1</td><td>50% Dark Bites</td><td>2022-08-03</td><td>$70 </td><td>27</td></tr><tr><td>6</td><td>Ches Bonnell</td><td>USA</td><td>16</td><td>Orange Choco</td><td>2022-06-10</td><td>$1,743 </td><td>69</td></tr><tr><td>11</td><td>Gunar Cockshoot</td><td>UK</td><td>13</td><td>Manuka Honey Choco</td><td>2022-06-27</td><td>$6,762 </td><td>46</td></tr><tr><td>20</td><td>Marney O'Breen</td><td>Australia</td><td>20</td><td>Smooth Sliky Salty</td><td>2022-01-03</td><td>$3,745 </td><td>170</td></tr><tr><td>20</td><td>Marney O'Breen</td><td>India</td><td>5</td><td>After Nines</td><td>2022-07-11</td><td>$2,639 </td><td>179</td></tr><tr><td>6</td><td>Ches Bonnell</td><td>New Zealand</td><td>14</td><td>Milk Bars</td><td>2022-08-17</td><td>$4,389 </td><td>126</td></tr><tr><td>22</td><td>Rafaelita Blaksland</td><td>USA</td><td>12</td><td>Fruit & Nut Bars</td><td>2022-01-18</td><td>$2,604 </td><td>65</td></tr><tr><td>6</td><td>Ches Bonnell</td><td>India</td><td>17</td><td>Organic Choco Syrup</td><td>2022-03-08</td><td>$16,569 </td><td>99</td></tr><tr><td>19</td><td>Mallorie Waber</td><td>Australia</td><td>16</td><td>Orange Choco</td><td>2022-03-07</td><td>$14,658 </td><td>275</td></tr><tr><td>12</td><td>Husein Augar</td><td>India</td><td>2</td><td>70% Dark Bites</td><td>2022-05-09</td><td>$6,454 </td><td>157</td></tr><tr><td>2</td><td>Barr Faughny</td><td>New Zealand</td><td>3</td><td>85% Dark Bars</td><td>2022-05-23</td><td>$2,100 </td><td>157</td></tr><tr><td>18</td><td>Madelene Upcott</td><td>UK</td><td>8</td><td>Caramel Stuffed Bars</td><td>2022-04-15</td><td>$161 </td><td>145</td></tr><tr><td>10</td><td>Gigi Bohling</td><td>Australia</td><td>10</td><td>Drinking Coco</td><td>2022-07-27</td><td>$2,807 </td><td>139</td></tr><tr><td>20</td><td>Marney O'Breen</td><td>Canada</td><td>9</td><td>Choco Coated Almonds</td><td>2022-08-22</td><td>$2,639 </td><td>406</td></tr><tr><td>6</td><td>Ches Bonnell</td><td>USA</td><td>2</td><td>70% Dark Bites</td><td>2022-05-11</td><td>$4,571 </td><td>122</td></tr><tr><td>18</td><td>Madelene Upcott</td><td>India</td><td>17</td><td>Organic Choco Syrup</td><td>2022-01-26</td><td>$4,781 </td><td>38</td></tr><tr><td>2</td><td>Barr Faughny</td><td>USA</td><td>1</td><td>50% Dark Bites</td><td>2022-04-14</td><td>$13,034 </td><td>117</td></tr><tr><td>8</td><td>Dennison Crosswaite</td><td>New Zealand</td><td>15</td><td>Mint Chip Choco</td><td>2022-04-05</td><td>$6,454 </td><td>417</td></tr><tr><td>20</td><td>Marney O'Breen</td><td>New Zealand</td><td>20</td><td>Smooth Sliky Salty</td><td>2022-06-14</td><td>$8,484 </td><td>57</td></tr><tr><td>4</td><td>Brien Boise</td><td>Canada</td><td>6</td><td>Almond Choco</td><td>2022-04-13</td><td>$4,781 </td><td>125</td></tr><tr><td>3</td><td>Beverie Moffet</td><td>Australia</td><td>22</td><td>White Choc</td><td>2022-06-27</td><td>$2,240 </td><td>166</td></tr><tr><td>9</td><td>Dotty Strutley</td><td>Australia</td><td>11</td><td>Eclairs</td><td>2022-01-26</td><td>$6,979 </td><td>3</td></tr><tr><td>2</td><td>Barr Faughny</td><td>UK</td><td>22</td><td>White Choc</td><td>2022-07-05</td><td>$1,652 </td><td>72</td></tr><tr><td>3</td><td>Beverie Moffet</td><td>Canada</td><td>7</td><td>Baker's Choco Chips</td><td>2022-01-11</td><td>$13,447 </td><td>95</td></tr><tr><td>17</td><td>Kelci Walkden</td><td>USA</td><td>22</td><td>White Choc</td><td>2022-03-07</td><td>$9,422 </td><td>22</td></tr><tr><td>15</td><td>Kaine Padly</td><td>Canada</td><td>1</td><td>50% Dark Bites</td><td>2022-03-04</td><td>$8,687 </td><td>100</td></tr><tr><td>16</td><td>Karlen McCaffrey</td><td>Canada</td><td>17</td><td>Organic Choco Syrup</td><td>2022-07-15</td><td>$2,415 </td><td>312</td></tr><tr><td>15</td><td>Kaine Padly</td><td>UK</td><td>18</td><td>Peanut Butter Cubes</td><td>2022-05-11</td><td>$6,272 </td><td>86</td></tr><tr><td>16</td><td>Karlen McCaffrey</td><td>USA</td><td>14</td><td>Milk Bars</td><td>2022-01-27</td><td>$4,389 </td><td>7</td></tr><tr><td>16</td><td>Karlen McCaffrey</td><td>India</td><td>16</td><td>Orange Choco</td><td>2022-06-27</td><td>$3,122 </td><td>149</td></tr><tr><td>6</td><td>Ches Bonnell</td><td>India</td><td>20</td><td>Smooth Sliky Salty</td><td>2022-08-03</td><td>$8,043 </td><td>18</td></tr><tr><td>25</td><td>Wilone O'Kielt</td><td>New Zealand</td><td>15</td><td>Mint Chip Choco</td><td>2022-08-19</td><td>$11,662 </td><td>242</td></tr><tr><td>25</td><td>Wilone O'Kielt</td><td>Australia</td><td>12</td><td>Fruit & Nut Bars</td><td>2022-06-15</td><td>$392 </td><td>102</td></tr><tr><td>8</td><td>Dennison Crosswaite</td><td>UK</td><td>18</td><td>Peanut Butter Cubes</td><td>2022-02-07</td><td>$8,925 </td><td>158</td></tr><tr><td>16</td><td>Karlen McCaffrey</td><td>Australia</td><td>6</td><td>Almond Choco</td><td>2022-07-08</td><td>$7,294 </td><td>128</td></tr><tr><td>8</td><td>Dennison Crosswaite</td><td>India</td><td>14</td><td>Milk Bars</td><td>2022-04-21</td><td>$1,526 </td><td>96</td></tr><tr><td>6</td><td>Ches Bonnell</td><td>UK</td><td>15</td><td>Mint Chip Choco</td><td>2022-04-08</td><td>$2,688 </td><td>209</td></tr><tr><td>12</td><td>Husein Augar</td><td>Australia</td><td>1</td><td>50% Dark Bites</td><td>2022-08-19</td><td>$14,889 </td><td>52</td></tr><tr><td>13</td><td>Jan Morforth</td><td>India</td><td>12</td><td>Fruit & Nut Bars</td><td>2022-05-04</td><td>$2,912 </td><td>55</td></tr><tr><td>19</td><td>Mallorie Waber</td><td>USA</td><td>3</td><td>85% Dark Bars</td><td>2022-05-11</td><td>$2,632 </td><td>108</td></tr><tr><td>19</td><td>Mallorie Waber</td><td>USA</td><td>11</td><td>Eclairs</td><td>2022-03-22</td><td>$6,328 </td><td>51</td></tr><tr><td>8</td><td>Dennison Crosswaite</td><td>Canada</td><td>21</td><td>Spicy Special Slims</td><td>2022-08-10</td><td>$2,527 </td><td>216</td></tr><tr><td>8</td><td>Dennison Crosswaite</td><td>USA</td><td>12</td><td>Fruit & Nut Bars</td><td>2022-05-04</td><td>$1,414 </td><td>318</td></tr><tr><td>17</td><td>Kelci Walkden</td><td>USA</td><td>4</td><td>99% Dark & Pure</td><td>2022-08-18</td><td>$7,714 </td><td>238</td></tr><tr><td>9</td><td>Dotty Strutley</td><td>Canada</td><td>19</td><td>Raspberry Choco</td><td>2022-08-03</td><td>$4,347 </td><td>238</td></tr><tr><td>20</td><td>Marney O'Breen</td><td>New Zealand</td><td>14</td><td>Milk Bars</td><td>2022-01-14</td><td>$7,490 </td><td>315</td></tr><tr><td>18</td><td>Madelene Upcott</td><td>Australia</td><td>9</td><td>Choco Coated Almonds</td><td>2022-04-08</td><td>$2,058 </td><td>72</td></tr><tr><td>17</td><td>Kelci Walkden</td><td>UK</td><td>16</td><td>Orange Choco</td><td>2022-08-01</td><td>$3,640 </td><td>3</td></tr><tr><td>8</td><td>Dennison Crosswaite</td><td>Canada</td><td>11</td><td>Eclairs</td><td>2022-03-15</td><td>$455 </td><td>45</td></tr><tr><td>16</td><td>Karlen McCaffrey</td><td>India</td><td>15</td><td>Mint Chip Choco</td><td>2022-07-15</td><td>$10,990 </td><td>184</td></tr><tr><td>2</td><td>Barr Faughny</td><td>New Zealand</td><td>6</td><td>Almond Choco</td><td>2022-01-13</td><td>$5,558 </td><td>127</td></tr><tr><td>19</td><td>Mallorie Waber</td><td>Australia</td><td>3</td><td>85% Dark Bars</td><td>2022-08-26</td><td>$2,541 </td><td>53</td></tr><tr><td>6</td><td>Ches Bonnell</td><td>Canada</td><td>11</td><td>Eclairs</td><td>2022-01-10</td><td>$1,876 </td><td>172</td></tr><tr><td>10</td><td>Gigi Bohling</td><td>Australia</td><td>22</td><td>White Choc</td><td>2022-05-11</td><td>$5,523 </td><td>87</td></tr><tr><td>3</td><td>Beverie Moffet</td><td>New Zealand</td><td>3</td><td>85% Dark Bars</td><td>2022-08-30</td><td>$11,200 </td><td>22</td></tr><tr><td>15</td><td>Kaine Padly</td><td>USA</td><td>8</td><td>Caramel Stuffed Bars</td><td>2022-07-21</td><td>$5,593 </td><td>122</td></tr><tr><td>19</td><td>Mallorie Waber</td><td>Australia</td><td>6</td><td>Almond Choco</td><td>2022-08-01</td><td>$7,882 </td><td>125</td></tr><tr><td>4</td><td>Brien Boise</td><td>Canada</td><td>3</td><td>85% Dark Bars</td><td>2022-02-17</td><td>$10,241 </td><td>259</td></tr><tr><td>4</td><td>Brien Boise</td><td>Australia</td><td>10</td><td>Drinking Coco</td><td>2022-07-27</td><td>$6,832 </td><td>156</td></tr><tr><td>9</td><td>Dotty Strutley</td><td>USA</td><td>16</td><td>Orange Choco</td><td>2022-02-23</td><td>$1,379 </td><td>107</td></tr><tr><td>22</td><td>Rafaelita Blaksland</td><td>Australia</td><td>1</td><td>50% Dark Bites</td><td>2022-03-22</td><td>$3,010 </td><td>40</td></tr><tr><td>8</td><td>Dennison Crosswaite</td><td>India</td><td>4</td><td>99% Dark & Pure</td><td>2022-06-23</td><td>$6,888 </td><td>311</td></tr><tr><td>7</td><td>Curtice Advani</td><td>UK</td><td>22</td><td>White Choc</td><td>2022-02-01</td><td>$1,540 </td><td>73</td></tr><tr><td>17</td><td>Kelci Walkden</td><td>Australia</td><td>5</td><td>After Nines</td><td>2022-03-02</td><td>$6,916 </td><td>288</td></tr><tr><td>10</td><td>Gigi Bohling</td><td>UK</td><td>12</td><td>Fruit & Nut Bars</td><td>2022-04-06</td><td>$1,232 </td><td>86</td></tr><tr><td>11</td><td>Gunar Cockshoot</td><td>Australia</td><td>19</td><td>Raspberry Choco</td><td>2022-03-17</td><td>$602 </td><td>72</td></tr><tr><td>7</td><td>Curtice Advani</td><td>UK</td><td>12</td><td>Fruit & Nut Bars</td><td>2022-06-24</td><td>$10,927 </td><td>136</td></tr><tr><td>2</td><td>Barr Faughny</td><td>Canada</td><td>1</td><td>50% Dark Bites</td><td>2022-07-19</td><td>$10,185 </td><td>303</td></tr><tr><td>7</td><td>Curtice Advani</td><td>USA</td><td>21</td><td>Spicy Special Slims</td><td>2022-07-11</td><td>$1,603 </td><td>264</td></tr><tr><td>4</td><td>Brien Boise</td><td>India</td><td>6</td><td>Almond Choco</td><td>2022-01-13</td><td>$2,170 </td><td>218</td></tr><tr><td>21</td><td>Oby Sorrel</td><td>New Zealand</td><td>20</td><td>Smooth Sliky Salty</td><td>2022-07-07</td><td>$8,673 </td><td>60</td></tr><tr><td>13</td><td>Jan Morforth</td><td>India</td><td>3</td><td>85% Dark Bars</td><td>2022-05-25</td><td>$4,760 </td><td>418</td></tr><tr><td>20</td><td>Marney O'Breen</td><td>India</td><td>12</td><td>Fruit & Nut Bars</td><td>2022-04-13</td><td>$4,753 </td><td>151</td></tr><tr><td>1</td><td>Andria Kimpton</td><td>New Zealand</td><td>1</td><td>50% Dark Bites</td><td>2022-03-02</td><td>$3,374 </td><td>202</td></tr><tr><td>11</td><td>Gunar Cockshoot</td><td>Canada</td><td>19</td><td>Raspberry Choco</td><td>2022-06-23</td><td>$2,058 </td><td>126</td></tr><tr><td>17</td><td>Kelci Walkden</td><td>USA</td><td>10</td><td>Drinking Coco</td><td>2022-07-26</td><td>$6,454 </td><td>160</td></tr><tr><td>24</td><td>Van Tuxwell</td><td>Canada</td><td>22</td><td>White Choc</td><td>2022-03-22</td><td>$420 </td><td>3</td></tr><tr><td>22</td><td>Rafaelita Blaksland</td><td>USA</td><td>7</td><td>Baker's Choco Chips</td><td>2022-06-09</td><td>$2,863 </td><td>58</td></tr><tr><td>24</td><td>Van Tuxwell</td><td>Australia</td><td>8</td><td>Caramel Stuffed Bars</td><td>2022-05-17</td><td>$5,936 </td><td>59</td></tr><tr><td>6</td><td>Ches Bonnell</td><td>New Zealand</td><td>18</td><td>Peanut Butter Cubes</td><td>2022-03-04</td><td>$889 </td><td>273</td></tr><tr><td>17</td><td>Kelci Walkden</td><td>Canada</td><td>14</td><td>Milk Bars</td><td>2022-07-07</td><td>$16,016 </td><td>28</td></tr><tr><td>8</td><td>Dennison Crosswaite</td><td>Canada</td><td>9</td><td>Choco Coated Almonds</td><td>2022-01-13</td><td>$10,479 </td><td>118</td></tr><tr><td>7</td><td>Curtice Advani</td><td>Australia</td><td>6</td><td>Almond Choco</td><td>2022-07-13</td><td>$2,912 </td><td>75</td></tr><tr><td>18</td><td>Madelene Upcott</td><td>Australia</td><td>3</td><td>85% Dark Bars</td><td>2022-06-16</td><td>$1,575 </td><td>329</td></tr><tr><td>10</td><td>Gigi Bohling</td><td>UK</td><td>1</td><td>50% Dark Bites</td><td>2022-07-18</td><td>$8,197 </td><td>69</td></tr><tr><td>6</td><td>Ches Bonnell</td><td>UK</td><td>13</td><td>Manuka Honey Choco</td><td>2022-05-30</td><td>$4,221 </td><td>395</td></tr><tr><td>10</td><td>Gigi Bohling</td><td>UK</td><td>2</td><td>70% Dark Bites</td><td>2022-06-21</td><td>$840 </td><td>81</td></tr><tr><td>14</td><td>Jehu Rudeforth</td><td>Australia</td><td>18</td><td>Peanut Butter Cubes</td><td>2022-06-24</td><td>$5,691 </td><td>38</td></tr><tr><td>20</td><td>Marney O'Breen</td><td>India</td><td>11</td><td>Eclairs</td><td>2022-01-13</td><td>$3,472 </td><td>96</td></tr><tr><td>7</td><td>Curtice Advani</td><td>Canada</td><td>12</td><td>Fruit & Nut Bars</td><td>2022-04-04</td><td>$4,193 </td><td>195</td></tr><tr><td>15</td><td>Kaine Padly</td><td>UK</td><td>20</td><td>Smooth Sliky Salty</td><td>2022-06-08</td><td>$9,016 </td><td>554</td></tr><tr><td>16</td><td>Karlen McCaffrey</td><td>Canada</td><td>21</td><td>Spicy Special Slims</td><td>2022-08-02</td><td>$6,328 </td><td>47</td></tr><tr><td>17</td><td>Kelci Walkden</td><td>USA</td><td>17</td><td>Organic Choco Syrup</td><td>2022-07-21</td><td>$9,870 </td><td>152</td></tr><tr><td>7</td><td>Curtice Advani</td><td>India</td><td>21</td><td>Spicy Special Slims</td><td>2022-06-20</td><td>$161 </td><td>134</td></tr><tr><td>23</td><td>Roddy Speechley</td><td>India</td><td>5</td><td>After Nines</td><td>2022-06-22</td><td>$2,576 </td><td>112</td></tr><tr><td>5</td><td>Camilla Castle</td><td>Australia</td><td>8</td><td>Caramel Stuffed Bars</td><td>2022-05-02</td><td>$3,178 </td><td>16</td></tr><tr><td>7</td><td>Curtice Advani</td><td>Australia</td><td>4</td><td>99% Dark & Pure</td><td>2022-01-07</td><td>$4,676 </td><td>84</td></tr><tr><td>19</td><td>Mallorie Waber</td><td>UK</td><td>1</td><td>50% Dark Bites</td><td>2022-02-21</td><td>$5,502 </td><td>99</td></tr><tr><td>6</td><td>Ches Bonnell</td><td>Canada</td><td>7</td><td>Baker's Choco Chips</td><td>2022-03-21</td><td>$7,462 </td><td>371</td></tr><tr><td>24</td><td>Van Tuxwell</td><td>UK</td><td>10</td><td>Drinking Coco</td><td>2022-04-04</td><td>$5,803 </td><td>136</td></tr><tr><td>11</td><td>Gunar Cockshoot</td><td>Canada</td><td>12</td><td>Fruit & Nut Bars</td><td>2022-03-24</td><td>$13,888 </td><td>203</td></tr><tr><td>11</td><td>Gunar Cockshoot</td><td>New Zealand</td><td>21</td><td>Spicy Special Slims</td><td>2022-06-28</td><td>$6,867 </td><td>183</td></tr><tr><td>11</td><td>Gunar Cockshoot</td><td>Australia</td><td>10</td><td>Drinking Coco</td><td>2022-01-14</td><td>$2,317 </td><td>195</td></tr><tr><td>16</td><td>Karlen McCaffrey</td><td>New Zealand</td><td>12</td><td>Fruit & Nut Bars</td><td>2022-02-07</td><td>$1,218 </td><td>135</td></tr><tr><td>8</td><td>Dennison Crosswaite</td><td>New Zealand</td><td>10</td><td>Drinking Coco</td><td>2022-01-11</td><td>$4,109 </td><td>197</td></tr><tr><td>14</td><td>Jehu Rudeforth</td><td>India</td><td>4</td><td>99% Dark & Pure</td><td>2022-02-25</td><td>$1,953 </td><td>242</td></tr><tr><td>9</td><td>Dotty Strutley</td><td>Australia</td><td>15</td><td>Mint Chip Choco</td><td>2022-08-01</td><td>$6,790 </td><td>25</td></tr><tr><td>23</td><td>Roddy Speechley</td><td>Australia</td><td>15</td><td>Mint Chip Choco</td><td>2022-05-05</td><td>$6,797 </td><td>252</td></tr><tr><td>18</td><td>Madelene Upcott</td><td>New Zealand</td><td>19</td><td>Raspberry Choco</td><td>2022-05-18</td><td>$9,226 </td><td>415</td></tr><tr><td>9</td><td>Dotty Strutley</td><td>New Zealand</td><td>9</td><td>Choco Coated Almonds</td><td>2022-01-04</td><td>$5,733 </td><td>348</td></tr><tr><td>23</td><td>Roddy Speechley</td><td>New Zealand</td><td>1</td><td>50% Dark Bites</td><td>2022-05-09</td><td>$4,312 </td><td>211</td></tr><tr><td>22</td><td>Rafaelita Blaksland</td><td>India</td><td>20</td><td>Smooth Sliky Salty</td><td>2022-05-06</td><td>$1,638 </td><td>81</td></tr><tr><td>12</td><td>Husein Augar</td><td>UK</td><td>22</td><td>White Choc</td><td>2022-01-13</td><td>$10,815 </td><td>145</td></tr><tr><td>23</td><td>Roddy Speechley</td><td>Australia</td><td>6</td><td>Almond Choco</td><td>2022-06-24</td><td>$4,466 </td><td>74</td></tr><tr><td>24</td><td>Van Tuxwell</td><td>USA</td><td>8</td><td>Caramel Stuffed Bars</td><td>2022-02-14</td><td>$987 </td><td>21</td></tr><tr><td>5</td><td>Camilla Castle</td><td>Australia</td><td>4</td><td>99% Dark & Pure</td><td>2022-01-18</td><td>$4,669 </td><td>101</td></tr><tr><td>15</td><td>Kaine Padly</td><td>India</td><td>14</td><td>Milk Bars</td><td>2022-05-02</td><td>$2,905 </td><td>91</td></tr><tr><td>6</td><td>Ches Bonnell</td><td>Australia</td><td>20</td><td>Smooth Sliky Salty</td><td>2022-05-16</td><td>$7,490 </td><td>54</td></tr><tr><td>19</td><td>Mallorie Waber</td><td>USA</td><td>6</td><td>Almond Choco</td><td>2022-01-28</td><td>$6,986 </td><td>368</td></tr><tr><td>15</td><td>Kaine Padly</td><td>Canada</td><td>4</td><td>99% Dark & Pure</td><td>2022-06-24</td><td>$1,288 </td><td>409</td></tr><tr><td>21</td><td>Oby Sorrel</td><td>UK</td><td>5</td><td>After Nines</td><td>2022-07-18</td><td>$2,345 </td><td>104</td></tr><tr><td>11</td><td>Gunar Cockshoot</td><td>UK</td><td>11</td><td>Eclairs</td><td>2022-04-13</td><td>$3,619 </td><td>164</td></tr><tr><td>9</td><td>Dotty Strutley</td><td>USA</td><td>8</td><td>Caramel Stuffed Bars</td><td>2022-04-15</td><td>$16,982 </td><td>76</td></tr><tr><td>13</td><td>Jan Morforth</td><td>India</td><td>18</td><td>Peanut Butter Cubes</td><td>2022-01-04</td><td>$8,092 </td><td>178</td></tr><tr><td>12</td><td>Husein Augar</td><td>Australia</td><td>11</td><td>Eclairs</td><td>2022-07-04</td><td>$6,993 </td><td>31</td></tr><tr><td>3</td><td>Beverie Moffet</td><td>USA</td><td>20</td><td>Smooth Sliky Salty</td><td>2022-03-24</td><td>$2,317 </td><td>352</td></tr><tr><td>5</td><td>Camilla Castle</td><td>Australia</td><td>13</td><td>Manuka Honey Choco</td><td>2022-03-17</td><td>$637 </td><td>169</td></tr><tr><td>21</td><td>Oby Sorrel</td><td>Australia</td><td>6</td><td>Almond Choco</td><td>2022-02-15</td><td>$6,034 </td><td>223</td></tr><tr><td>13</td><td>Jan Morforth</td><td>USA</td><td>16</td><td>Orange Choco</td><td>2022-06-29</td><td>$980 </td><td>146</td></tr><tr><td>10</td><td>Gigi Bohling</td><td>USA</td><td>12</td><td>Fruit & Nut Bars</td><td>2022-05-24</td><td>$2,821 </td><td>112</td></tr><tr><td>19</td><td>Mallorie Waber</td><td>UK</td><td>14</td><td>Milk Bars</td><td>2022-01-10</td><td>$3,563 </td><td>284</td></tr><tr><td>7</td><td>Curtice Advani</td><td>USA</td><td>19</td><td>Raspberry Choco</td><td>2022-03-15</td><td>$2,996 </td><td>139</td></tr><tr><td>20</td><td>Marney O'Breen</td><td>Canada</td><td>14</td><td>Milk Bars</td><td>2022-02-08</td><td>$2,436 </td><td>309</td></tr><tr><td>4</td><td>Brien Boise</td><td>India</td><td>8</td><td>Caramel Stuffed Bars</td><td>2022-02-25</td><td>$1,540 </td><td>100</td></tr><tr><td>11</td><td>Gunar Cockshoot</td><td>USA</td><td>11</td><td>Eclairs</td><td>2022-05-03</td><td>$6,916 </td><td>42</td></tr><tr><td>23</td><td>Roddy Speechley</td><td>USA</td><td>12</td><td>Fruit & Nut Bars</td><td>2022-06-14</td><td>$5,509 </td><td>24</td></tr><tr><td>11</td><td>Gunar Cockshoot</td><td>India</td><td>1</td><td>50% Dark Bites</td><td>2022-08-09</td><td>$12,992 </td><td>83</td></tr><tr><td>25</td><td>Wilone O'Kielt</td><td>New Zealand</td><td>13</td><td>Manuka Honey Choco</td><td>2022-07-11</td><td>$3,724 </td><td>234</td></tr><tr><td>15</td><td>Kaine Padly</td><td>UK</td><td>13</td><td>Manuka Honey Choco</td><td>2022-01-14</td><td>$7,133 </td><td>118</td></tr><tr><td>24</td><td>Van Tuxwell</td><td>Canada</td><td>13</td><td>Manuka Honey Choco</td><td>2022-02-24</td><td>$8,617 </td><td>46</td></tr><tr><td>25</td><td>Wilone O'Kielt</td><td>New Zealand</td><td>6</td><td>Almond Choco</td><td>2022-03-15</td><td>$9,198 </td><td>144</td></tr><tr><td>21</td><td>Oby Sorrel</td><td>New Zealand</td><td>7</td><td>Baker's Choco Chips</td><td>2022-04-25</td><td>$11,823 </td><td>47</td></tr><tr><td>8</td><td>Dennison Crosswaite</td><td>Australia</td><td>17</td><td>Organic Choco Syrup</td><td>2022-05-10</td><td>$5,775 </td><td>41</td></tr><tr><td>20</td><td>Marney O'Breen</td><td>Australia</td><td>21</td><td>Spicy Special Slims</td><td>2022-06-23</td><td>$13,125 </td><td>275</td></tr><tr><td>3</td><td>Beverie Moffet</td><td>Canada</td><td>20</td><td>Smooth Sliky Salty</td><td>2022-02-28</td><td>$14,287 </td><td>370</td></tr><tr><td>4</td><td>Brien Boise</td><td>USA</td><td>17</td><td>Organic Choco Syrup</td><td>2022-05-25</td><td>$16,233 </td><td>138</td></tr><tr><td>23</td><td>Roddy Speechley</td><td>New Zealand</td><td>7</td><td>Baker's Choco Chips</td><td>2022-02-22</td><td>$5,313 </td><td>215</td></tr><tr><td>24</td><td>Van Tuxwell</td><td>UK</td><td>3</td><td>85% Dark Bars</td><td>2022-07-11</td><td>$3,577 </td><td>134</td></tr><tr><td>20</td><td>Marney O'Breen</td><td>Canada</td><td>21</td><td>Spicy Special Slims</td><td>2022-01-03</td><td>$3,528 </td><td>336</td></tr><tr><td>22</td><td>Rafaelita Blaksland</td><td>New Zealand</td><td>2</td><td>70% Dark Bites</td><td>2022-08-24</td><td>$679 </td><td>280</td></tr><tr><td>3</td><td>Beverie Moffet</td><td>USA</td><td>1</td><td>50% Dark Bites</td><td>2022-07-28</td><td>$2,450 </td><td>352</td></tr><tr><td>4</td><td>Brien Boise</td><td>USA</td><td>15</td><td>Mint Chip Choco</td><td>2022-05-25</td><td>$10,577 </td><td>150</td></tr><tr><td>16</td><td>Karlen McCaffrey</td><td>New Zealand</td><td>11</td><td>Eclairs</td><td>2022-05-06</td><td>$2,597 </td><td>177</td></tr><tr><td>2</td><td>Barr Faughny</td><td>India</td><td>10</td><td>Drinking Coco</td><td>2022-01-28</td><td>$2,219 </td><td>142</td></tr><tr><td>20</td><td>Marney O'Breen</td><td>UK</td><td>16</td><td>Orange Choco</td><td>2022-06-06</td><td>$11,319 </td><td>12</td></tr><tr><td>4</td><td>Brien Boise</td><td>New Zealand</td><td>7</td><td>Baker's Choco Chips</td><td>2022-07-12</td><td>$5,978 </td><td>24</td></tr><tr><td>6</td><td>Ches Bonnell</td><td>Canada</td><td>21</td><td>Spicy Special Slims</td><td>2022-08-05</td><td>$5,327 </td><td>183</td></tr><tr><td>4</td><td>Brien Boise</td><td>USA</td><td>16</td><td>Orange Choco</td><td>2022-01-28</td><td>$6,020 </td><td>147</td></tr><tr><td>15</td><td>Kaine Padly</td><td>India</td><td>21</td><td>Spicy Special Slims</td><td>2022-08-31</td><td>$5,614 </td><td>137</td></tr><tr><td>19</td><td>Mallorie Waber</td><td>USA</td><td>1</td><td>50% Dark Bites</td><td>2022-04-19</td><td>$1,736 </td><td>13</td></tr><tr><td>19</td><td>Mallorie Waber</td><td>UK</td><td>15</td><td>Mint Chip Choco</td><td>2022-06-29</td><td>$6,384 </td><td>2</td></tr><tr><td>3</td><td>Beverie Moffet</td><td>India</td><td>9</td><td>Choco Coated Almonds</td><td>2022-02-24</td><td>$3,577 </td><td>261</td></tr><tr><td>18</td><td>Madelene Upcott</td><td>UK</td><td>20</td><td>Smooth Sliky Salty</td><td>2022-03-04</td><td>$14,539 </td><td>84</td></tr><tr><td>10</td><td>Gigi Bohling</td><td>India</td><td>11</td><td>Eclairs</td><td>2022-06-21</td><td>$3,493 </td><td>68</td></tr><tr><td>22</td><td>Rafaelita Blaksland</td><td>Australia</td><td>17</td><td>Organic Choco Syrup</td><td>2022-01-26</td><td>$994 </td><td>105</td></tr><tr><td>21</td><td>Oby Sorrel</td><td>New Zealand</td><td>22</td><td>White Choc</td><td>2022-06-10</td><td>$4,361 </td><td>40</td></tr><tr><td>1</td><td>Andria Kimpton</td><td>UK</td><td>10</td><td>Drinking Coco</td><td>2022-05-23</td><td>$1,554 </td><td>65</td></tr><tr><td>17</td><td>Kelci Walkden</td><td>India</td><td>14</td><td>Milk Bars</td><td>2022-04-15</td><td>$966 </td><td>107</td></tr><tr><td>16</td><td>Karlen McCaffrey</td><td>New Zealand</td><td>8</td><td>Caramel Stuffed Bars</td><td>2022-01-31</td><td>$5,334 </td><td>227</td></tr><tr><td>1</td><td>Andria Kimpton</td><td>New Zealand</td><td>17</td><td>Organic Choco Syrup</td><td>2022-03-04</td><td>$4,935 </td><td>39</td></tr><tr><td>2</td><td>Barr Faughny</td><td>New Zealand</td><td>5</td><td>After Nines</td><td>2022-04-19</td><td>$10,024 </td><td>84</td></tr><tr><td>3</td><td>Beverie Moffet</td><td>UK</td><td>6</td><td>Almond Choco</td><td>2022-05-16</td><td>$2,506 </td><td>100</td></tr><tr><td>21</td><td>Oby Sorrel</td><td>Australia</td><td>19</td><td>Raspberry Choco</td><td>2022-02-17</td><td>$1,043 </td><td>120</td></tr><tr><td>8</td><td>Dennison Crosswaite</td><td>USA</td><td>19</td><td>Raspberry Choco</td><td>2022-01-18</td><td>$6,524 </td><td>257</td></tr><tr><td>23</td><td>Roddy Speechley</td><td>Canada</td><td>16</td><td>Orange Choco</td><td>2022-02-09</td><td>$8,148 </td><td>85</td></tr><tr><td>19</td><td>Mallorie Waber</td><td>Canada</td><td>16</td><td>Orange Choco</td><td>2022-03-23</td><td>$3,577 </td><td>178</td></tr><tr><td>18</td><td>Madelene Upcott</td><td>New Zealand</td><td>8</td><td>Caramel Stuffed Bars</td><td>2022-02-01</td><td>$3,374 </td><td>151</td></tr><tr><td>19</td><td>Mallorie Waber</td><td>India</td><td>10</td><td>Drinking Coco</td><td>2022-03-07</td><td>$3,948 </td><td>142</td></tr><tr><td>6</td><td>Ches Bonnell</td><td>UK</td><td>22</td><td>White Choc</td><td>2022-01-03</td><td>$3,269 </td><td>226</td></tr><tr><td>6</td><td>Ches Bonnell</td><td>USA</td><td>22</td><td>White Choc</td><td>2022-02-11</td><td>$5,271 </td><td>341</td></tr><tr><td>8</td><td>Dennison Crosswaite</td><td>New Zealand</td><td>16</td><td>Orange Choco</td><td>2022-03-16</td><td>$4,571 </td><td>140</td></tr><tr><td>9</td><td>Dotty Strutley</td><td>India</td><td>22</td><td>White Choc</td><td>2022-08-15</td><td>$12,327 </td><td>330</td></tr><tr><td>10</td><td>Gigi Bohling</td><td>India</td><td>13</td><td>Manuka Honey Choco</td><td>2022-05-12</td><td>$4,935 </td><td>73</td></tr><tr><td>24</td><td>Van Tuxwell</td><td>India</td><td>21</td><td>Spicy Special Slims</td><td>2022-04-11</td><td>$6,167 </td><td>4</td></tr><tr><td>13</td><td>Jan Morforth</td><td>New Zealand</td><td>15</td><td>Mint Chip Choco</td><td>2022-06-30</td><td>$18,340 </td><td>285</td></tr><tr><td>9</td><td>Dotty Strutley</td><td>New Zealand</td><td>22</td><td>White Choc</td><td>2022-06-15</td><td>$7,014 </td><td>60</td></tr><tr><td>22</td><td>Rafaelita Blaksland</td><td>Canada</td><td>8</td><td>Caramel Stuffed Bars</td><td>2022-08-01</td><td>$7,119 </td><td>101</td></tr><tr><td>15</td><td>Kaine Padly</td><td>USA</td><td>14</td><td>Milk Bars</td><td>2022-06-15</td><td>$15,491 </td><td>58</td></tr><tr><td>4</td><td>Brien Boise</td><td>India</td><td>5</td><td>After Nines</td><td>2022-06-16</td><td>$5,747 </td><td>45</td></tr><tr><td>21</td><td>Oby Sorrel</td><td>New Zealand</td><td>19</td><td>Raspberry Choco</td><td>2022-05-13</td><td>$4,550 </td><td>281</td></tr><tr><td>8</td><td>Dennison Crosswaite</td><td>USA</td><td>10</td><td>Drinking Coco</td><td>2022-05-10</td><td>$2,191 </td><td>138</td></tr><tr><td>21</td><td>Oby Sorrel</td><td>India</td><td>11</td><td>Eclairs</td><td>2022-08-25</td><td>$5,663 </td><td>322</td></tr><tr><td>6</td><td>Ches Bonnell</td><td>New Zealand</td><td>17</td><td>Organic Choco Syrup</td><td>2022-07-15</td><td>$7,623 </td><td>85</td></tr><tr><td>10</td><td>Gigi Bohling</td><td>UK</td><td>7</td><td>Baker's Choco Chips</td><td>2022-05-16</td><td>$9,023 </td><td>409</td></tr><tr><td>13</td><td>Jan Morforth</td><td>Australia</td><td>1</td><td>50% Dark Bites</td><td>2022-06-14</td><td>$3,402 </td><td>182</td></tr><tr><td>3</td><td>Beverie Moffet</td><td>Australia</td><td>20</td><td>Smooth Sliky Salty</td><td>2022-01-25</td><td>$10,507 </td><td>467</td></tr><tr><td>6</td><td>Ches Bonnell</td><td>USA</td><td>17</td><td>Organic Choco Syrup</td><td>2022-07-28</td><td>$7,721 </td><td>14</td></tr><tr><td>4</td><td>Brien Boise</td><td>Canada</td><td>15</td><td>Mint Chip Choco</td><td>2022-01-28</td><td>$5,033 </td><td>178</td></tr><tr><td>15</td><td>Kaine Padly</td><td>UK</td><td>16</td><td>Orange Choco</td><td>2022-06-29</td><td>$1,960 </td><td>191</td></tr><tr><td>16</td><td>Karlen McCaffrey</td><td>Australia</td><td>2</td><td>70% Dark Bites</td><td>2022-06-24</td><td>$238 </td><td>317</td></tr><tr><td>11</td><td>Gunar Cockshoot</td><td>Canada</td><td>15</td><td>Mint Chip Choco</td><td>2022-07-01</td><td>$7,756 </td><td>410</td></tr><tr><td>23</td><td>Roddy Speechley</td><td>USA</td><td>18</td><td>Peanut Butter Cubes</td><td>2022-02-25</td><td>$1,736 </td><td>137</td></tr><tr><td>7</td><td>Curtice Advani</td><td>Canada</td><td>20</td><td>Smooth Sliky Salty</td><td>2022-08-01</td><td>$2,660 </td><td>12</td></tr><tr><td>21</td><td>Oby Sorrel</td><td>Australia</td><td>14</td><td>Milk Bars</td><td>2022-06-21</td><td>$7,672 </td><td>254</td></tr><tr><td>5</td><td>Camilla Castle</td><td>New Zealand</td><td>21</td><td>Spicy Special Slims</td><td>2022-01-25</td><td>$11,564 </td><td>24</td></tr><tr><td>10</td><td>Gigi Bohling</td><td>UK</td><td>14</td><td>Milk Bars</td><td>2022-05-17</td><td>$1,365 </td><td>232</td></tr><tr><td>1</td><td>Andria Kimpton</td><td>Australia</td><td>3</td><td>85% Dark Bars</td><td>2022-08-23</td><td>$4,186 </td><td>233</td></tr><tr><td>5</td><td>Camilla Castle</td><td>Australia</td><td>20</td><td>Smooth Sliky Salty</td><td>2022-03-03</td><td>$7,406 </td><td>118</td></tr><tr><td>23</td><td>Roddy Speechley</td><td>India</td><td>8</td><td>Caramel Stuffed Bars</td><td>2022-05-30</td><td>$8,911 </td><td>543</td></tr><tr><td>16</td><td>Karlen McCaffrey</td><td>USA</td><td>10</td><td>Drinking Coco</td><td>2022-06-29</td><td>$112 </td><td>223</td></tr><tr><td>1</td><td>Andria Kimpton</td><td>Canada</td><td>17</td><td>Organic Choco Syrup</td><td>2022-01-04</td><td>$8,204 </td><td>204</td></tr><tr><td>14</td><td>Jehu Rudeforth</td><td>Australia</td><td>10</td><td>Drinking Coco</td><td>2022-01-14</td><td>$2,611 </td><td>65</td></tr><tr><td>16</td><td>Karlen McCaffrey</td><td>USA</td><td>15</td><td>Mint Chip Choco</td><td>2022-02-15</td><td>$15,652 </td><td>53</td></tr><tr><td>7</td><td>Curtice Advani</td><td>New Zealand</td><td>21</td><td>Spicy Special Slims</td><td>2022-01-10</td><td>$4,074 </td><td>469</td></tr><tr><td>18</td><td>Madelene Upcott</td><td>USA</td><td>22</td><td>White Choc</td><td>2022-05-04</td><td>$12,250 </td><td>213</td></tr><tr><td>1</td><td>Andria Kimpton</td><td>USA</td><td>21</td><td>Spicy Special Slims</td><td>2022-05-23</td><td>$2,366 </td><td>5</td></tr><tr><td>2</td><td>Barr Faughny</td><td>New Zealand</td><td>12</td><td>Fruit & Nut Bars</td><td>2022-04-26</td><td>$1,687 </td><td>147</td></tr><tr><td>21</td><td>Oby Sorrel</td><td>Canada</td><td>17</td><td>Organic Choco Syrup</td><td>2022-07-05</td><td>$1,232 </td><td>74</td></tr><tr><td>18</td><td>Madelene Upcott</td><td>UK</td><td>17</td><td>Organic Choco Syrup</td><td>2022-07-21</td><td>$6,965 </td><td>163</td></tr><tr><td>9</td><td>Dotty Strutley</td><td>USA</td><td>15</td><td>Mint Chip Choco</td><td>2022-02-21</td><td>$5,292 </td><td>248</td></tr><tr><td>17</td><td>Kelci Walkden</td><td>USA</td><td>16</td><td>Orange Choco</td><td>2022-02-03</td><td>$1,379 </td><td>138</td></tr><tr><td>10</td><td>Gigi Bohling</td><td>Australia</td><td>8</td><td>Caramel Stuffed Bars</td><td>2022-07-08</td><td>$8,001 </td><td>151</td></tr><tr><td>19</td><td>Mallorie Waber</td><td>India</td><td>1</td><td>50% Dark Bites</td><td>2022-05-31</td><td>$588 </td><td>139</td></tr><tr><td>24</td><td>Van Tuxwell</td><td>New Zealand</td><td>15</td><td>Mint Chip Choco</td><td>2022-06-27</td><td>$4,046 </td><td>103</td></tr><tr><td>24</td><td>Van Tuxwell</td><td>India</td><td>1</td><td>50% Dark Bites</td><td>2022-05-13</td><td>$5,103 </td><td>129</td></tr><tr><td>24</td><td>Van Tuxwell</td><td>USA</td><td>13</td><td>Manuka Honey Choco</td><td>2022-05-31</td><td>$2,317 </td><td>102</td></tr><tr><td>25</td><td>Wilone O'Kielt</td><td>USA</td><td>16</td><td>Orange Choco</td><td>2022-02-28</td><td>$7,042 </td><td>37</td></tr><tr><td>2</td><td>Barr Faughny</td><td>New Zealand</td><td>11</td><td>Eclairs</td><td>2022-03-28</td><td>$6,713 </td><td>31</td></tr><tr><td>10</td><td>Gigi Bohling</td><td>USA</td><td>5</td><td>After Nines</td><td>2022-01-14</td><td>$1,848 </td><td>227</td></tr><tr><td>2</td><td>Barr Faughny</td><td>New Zealand</td><td>15</td><td>Mint Chip Choco</td><td>2022-02-21</td><td>$6,440 </td><td>145</td></tr><tr><td>8</td><td>Dennison Crosswaite</td><td>Canada</td><td>3</td><td>85% Dark Bars</td><td>2022-08-01</td><td>$10,885 </td><td>90</td></tr><tr><td>3</td><td>Beverie Moffet</td><td>New Zealand</td><td>20</td><td>Smooth Sliky Salty</td><td>2022-05-19</td><td>$2,387 </td><td>59</td></tr><tr><td>12</td><td>Husein Augar</td><td>USA</td><td>22</td><td>White Choc</td><td>2022-07-13</td><td>$2,030 </td><td>60</td></tr><tr><td>1</td><td>Andria Kimpton</td><td>Australia</td><td>18</td><td>Peanut Butter Cubes</td><td>2022-04-20</td><td>$6,678 </td><td>148</td></tr><tr><td>8</td><td>Dennison Crosswaite</td><td>India</td><td>3</td><td>85% Dark Bars</td><td>2022-06-30</td><td>$4,515 </td><td>22</td></tr><tr><td>7</td><td>Curtice Advani</td><td>UK</td><td>1</td><td>50% Dark Bites</td><td>2022-03-08</td><td>$3,374 </td><td>142</td></tr><tr><td>11</td><td>Gunar Cockshoot</td><td>USA</td><td>12</td><td>Fruit & Nut Bars</td><td>2022-03-09</td><td>$5,852 </td><td>93</td></tr><tr><td>21</td><td>Oby Sorrel</td><td>Canada</td><td>19</td><td>Raspberry Choco</td><td>2022-06-16</td><td>$1,750 </td><td>208</td></tr><tr><td>10</td><td>Gigi Bohling</td><td>UK</td><td>10</td><td>Drinking Coco</td><td>2022-06-30</td><td>$5,782 </td><td>42</td></tr><tr><td>17</td><td>Kelci Walkden</td><td>India</td><td>15</td><td>Mint Chip Choco</td><td>2022-07-28</td><td>$2,870 </td><td>120</td></tr><tr><td>16</td><td>Karlen McCaffrey</td><td>Canada</td><td>18</td><td>Peanut Butter Cubes</td><td>2022-08-12</td><td>$3,094 </td><td>159</td></tr><tr><td>2</td><td>Barr Faughny</td><td>UK</td><td>15</td><td>Mint Chip Choco</td><td>2022-07-07</td><td>$3,724 </td><td>316</td></tr><tr><td>2</td><td>Barr Faughny</td><td>USA</td><td>3</td><td>85% Dark Bars</td><td>2022-08-25</td><td>$12,761 </td><td>47</td></tr><tr><td>12</td><td>Husein Augar</td><td>Canada</td><td>11</td><td>Eclairs</td><td>2022-01-17</td><td>$3,696 </td><td>233</td></tr><tr><td>13</td><td>Jan Morforth</td><td>Australia</td><td>2</td><td>70% Dark Bites</td><td>2022-03-04</td><td>$5,222 </td><td>384</td></tr><tr><td>20</td><td>Marney O'Breen</td><td>New Zealand</td><td>12</td><td>Fruit & Nut Bars</td><td>2022-08-25</td><td>$8,939 </td><td>4</td></tr><tr><td>6</td><td>Ches Bonnell</td><td>UK</td><td>18</td><td>Peanut Butter Cubes</td><td>2022-04-15</td><td>$2,156 </td><td>260</td></tr><tr><td>15</td><td>Kaine Padly</td><td>USA</td><td>17</td><td>Organic Choco Syrup</td><td>2022-03-11</td><td>$2,380 </td><td>22</td></tr><tr><td>5</td><td>Camilla Castle</td><td>USA</td><td>19</td><td>Raspberry Choco</td><td>2022-05-20</td><td>$3,339 </td><td>18</td></tr><tr><td>4</td><td>Brien Boise</td><td>New Zealand</td><td>13</td><td>Manuka Honey Choco</td><td>2022-06-14</td><td>$14,980 </td><td>42</td></tr><tr><td>14</td><td>Jehu Rudeforth</td><td>New Zealand</td><td>5</td><td>After Nines</td><td>2022-04-14</td><td>$1,512 </td><td>73</td></tr><tr><td>14</td><td>Jehu Rudeforth</td><td>USA</td><td>20</td><td>Smooth Sliky Salty</td><td>2022-07-07</td><td>$6,657 </td><td>154</td></tr><tr><td>18</td><td>Madelene Upcott</td><td>India</td><td>15</td><td>Mint Chip Choco</td><td>2022-08-24</td><td>$3,836 </td><td>71</td></tr><tr><td>14</td><td>Jehu Rudeforth</td><td>India</td><td>11</td><td>Eclairs</td><td>2022-02-24</td><td>$8,771 </td><td>127</td></tr><tr><td>16</td><td>Karlen McCaffrey</td><td>Canada</td><td>19</td><td>Raspberry Choco</td><td>2022-05-09</td><td>$651 </td><td>224</td></tr><tr><td>15</td><td>Kaine Padly</td><td>Australia</td><td>2</td><td>70% Dark Bites</td><td>2022-02-08</td><td>$6,706 </td><td>223</td></tr><tr><td>23</td><td>Roddy Speechley</td><td>UK</td><td>2</td><td>70% Dark Bites</td><td>2022-03-24</td><td>$1,421 </td><td>284</td></tr><tr><td>22</td><td>Rafaelita Blaksland</td><td>USA</td><td>10</td><td>Drinking Coco</td><td>2022-06-20</td><td>$8,526 </td><td>73</td></tr><tr><td>19</td><td>Mallorie Waber</td><td>Canada</td><td>13</td><td>Manuka Honey Choco</td><td>2022-03-07</td><td>$1,435 </td><td>112</td></tr><tr><td>15</td><td>Kaine Padly</td><td>Australia</td><td>12</td><td>Fruit & Nut Bars</td><td>2022-06-20</td><td>$7,434 </td><td>85</td></tr><tr><td>21</td><td>Oby Sorrel</td><td>New Zealand</td><td>17</td><td>Organic Choco Syrup</td><td>2022-02-17</td><td>$15,316 </td><td>270</td></tr><tr><td>18</td><td>Madelene Upcott</td><td>UK</td><td>4</td><td>99% Dark & Pure</td><td>2022-01-26</td><td>$10,479 </td><td>45</td></tr><tr><td>18</td><td>Madelene Upcott</td><td>Australia</td><td>15</td><td>Mint Chip Choco</td><td>2022-05-02</td><td>$2,751 </td><td>153</td></tr><tr><td>7</td><td>Curtice Advani</td><td>Canada</td><td>4</td><td>99% Dark & Pure</td><td>2022-07-07</td><td>$12,586 </td><td>7</td></tr><tr><td>22</td><td>Rafaelita Blaksland</td><td>Australia</td><td>7</td><td>Baker's Choco Chips</td><td>2022-08-22</td><td>$2,786 </td><td>51</td></tr><tr><td>16</td><td>Karlen McCaffrey</td><td>Australia</td><td>5</td><td>After Nines</td><td>2022-08-11</td><td>$2,303 </td><td>67</td></tr><tr><td>20</td><td>Marney O'Breen</td><td>UK</td><td>4</td><td>99% Dark & Pure</td><td>2022-01-13</td><td>$8,113 </td><td>194</td></tr><tr><td>11</td><td>Gunar Cockshoot</td><td>Australia</td><td>1</td><td>50% Dark Bites</td><td>2022-03-02</td><td>$12,271 </td><td>116</td></tr><tr><td>20</td><td>Marney O'Breen</td><td>Australia</td><td>9</td><td>Choco Coated Almonds</td><td>2022-07-27</td><td>$11,298 </td><td>41</td></tr><tr><td>17</td><td>Kelci Walkden</td><td>New Zealand</td><td>10</td><td>Drinking Coco</td><td>2022-03-10</td><td>$15,855 </td><td>111</td></tr><tr><td>3</td><td>Beverie Moffet</td><td>USA</td><td>3</td><td>85% Dark Bars</td><td>2022-08-23</td><td>$12,404 </td><td>334</td></tr><tr><td>23</td><td>Roddy Speechley</td><td>USA</td><td>11</td><td>Eclairs</td><td>2022-04-25</td><td>$3,990 </td><td>155</td></tr><tr><td>8</td><td>Dennison Crosswaite</td><td>UK</td><td>14</td><td>Milk Bars</td><td>2022-03-07</td><td>$10,808 </td><td>407</td></tr><tr><td>25</td><td>Wilone O'Kielt</td><td>UK</td><td>17</td><td>Organic Choco Syrup</td><td>2022-07-12</td><td>$4,858 </td><td>52</td></tr><tr><td>18</td><td>Madelene Upcott</td><td>USA</td><td>16</td><td>Orange Choco</td><td>2022-05-16</td><td>$7,742 </td><td>138</td></tr><tr><td>11</td><td>Gunar Cockshoot</td><td>India</td><td>20</td><td>Smooth Sliky Salty</td><td>2022-03-02</td><td>$3,752 </td><td>70</td></tr><tr><td>20</td><td>Marney O'Breen</td><td>New Zealand</td><td>3</td><td>85% Dark Bars</td><td>2022-05-30</td><td>$1,218 </td><td>149</td></tr><tr><td>20</td><td>Marney O'Breen</td><td>UK</td><td>13</td><td>Manuka Honey Choco</td><td>2022-06-10</td><td>$10,983 </td><td>179</td></tr><tr><td>4</td><td>Brien Boise</td><td>USA</td><td>4</td><td>99% Dark & Pure</td><td>2022-07-25</td><td>$6,769 </td><td>353</td></tr><tr><td>3</td><td>Beverie Moffet</td><td>New Zealand</td><td>15</td><td>Mint Chip Choco</td><td>2022-06-09</td><td>$4,361 </td><td>97</td></tr><tr><td>8</td><td>Dennison Crosswaite</td><td>USA</td><td>14</td><td>Milk Bars</td><td>2022-05-12</td><td>$777 </td><td>60</td></tr><tr><td>11</td><td>Gunar Cockshoot</td><td>USA</td><td>10</td><td>Drinking Coco</td><td>2022-05-09</td><td>$3,843 </td><td>5</td></tr><tr><td>4</td><td>Brien Boise</td><td>Canada</td><td>13</td><td>Manuka Honey Choco</td><td>2022-08-09</td><td>$6,930 </td><td>182</td></tr><tr><td>24</td><td>Van Tuxwell</td><td>India</td><td>9</td><td>Choco Coated Almonds</td><td>2022-04-13</td><td>$5,733 </td><td>114</td></tr><tr><td>1</td><td>Andria Kimpton</td><td>USA</td><td>8</td><td>Caramel Stuffed Bars</td><td>2022-05-02</td><td>$8,393 </td><td>46</td></tr><tr><td>9</td><td>Dotty Strutley</td><td>USA</td><td>4</td><td>99% Dark & Pure</td><td>2022-08-09</td><td>$3,822 </td><td>320</td></tr><tr><td>5</td><td>Camilla Castle</td><td>Australia</td><td>19</td><td>Raspberry Choco</td><td>2022-08-23</td><td>$6,342 </td><td>178</td></tr><tr><td>11</td><td>Gunar Cockshoot</td><td>India</td><td>21</td><td>Spicy Special Slims</td><td>2022-05-13</td><td>$6,510 </td><td>170</td></tr><tr><td>16</td><td>Karlen McCaffrey</td><td>USA</td><td>13</td><td>Manuka Honey Choco</td><td>2022-02-01</td><td>$10,171 </td><td>67</td></tr><tr><td>5</td><td>Camilla Castle</td><td>USA</td><td>1</td><td>50% Dark Bites</td><td>2022-06-23</td><td>$5,908 </td><td>301</td></tr><tr><td>18</td><td>Madelene Upcott</td><td>UK</td><td>9</td><td>Choco Coated Almonds</td><td>2022-05-24</td><td>$10,164 </td><td>134</td></tr><tr><td>13</td><td>Jan Morforth</td><td>Canada</td><td>15</td><td>Mint Chip Choco</td><td>2022-04-01</td><td>$1,064 </td><td>211</td></tr><tr><td>5</td><td>Camilla Castle</td><td>Canada</td><td>2</td><td>70% Dark Bites</td><td>2022-07-27</td><td>$9,716 </td><td>151</td></tr><tr><td>6</td><td>Ches Bonnell</td><td>India</td><td>18</td><td>Peanut Butter Cubes</td><td>2022-01-27</td><td>$22,050 </td><td>208</td></tr><tr><td>13</td><td>Jan Morforth</td><td>India</td><td>9</td><td>Choco Coated Almonds</td><td>2022-08-12</td><td>$2,541 </td><td>134</td></tr><tr><td>10</td><td>Gigi Bohling</td><td>Canada</td><td>6</td><td>Almond Choco</td><td>2022-02-01</td><td>$9,989 </td><td>49</td></tr><tr><td>22</td><td>Rafaelita Blaksland</td><td>India</td><td>5</td><td>After Nines</td><td>2022-03-02</td><td>$4,739 </td><td>204</td></tr><tr><td>17</td><td>Kelci Walkden</td><td>Australia</td><td>4</td><td>99% Dark & Pure</td><td>2022-06-30</td><td>$3,185 </td><td>34</td></tr><tr><td>9</td><td>Dotty Strutley</td><td>Australia</td><td>21</td><td>Spicy Special Slims</td><td>2022-01-17</td><td>$8,225 </td><td>91</td></tr><tr><td>4</td><td>Brien Boise</td><td>USA</td><td>14</td><td>Milk Bars</td><td>2022-07-07</td><td>$14,301 </td><td>130</td></tr><tr><td>19</td><td>Mallorie Waber</td><td>New Zealand</td><td>15</td><td>Mint Chip Choco</td><td>2022-01-31</td><td>$1,316 </td><td>107</td></tr><tr><td>3</td><td>Beverie Moffet</td><td>UK</td><td>4</td><td>99% Dark & Pure</td><td>2022-08-10</td><td>$3,486 </td><td>121</td></tr><tr><td>3</td><td>Beverie Moffet</td><td>USA</td><td>18</td><td>Peanut Butter Cubes</td><td>2022-08-18</td><td>$13,930 </td><td>339</td></tr><tr><td>4</td><td>Brien Boise</td><td>New Zealand</td><td>22</td><td>White Choc</td><td>2022-06-15</td><td>$5,509 </td><td>321</td></tr><tr><td>20</td><td>Marney O'Breen</td><td>USA</td><td>7</td><td>Baker's Choco Chips</td><td>2022-01-26</td><td>$8,470 </td><td>9</td></tr><tr><td>17</td><td>Kelci Walkden</td><td>USA</td><td>21</td><td>Spicy Special Slims</td><td>2022-04-29</td><td>$77 </td><td>69</td></tr><tr><td>19</td><td>Mallorie Waber</td><td>Canada</td><td>22</td><td>White Choc</td><td>2022-03-03</td><td>$3,381 </td><td>72</td></tr><tr><td>15</td><td>Kaine Padly</td><td>Australia</td><td>6</td><td>Almond Choco</td><td>2022-02-22</td><td>$4,102 </td><td>392</td></tr><tr><td>21</td><td>Oby Sorrel</td><td>USA</td><td>20</td><td>Smooth Sliky Salty</td><td>2022-03-04</td><td>$3,577 </td><td>158</td></tr><tr><td>8</td><td>Dennison Crosswaite</td><td>India</td><td>20</td><td>Smooth Sliky Salty</td><td>2022-07-07</td><td>$2,975 </td><td>9</td></tr><tr><td>5</td><td>Camilla Castle</td><td>New Zealand</td><td>8</td><td>Caramel Stuffed Bars</td><td>2022-06-17</td><td>$4,137 </td><td>347</td></tr><tr><td>13</td><td>Jan Morforth</td><td>Canada</td><td>8</td><td>Caramel Stuffed Bars</td><td>2022-08-02</td><td>$9,541 </td><td>114</td></tr><tr><td>21</td><td>Oby Sorrel</td><td>USA</td><td>7</td><td>Baker's Choco Chips</td><td>2022-08-12</td><td>$8,001 </td><td>120</td></tr><tr><td>18</td><td>Madelene Upcott</td><td>New Zealand</td><td>18</td><td>Peanut Butter Cubes</td><td>2022-01-28</td><td>$5,152 </td><td>333</td></tr><tr><td>17</td><td>Kelci Walkden</td><td>Australia</td><td>16</td><td>Orange Choco</td><td>2022-04-29</td><td>$11,116 </td><td>432</td></tr><tr><td>20</td><td>Marney O'Breen</td><td>Australia</td><td>13</td><td>Manuka Honey Choco</td><td>2022-04-05</td><td>$13,076 </td><td>236</td></tr><tr><td>15</td><td>Kaine Padly</td><td>Canada</td><td>13</td><td>Manuka Honey Choco</td><td>2022-01-18</td><td>$10,213 </td><td>135</td></tr><tr><td>14</td><td>Jehu Rudeforth</td><td>UK</td><td>7</td><td>Baker's Choco Chips</td><td>2022-05-16</td><td>$2,485 </td><td>97</td></tr><tr><td>17</td><td>Kelci Walkden</td><td>Australia</td><td>22</td><td>White Choc</td><td>2022-08-24</td><td>$8,715 </td><td>168</td></tr><tr><td>7</td><td>Curtice Advani</td><td>India</td><td>3</td><td>85% Dark Bars</td><td>2022-01-18</td><td>$273 </td><td>402</td></tr><tr><td>15</td><td>Kaine Padly</td><td>USA</td><td>11</td><td>Eclairs</td><td>2022-08-22</td><td>$7,623 </td><td>10</td></tr><tr><td>11</td><td>Gunar Cockshoot</td><td>UK</td><td>4</td><td>99% Dark & Pure</td><td>2022-03-07</td><td>$7 </td><td>84</td></tr><tr><td>3</td><td>Beverie Moffet</td><td>UK</td><td>9</td><td>Choco Coated Almonds</td><td>2022-03-04</td><td>$3,010 </td><td>69</td></tr><tr><td>9</td><td>Dotty Strutley</td><td>Canada</td><td>13</td><td>Manuka Honey Choco</td><td>2022-04-22</td><td>$11,550 </td><td>111</td></tr><tr><td>15</td><td>Kaine Padly</td><td>Australia</td><td>14</td><td>Milk Bars</td><td>2022-06-09</td><td>$4,046 </td><td>89</td></tr><tr><td>13</td><td>Jan Morforth</td><td>Canada</td><td>12</td><td>Fruit & Nut Bars</td><td>2022-07-25</td><td>$8,904 </td><td>199</td></tr><tr><td>13</td><td>Jan Morforth</td><td>India</td><td>20</td><td>Smooth Sliky Salty</td><td>2022-08-03</td><td>$11,298 </td><td>89</td></tr><tr><td>22</td><td>Rafaelita Blaksland</td><td>Australia</td><td>13</td><td>Manuka Honey Choco</td><td>2022-08-03</td><td>$4,396 </td><td>131</td></tr><tr><td>14</td><td>Jehu Rudeforth</td><td>UK</td><td>14</td><td>Milk Bars</td><td>2022-05-03</td><td>$12,068 </td><td>227</td></tr><tr><td>12</td><td>Husein Augar</td><td>Canada</td><td>5</td><td>After Nines</td><td>2022-01-19</td><td>$9,772 </td><td>301</td></tr><tr><td>23</td><td>Roddy Speechley</td><td>USA</td><td>1</td><td>50% Dark Bites</td><td>2022-02-11</td><td>$10,458 </td><td>316</td></tr><tr><td>24</td><td>Van Tuxwell</td><td>India</td><td>6</td><td>Almond Choco</td><td>2022-06-14</td><td>$6,426 </td><td>390</td></tr><tr><td>17</td><td>Kelci Walkden</td><td>USA</td><td>1</td><td>50% Dark Bites</td><td>2022-03-23</td><td>$6,188 </td><td>223</td></tr><tr><td>18</td><td>Madelene Upcott</td><td>Canada</td><td>3</td><td>85% Dark Bars</td><td>2022-02-17</td><td>$7,504 </td><td>101</td></tr><tr><td>8</td><td>Dennison Crosswaite</td><td>Canada</td><td>20</td><td>Smooth Sliky Salty</td><td>2022-03-17</td><td>$1,750 </td><td>479</td></tr><tr><td>19</td><td>Mallorie Waber</td><td>Australia</td><td>21</td><td>Spicy Special Slims</td><td>2022-06-29</td><td>$5,439 </td><td>287</td></tr><tr><td>6</td><td>Ches Bonnell</td><td>Canada</td><td>9</td><td>Choco Coated Almonds</td><td>2022-08-24</td><td>$15,547 </td><td>269</td></tr><tr><td>10</td><td>Gigi Bohling</td><td>Canada</td><td>21</td><td>Spicy Special Slims</td><td>2022-07-04</td><td>$11,956 </td><td>277</td></tr><tr><td>23</td><td>Roddy Speechley</td><td>New Zealand</td><td>6</td><td>Almond Choco</td><td>2022-03-28</td><td>$2,723 </td><td>67</td></tr><tr><td>7</td><td>Curtice Advani</td><td>India</td><td>20</td><td>Smooth Sliky Salty</td><td>2022-04-19</td><td>$19,327 </td><td>135</td></tr><tr><td>6</td><td>Ches Bonnell</td><td>New Zealand</td><td>15</td><td>Mint Chip Choco</td><td>2022-01-18</td><td>$9,058 </td><td>229</td></tr><tr><td>24</td><td>Van Tuxwell</td><td>New Zealand</td><td>12</td><td>Fruit & Nut Bars</td><td>2022-01-17</td><td>$2,996 </td><td>88</td></tr><tr><td>1</td><td>Andria Kimpton</td><td>New Zealand</td><td>15</td><td>Mint Chip Choco</td><td>2022-02-15</td><td>$8,848 </td><td>211</td></tr><tr><td>1</td><td>Andria Kimpton</td><td>UK</td><td>14</td><td>Milk Bars</td><td>2022-02-11</td><td>$14,336 </td><td>293</td></tr><tr><td>5</td><td>Camilla Castle</td><td>USA</td><td>13</td><td>Manuka Honey Choco</td><td>2022-03-21</td><td>$16,401 </td><td>179</td></tr><tr><td>11</td><td>Gunar Cockshoot</td><td>New Zealand</td><td>6</td><td>Almond Choco</td><td>2022-01-05</td><td>$5,173 </td><td>129</td></tr><tr><td>4</td><td>Brien Boise</td><td>India</td><td>19</td><td>Raspberry Choco</td><td>2022-05-30</td><td>$6,328 </td><td>164</td></tr><tr><td>14</td><td>Jehu Rudeforth</td><td>USA</td><td>4</td><td>99% Dark & Pure</td><td>2022-01-04</td><td>$2,534 </td><td>219</td></tr><tr><td>3</td><td>Beverie Moffet</td><td>Australia</td><td>12</td><td>Fruit & Nut Bars</td><td>2022-04-22</td><td>$1,435 </td><td>258</td></tr><tr><td>10</td><td>Gigi Bohling</td><td>Canada</td><td>14</td><td>Milk Bars</td><td>2022-02-10</td><td>$3,052 </td><td>116</td></tr><tr><td>9</td><td>Dotty Strutley</td><td>India</td><td>21</td><td>Spicy Special Slims</td><td>2022-08-12</td><td>$910 </td><td>204</td></tr><tr><td>11</td><td>Gunar Cockshoot</td><td>USA</td><td>17</td><td>Organic Choco Syrup</td><td>2022-08-10</td><td>$2,331 </td><td>321</td></tr><tr><td>17</td><td>Kelci Walkden</td><td>Australia</td><td>19</td><td>Raspberry Choco</td><td>2022-06-07</td><td>$679 </td><td>56</td></tr><tr><td>14</td><td>Jehu Rudeforth</td><td>India</td><td>7</td><td>Baker's Choco Chips</td><td>2022-06-06</td><td>$2,086 </td><td>74</td></tr><tr><td>16</td><td>Karlen McCaffrey</td><td>New Zealand</td><td>7</td><td>Baker's Choco Chips</td><td>2022-04-05</td><td>$5,012 </td><td>189</td></tr><tr><td>25</td><td>Wilone O'Kielt</td><td>USA</td><td>1</td><td>50% Dark Bites</td><td>2022-04-18</td><td>$4,501 </td><td>131</td></tr><tr><td>1</td><td>Andria Kimpton</td><td>India</td><td>1</td><td>50% Dark Bites</td><td>2022-01-31</td><td>$13,482 </td><td>15</td></tr><tr><td>18</td><td>Madelene Upcott</td><td>USA</td><td>7</td><td>Baker's Choco Chips</td><td>2022-08-22</td><td>$5,621 </td><td>140</td></tr><tr><td>14</td><td>Jehu Rudeforth</td><td>Australia</td><td>4</td><td>99% Dark & Pure</td><td>2022-02-25</td><td>$10,486 </td><td>198</td></tr><tr><td>13</td><td>Jan Morforth</td><td>Australia</td><td>15</td><td>Mint Chip Choco</td><td>2022-02-22</td><td>$17,626 </td><td>103</td></tr><tr><td>21</td><td>Oby Sorrel</td><td>New Zealand</td><td>14</td><td>Milk Bars</td><td>2022-01-12</td><td>$4,494 </td><td>187</td></tr><tr><td>4</td><td>Brien Boise</td><td>UK</td><td>6</td><td>Almond Choco</td><td>2022-05-25</td><td>$105 </td><td>125</td></tr><tr><td>17</td><td>Kelci Walkden</td><td>India</td><td>20</td><td>Smooth Sliky Salty</td><td>2022-02-01</td><td>$2,464 </td><td>8</td></tr><tr><td>22</td><td>Rafaelita Blaksland</td><td>UK</td><td>11</td><td>Eclairs</td><td>2022-04-27</td><td>$1,379 </td><td>70</td></tr><tr><td>10</td><td>Gigi Bohling</td><td>USA</td><td>20</td><td>Smooth Sliky Salty</td><td>2022-07-22</td><td>$2,583 </td><td>126</td></tr><tr><td>7</td><td>Curtice Advani</td><td>New Zealand</td><td>15</td><td>Mint Chip Choco</td><td>2022-01-26</td><td>$3,220 </td><td>265</td></tr><tr><td>7</td><td>Curtice Advani</td><td>USA</td><td>15</td><td>Mint Chip Choco</td><td>2022-08-24</td><td>$4,802 </td><td>296</td></tr><tr><td>18</td><td>Madelene Upcott</td><td>New Zealand</td><td>12</td><td>Fruit & Nut Bars</td><td>2022-01-18</td><td>$5,677 </td><td>21</td></tr><tr><td>16</td><td>Karlen McCaffrey</td><td>India</td><td>3</td><td>85% Dark Bars</td><td>2022-03-30</td><td>$945 </td><td>83</td></tr><tr><td>6</td><td>Ches Bonnell</td><td>Australia</td><td>8</td><td>Caramel Stuffed Bars</td><td>2022-01-17</td><td>$8,757 </td><td>162</td></tr><tr><td>17</td><td>Kelci Walkden</td><td>USA</td><td>12</td><td>Fruit & Nut Bars</td><td>2022-02-17</td><td>$4,816 </td><td>145</td></tr><tr><td>17</td><td>Kelci Walkden</td><td>Canada</td><td>18</td><td>Peanut Butter Cubes</td><td>2022-04-08</td><td>$7,532 </td><td>44</td></tr><tr><td>10</td><td>Gigi Bohling</td><td>Canada</td><td>10</td><td>Drinking Coco</td><td>2022-07-06</td><td>$3,549 </td><td>82</td></tr><tr><td>12</td><td>Husein Augar</td><td>India</td><td>12</td><td>Fruit & Nut Bars</td><td>2022-04-04</td><td>$4,340 </td><td>226</td></tr><tr><td>13</td><td>Jan Morforth</td><td>New Zealand</td><td>17</td><td>Organic Choco Syrup</td><td>2022-03-02</td><td>$1,799 </td><td>207</td></tr><tr><td>10</td><td>Gigi Bohling</td><td>New Zealand</td><td>19</td><td>Raspberry Choco</td><td>2022-08-09</td><td>$1,127 </td><td>176</td></tr><tr><td>8</td><td>Dennison Crosswaite</td><td>Australia</td><td>14</td><td>Milk Bars</td><td>2022-06-09</td><td>$10,038 </td><td>286</td></tr><tr><td>6</td><td>Ches Bonnell</td><td>UK</td><td>8</td><td>Caramel Stuffed Bars</td><td>2022-06-02</td><td>$2,926 </td><td>300</td></tr><tr><td>24</td><td>Van Tuxwell</td><td>USA</td><td>12</td><td>Fruit & Nut Bars</td><td>2022-07-05</td><td>$6,279 </td><td>235</td></tr><tr><td>1</td><td>Andria Kimpton</td><td>Canada</td><td>11</td><td>Eclairs</td><td>2022-08-11</td><td>$308 </td><td>125</td></tr><tr><td>18</td><td>Madelene Upcott</td><td>India</td><td>9</td><td>Choco Coated Almonds</td><td>2022-02-11</td><td>$3,500 </td><td>145</td></tr><tr><td>17</td><td>Kelci Walkden</td><td>New Zealand</td><td>21</td><td>Spicy Special Slims</td><td>2022-08-11</td><td>$658 </td><td>65</td></tr><tr><td>23</td><td>Roddy Speechley</td><td>Australia</td><td>10</td><td>Drinking Coco</td><td>2022-05-12</td><td>$12,565 </td><td>102</td></tr><tr><td>25</td><td>Wilone O'Kielt</td><td>USA</td><td>14</td><td>Milk Bars</td><td>2022-07-15</td><td>$5,012 </td><td>93</td></tr><tr><td>1</td><td>Andria Kimpton</td><td>India</td><td>17</td><td>Organic Choco Syrup</td><td>2022-01-18</td><td>$3,955 </td><td>134</td></tr><tr><td>18</td><td>Madelene Upcott</td><td>UK</td><td>12</td><td>Fruit & Nut Bars</td><td>2022-01-05</td><td>$8,512 </td><td>189</td></tr><tr><td>7</td><td>Curtice Advani</td><td>Australia</td><td>1</td><td>50% Dark Bites</td><td>2022-06-29</td><td>$504 </td><td>232</td></tr><tr><td>4</td><td>Brien Boise</td><td>Canada</td><td>19</td><td>Raspberry Choco</td><td>2022-06-14</td><td>$2,800 </td><td>45</td></tr><tr><td>11</td><td>Gunar Cockshoot</td><td>India</td><td>15</td><td>Mint Chip Choco</td><td>2022-08-08</td><td>$4,256 </td><td>67</td></tr><tr><td>8</td><td>Dennison Crosswaite</td><td>India</td><td>15</td><td>Mint Chip Choco</td><td>2022-03-23</td><td>$13,573 </td><td>138</td></tr><tr><td>2</td><td>Barr Faughny</td><td>India</td><td>8</td><td>Caramel Stuffed Bars</td><td>2022-01-04</td><td>$6,566 </td><td>99</td></tr><tr><td>4</td><td>Brien Boise</td><td>India</td><td>14</td><td>Milk Bars</td><td>2022-02-22</td><td>$13,503 </td><td>251</td></tr><tr><td>3</td><td>Beverie Moffet</td><td>UK</td><td>21</td><td>Spicy Special Slims</td><td>2022-02-17</td><td>$8,680 </td><td>252</td></tr><tr><td>2</td><td>Barr Faughny</td><td>USA</td><td>6</td><td>Almond Choco</td><td>2022-02-03</td><td>$385 </td><td>78</td></tr><tr><td>24</td><td>Van Tuxwell</td><td>Canada</td><td>19</td><td>Raspberry Choco</td><td>2022-03-17</td><td>$1,267 </td><td>130</td></tr><tr><td>25</td><td>Wilone O'Kielt</td><td>Australia</td><td>7</td><td>Baker's Choco Chips</td><td>2022-01-25</td><td>$2,961 </td><td>154</td></tr><tr><td>4</td><td>Brien Boise</td><td>Australia</td><td>14</td><td>Milk Bars</td><td>2022-07-27</td><td>$1,981 </td><td>52</td></tr><tr><td>12</td><td>Husein Augar</td><td>Australia</td><td>12</td><td>Fruit & Nut Bars</td><td>2022-01-28</td><td>$7,959 </td><td>53</td></tr><tr><td>18</td><td>Madelene Upcott</td><td>Australia</td><td>17</td><td>Organic Choco Syrup</td><td>2022-07-05</td><td>$10,794 </td><td>50</td></tr><tr><td>24</td><td>Van Tuxwell</td><td>India</td><td>22</td><td>White Choc</td><td>2022-03-15</td><td>$1,897 </td><td>44</td></tr><tr><td>11</td><td>Gunar Cockshoot</td><td>Canada</td><td>5</td><td>After Nines</td><td>2022-08-04</td><td>$2,744 </td><td>200</td></tr><tr><td>13</td><td>Jan Morforth</td><td>USA</td><td>12</td><td>Fruit & Nut Bars</td><td>2022-06-27</td><td>$4,382 </td><td>361</td></tr><tr><td>13</td><td>Jan Morforth</td><td>Canada</td><td>5</td><td>After Nines</td><td>2022-07-13</td><td>$4,515 </td><td>172</td></tr><tr><td>2</td><td>Barr Faughny</td><td>New Zealand</td><td>13</td><td>Manuka Honey Choco</td><td>2022-02-24</td><td>$5,474 </td><td>239</td></tr><tr><td>16</td><td>Karlen McCaffrey</td><td>New Zealand</td><td>3</td><td>85% Dark Bars</td><td>2022-06-28</td><td>$6,069 </td><td>55</td></tr><tr><td>21</td><td>Oby Sorrel</td><td>Australia</td><td>3</td><td>85% Dark Bars</td><td>2022-06-30</td><td>$6,944 </td><td>27</td></tr><tr><td>7</td><td>Curtice Advani</td><td>Canada</td><td>9</td><td>Choco Coated Almonds</td><td>2022-08-18</td><td>$5,859 </td><td>7</td></tr><tr><td>15</td><td>Kaine Padly</td><td>India</td><td>2</td><td>70% Dark Bites</td><td>2022-01-24</td><td>$12,173 </td><td>301</td></tr><tr><td>3</td><td>Beverie Moffet</td><td>USA</td><td>22</td><td>White Choc</td><td>2022-03-11</td><td>$5,292 </td><td>134</td></tr><tr><td>6</td><td>Ches Bonnell</td><td>New Zealand</td><td>5</td><td>After Nines</td><td>2022-06-23</td><td>$5,705 </td><td>350</td></tr><tr><td>12</td><td>Husein Augar</td><td>India</td><td>21</td><td>Spicy Special Slims</td><td>2022-08-22</td><td>$2,492 </td><td>33</td></tr><tr><td>11</td><td>Gunar Cockshoot</td><td>Canada</td><td>1</td><td>50% Dark Bites</td><td>2022-01-04</td><td>$3,024 </td><td>23</td></tr><tr><td>7</td><td>Curtice Advani</td><td>India</td><td>14</td><td>Milk Bars</td><td>2022-04-05</td><td>$3,437 </td><td>201</td></tr><tr><td>3</td><td>Beverie Moffet</td><td>India</td><td>14</td><td>Milk Bars</td><td>2022-04-15</td><td>$1,869 </td><td>323</td></tr><tr><td>12</td><td>Husein Augar</td><td>Australia</td><td>22</td><td>White Choc</td><td>2022-05-11</td><td>$3,171 </td><td>220</td></tr><tr><td>1</td><td>Andria Kimpton</td><td>Canada</td><td>13</td><td>Manuka Honey Choco</td><td>2022-07-21</td><td>$4,858 </td><td>488</td></tr><tr><td>13</td><td>Jan Morforth</td><td>New Zealand</td><td>16</td><td>Orange Choco</td><td>2022-02-11</td><td>$1,225 </td><td>84</td></tr><tr><td>1</td><td>Andria Kimpton</td><td>Canada</td><td>20</td><td>Smooth Sliky Salty</td><td>2022-07-08</td><td>$1,155 </td><td>79</td></tr><tr><td>11</td><td>Gunar Cockshoot</td><td>UK</td><td>19</td><td>Raspberry Choco</td><td>2022-08-11</td><td>$6,811 </td><td>344</td></tr><tr><td>12</td><td>Husein Augar</td><td>New Zealand</td><td>5</td><td>After Nines</td><td>2022-08-04</td><td>$6,433 </td><td>7</td></tr><tr><td>1</td><td>Andria Kimpton</td><td>New Zealand</td><td>16</td><td>Orange Choco</td><td>2022-06-14</td><td>$8,169 </td><td>88</td></tr><tr><td>8</td><td>Dennison Crosswaite</td><td>UK</td><td>7</td><td>Baker's Choco Chips</td><td>2022-01-17</td><td>$2,275 </td><td>275</td></tr><tr><td>14</td><td>Jehu Rudeforth</td><td>Canada</td><td>16</td><td>Orange Choco</td><td>2022-06-23</td><td>$3,857 </td><td>512</td></tr><tr><td>14</td><td>Jehu Rudeforth</td><td>UK</td><td>20</td><td>Smooth Sliky Salty</td><td>2022-08-24</td><td>$1,463 </td><td>113</td></tr><tr><td>1</td><td>Andria Kimpton</td><td>UK</td><td>8</td><td>Caramel Stuffed Bars</td><td>2022-06-07</td><td>$7,924 </td><td>275</td></tr><tr><td>13</td><td>Jan Morforth</td><td>UK</td><td>22</td><td>White Choc</td><td>2022-06-22</td><td>$8,799 </td><td>47</td></tr><tr><td>9</td><td>Dotty Strutley</td><td>USA</td><td>12</td><td>Fruit & Nut Bars</td><td>2022-07-13</td><td>$2,898 </td><td>276</td></tr><tr><td>17</td><td>Kelci Walkden</td><td>UK</td><td>9</td><td>Choco Coated Almonds</td><td>2022-05-24</td><td>$9,506 </td><td>212</td></tr><tr><td>11</td><td>Gunar Cockshoot</td><td>New Zealand</td><td>5</td><td>After Nines</td><td>2022-08-09</td><td>$7,175 </td><td>145</td></tr><tr><td>15</td><td>Kaine Padly</td><td>Canada</td><td>3</td><td>85% Dark Bars</td><td>2022-04-06</td><td>$1,729 </td><td>31</td></tr><tr><td>13</td><td>Jan Morforth</td><td>New Zealand</td><td>13</td><td>Manuka Honey Choco</td><td>2022-07-28</td><td>$1,589 </td><td>271</td></tr><tr><td>11</td><td>Gunar Cockshoot</td><td>New Zealand</td><td>19</td><td>Raspberry Choco</td><td>2022-08-24</td><td>$630 </td><td>52</td></tr><tr><td>24</td><td>Van Tuxwell</td><td>Australia</td><td>4</td><td>99% Dark & Pure</td><td>2022-01-17</td><td>$112 </td><td>128</td></tr><tr><td>7</td><td>Curtice Advani</td><td>USA</td><td>10</td><td>Drinking Coco</td><td>2022-02-07</td><td>$5,187 </td><td>142</td></tr><tr><td>4</td><td>Brien Boise</td><td>Australia</td><td>21</td><td>Spicy Special Slims</td><td>2022-05-09</td><td>$6,223 </td><td>256</td></tr><tr><td>19</td><td>Mallorie Waber</td><td>New Zealand</td><td>3</td><td>85% Dark Bars</td><td>2022-06-06</td><td>$7,714 </td><td>106</td></tr><tr><td>25</td><td>Wilone O'Kielt</td><td>USA</td><td>9</td><td>Choco Coated Almonds</td><td>2022-06-06</td><td>$9,457 </td><td>6</td></tr><tr><td>3</td><td>Beverie Moffet</td><td>New Zealand</td><td>17</td><td>Organic Choco Syrup</td><td>2022-05-24</td><td>$6,678 </td><td>226</td></tr><tr><td>11</td><td>Gunar Cockshoot</td><td>UK</td><td>1</td><td>50% Dark Bites</td><td>2022-01-13</td><td>$2,107 </td><td>121</td></tr><tr><td>20</td><td>Marney O'Breen</td><td>USA</td><td>19</td><td>Raspberry Choco</td><td>2022-05-23</td><td>$6,069 </td><td>151</td></tr><tr><td>14</td><td>Jehu Rudeforth</td><td>UK</td><td>22</td><td>White Choc</td><td>2022-06-29</td><td>$1,862 </td><td>284</td></tr><tr><td>14</td><td>Jehu Rudeforth</td><td>New Zealand</td><td>3</td><td>85% Dark Bars</td><td>2022-03-11</td><td>$6,972 </td><td>89</td></tr><tr><td>9</td><td>Dotty Strutley</td><td>USA</td><td>3</td><td>85% Dark Bars</td><td>2022-04-25</td><td>$10,220 </td><td>508</td></tr><tr><td>22</td><td>Rafaelita Blaksland</td><td>Australia</td><td>20</td><td>Smooth Sliky Salty</td><td>2022-05-30</td><td>$3,969 </td><td>243</td></tr><tr><td>7</td><td>Curtice Advani</td><td>India</td><td>13</td><td>Manuka Honey Choco</td><td>2022-05-23</td><td>$1,547 </td><td>170</td></tr><tr><td>19</td><td>Mallorie Waber</td><td>USA</td><td>18</td><td>Peanut Butter Cubes</td><td>2022-05-23</td><td>$1,162 </td><td>18</td></tr><tr><td>24</td><td>Van Tuxwell</td><td>Canada</td><td>18</td><td>Peanut Butter Cubes</td><td>2022-06-24</td><td>$6,342 </td><td>282</td></tr><tr><td>17</td><td>Kelci Walkden</td><td>New Zealand</td><td>20</td><td>Smooth Sliky Salty</td><td>2022-03-11</td><td>$10,633 </td><td>277</td></tr><tr><td>22</td><td>Rafaelita Blaksland</td><td>USA</td><td>20</td><td>Smooth Sliky Salty</td><td>2022-07-27</td><td>$15,057 </td><td>212</td></tr><tr><td>22</td><td>Rafaelita Blaksland</td><td>USA</td><td>22</td><td>White Choc</td><td>2022-08-16</td><td>$4,704 </td><td>126</td></tr><tr><td>23</td><td>Roddy Speechley</td><td>Canada</td><td>20</td><td>Smooth Sliky Salty</td><td>2022-03-07</td><td>$9,338 </td><td>11</td></tr><tr><td>7</td><td>Curtice Advani</td><td>New Zealand</td><td>5</td><td>After Nines</td><td>2022-04-05</td><td>$7,959 </td><td>30</td></tr><tr><td>5</td><td>Camilla Castle</td><td>India</td><td>3</td><td>85% Dark Bars</td><td>2022-05-04</td><td>$9,023 </td><td>51</td></tr><tr><td>6</td><td>Ches Bonnell</td><td>USA</td><td>9</td><td>Choco Coated Almonds</td><td>2022-01-04</td><td>$14,525 </td><td>92</td></tr><tr><td>20</td><td>Marney O'Breen</td><td>Australia</td><td>7</td><td>Baker's Choco Chips</td><td>2022-01-13</td><td>$5,810 </td><td>101</td></tr><tr><td>25</td><td>Wilone O'Kielt</td><td>New Zealand</td><td>12</td><td>Fruit & Nut Bars</td><td>2022-07-11</td><td>$6,426 </td><td>98</td></tr><tr><td>15</td><td>Kaine Padly</td><td>Australia</td><td>15</td><td>Mint Chip Choco</td><td>2022-05-17</td><td>$4,403 </td><td>159</td></tr><tr><td>5</td><td>Camilla Castle</td><td>New Zealand</td><td>18</td><td>Peanut Butter Cubes</td><td>2022-07-21</td><td>$1,582 </td><td>62</td></tr><tr><td>7</td><td>Curtice Advani</td><td>Canada</td><td>17</td><td>Organic Choco Syrup</td><td>2022-02-22</td><td>$791 </td><td>22</td></tr><tr><td>13</td><td>Jan Morforth</td><td>India</td><td>4</td><td>99% Dark & Pure</td><td>2022-05-23</td><td>$9,100 </td><td>187</td></tr><tr><td>22</td><td>Rafaelita Blaksland</td><td>Canada</td><td>10</td><td>Drinking Coco</td><td>2022-07-12</td><td>$9,884 </td><td>200</td></tr><tr><td>13</td><td>Jan Morforth</td><td>UK</td><td>16</td><td>Orange Choco</td><td>2022-06-15</td><td>$3,780 </td><td>201</td></tr><tr><td>2</td><td>Barr Faughny</td><td>New Zealand</td><td>1</td><td>50% Dark Bites</td><td>2022-06-23</td><td>$4,557 </td><td>308</td></tr><tr><td>7</td><td>Curtice Advani</td><td>Australia</td><td>11</td><td>Eclairs</td><td>2022-03-25</td><td>$5,796 </td><td>55</td></tr><tr><td>13</td><td>Jan Morforth</td><td>India</td><td>8</td><td>Caramel Stuffed Bars</td><td>2022-07-04</td><td>$84 </td><td>153</td></tr><tr><td>1</td><td>Andria Kimpton</td><td>UK</td><td>22</td><td>White Choc</td><td>2022-05-12</td><td>$9,037 </td><td>101</td></tr><tr><td>5</td><td>Camilla Castle</td><td>New Zealand</td><td>19</td><td>Raspberry Choco</td><td>2022-04-04</td><td>$4,746 </td><td>137</td></tr><tr><td>18</td><td>Madelene Upcott</td><td>Australia</td><td>16</td><td>Orange Choco</td><td>2022-04-15</td><td>$6,713 </td><td>398</td></tr><tr><td>23</td><td>Roddy Speechley</td><td>Canada</td><td>11</td><td>Eclairs</td><td>2022-03-08</td><td>$6,237 </td><td>88</td></tr><tr><td>16</td><td>Karlen McCaffrey</td><td>India</td><td>22</td><td>White Choc</td><td>2022-01-17</td><td>$7,483 </td><td>232</td></tr><tr><td>25</td><td>Wilone O'Kielt</td><td>India</td><td>15</td><td>Mint Chip Choco</td><td>2022-08-22</td><td>$1,309 </td><td>51</td></tr><tr><td>1</td><td>Andria Kimpton</td><td>UK</td><td>4</td><td>99% Dark & Pure</td><td>2022-07-25</td><td>$1,155 </td><td>66</td></tr><tr><td>20</td><td>Marney O'Breen</td><td>UK</td><td>1</td><td>50% Dark Bites</td><td>2022-06-14</td><td>$2,989 </td><td>124</td></tr><tr><td>6</td><td>Ches Bonnell</td><td>India</td><td>9</td><td>Choco Coated Almonds</td><td>2022-04-05</td><td>$9,625 </td><td>78</td></tr><tr><td>18</td><td>Madelene Upcott</td><td>UK</td><td>19</td><td>Raspberry Choco</td><td>2022-08-26</td><td>$7,357 </td><td>341</td></tr><tr><td>25</td><td>Wilone O'Kielt</td><td>Australia</td><td>1</td><td>50% Dark Bites</td><td>2022-08-03</td><td>$10,031 </td><td>114</td></tr><tr><td>10</td><td>Gigi Bohling</td><td>Canada</td><td>22</td><td>White Choc</td><td>2022-07-11</td><td>$6,587 </td><td>4</td></tr><tr><td>25</td><td>Wilone O'Kielt</td><td>New Zealand</td><td>11</td><td>Eclairs</td><td>2022-03-11</td><td>$3,311 </td><td>22</td></tr><tr><td>4</td><td>Brien Boise</td><td>UK</td><td>18</td><td>Peanut Butter Cubes</td><td>2022-01-10</td><td>$15,330 </td><td>30</td></tr><tr><td>23</td><td>Roddy Speechley</td><td>UK</td><td>7</td><td>Baker's Choco Chips</td><td>2022-04-04</td><td>$14,028 </td><td>351</td></tr><tr><td>16</td><td>Karlen McCaffrey</td><td>Australia</td><td>1</td><td>50% Dark Bites</td><td>2022-01-17</td><td>$6,678 </td><td>708</td></tr><tr><td>20</td><td>Marney O'Breen</td><td>New Zealand</td><td>17</td><td>Organic Choco Syrup</td><td>2022-07-08</td><td>$8,624 </td><td>50</td></tr><tr><td>13</td><td>Jan Morforth</td><td>UK</td><td>17</td><td>Organic Choco Syrup</td><td>2022-04-12</td><td>$1,197 </td><td>356</td></tr><tr><td>22</td><td>Rafaelita Blaksland</td><td>Canada</td><td>12</td><td>Fruit & Nut Bars</td><td>2022-08-24</td><td>$483 </td><td>185</td></tr><tr><td>6</td><td>Ches Bonnell</td><td>UK</td><td>9</td><td>Choco Coated Almonds</td><td>2022-06-07</td><td>$1,687 </td><td>236</td></tr><tr><td>11</td><td>Gunar Cockshoot</td><td>Canada</td><td>6</td><td>Almond Choco</td><td>2022-07-28</td><td>$1,309 </td><td>30</td></tr><tr><td>12</td><td>Husein Augar</td><td>USA</td><td>4</td><td>99% Dark & Pure</td><td>2022-02-21</td><td>$9,534 </td><td>111</td></tr><tr><td>8</td><td>Dennison Crosswaite</td><td>Canada</td><td>15</td><td>Mint Chip Choco</td><td>2022-04-08</td><td>$1,694 </td><td>289</td></tr><tr><td>4</td><td>Brien Boise</td><td>UK</td><td>13</td><td>Manuka Honey Choco</td><td>2022-06-28</td><td>$70 </td><td>103</td></tr><tr><td>24</td><td>Van Tuxwell</td><td>UK</td><td>7</td><td>Baker's Choco Chips</td><td>2022-03-24</td><td>$2,443 </td><td>20</td></tr><tr><td>2</td><td>Barr Faughny</td><td>Australia</td><td>8</td><td>Caramel Stuffed Bars</td><td>2022-07-29</td><td>$2,933 </td><td>55</td></tr><tr><td>8</td><td>Dennison Crosswaite</td><td>USA</td><td>11</td><td>Eclairs</td><td>2022-05-25</td><td>$2,044 </td><td>90</td></tr><tr><td>10</td><td>Gigi Bohling</td><td>Australia</td><td>19</td><td>Raspberry Choco</td><td>2022-03-30</td><td>$6,524 </td><td>303</td></tr><tr><td>8</td><td>Dennison Crosswaite</td><td>USA</td><td>17</td><td>Organic Choco Syrup</td><td>2022-07-18</td><td>$12,656 </td><td>126</td></tr><tr><td>3</td><td>Beverie Moffet</td><td>Canada</td><td>16</td><td>Orange Choco</td><td>2022-05-10</td><td>$8,722 </td><td>109</td></tr><tr><td>19</td><td>Mallorie Waber</td><td>Australia</td><td>9</td><td>Choco Coated Almonds</td><td>2022-03-18</td><td>$15,750 </td><td>92</td></tr><tr><td>6</td><td>Ches Bonnell</td><td>India</td><td>8</td><td>Caramel Stuffed Bars</td><td>2022-06-15</td><td>$6,839 </td><td>56</td></tr><tr><td>24</td><td>Van Tuxwell</td><td>Canada</td><td>1</td><td>50% Dark Bites</td><td>2022-05-12</td><td>$13,685 </td><td>58</td></tr><tr><td>17</td><td>Kelci Walkden</td><td>New Zealand</td><td>7</td><td>Baker's Choco Chips</td><td>2022-06-23</td><td>$2,912 </td><td>110</td></tr><tr><td>3</td><td>Beverie Moffet</td><td>India</td><td>21</td><td>Spicy Special Slims</td><td>2022-04-21</td><td>$3,339 </td><td>171</td></tr><tr><td>10</td><td>Gigi Bohling</td><td>Australia</td><td>6</td><td>Almond Choco</td><td>2022-08-17</td><td>$910 </td><td>117</td></tr><tr><td>22</td><td>Rafaelita Blaksland</td><td>New Zealand</td><td>11</td><td>Eclairs</td><td>2022-02-07</td><td>$19,481 </td><td>51</td></tr><tr><td>17</td><td>Kelci Walkden</td><td>Canada</td><td>20</td><td>Smooth Sliky Salty</td><td>2022-03-17</td><td>$8,099 </td><td>118</td></tr><tr><td>13</td><td>Jan Morforth</td><td>India</td><td>7</td><td>Baker's Choco Chips</td><td>2022-08-01</td><td>$13,727 </td><td>79</td></tr><tr><td>14</td><td>Jehu Rudeforth</td><td>Australia</td><td>14</td><td>Milk Bars</td><td>2022-03-18</td><td>$8,659 </td><td>29</td></tr><tr><td>10</td><td>Gigi Bohling</td><td>Canada</td><td>12</td><td>Fruit & Nut Bars</td><td>2022-06-14</td><td>$5,782 </td><td>103</td></tr><tr><td>3</td><td>Beverie Moffet</td><td>UK</td><td>11</td><td>Eclairs</td><td>2022-04-22</td><td>$8,463 </td><td>155</td></tr><tr><td>20</td><td>Marney O'Breen</td><td>New Zealand</td><td>11</td><td>Eclairs</td><td>2022-01-18</td><td>$4,914 </td><td>31</td></tr><tr><td>12</td><td>Husein Augar</td><td>Australia</td><td>4</td><td>99% Dark & Pure</td><td>2022-08-26</td><td>$3,087 </td><td>128</td></tr><tr><td>11</td><td>Gunar Cockshoot</td><td>New Zealand</td><td>12</td><td>Fruit & Nut Bars</td><td>2022-06-10</td><td>$9,205 </td><td>419</td></tr><tr><td>7</td><td>Curtice Advani</td><td>Canada</td><td>2</td><td>70% Dark Bites</td><td>2022-01-31</td><td>$2,303 </td><td>7</td></tr><tr><td>17</td><td>Kelci Walkden</td><td>New Zealand</td><td>13</td><td>Manuka Honey Choco</td><td>2022-04-08</td><td>$1,358 </td><td>106</td></tr><tr><td>9</td><td>Dotty Strutley</td><td>Australia</td><td>7</td><td>Baker's Choco Chips</td><td>2022-06-07</td><td>$3,605 </td><td>68</td></tr><tr><td>2</td><td>Barr Faughny</td><td>Australia</td><td>3</td><td>85% Dark Bars</td><td>2022-02-10</td><td>$8,498 </td><td>44</td></tr><tr><td>3</td><td>Beverie Moffet</td><td>Australia</td><td>1</td><td>50% Dark Bites</td><td>2022-05-16</td><td>$700 </td><td>457</td></tr><tr><td>11</td><td>Gunar Cockshoot</td><td>India</td><td>7</td><td>Baker's Choco Chips</td><td>2022-03-18</td><td>$2,191 </td><td>524</td></tr><tr><td>24</td><td>Van Tuxwell</td><td>Australia</td><td>1</td><td>50% Dark Bites</td><td>2022-07-13</td><td>$644 </td><td>137</td></tr><tr><td>21</td><td>Oby Sorrel</td><td>USA</td><td>13</td><td>Manuka Honey Choco</td><td>2022-07-25</td><td>$4,340 </td><td>86</td></tr><tr><td>24</td><td>Van Tuxwell</td><td>Canada</td><td>9</td><td>Choco Coated Almonds</td><td>2022-08-19</td><td>$2,282 </td><td>296</td></tr><tr><td>16</td><td>Karlen McCaffrey</td><td>Canada</td><td>2</td><td>70% Dark Bites</td><td>2022-06-24</td><td>$7,714 </td><td>597</td></tr><tr><td>17</td><td>Kelci Walkden</td><td>Canada</td><td>12</td><td>Fruit & Nut Bars</td><td>2022-06-20</td><td>$826 </td><td>149</td></tr><tr><td>5</td><td>Camilla Castle</td><td>India</td><td>4</td><td>99% Dark & Pure</td><td>2022-08-02</td><td>$203 </td><td>207</td></tr><tr><td>18</td><td>Madelene Upcott</td><td>New Zealand</td><td>2</td><td>70% Dark Bites</td><td>2022-02-22</td><td>$13,356 </td><td>93</td></tr><tr><td>19</td><td>Mallorie Waber</td><td>New Zealand</td><td>16</td><td>Orange Choco</td><td>2022-02-01</td><td>$6,510 </td><td>23</td></tr><tr><td>13</td><td>Jan Morforth</td><td>Canada</td><td>2</td><td>70% Dark Bites</td><td>2022-02-14</td><td>$5,894 </td><td>305</td></tr><tr><td>17</td><td>Kelci Walkden</td><td>Australia</td><td>14</td><td>Milk Bars</td><td>2022-02-24</td><td>$7,910 </td><td>125</td></tr><tr><td>8</td><td>Dennison Crosswaite</td><td>India</td><td>16</td><td>Orange Choco</td><td>2022-03-18</td><td>$784 </td><td>129</td></tr><tr><td>12</td><td>Husein Augar</td><td>UK</td><td>11</td><td>Eclairs</td><td>2022-08-30</td><td>$1,750 </td><td>252</td></tr><tr><td>10</td><td>Gigi Bohling</td><td>USA</td><td>18</td><td>Peanut Butter Cubes</td><td>2022-05-09</td><td>$280 </td><td>75</td></tr><tr><td>25</td><td>Wilone O'Kielt</td><td>USA</td><td>20</td><td>Smooth Sliky Salty</td><td>2022-01-18</td><td>$504 </td><td>87</td></tr><tr><td>7</td><td>Curtice Advani</td><td>India</td><td>22</td><td>White Choc</td><td>2022-07-04</td><td>$7,154 </td><td>342</td></tr><tr><td>21</td><td>Oby Sorrel</td><td>New Zealand</td><td>21</td><td>Spicy Special Slims</td><td>2022-06-03</td><td>$1,617 </td><td>13</td></tr><tr><td>3</td><td>Beverie Moffet</td><td>New Zealand</td><td>18</td><td>Peanut Butter Cubes</td><td>2022-02-23</td><td>$10,822 </td><td>30</td></tr><tr><td>9</td><td>Dotty Strutley</td><td>New Zealand</td><td>4</td><td>99% Dark & Pure</td><td>2022-05-09</td><td>$10,724 </td><td>203</td></tr><tr><td>17</td><td>Kelci Walkden</td><td>India</td><td>2</td><td>70% Dark Bites</td><td>2022-06-06</td><td>$3,640 </td><td>106</td></tr><tr><td>17</td><td>Kelci Walkden</td><td>India</td><td>10</td><td>Drinking Coco</td><td>2022-07-04</td><td>$7,532 </td><td>234</td></tr><tr><td>4</td><td>Brien Boise</td><td>New Zealand</td><td>10</td><td>Drinking Coco</td><td>2022-06-06</td><td>$1,582 </td><td>100</td></tr><tr><td>9</td><td>Dotty Strutley</td><td>Australia</td><td>6</td><td>Almond Choco</td><td>2022-05-13</td><td>$1,456 </td><td>91</td></tr><tr><td>25</td><td>Wilone O'Kielt</td><td>New Zealand</td><td>17</td><td>Organic Choco Syrup</td><td>2022-01-31</td><td>$2,016 </td><td>277</td></tr><tr><td>6</td><td>Ches Bonnell</td><td>New Zealand</td><td>8</td><td>Caramel Stuffed Bars</td><td>2022-06-30</td><td>$7,588 </td><td>42</td></tr><tr><td>2</td><td>Barr Faughny</td><td>Canada</td><td>13</td><td>Manuka Honey Choco</td><td>2022-08-25</td><td>$3,402 </td><td>249</td></tr><tr><td>10</td><td>Gigi Bohling</td><td>New Zealand</td><td>20</td><td>Smooth Sliky Salty</td><td>2022-01-10</td><td>$700 </td><td>97</td></tr><tr><td>4</td><td>Brien Boise</td><td>USA</td><td>13</td><td>Manuka Honey Choco</td><td>2022-08-22</td><td>$1,904 </td><td>8</td></tr><tr><td>23</td><td>Roddy Speechley</td><td>New Zealand</td><td>3</td><td>85% Dark Bars</td><td>2022-04-14</td><td>$4,844 </td><td>275</td></tr><tr><td>21</td><td>Oby Sorrel</td><td>UK</td><td>20</td><td>Smooth Sliky Salty</td><td>2022-05-31</td><td>$9,625 </td><td>313</td></tr><tr><td>21</td><td>Oby Sorrel</td><td>UK</td><td>19</td><td>Raspberry Choco</td><td>2022-04-08</td><td>$4,599 </td><td>323</td></tr><tr><td>23</td><td>Roddy Speechley</td><td>USA</td><td>10</td><td>Drinking Coco</td><td>2022-02-21</td><td>$3,003 </td><td>155</td></tr><tr><td>1</td><td>Andria Kimpton</td><td>Australia</td><td>13</td><td>Manuka Honey Choco</td><td>2022-03-30</td><td>$9,744 </td><td>377</td></tr><tr><td>19</td><td>Mallorie Waber</td><td>India</td><td>19</td><td>Raspberry Choco</td><td>2022-03-02</td><td>$1,400 </td><td>2</td></tr><tr><td>14</td><td>Jehu Rudeforth</td><td>USA</td><td>16</td><td>Orange Choco</td><td>2022-07-28</td><td>$364 </td><td>170</td></tr><tr><td>15</td><td>Kaine Padly</td><td>New Zealand</td><td>2</td><td>70% Dark Bites</td><td>2022-03-24</td><td>$7,231 </td><td>38</td></tr><tr><td>7</td><td>Curtice Advani</td><td>Australia</td><td>5</td><td>After Nines</td><td>2022-08-11</td><td>$63 </td><td>105</td></tr><tr><td>12</td><td>Husein Augar</td><td>UK</td><td>6</td><td>Almond Choco</td><td>2022-05-17</td><td>$8,309 </td><td>166</td></tr><tr><td>15</td><td>Kaine Padly</td><td>Canada</td><td>9</td><td>Choco Coated Almonds</td><td>2022-05-18</td><td>$3,164 </td><td>164</td></tr><tr><td>23</td><td>Roddy Speechley</td><td>UK</td><td>18</td><td>Peanut Butter Cubes</td><td>2022-08-17</td><td>$5,691 </td><td>171</td></tr><tr><td>6</td><td>Ches Bonnell</td><td>New Zealand</td><td>11</td><td>Eclairs</td><td>2022-04-04</td><td>$490 </td><td>49</td></tr><tr><td>4</td><td>Brien Boise</td><td>India</td><td>3</td><td>85% Dark Bars</td><td>2022-08-09</td><td>$18,032 </td><td>205</td></tr><tr><td>4</td><td>Brien Boise</td><td>New Zealand</td><td>17</td><td>Organic Choco Syrup</td><td>2022-01-17</td><td>$637 </td><td>313</td></tr><tr><td>1</td><td>Andria Kimpton</td><td>Canada</td><td>22</td><td>White Choc</td><td>2022-02-14</td><td>$4,067 </td><td>29</td></tr><tr><td>10</td><td>Gigi Bohling</td><td>New Zealand</td><td>16</td><td>Orange Choco</td><td>2022-05-16</td><td>$8,204 </td><td>307</td></tr><tr><td>6</td><td>Ches Bonnell</td><td>Canada</td><td>20</td><td>Smooth Sliky Salty</td><td>2022-03-16</td><td>$9,870 </td><td>121</td></tr><tr><td>12</td><td>Husein Augar</td><td>Canada</td><td>2</td><td>70% Dark Bites</td><td>2022-01-31</td><td>$5,131 </td><td>285</td></tr><tr><td>2</td><td>Barr Faughny</td><td>Canada</td><td>17</td><td>Organic Choco Syrup</td><td>2022-03-10</td><td>$1,141 </td><td>205</td></tr><tr><td>21</td><td>Oby Sorrel</td><td>UK</td><td>17</td><td>Organic Choco Syrup</td><td>2022-06-30</td><td>$7,980 </td><td>157</td></tr><tr><td>24</td><td>Van Tuxwell</td><td>New Zealand</td><td>11</td><td>Eclairs</td><td>2022-03-01</td><td>$5,229 </td><td>182</td></tr><tr><td>19</td><td>Mallorie Waber</td><td>UK</td><td>10</td><td>Drinking Coco</td><td>2022-05-27</td><td>$3,423 </td><td>100</td></tr><tr><td>21</td><td>Oby Sorrel</td><td>UK</td><td>14</td><td>Milk Bars</td><td>2022-07-11</td><td>$6,468 </td><td>223</td></tr><tr><td>16</td><td>Karlen McCaffrey</td><td>New Zealand</td><td>15</td><td>Mint Chip Choco</td><td>2022-03-02</td><td>$4,326 </td><td>61</td></tr><tr><td>14</td><td>Jehu Rudeforth</td><td>USA</td><td>19</td><td>Raspberry Choco</td><td>2022-03-04</td><td>$7,154 </td><td>133</td></tr><tr><td>17</td><td>Kelci Walkden</td><td>UK</td><td>3</td><td>85% Dark Bars</td><td>2022-06-23</td><td>$3,997 </td><td>228</td></tr><tr><td>17</td><td>Kelci Walkden</td><td>USA</td><td>6</td><td>Almond Choco</td><td>2022-01-27</td><td>$5,180 </td><td>233</td></tr><tr><td>20</td><td>Marney O'Breen</td><td>Canada</td><td>16</td><td>Orange Choco</td><td>2022-01-14</td><td>$2,723 </td><td>425</td></tr><tr><td>8</td><td>Dennison Crosswaite</td><td>India</td><td>12</td><td>Fruit & Nut Bars</td><td>2022-07-29</td><td>$952 </td><td>24</td></tr><tr><td>4</td><td>Brien Boise</td><td>Canada</td><td>20</td><td>Smooth Sliky Salty</td><td>2022-05-13</td><td>$5,691 </td><td>495</td></tr><tr><td>2</td><td>Barr Faughny</td><td>Canada</td><td>7</td><td>Baker's Choco Chips</td><td>2022-02-03</td><td>$10,969 </td><td>170</td></tr><tr><td>4</td><td>Brien Boise</td><td>India</td><td>20</td><td>Smooth Sliky Salty</td><td>2022-05-27</td><td>$5,964 </td><td>26</td></tr><tr><td>13</td><td>Jan Morforth</td><td>Australia</td><td>10</td><td>Drinking Coco</td><td>2022-02-18</td><td>$2,821 </td><td>24</td></tr><tr><td>4</td><td>Brien Boise</td><td>India</td><td>21</td><td>Spicy Special Slims</td><td>2022-01-28</td><td>$1,302 </td><td>33</td></tr><tr><td>24</td><td>Van Tuxwell</td><td>UK</td><td>11</td><td>Eclairs</td><td>2022-06-29</td><td>$5,474 </td><td>109</td></tr><tr><td>25</td><td>Wilone O'Kielt</td><td>India</td><td>8</td><td>Caramel Stuffed Bars</td><td>2022-01-13</td><td>$4,179 </td><td>276</td></tr><tr><td>14</td><td>Jehu Rudeforth</td><td>UK</td><td>5</td><td>After Nines</td><td>2022-06-27</td><td>$1,946 </td><td>164</td></tr><tr><td>2</td><td>Barr Faughny</td><td>Canada</td><td>22</td><td>White Choc</td><td>2022-03-29</td><td>$4,291 </td><td>1</td></tr><tr><td>11</td><td>Gunar Cockshoot</td><td>India</td><td>17</td><td>Organic Choco Syrup</td><td>2022-06-03</td><td>$7,196 </td><td>160</td></tr><tr><td>19</td><td>Mallorie Waber</td><td>Canada</td><td>20</td><td>Smooth Sliky Salty</td><td>2022-03-21</td><td>$1,939 </td><td>98</td></tr><tr><td>19</td><td>Mallorie Waber</td><td>India</td><td>11</td><td>Eclairs</td><td>2022-04-12</td><td>$10,437 </td><td>46</td></tr><tr><td>22</td><td>Rafaelita Blaksland</td><td>Australia</td><td>19</td><td>Raspberry Choco</td><td>2022-01-19</td><td>$6,916 </td><td>259</td></tr><tr><td>16</td><td>Karlen McCaffrey</td><td>UK</td><td>1</td><td>50% Dark Bites</td><td>2022-04-06</td><td>$3,647 </td><td>310</td></tr><tr><td>15</td><td>Kaine Padly</td><td>Australia</td><td>1</td><td>50% Dark Bites</td><td>2022-08-02</td><td>$8,995 </td><td>78</td></tr><tr><td>10</td><td>Gigi Bohling</td><td>Australia</td><td>11</td><td>Eclairs</td><td>2022-04-12</td><td>$7,252 </td><td>136</td></tr><tr><td>21</td><td>Oby Sorrel</td><td>India</td><td>10</td><td>Drinking Coco</td><td>2022-07-21</td><td>$16,380 </td><td>130</td></tr><tr><td>24</td><td>Van Tuxwell</td><td>New Zealand</td><td>7</td><td>Baker's Choco Chips</td><td>2022-03-22</td><td>$9,660 </td><td>24</td></tr><tr><td>12</td><td>Husein Augar</td><td>India</td><td>18</td><td>Peanut Butter Cubes</td><td>2022-05-09</td><td>$4,522 </td><td>5</td></tr><tr><td>1</td><td>Andria Kimpton</td><td>Australia</td><td>7</td><td>Baker's Choco Chips</td><td>2022-08-09</td><td>$329 </td><td>109</td></tr><tr><td>18</td><td>Madelene Upcott</td><td>Canada</td><td>9</td><td>Choco Coated Almonds</td><td>2022-07-20</td><td>$3,458 </td><td>294</td></tr><tr><td>4</td><td>Brien Boise</td><td>India</td><td>2</td><td>70% Dark Bites</td><td>2022-04-14</td><td>$4,641 </td><td>413</td></tr><tr><td>14</td><td>Jehu Rudeforth</td><td>Canada</td><td>22</td><td>White Choc</td><td>2022-01-25</td><td>$4,627 </td><td>136</td></tr><tr><td>1</td><td>Andria Kimpton</td><td>Australia</td><td>6</td><td>Almond Choco</td><td>2022-04-25</td><td>$3,192 </td><td>175</td></tr><tr><td>9</td><td>Dotty Strutley</td><td>Canada</td><td>5</td><td>After Nines</td><td>2022-01-17</td><td>$252 </td><td>237</td></tr><tr><td>16</td><td>Karlen McCaffrey</td><td>USA</td><td>11</td><td>Eclairs</td><td>2022-08-15</td><td>$868 </td><td>125</td></tr><tr><td>16</td><td>Karlen McCaffrey</td><td>Canada</td><td>12</td><td>Fruit & Nut Bars</td><td>2022-06-02</td><td>$210 </td><td>16</td></tr><tr><td>11</td><td>Gunar Cockshoot</td><td>USA</td><td>3</td><td>85% Dark Bars</td><td>2022-06-30</td><td>$7,007 </td><td>135</td></tr><tr><td>9</td><td>Dotty Strutley</td><td>New Zealand</td><td>19</td><td>Raspberry Choco</td><td>2022-02-10</td><td>$5,845 </td><td>91</td></tr><tr><td>20</td><td>Marney O'Breen</td><td>Canada</td><td>8</td><td>Caramel Stuffed Bars</td><td>2022-02-23</td><td>$1,372 </td><td>614</td></tr><tr><td>8</td><td>Dennison Crosswaite</td><td>India</td><td>17</td><td>Organic Choco Syrup</td><td>2022-01-27</td><td>$8,428 </td><td>216</td></tr><tr><td>5</td><td>Camilla Castle</td><td>UK</td><td>15</td><td>Mint Chip Choco</td><td>2022-05-26</td><td>$4,977 </td><td>317</td></tr><tr><td>4</td><td>Brien Boise</td><td>USA</td><td>2</td><td>70% Dark Bites</td><td>2022-04-14</td><td>$1,694 </td><td>21</td></tr><tr><td>18</td><td>Madelene Upcott</td><td>Australia</td><td>4</td><td>99% Dark & Pure</td><td>2022-08-01</td><td>$4,326 </td><td>154</td></tr><tr><td>19</td><td>Mallorie Waber</td><td>Australia</td><td>11</td><td>Eclairs</td><td>2022-08-22</td><td>$9,527 </td><td>222</td></tr><tr><td>20</td><td>Marney O'Breen</td><td>India</td><td>4</td><td>99% Dark & Pure</td><td>2022-07-22</td><td>$10,766 </td><td>157</td></tr><tr><td>12</td><td>Husein Augar</td><td>USA</td><td>12</td><td>Fruit & Nut Bars</td><td>2022-04-28</td><td>$1,288 </td><td>27</td></tr><tr><td>17</td><td>Kelci Walkden</td><td>Australia</td><td>6</td><td>Almond Choco</td><td>2022-05-30</td><td>$4,879 </td><td>350</td></tr><tr><td>6</td><td>Ches Bonnell</td><td>USA</td><td>14</td><td>Milk Bars</td><td>2022-07-21</td><td>$2,408 </td><td>157</td></tr><tr><td>13</td><td>Jan Morforth</td><td>UK</td><td>8</td><td>Caramel Stuffed Bars</td><td>2022-08-02</td><td>$3,094 </td><td>468</td></tr><tr><td>4</td><td>Brien Boise</td><td>New Zealand</td><td>2</td><td>70% Dark Bites</td><td>2022-06-15</td><td>$7,231 </td><td>130</td></tr><tr><td>21</td><td>Oby Sorrel</td><td>India</td><td>3</td><td>85% Dark Bars</td><td>2022-07-05</td><td>$8,981 </td><td>130</td></tr><tr><td>15</td><td>Kaine Padly</td><td>New Zealand</td><td>20</td><td>Smooth Sliky Salty</td><td>2022-04-12</td><td>$7 </td><td>518</td></tr><tr><td>10</td><td>Gigi Bohling</td><td>Australia</td><td>2</td><td>70% Dark Bites</td><td>2022-08-18</td><td>$1,372 </td><td>105</td></tr><tr><td>13</td><td>Jan Morforth</td><td>UK</td><td>1</td><td>50% Dark Bites</td><td>2022-01-12</td><td>$5,250 </td><td>293</td></tr><tr><td>11</td><td>Gunar Cockshoot</td><td>Canada</td><td>22</td><td>White Choc</td><td>2022-08-11</td><td>$7,560 </td><td>15</td></tr><tr><td>14</td><td>Jehu Rudeforth</td><td>Australia</td><td>21</td><td>Spicy Special Slims</td><td>2022-01-13</td><td>$5,012 </td><td>384</td></tr><tr><td>12</td><td>Husein Augar</td><td>UK</td><td>7</td><td>Baker's Choco Chips</td><td>2022-04-29</td><td>$3,038 </td><td>135</td></tr><tr><td>22</td><td>Rafaelita Blaksland</td><td>New Zealand</td><td>5</td><td>After Nines</td><td>2022-07-07</td><td>$1,099 </td><td>92</td></tr><tr><td>18</td><td>Madelene Upcott</td><td>New Zealand</td><td>15</td><td>Mint Chip Choco</td><td>2022-03-11</td><td>$7,413 </td><td>4</td></tr><tr><td>18</td><td>Madelene Upcott</td><td>UK</td><td>2</td><td>70% Dark Bites</td><td>2022-02-16</td><td>$5,397 </td><td>239</td></tr><tr><td>2</td><td>Barr Faughny</td><td>Australia</td><td>17</td><td>Organic Choco Syrup</td><td>2022-01-07</td><td>$2,303 </td><td>33</td></tr><tr><td>3</td><td>Beverie Moffet</td><td>New Zealand</td><td>10</td><td>Drinking Coco</td><td>2022-01-12</td><td>$1,141 </td><td>518</td></tr><tr><td>3</td><td>Beverie Moffet</td><td>India</td><td>11</td><td>Eclairs</td><td>2022-06-09</td><td>$10,325 </td><td>147</td></tr><tr><td>1</td><td>Andria Kimpton</td><td>India</td><td>11</td><td>Eclairs</td><td>2022-05-16</td><td>$2,149 </td><td>84</td></tr><tr><td>10</td><td>Gigi Bohling</td><td>UK</td><td>3</td><td>85% Dark Bars</td><td>2022-06-23</td><td>$12,362 </td><td>94</td></tr><tr><td>23</td><td>Roddy Speechley</td><td>UK</td><td>19</td><td>Raspberry Choco</td><td>2022-01-28</td><td>$12,635 </td><td>194</td></tr><tr><td>9</td><td>Dotty Strutley</td><td>UK</td><td>15</td><td>Mint Chip Choco</td><td>2022-07-14</td><td>$2,443 </td><td>216</td></tr><tr><td>2</td><td>Barr Faughny</td><td>Canada</td><td>10</td><td>Drinking Coco</td><td>2022-04-18</td><td>$6,237 </td><td>247</td></tr><tr><td>21</td><td>Oby Sorrel</td><td>USA</td><td>14</td><td>Milk Bars</td><td>2022-06-14</td><td>$1,736 </td><td>79</td></tr><tr><td>21</td><td>Oby Sorrel</td><td>UK</td><td>16</td><td>Orange Choco</td><td>2022-04-15</td><td>$7,315 </td><td>237</td></tr><tr><td>7</td><td>Curtice Advani</td><td>Canada</td><td>18</td><td>Peanut Butter Cubes</td><td>2022-05-19</td><td>$4,935 </td><td>63</td></tr><tr><td>10</td><td>Gigi Bohling</td><td>India</td><td>22</td><td>White Choc</td><td>2022-04-13</td><td>$1,393 </td><td>172</td></tr><tr><td>12</td><td>Husein Augar</td><td>Canada</td><td>9</td><td>Choco Coated Almonds</td><td>2022-08-15</td><td>$3,381 </td><td>408</td></tr><tr><td>25</td><td>Wilone O'Kielt</td><td>India</td><td>9</td><td>Choco Coated Almonds</td><td>2022-08-22</td><td>$2,933 </td><td>233</td></tr><tr><td>25</td><td>Wilone O'Kielt</td><td>New Zealand</td><td>7</td><td>Baker's Choco Chips</td><td>2022-04-22</td><td>$3,836 </td><td>59</td></tr><tr><td>15</td><td>Kaine Padly</td><td>UK</td><td>9</td><td>Choco Coated Almonds</td><td>2022-08-03</td><td>$8,022 </td><td>123</td></tr><tr><td>8</td><td>Dennison Crosswaite</td><td>New Zealand</td><td>17</td><td>Organic Choco Syrup</td><td>2022-01-04</td><td>$371 </td><td>229</td></tr><tr><td>17</td><td>Kelci Walkden</td><td>Canada</td><td>5</td><td>After Nines</td><td>2022-01-13</td><td>$16,702 </td><td>198</td></tr><tr><td>24</td><td>Van Tuxwell</td><td>Australia</td><td>7</td><td>Baker's Choco Chips</td><td>2022-05-11</td><td>$13,258 </td><td>32</td></tr><tr><td>12</td><td>Husein Augar</td><td>New Zealand</td><td>18</td><td>Peanut Butter Cubes</td><td>2022-02-16</td><td>$2,058 </td><td>236</td></tr><tr><td>15</td><td>Kaine Padly</td><td>UK</td><td>8</td><td>Caramel Stuffed Bars</td><td>2022-05-20</td><td>$10,192 </td><td>67</td></tr><tr><td>14</td><td>Jehu Rudeforth</td><td>UK</td><td>10</td><td>Drinking Coco</td><td>2022-02-03</td><td>$7,140 </td><td>438</td></tr><tr><td>3</td><td>Beverie Moffet</td><td>India</td><td>13</td><td>Manuka Honey Choco</td><td>2022-05-06</td><td>$9,835 </td><td>167</td></tr><tr><td>11</td><td>Gunar Cockshoot</td><td>UK</td><td>9</td><td>Choco Coated Almonds</td><td>2022-06-30</td><td>$5,775 </td><td>135</td></tr><tr><td>11</td><td>Gunar Cockshoot</td><td>UK</td><td>20</td><td>Smooth Sliky Salty</td><td>2022-03-22</td><td>$749 </td><td>148</td></tr><tr><td>5</td><td>Camilla Castle</td><td>Canada</td><td>16</td><td>Orange Choco</td><td>2022-02-17</td><td>$7,770 </td><td>54</td></tr><tr><td>14</td><td>Jehu Rudeforth</td><td>UK</td><td>3</td><td>85% Dark Bars</td><td>2022-07-07</td><td>$5,502 </td><td>64</td></tr><tr><td>21</td><td>Oby Sorrel</td><td>UK</td><td>2</td><td>70% Dark Bites</td><td>2022-03-16</td><td>$6,223 </td><td>181</td></tr><tr><td>17</td><td>Kelci Walkden</td><td>UK</td><td>4</td><td>99% Dark & Pure</td><td>2022-08-12</td><td>$3,507 </td><td>114</td></tr><tr><td>10</td><td>Gigi Bohling</td><td>New Zealand</td><td>5</td><td>After Nines</td><td>2022-01-21</td><td>$5,600 </td><td>181</td></tr><tr><td>21</td><td>Oby Sorrel</td><td>Australia</td><td>1</td><td>50% Dark Bites</td><td>2022-05-06</td><td>$721 </td><td>151</td></tr><tr><td>21</td><td>Oby Sorrel</td><td>Canada</td><td>1</td><td>50% Dark Bites</td><td>2022-06-24</td><td>$6,615 </td><td>137</td></tr><tr><td>2</td><td>Barr Faughny</td><td>USA</td><td>22</td><td>White Choc</td><td>2022-05-05</td><td>$7,420 </td><td>163</td></tr><tr><td>22</td><td>Rafaelita Blaksland</td><td>New Zealand</td><td>4</td><td>99% Dark & Pure</td><td>2022-03-25</td><td>$3,164 </td><td>84</td></tr><tr><td>7</td><td>Curtice Advani</td><td>Australia</td><td>8</td><td>Caramel Stuffed Bars</td><td>2022-02-14</td><td>$9,114 </td><td>140</td></tr><tr><td>7</td><td>Curtice Advani</td><td>New Zealand</td><td>3</td><td>85% Dark Bars</td><td>2022-05-12</td><td>$5,404 </td><td>187</td></tr><tr><td>2</td><td>Barr Faughny</td><td>New Zealand</td><td>20</td><td>Smooth Sliky Salty</td><td>2022-01-25</td><td>$3,990 </td><td>169</td></tr><tr><td>6</td><td>Ches Bonnell</td><td>UK</td><td>3</td><td>85% Dark Bars</td><td>2022-06-28</td><td>$14,924 </td><td>12</td></tr><tr><td>8</td><td>Dennison Crosswaite</td><td>Australia</td><td>10</td><td>Drinking Coco</td><td>2022-07-13</td><td>$7,091 </td><td>194</td></tr><tr><td>23</td><td>Roddy Speechley</td><td>USA</td><td>14</td><td>Milk Bars</td><td>2022-05-16</td><td>$2,807 </td><td>252</td></tr><tr><td>13</td><td>Jan Morforth</td><td>India</td><td>5</td><td>After Nines</td><td>2022-03-14</td><td>$6,496 </td><td>168</td></tr><tr><td>11</td><td>Gunar Cockshoot</td><td>USA</td><td>5</td><td>After Nines</td><td>2022-08-15</td><td>$3,738 </td><td>261</td></tr><tr><td>6</td><td>Ches Bonnell</td><td>India</td><td>16</td><td>Orange Choco</td><td>2022-02-16</td><td>$1,190 </td><td>256</td></tr><tr><td>19</td><td>Mallorie Waber</td><td>UK</td><td>13</td><td>Manuka Honey Choco</td><td>2022-06-15</td><td>$8,379 </td><td>43</td></tr><tr><td>2</td><td>Barr Faughny</td><td>Australia</td><td>19</td><td>Raspberry Choco</td><td>2022-05-27</td><td>$9,268 </td><td>100</td></tr><tr><td>25</td><td>Wilone O'Kielt</td><td>USA</td><td>10</td><td>Drinking Coco</td><td>2022-06-14</td><td>$1,029 </td><td>98</td></tr><tr><td>25</td><td>Wilone O'Kielt</td><td>India</td><td>11</td><td>Eclairs</td><td>2022-02-25</td><td>$3,549 </td><td>76</td></tr><tr><td>25</td><td>Wilone O'Kielt</td><td>India</td><td>5</td><td>After Nines</td><td>2022-08-04</td><td>$12,026 </td><td>262</td></tr><tr><td>17</td><td>Kelci Walkden</td><td>India</td><td>4</td><td>99% Dark & Pure</td><td>2022-06-28</td><td>$2,303 </td><td>244</td></tr><tr><td>11</td><td>Gunar Cockshoot</td><td>Canada</td><td>21</td><td>Spicy Special Slims</td><td>2022-04-05</td><td>$13,405 </td><td>12</td></tr><tr><td>18</td><td>Madelene Upcott</td><td>Canada</td><td>18</td><td>Peanut Butter Cubes</td><td>2022-07-05</td><td>$14,763 </td><td>113</td></tr><tr><td>15</td><td>Kaine Padly</td><td>New Zealand</td><td>11</td><td>Eclairs</td><td>2022-01-20</td><td>$12,894 </td><td>48</td></tr><tr><td>6</td><td>Ches Bonnell</td><td>New Zealand</td><td>10</td><td>Drinking Coco</td><td>2022-02-16</td><td>$8,302 </td><td>131</td></tr><tr><td>7</td><td>Curtice Advani</td><td>UK</td><td>10</td><td>Drinking Coco</td><td>2022-07-12</td><td>$455 </td><td>174</td></tr><tr><td>17</td><td>Kelci Walkden</td><td>India</td><td>19</td><td>Raspberry Choco</td><td>2022-06-16</td><td>$8,183 </td><td>254</td></tr><tr><td>9</td><td>Dotty Strutley</td><td>Australia</td><td>9</td><td>Choco Coated Almonds</td><td>2022-04-13</td><td>$1,645 </td><td>284</td></tr><tr><td>15</td><td>Kaine Padly</td><td>UK</td><td>1</td><td>50% Dark Bites</td><td>2022-02-21</td><td>$3,143 </td><td>67</td></tr><tr><td>23</td><td>Roddy Speechley</td><td>Canada</td><td>9</td><td>Choco Coated Almonds</td><td>2022-05-11</td><td>$5,873 </td><td>249</td></tr><tr><td>6</td><td>Ches Bonnell</td><td>India</td><td>1</td><td>50% Dark Bites</td><td>2022-04-15</td><td>$11,298 </td><td>313</td></tr><tr><td>21</td><td>Oby Sorrel</td><td>Canada</td><td>18</td><td>Peanut Butter Cubes</td><td>2022-06-07</td><td>$12,425 </td><td>167</td></tr><tr><td>21</td><td>Oby Sorrel</td><td>UK</td><td>22</td><td>White Choc</td><td>2022-06-27</td><td>$1,715 </td><td>286</td></tr><tr><td>2</td><td>Barr Faughny</td><td>India</td><td>5</td><td>After Nines</td><td>2022-07-29</td><td>$8,190 </td><td>109</td></tr><tr><td>25</td><td>Wilone O'Kielt</td><td>Canada</td><td>20</td><td>Smooth Sliky Salty</td><td>2022-06-02</td><td>$4,991 </td><td>166</td></tr><tr><td>22</td><td>Rafaelita Blaksland</td><td>India</td><td>15</td><td>Mint Chip Choco</td><td>2022-01-26</td><td>$15,491 </td><td>85</td></tr><tr><td>22</td><td>Rafaelita Blaksland</td><td>Canada</td><td>4</td><td>99% Dark & Pure</td><td>2022-03-02</td><td>$5,096 </td><td>142</td></tr><tr><td>24</td><td>Van Tuxwell</td><td>Australia</td><td>2</td><td>70% Dark Bites</td><td>2022-01-10</td><td>$7,063 </td><td>104</td></tr><tr><td>3</td><td>Beverie Moffet</td><td>USA</td><td>2</td><td>70% Dark Bites</td><td>2022-06-27</td><td>$2,275 </td><td>115</td></tr><tr><td>2</td><td>Barr Faughny</td><td>Canada</td><td>16</td><td>Orange Choco</td><td>2022-06-30</td><td>$7,602 </td><td>18</td></tr><tr><td>23</td><td>Roddy Speechley</td><td>Australia</td><td>3</td><td>85% Dark Bars</td><td>2022-07-08</td><td>$4,200 </td><td>80</td></tr><tr><td>21</td><td>Oby Sorrel</td><td>India</td><td>21</td><td>Spicy Special Slims</td><td>2022-06-08</td><td>$11,137 </td><td>88</td></tr><tr><td>13</td><td>Jan Morforth</td><td>UK</td><td>13</td><td>Manuka Honey Choco</td><td>2022-08-18</td><td>$3,388 </td><td>212</td></tr><tr><td>15</td><td>Kaine Padly</td><td>Australia</td><td>5</td><td>After Nines</td><td>2022-04-08</td><td>$6,832 </td><td>306</td></tr><tr><td>25</td><td>Wilone O'Kielt</td><td>Canada</td><td>12</td><td>Fruit & Nut Bars</td><td>2022-08-08</td><td>$3,437 </td><td>181</td></tr><tr><td>25</td><td>Wilone O'Kielt</td><td>UK</td><td>14</td><td>Milk Bars</td><td>2022-08-26</td><td>$301 </td><td>65</td></tr><tr><td>21</td><td>Oby Sorrel</td><td>Canada</td><td>12</td><td>Fruit & Nut Bars</td><td>2022-01-14</td><td>$1,869 </td><td>158</td></tr><tr><td>8</td><td>Dennison Crosswaite</td><td>USA</td><td>7</td><td>Baker's Choco Chips</td><td>2022-08-11</td><td>$17,465 </td><td>271</td></tr><tr><td>18</td><td>Madelene Upcott</td><td>USA</td><td>6</td><td>Almond Choco</td><td>2022-05-31</td><td>$10,143 </td><td>24</td></tr><tr><td>24</td><td>Van Tuxwell</td><td>New Zealand</td><td>1</td><td>50% Dark Bites</td><td>2022-07-11</td><td>$3,626 </td><td>10</td></tr><tr><td>16</td><td>Karlen McCaffrey</td><td>Canada</td><td>8</td><td>Caramel Stuffed Bars</td><td>2022-03-02</td><td>$3,346 </td><td>304</td></tr><tr><td>18</td><td>Madelene Upcott</td><td>Australia</td><td>19</td><td>Raspberry Choco</td><td>2022-07-13</td><td>$6,321 </td><td>88</td></tr><tr><td>22</td><td>Rafaelita Blaksland</td><td>UK</td><td>21</td><td>Spicy Special Slims</td><td>2022-08-03</td><td>$9,345 </td><td>133</td></tr><tr><td>7</td><td>Curtice Advani</td><td>UK</td><td>18</td><td>Peanut Butter Cubes</td><td>2022-03-01</td><td>$15,008 </td><td>165</td></tr><tr><td>17</td><td>Kelci Walkden</td><td>New Zealand</td><td>22</td><td>White Choc</td><td>2022-04-13</td><td>$7,609 </td><td>150</td></tr><tr><td>3</td><td>Beverie Moffet</td><td>Canada</td><td>12</td><td>Fruit & Nut Bars</td><td>2022-02-14</td><td>$10,332 </td><td>180</td></tr><tr><td>19</td><td>Mallorie Waber</td><td>India</td><td>22</td><td>White Choc</td><td>2022-07-26</td><td>$819 </td><td>213</td></tr><tr><td>4</td><td>Brien Boise</td><td>UK</td><td>10</td><td>Drinking Coco</td><td>2022-01-27</td><td>$5,754 </td><td>133</td></tr><tr><td>14</td><td>Jehu Rudeforth</td><td>India</td><td>18</td><td>Peanut Butter Cubes</td><td>2022-04-14</td><td>$28 </td><td>446</td></tr><tr><td>21</td><td>Oby Sorrel</td><td>USA</td><td>6</td><td>Almond Choco</td><td>2022-05-19</td><td>$6,440 </td><td>141</td></tr><tr><td>12</td><td>Husein Augar</td><td>India</td><td>11</td><td>Eclairs</td><td>2022-02-09</td><td>$4,956 </td><td>58</td></tr><tr><td>4</td><td>Brien Boise</td><td>UK</td><td>21</td><td>Spicy Special Slims</td><td>2022-05-25</td><td>$2,352 </td><td>58</td></tr><tr><td>21</td><td>Oby Sorrel</td><td>Australia</td><td>13</td><td>Manuka Honey Choco</td><td>2022-01-26</td><td>$3,906 </td><td>76</td></tr><tr><td>3</td><td>Beverie Moffet</td><td>India</td><td>22</td><td>White Choc</td><td>2022-07-04</td><td>$1,813 </td><td>296</td></tr><tr><td>6</td><td>Ches Bonnell</td><td>India</td><td>6</td><td>Almond Choco</td><td>2022-04-13</td><td>$11,788 </td><td>73</td></tr><tr><td>10</td><td>Gigi Bohling</td><td>Australia</td><td>20</td><td>Smooth Sliky Salty</td><td>2022-01-25</td><td>$5,768 </td><td>119</td></tr><tr><td>5</td><td>Camilla Castle</td><td>USA</td><td>3</td><td>85% Dark Bars</td><td>2022-04-25</td><td>$2,401 </td><td>78</td></tr><tr><td>5</td><td>Camilla Castle</td><td>USA</td><td>11</td><td>Eclairs</td><td>2022-06-10</td><td>$4,515 </td><td>392</td></tr><tr><td>18</td><td>Madelene Upcott</td><td>New Zealand</td><td>22</td><td>White Choc</td><td>2022-08-22</td><td>$10,794 </td><td>51</td></tr><tr><td>24</td><td>Van Tuxwell</td><td>India</td><td>5</td><td>After Nines</td><td>2022-06-27</td><td>$13,706 </td><td>207</td></tr><tr><td>12</td><td>Husein Augar</td><td>India</td><td>16</td><td>Orange Choco</td><td>2022-06-30</td><td>$4,361 </td><td>40</td></tr><tr><td>14</td><td>Jehu Rudeforth</td><td>India</td><td>6</td><td>Almond Choco</td><td>2022-08-30</td><td>$10,122 </td><td>100</td></tr><tr><td>16</td><td>Karlen McCaffrey</td><td>Australia</td><td>19</td><td>Raspberry Choco</td><td>2022-08-23</td><td>$994 </td><td>57</td></tr><tr><td>5</td><td>Camilla Castle</td><td>New Zealand</td><td>4</td><td>99% Dark & Pure</td><td>2022-08-26</td><td>$2,268 </td><td>42</td></tr><tr><td>10</td><td>Gigi Bohling</td><td>Australia</td><td>16</td><td>Orange Choco</td><td>2022-03-09</td><td>$574 </td><td>156</td></tr><tr><td>17</td><td>Kelci Walkden</td><td>UK</td><td>10</td><td>Drinking Coco</td><td>2022-04-20</td><td>$1,792 </td><td>23</td></tr><tr><td>19</td><td>Mallorie Waber</td><td>Canada</td><td>8</td><td>Caramel Stuffed Bars</td><td>2022-06-10</td><td>$4,844 </td><td>539</td></tr><tr><td>12</td><td>Husein Augar</td><td>Australia</td><td>17</td><td>Organic Choco Syrup</td><td>2022-02-08</td><td>$938 </td><td>158</td></tr><tr><td>4</td><td>Brien Boise</td><td>Australia</td><td>22</td><td>White Choc</td><td>2022-08-25</td><td>$4,879 </td><td>22</td></tr><tr><td>9</td><td>Dotty Strutley</td><td>India</td><td>18</td><td>Peanut Butter Cubes</td><td>2022-02-16</td><td>$9,107 </td><td>73</td></tr><tr><td>8</td><td>Dennison Crosswaite</td><td>UK</td><td>4</td><td>99% Dark & Pure</td><td>2022-05-30</td><td>$12,187 </td><td>27</td></tr><tr><td>10</td><td>Gigi Bohling</td><td>New Zealand</td><td>1</td><td>50% Dark Bites</td><td>2022-06-29</td><td>$5,670 </td><td>64</td></tr><tr><td>10</td><td>Gigi Bohling</td><td>USA</td><td>14</td><td>Milk Bars</td><td>2022-06-16</td><td>$476 </td><td>133</td></tr><tr><td>4</td><td>Brien Boise</td><td>UK</td><td>8</td><td>Caramel Stuffed Bars</td><td>2022-03-04</td><td>$2,681 </td><td>149</td></tr><tr><td>7</td><td>Curtice Advani</td><td>New Zealand</td><td>18</td><td>Peanut Butter Cubes</td><td>2022-03-15</td><td>$1,533 </td><td>434</td></tr><tr><td>7</td><td>Curtice Advani</td><td>New Zealand</td><td>1</td><td>50% Dark Bites</td><td>2022-01-27</td><td>$9,765 </td><td>85</td></tr><tr><td>3</td><td>Beverie Moffet</td><td>Canada</td><td>10</td><td>Drinking Coco</td><td>2022-07-05</td><td>$994 </td><td>118</td></tr><tr><td>2</td><td>Barr Faughny</td><td>USA</td><td>8</td><td>Caramel Stuffed Bars</td><td>2022-03-29</td><td>$3,318 </td><td>299</td></tr><tr><td>19</td><td>Mallorie Waber</td><td>Canada</td><td>6</td><td>Almond Choco</td><td>2022-05-12</td><td>$4,214 </td><td>35</td></tr><tr><td>21</td><td>Oby Sorrel</td><td>USA</td><td>10</td><td>Drinking Coco</td><td>2022-03-11</td><td>$7,714 </td><td>44</td></tr><tr><td>4</td><td>Brien Boise</td><td>New Zealand</td><td>11</td><td>Eclairs</td><td>2022-07-11</td><td>$4,690 </td><td>299</td></tr><tr><td>11</td><td>Gunar Cockshoot</td><td>New Zealand</td><td>9</td><td>Choco Coated Almonds</td><td>2022-08-01</td><td>$13,062 </td><td>62</td></tr><tr><td>11</td><td>Gunar Cockshoot</td><td>UK</td><td>21</td><td>Spicy Special Slims</td><td>2022-02-16</td><td>$12,488 </td><td>200</td></tr><tr><td>7</td><td>Curtice Advani</td><td>USA</td><td>5</td><td>After Nines</td><td>2022-04-13</td><td>$14,147 </td><td>235</td></tr><tr><td>21</td><td>Oby Sorrel</td><td>India</td><td>9</td><td>Choco Coated Almonds</td><td>2022-02-14</td><td>$49 </td><td>363</td></tr><tr><td>6</td><td>Ches Bonnell</td><td>Australia</td><td>18</td><td>Peanut Butter Cubes</td><td>2022-03-14</td><td>$10,199 </td><td>68</td></tr><tr><td>21</td><td>Oby Sorrel</td><td>Australia</td><td>21</td><td>Spicy Special Slims</td><td>2022-04-26</td><td>$11,389 </td><td>26</td></tr><tr><td>14</td><td>Jehu Rudeforth</td><td>Canada</td><td>13</td><td>Manuka Honey Choco</td><td>2022-04-05</td><td>$3,584 </td><td>200</td></tr><tr><td>5</td><td>Camilla Castle</td><td>Canada</td><td>10</td><td>Drinking Coco</td><td>2022-03-03</td><td>$12,481 </td><td>264</td></tr><tr><td>15</td><td>Kaine Padly</td><td>USA</td><td>21</td><td>Spicy Special Slims</td><td>2022-06-13</td><td>$2,107 </td><td>175</td></tr><tr><td>20</td><td>Marney O'Breen</td><td>New Zealand</td><td>2</td><td>70% Dark Bites</td><td>2022-02-14</td><td>$8,603 </td><td>352</td></tr><tr><td>23</td><td>Roddy Speechley</td><td>New Zealand</td><td>4</td><td>99% Dark & Pure</td><td>2022-04-18</td><td>$7,483 </td><td>183</td></tr><tr><td>21</td><td>Oby Sorrel</td><td>New Zealand</td><td>3</td><td>85% Dark Bars</td><td>2022-02-01</td><td>$3,381 </td><td>417</td></tr><tr><td>9</td><td>Dotty Strutley</td><td>New Zealand</td><td>16</td><td>Orange Choco</td><td>2022-08-04</td><td>$2,030 </td><td>146</td></tr><tr><td>1</td><td>Andria Kimpton</td><td>New Zealand</td><td>6</td><td>Almond Choco</td><td>2022-04-05</td><td>$6,559 </td><td>158</td></tr><tr><td>16</td><td>Karlen McCaffrey</td><td>Australia</td><td>4</td><td>99% Dark & Pure</td><td>2022-01-26</td><td>$10,822 </td><td>168</td></tr><tr><td>15</td><td>Kaine Padly</td><td>UK</td><td>5</td><td>After Nines</td><td>2022-01-21</td><td>$18,697 </td><td>176</td></tr><tr><td>15</td><td>Kaine Padly</td><td>Canada</td><td>5</td><td>After Nines</td><td>2022-08-22</td><td>$5,845 </td><td>172</td></tr><tr><td>15</td><td>Kaine Padly</td><td>UK</td><td>10</td><td>Drinking Coco</td><td>2022-01-27</td><td>$2,317 </td><td>224</td></tr><tr><td>22</td><td>Rafaelita Blaksland</td><td>UK</td><td>1</td><td>50% Dark Bites</td><td>2022-02-16</td><td>$10,150 </td><td>68</td></tr><tr><td>9</td><td>Dotty Strutley</td><td>USA</td><td>19</td><td>Raspberry Choco</td><td>2022-01-03</td><td>$3,437 </td><td>46</td></tr><tr><td>16</td><td>Karlen McCaffrey</td><td>USA</td><td>22</td><td>White Choc</td><td>2022-08-24</td><td>$4,592 </td><td>2</td></tr><tr><td>21</td><td>Oby Sorrel</td><td>USA</td><td>21</td><td>Spicy Special Slims</td><td>2022-02-07</td><td>$5,691 </td><td>417</td></tr><tr><td>19</td><td>Mallorie Waber</td><td>Australia</td><td>20</td><td>Smooth Sliky Salty</td><td>2022-02-11</td><td>$4,158 </td><td>109</td></tr><tr><td>15</td><td>Kaine Padly</td><td>Canada</td><td>17</td><td>Organic Choco Syrup</td><td>2022-03-29</td><td>$5,684 </td><td>81</td></tr><tr><td>20</td><td>Marney O'Breen</td><td>USA</td><td>18</td><td>Peanut Butter Cubes</td><td>2022-06-15</td><td>$693 </td><td>350</td></tr><tr><td>8</td><td>Dennison Crosswaite</td><td>UK</td><td>20</td><td>Smooth Sliky Salty</td><td>2022-04-26</td><td>$546 </td><td>142</td></tr><tr><td>4</td><td>Brien Boise</td><td>Australia</td><td>17</td><td>Organic Choco Syrup</td><td>2022-07-15</td><td>$4,263 </td><td>264</td></tr><tr><td>3</td><td>Beverie Moffet</td><td>India</td><td>17</td><td>Organic Choco Syrup</td><td>2022-06-23</td><td>$1,036 </td><td>20</td></tr><tr><td>8</td><td>Dennison Crosswaite</td><td>Australia</td><td>7</td><td>Baker's Choco Chips</td><td>2022-01-11</td><td>$13,846 </td><td>421</td></tr><tr><td>3</td><td>Beverie Moffet</td><td>UK</td><td>1</td><td>50% Dark Bites</td><td>2022-02-09</td><td>$2,499 </td><td>271</td></tr><tr><td>24</td><td>Van Tuxwell</td><td>UK</td><td>6</td><td>Almond Choco</td><td>2022-06-06</td><td>$10,689 </td><td>204</td></tr><tr><td>9</td><td>Dotty Strutley</td><td>UK</td><td>8</td><td>Caramel Stuffed Bars</td><td>2022-08-10</td><td>$5,768 </td><td>235</td></tr><tr><td>25</td><td>Wilone O'Kielt</td><td>Australia</td><td>20</td><td>Smooth Sliky Salty</td><td>2022-01-04</td><td>$2,226 </td><td>46</td></tr><tr><td>1</td><td>Andria Kimpton</td><td>Canada</td><td>2</td><td>70% Dark Bites</td><td>2022-04-08</td><td>$10,262 </td><td>15</td></tr><tr><td>2</td><td>Barr Faughny</td><td>UK</td><td>14</td><td>Milk Bars</td><td>2022-03-02</td><td>$3,864 </td><td>430</td></tr><tr><td>24</td><td>Van Tuxwell</td><td>Canada</td><td>10</td><td>Drinking Coco</td><td>2022-06-15</td><td>$4,900 </td><td>709</td></tr><tr><td>14</td><td>Jehu Rudeforth</td><td>Australia</td><td>5</td><td>After Nines</td><td>2022-02-14</td><td>$5,250 </td><td>47</td></tr><tr><td>12</td><td>Husein Augar</td><td>UK</td><td>5</td><td>After Nines</td><td>2022-07-05</td><td>$3,507 </td><td>380</td></tr><tr><td>2</td><td>Barr Faughny</td><td>India</td><td>15</td><td>Mint Chip Choco</td><td>2022-01-12</td><td>$7,413 </td><td>465</td></tr><tr><td>7</td><td>Curtice Advani</td><td>India</td><td>15</td><td>Mint Chip Choco</td><td>2022-03-03</td><td>$8,155 </td><td>96</td></tr><tr><td>14</td><td>Jehu Rudeforth</td><td>New Zealand</td><td>14</td><td>Milk Bars</td><td>2022-05-18</td><td>$2,478 </td><td>188</td></tr><tr><td>11</td><td>Gunar Cockshoot</td><td>India</td><td>8</td><td>Caramel Stuffed Bars</td><td>2022-07-28</td><td>$2,471 </td><td>202</td></tr><tr><td>7</td><td>Curtice Advani</td><td>UK</td><td>13</td><td>Manuka Honey Choco</td><td>2022-02-07</td><td>$1,666 </td><td>106</td></tr><tr><td>1</td><td>Andria Kimpton</td><td>India</td><td>16</td><td>Orange Choco</td><td>2022-05-30</td><td>$301 </td><td>421</td></tr><tr><td>19</td><td>Mallorie Waber</td><td>Australia</td><td>19</td><td>Raspberry Choco</td><td>2022-04-25</td><td>$8,400 </td><td>27</td></tr><tr><td>3</td><td>Beverie Moffet</td><td>Canada</td><td>3</td><td>85% Dark Bars</td><td>2022-02-16</td><td>$6,139 </td><td>45</td></tr><tr><td>17</td><td>Kelci Walkden</td><td>Australia</td><td>10</td><td>Drinking Coco</td><td>2022-05-04</td><td>$1,288 </td><td>60</td></tr><tr><td>24</td><td>Van Tuxwell</td><td>Canada</td><td>2</td><td>70% Dark Bites</td><td>2022-06-02</td><td>$7,077 </td><td>77</td></tr><tr><td>8</td><td>Dennison Crosswaite</td><td>USA</td><td>8</td><td>Caramel Stuffed Bars</td><td>2022-07-11</td><td>$2,317 </td><td>464</td></tr><tr><td>3</td><td>Beverie Moffet</td><td>New Zealand</td><td>21</td><td>Spicy Special Slims</td><td>2022-06-07</td><td>$63 </td><td>60</td></tr><tr><td>13</td><td>Jan Morforth</td><td>UK</td><td>6</td><td>Almond Choco</td><td>2022-07-06</td><td>$9,744 </td><td>157</td></tr><tr><td>12</td><td>Husein Augar</td><td>India</td><td>19</td><td>Raspberry Choco</td><td>2022-06-15</td><td>$9,954 </td><td>154</td></tr><tr><td>9</td><td>Dotty Strutley</td><td>India</td><td>15</td><td>Mint Chip Choco</td><td>2022-04-14</td><td>$1,260 </td><td>239</td></tr><tr><td>5</td><td>Camilla Castle</td><td>India</td><td>10</td><td>Drinking Coco</td><td>2022-08-08</td><td>$469 </td><td>163</td></tr><tr><td>20</td><td>Marney O'Breen</td><td>UK</td><td>10</td><td>Drinking Coco</td><td>2022-03-29</td><td>$973 </td><td>28</td></tr><tr><td>23</td><td>Roddy Speechley</td><td>Australia</td><td>17</td><td>Organic Choco Syrup</td><td>2022-07-04</td><td>$3,647 </td><td>76</td></tr><tr><td>6</td><td>Ches Bonnell</td><td>India</td><td>4</td><td>99% Dark & Pure</td><td>2022-02-16</td><td>$455 </td><td>96</td></tr><tr><td>22</td><td>Rafaelita Blaksland</td><td>Canada</td><td>21</td><td>Spicy Special Slims</td><td>2022-05-02</td><td>$2,520 </td><td>156</td></tr><tr><td>24</td><td>Van Tuxwell</td><td>India</td><td>11</td><td>Eclairs</td><td>2022-07-21</td><td>$10,500 </td><td>106</td></tr><tr><td>11</td><td>Gunar Cockshoot</td><td>Australia</td><td>4</td><td>99% Dark & Pure</td><td>2022-08-18</td><td>$7,952 </td><td>235</td></tr><tr><td>15</td><td>Kaine Padly</td><td>USA</td><td>3</td><td>85% Dark Bars</td><td>2022-06-22</td><td>$483 </td><td>259</td></tr><tr><td>5</td><td>Camilla Castle</td><td>UK</td><td>18</td><td>Peanut Butter Cubes</td><td>2022-07-19</td><td>$4,872 </td><td>126</td></tr><tr><td>18</td><td>Madelene Upcott</td><td>UK</td><td>18</td><td>Peanut Butter Cubes</td><td>2022-08-12</td><td>$7,756 </td><td>85</td></tr><tr><td>18</td><td>Madelene Upcott</td><td>USA</td><td>9</td><td>Choco Coated Almonds</td><td>2022-06-07</td><td>$5,446 </td><td>132</td></tr><tr><td>20</td><td>Marney O'Breen</td><td>Canada</td><td>18</td><td>Peanut Butter Cubes</td><td>2022-03-08</td><td>$6,594 </td><td>91</td></tr><tr><td>6</td><td>Ches Bonnell</td><td>Australia</td><td>9</td><td>Choco Coated Almonds</td><td>2022-04-08</td><td>$1,470 </td><td>167</td></tr><tr><td>7</td><td>Curtice Advani</td><td>Canada</td><td>11</td><td>Eclairs</td><td>2022-05-06</td><td>$721 </td><td>203</td></tr><tr><td>23</td><td>Roddy Speechley</td><td>India</td><td>10</td><td>Drinking Coco</td><td>2022-05-31</td><td>$4,494 </td><td>11</td></tr><tr><td>24</td><td>Van Tuxwell</td><td>Australia</td><td>15</td><td>Mint Chip Choco</td><td>2022-01-13</td><td>$2,674 </td><td>295</td></tr><tr><td>8</td><td>Dennison Crosswaite</td><td>USA</td><td>2</td><td>70% Dark Bites</td><td>2022-03-15</td><td>$658 </td><td>77</td></tr><tr><td>1</td><td>Andria Kimpton</td><td>Canada</td><td>18</td><td>Peanut Butter Cubes</td><td>2022-02-16</td><td>$1,127 </td><td>319</td></tr><tr><td>10</td><td>Gigi Bohling</td><td>USA</td><td>2</td><td>70% Dark Bites</td><td>2022-01-14</td><td>$7,364 </td><td>196</td></tr><tr><td>22</td><td>Rafaelita Blaksland</td><td>Australia</td><td>22</td><td>White Choc</td><td>2022-03-21</td><td>$6,818 </td><td>102</td></tr><tr><td>23</td><td>Roddy Speechley</td><td>Canada</td><td>10</td><td>Drinking Coco</td><td>2022-05-17</td><td>$6,776 </td><td>312</td></tr><tr><td>5</td><td>Camilla Castle</td><td>New Zealand</td><td>3</td><td>85% Dark Bars</td><td>2022-08-08</td><td>$15,099 </td><td>55</td></tr><tr><td>18</td><td>Madelene Upcott</td><td>Canada</td><td>14</td><td>Milk Bars</td><td>2022-04-26</td><td>$3,612 </td><td>82</td></tr><tr><td>18</td><td>Madelene Upcott</td><td>Australia</td><td>2</td><td>70% Dark Bites</td><td>2022-04-15</td><td>$3,710 </td><td>260</td></tr><tr><td>21</td><td>Oby Sorrel</td><td>Canada</td><td>11</td><td>Eclairs</td><td>2022-05-19</td><td>$6,111 </td><td>591</td></tr><tr><td>8</td><td>Dennison Crosswaite</td><td>Canada</td><td>10</td><td>Drinking Coco</td><td>2022-01-10</td><td>$2,702 </td><td>24</td></tr><tr><td>19</td><td>Mallorie Waber</td><td>New Zealand</td><td>5</td><td>After Nines</td><td>2022-05-04</td><td>$483 </td><td>228</td></tr><tr><td>23</td><td>Roddy Speechley</td><td>Canada</td><td>22</td><td>White Choc</td><td>2022-04-05</td><td>$5,887 </td><td>268</td></tr><tr><td>1</td><td>Andria Kimpton</td><td>India</td><td>5</td><td>After Nines</td><td>2022-01-17</td><td>$952 </td><td>68</td></tr><tr><td>23</td><td>Roddy Speechley</td><td>India</td><td>21</td><td>Spicy Special Slims</td><td>2022-03-22</td><td>$10,647 </td><td>173</td></tr><tr><td>9</td><td>Dotty Strutley</td><td>Australia</td><td>22</td><td>White Choc</td><td>2022-07-05</td><td>$6,055 </td><td>93</td></tr><tr><td>21</td><td>Oby Sorrel</td><td>Canada</td><td>16</td><td>Orange Choco</td><td>2022-04-27</td><td>$8,757 </td><td>338</td></tr><tr><td>15</td><td>Kaine Padly</td><td>Canada</td><td>6</td><td>Almond Choco</td><td>2022-08-12</td><td>$6,055 </td><td>73</td></tr><tr><td>13</td><td>Jan Morforth</td><td>UK</td><td>7</td><td>Baker's Choco Chips</td><td>2022-03-11</td><td>$721 </td><td>251</td></tr><tr><td>14</td><td>Jehu Rudeforth</td><td>UK</td><td>12</td><td>Fruit & Nut Bars</td><td>2022-05-13</td><td>$8,589 </td><td>229</td></tr><tr><td>8</td><td>Dennison Crosswaite</td><td>USA</td><td>20</td><td>Smooth Sliky Salty</td><td>2022-05-12</td><td>$11,781 </td><td>91</td></tr><tr><td>4</td><td>Brien Boise</td><td>USA</td><td>19</td><td>Raspberry Choco</td><td>2022-01-12</td><td>$672 </td><td>194</td></tr><tr><td>18</td><td>Madelene Upcott</td><td>New Zealand</td><td>14</td><td>Milk Bars</td><td>2022-03-29</td><td>$12,558 </td><td>403</td></tr><tr><td>23</td><td>Roddy Speechley</td><td>India</td><td>1</td><td>50% Dark Bites</td><td>2022-03-14</td><td>$8,337 </td><td>12</td></tr><tr><td>2</td><td>Barr Faughny</td><td>New Zealand</td><td>4</td><td>99% Dark & Pure</td><td>2022-05-24</td><td>$8,134 </td><td>195</td></tr><tr><td>8</td><td>Dennison Crosswaite</td><td>Canada</td><td>17</td><td>Organic Choco Syrup</td><td>2022-01-28</td><td>$8,491 </td><td>75</td></tr><tr><td>3</td><td>Beverie Moffet</td><td>India</td><td>6</td><td>Almond Choco</td><td>2022-05-24</td><td>$3,066 </td><td>96</td></tr><tr><td>4</td><td>Brien Boise</td><td>Australia</td><td>18</td><td>Peanut Butter Cubes</td><td>2022-08-19</td><td>$301 </td><td>205</td></tr><tr><td>16</td><td>Karlen McCaffrey</td><td>Australia</td><td>21</td><td>Spicy Special Slims</td><td>2022-05-17</td><td>$4,410 </td><td>323</td></tr><tr><td>14</td><td>Jehu Rudeforth</td><td>USA</td><td>22</td><td>White Choc</td><td>2022-06-07</td><td>$6,559 </td><td>119</td></tr><tr><td>6</td><td>Ches Bonnell</td><td>Canada</td><td>17</td><td>Organic Choco Syrup</td><td>2022-07-26</td><td>$574 </td><td>217</td></tr><tr><td>9</td><td>Dotty Strutley</td><td>India</td><td>11</td><td>Eclairs</td><td>2022-07-28</td><td>$2,086 </td><td>384</td></tr><tr><td>16</td><td>Karlen McCaffrey</td><td>India</td><td>2</td><td>70% Dark Bites</td><td>2022-05-23</td><td>$5,075 </td><td>344</td></tr></tbody></table></div>"
      ]
     },
     "metadata": {
      "application/vnd.databricks.v1+output": {
       "addedWidgets": {},
       "aggData": [],
       "aggError": "",
       "aggOverflow": false,
       "aggSchema": [],
       "aggSeriesLimitReached": false,
       "aggType": "",
       "arguments": {},
       "columnCustomDisplayInfos": {},
       "data": [
        [
         14,
         "Jehu Rudeforth",
         "UK",
         15,
         "Mint Chip Choco",
         "2022-01-04",
         "$5,320 ",
         180
        ],
        [
         24,
         "Van Tuxwell",
         "India",
         3,
         "85% Dark Bars",
         "2022-08-01",
         "$7,896 ",
         94
        ],
        [
         10,
         "Gigi Bohling",
         "India",
         18,
         "Peanut Butter Cubes",
         "2022-07-07",
         "$4,501 ",
         91
        ],
        [
         13,
         "Jan Morforth",
         "Australia",
         18,
         "Peanut Butter Cubes",
         "2022-04-27",
         "$12,726 ",
         342
        ],
        [
         14,
         "Jehu Rudeforth",
         "UK",
         18,
         "Peanut Butter Cubes",
         "2022-02-24",
         "$13,685 ",
         184
        ],
        [
         24,
         "Van Tuxwell",
         "India",
         20,
         "Smooth Sliky Salty",
         "2022-06-06",
         "$5,376 ",
         38
        ],
        [
         21,
         "Oby Sorrel",
         "UK",
         4,
         "99% Dark & Pure",
         "2022-01-25",
         "$13,685 ",
         176
        ],
        [
         11,
         "Gunar Cockshoot",
         "Australia",
         5,
         "After Nines",
         "2022-03-24",
         "$3,080 ",
         73
        ],
        [
         14,
         "Jehu Rudeforth",
         "New Zealand",
         1,
         "50% Dark Bites",
         "2022-04-20",
         "$3,990 ",
         59
        ],
        [
         4,
         "Brien Boise",
         "Australia",
         4,
         "99% Dark & Pure",
         "2022-07-04",
         "$2,835 ",
         102
        ],
        [
         22,
         "Rafaelita Blaksland",
         "UK",
         20,
         "Smooth Sliky Salty",
         "2022-01-13",
         "$4,704 ",
         62
        ],
        [
         2,
         "Barr Faughny",
         "USA",
         16,
         "Orange Choco",
         "2022-03-10",
         "$3,703 ",
         11
        ],
        [
         19,
         "Mallorie Waber",
         "Canada",
         11,
         "Eclairs",
         "2022-01-13",
         "$1,442 ",
         286
        ],
        [
         16,
         "Karlen McCaffrey",
         "New Zealand",
         10,
         "Drinking Coco",
         "2022-07-28",
         "$168 ",
         156
        ],
        [
         20,
         "Marney O'Breen",
         "New Zealand",
         18,
         "Peanut Butter Cubes",
         "2022-08-03",
         "$8,379 ",
         173
        ],
        [
         3,
         "Beverie Moffet",
         "Australia",
         17,
         "Organic Choco Syrup",
         "2022-01-26",
         "$6,790 ",
         356
        ],
        [
         24,
         "Van Tuxwell",
         "Canada",
         17,
         "Organic Choco Syrup",
         "2022-02-14",
         "$4,067 ",
         42
        ],
        [
         23,
         "Roddy Speechley",
         "USA",
         20,
         "Smooth Sliky Salty",
         "2022-04-05",
         "$3,017 ",
         140
        ],
        [
         3,
         "Beverie Moffet",
         "Canada",
         14,
         "Milk Bars",
         "2022-02-16",
         "$8,799 ",
         250
        ],
        [
         7,
         "Curtice Advani",
         "UK",
         3,
         "85% Dark Bars",
         "2022-06-08",
         "$1,085 ",
         172
        ],
        [
         4,
         "Brien Boise",
         "Australia",
         11,
         "Eclairs",
         "2022-06-27",
         "$6,888 ",
         88
        ],
        [
         11,
         "Gunar Cockshoot",
         "USA",
         21,
         "Spicy Special Slims",
         "2022-02-17",
         "$1,267 ",
         157
        ],
        [
         20,
         "Marney O'Breen",
         "USA",
         5,
         "After Nines",
         "2022-05-30",
         "$4,753 ",
         163
        ],
        [
         12,
         "Husein Augar",
         "UK",
         10,
         "Drinking Coco",
         "2022-03-14",
         "$3,003 ",
         113
        ],
        [
         15,
         "Kaine Padly",
         "Australia",
         11,
         "Eclairs",
         "2022-02-28",
         "$7,672 ",
         115
        ],
        [
         16,
         "Karlen McCaffrey",
         "India",
         12,
         "Fruit & Nut Bars",
         "2022-01-26",
         "$168 ",
         321
        ],
        [
         23,
         "Roddy Speechley",
         "Canada",
         21,
         "Spicy Special Slims",
         "2022-02-09",
         "$1,652 ",
         186
        ],
        [
         12,
         "Husein Augar",
         "USA",
         11,
         "Eclairs",
         "2022-07-07",
         "$4,025 ",
         112
        ],
        [
         8,
         "Dennison Crosswaite",
         "New Zealand",
         22,
         "White Choc",
         "2022-07-05",
         "$9,492 ",
         151
        ],
        [
         8,
         "Dennison Crosswaite",
         "New Zealand",
         13,
         "Manuka Honey Choco",
         "2022-06-15",
         "$5,061 ",
         301
        ],
        [
         24,
         "Van Tuxwell",
         "New Zealand",
         3,
         "85% Dark Bars",
         "2022-05-24",
         "$1,722 ",
         121
        ],
        [
         22,
         "Rafaelita Blaksland",
         "UK",
         4,
         "99% Dark & Pure",
         "2022-06-29",
         "$12,446 ",
         150
        ],
        [
         25,
         "Wilone O'Kielt",
         "Australia",
         13,
         "Manuka Honey Choco",
         "2022-05-11",
         "$4,284 ",
         94
        ],
        [
         16,
         "Karlen McCaffrey",
         "UK",
         6,
         "Almond Choco",
         "2022-06-30",
         "$6,839 ",
         133
        ],
        [
         1,
         "Andria Kimpton",
         "Canada",
         5,
         "After Nines",
         "2022-05-11",
         "$2,163 ",
         70
        ],
        [
         23,
         "Roddy Speechley",
         "USA",
         13,
         "Manuka Honey Choco",
         "2022-07-22",
         "$9,583 ",
         315
        ],
        [
         1,
         "Andria Kimpton",
         "UK",
         1,
         "50% Dark Bites",
         "2022-08-24",
         "$2,653 ",
         314
        ],
        [
         17,
         "Kelci Walkden",
         "New Zealand",
         5,
         "After Nines",
         "2022-07-07",
         "$147 ",
         72
        ],
        [
         5,
         "Camilla Castle",
         "Australia",
         3,
         "85% Dark Bars",
         "2022-05-19",
         "$3,654 ",
         14
        ],
        [
         16,
         "Karlen McCaffrey",
         "India",
         13,
         "Manuka Honey Choco",
         "2022-07-04",
         "$2,443 ",
         581
        ],
        [
         17,
         "Kelci Walkden",
         "USA",
         5,
         "After Nines",
         "2022-06-02",
         "$938 ",
         16
        ],
        [
         16,
         "Karlen McCaffrey",
         "USA",
         19,
         "Raspberry Choco",
         "2022-04-15",
         "$14,749 ",
         354
        ],
        [
         19,
         "Mallorie Waber",
         "Canada",
         9,
         "Choco Coated Almonds",
         "2022-07-11",
         "$4,781 ",
         241
        ],
        [
         1,
         "Andria Kimpton",
         "India",
         21,
         "Spicy Special Slims",
         "2022-02-23",
         "$6,307 ",
         142
        ],
        [
         18,
         "Madelene Upcott",
         "Canada",
         6,
         "Almond Choco",
         "2022-08-22",
         "$7,602 ",
         102
        ],
        [
         15,
         "Kaine Padly",
         "USA",
         18,
         "Peanut Butter Cubes",
         "2022-02-16",
         "$6,790 ",
         188
        ],
        [
         24,
         "Van Tuxwell",
         "USA",
         1,
         "50% Dark Bites",
         "2022-01-13",
         "$9,737 ",
         160
        ],
        [
         7,
         "Curtice Advani",
         "Australia",
         14,
         "Milk Bars",
         "2022-02-14",
         "$6,979 ",
         18
        ],
        [
         23,
         "Roddy Speechley",
         "India",
         11,
         "Eclairs",
         "2022-06-10",
         "$4,382 ",
         303
        ],
        [
         7,
         "Curtice Advani",
         "India",
         12,
         "Fruit & Nut Bars",
         "2022-07-07",
         "$5,243 ",
         176
        ],
        [
         7,
         "Curtice Advani",
         "Canada",
         6,
         "Almond Choco",
         "2022-03-24",
         "$4,865 ",
         70
        ],
        [
         4,
         "Brien Boise",
         "Australia",
         12,
         "Fruit & Nut Bars",
         "2022-06-06",
         "$8,575 ",
         23
        ],
        [
         9,
         "Dotty Strutley",
         "Australia",
         10,
         "Drinking Coco",
         "2022-07-19",
         "$91 ",
         135
        ],
        [
         3,
         "Beverie Moffet",
         "USA",
         19,
         "Raspberry Choco",
         "2022-04-19",
         "$14,798 ",
         83
        ],
        [
         20,
         "Marney O'Breen",
         "India",
         3,
         "85% Dark Bars",
         "2022-07-19",
         "$2,205 ",
         179
        ],
        [
         14,
         "Jehu Rudeforth",
         "Canada",
         10,
         "Drinking Coco",
         "2022-07-15",
         "$441 ",
         24
        ],
        [
         6,
         "Ches Bonnell",
         "New Zealand",
         21,
         "Spicy Special Slims",
         "2022-02-14",
         "$3,556 ",
         18
        ],
        [
         4,
         "Brien Boise",
         "Canada",
         4,
         "99% Dark & Pure",
         "2022-05-18",
         "$16,793 ",
         416
        ],
        [
         2,
         "Barr Faughny",
         "Australia",
         12,
         "Fruit & Nut Bars",
         "2022-06-30",
         "$15,421 ",
         55
        ],
        [
         1,
         "Andria Kimpton",
         "Australia",
         1,
         "50% Dark Bites",
         "2022-06-02",
         "$4,438 ",
         227
        ],
        [
         1,
         "Andria Kimpton",
         "Australia",
         10,
         "Drinking Coco",
         "2022-06-28",
         "$1,603 ",
         48
        ],
        [
         20,
         "Marney O'Breen",
         "Australia",
         17,
         "Organic Choco Syrup",
         "2022-05-16",
         "$273 ",
         174
        ],
        [
         17,
         "Kelci Walkden",
         "Canada",
         7,
         "Baker's Choco Chips",
         "2022-05-26",
         "$3,073 ",
         302
        ],
        [
         16,
         "Karlen McCaffrey",
         "India",
         6,
         "Almond Choco",
         "2022-07-06",
         "$6,090 ",
         149
        ],
        [
         21,
         "Oby Sorrel",
         "India",
         4,
         "99% Dark & Pure",
         "2022-05-27",
         "$10,255 ",
         11
        ],
        [
         25,
         "Wilone O'Kielt",
         "Australia",
         8,
         "Caramel Stuffed Bars",
         "2022-04-14",
         "$2,030 ",
         11
        ],
        [
         24,
         "Van Tuxwell",
         "Australia",
         17,
         "Organic Choco Syrup",
         "2022-08-10",
         "$19,453 ",
         14
        ],
        [
         5,
         "Camilla Castle",
         "India",
         1,
         "50% Dark Bites",
         "2022-07-04",
         "$9,275 ",
         411
        ],
        [
         21,
         "Oby Sorrel",
         "India",
         17,
         "Organic Choco Syrup",
         "2022-07-08",
         "$6,181 ",
         56
        ],
        [
         13,
         "Jan Morforth",
         "USA",
         18,
         "Peanut Butter Cubes",
         "2022-07-22",
         "$9,037 ",
         102
        ],
        [
         10,
         "Gigi Bohling",
         "USA",
         9,
         "Choco Coated Almonds",
         "2022-03-02",
         "$12,313 ",
         103
        ],
        [
         10,
         "Gigi Bohling",
         "UK",
         6,
         "Almond Choco",
         "2022-01-10",
         "$5,642 ",
         9
        ],
        [
         14,
         "Jehu Rudeforth",
         "New Zealand",
         22,
         "White Choc",
         "2022-03-11",
         "$2,800 ",
         241
        ],
        [
         1,
         "Andria Kimpton",
         "New Zealand",
         18,
         "Peanut Butter Cubes",
         "2022-06-20",
         "$959 ",
         265
        ],
        [
         24,
         "Van Tuxwell",
         "UK",
         17,
         "Organic Choco Syrup",
         "2022-08-26",
         "$2,002 ",
         214
        ],
        [
         23,
         "Roddy Speechley",
         "Canada",
         14,
         "Milk Bars",
         "2022-07-13",
         "$609 ",
         32
        ],
        [
         5,
         "Camilla Castle",
         "USA",
         21,
         "Spicy Special Slims",
         "2022-02-11",
         "$1,274 ",
         244
        ],
        [
         20,
         "Marney O'Breen",
         "USA",
         16,
         "Orange Choco",
         "2022-01-27",
         "$7,595 ",
         181
        ],
        [
         24,
         "Van Tuxwell",
         "UK",
         4,
         "99% Dark & Pure",
         "2022-01-31",
         "$4,725 ",
         137
        ],
        [
         5,
         "Camilla Castle",
         "USA",
         22,
         "White Choc",
         "2022-08-18",
         "$9,681 ",
         24
        ],
        [
         1,
         "Andria Kimpton",
         "USA",
         19,
         "Raspberry Choco",
         "2022-06-30",
         "$14,504 ",
         21
        ],
        [
         9,
         "Dotty Strutley",
         "Australia",
         12,
         "Fruit & Nut Bars",
         "2022-08-23",
         "$280 ",
         311
        ],
        [
         4,
         "Brien Boise",
         "New Zealand",
         15,
         "Mint Chip Choco",
         "2022-08-01",
         "$63 ",
         181
        ],
        [
         23,
         "Roddy Speechley",
         "New Zealand",
         5,
         "After Nines",
         "2022-05-25",
         "$8,001 ",
         10
        ],
        [
         23,
         "Roddy Speechley",
         "Canada",
         17,
         "Organic Choco Syrup",
         "2022-01-10",
         "$4,032 ",
         82
        ],
        [
         8,
         "Dennison Crosswaite",
         "Australia",
         2,
         "70% Dark Bites",
         "2022-02-07",
         "$5,859 ",
         108
        ],
        [
         16,
         "Karlen McCaffrey",
         "USA",
         16,
         "Orange Choco",
         "2022-05-12",
         "$11,095 ",
         401
        ],
        [
         18,
         "Madelene Upcott",
         "Australia",
         21,
         "Spicy Special Slims",
         "2022-03-07",
         "$7,182 ",
         408
        ],
        [
         8,
         "Dennison Crosswaite",
         "Australia",
         3,
         "85% Dark Bars",
         "2022-04-05",
         "$6,881 ",
         420
        ],
        [
         1,
         "Andria Kimpton",
         "Canada",
         8,
         "Caramel Stuffed Bars",
         "2022-01-03",
         "$7,154 ",
         348
        ],
        [
         8,
         "Dennison Crosswaite",
         "UK",
         11,
         "Eclairs",
         "2022-03-24",
         "$6,188 ",
         270
        ],
        [
         18,
         "Madelene Upcott",
         "India",
         19,
         "Raspberry Choco",
         "2022-07-07",
         "$4,221 ",
         9
        ],
        [
         24,
         "Van Tuxwell",
         "USA",
         5,
         "After Nines",
         "2022-07-26",
         "$630 ",
         264
        ],
        [
         25,
         "Wilone O'Kielt",
         "Australia",
         17,
         "Organic Choco Syrup",
         "2022-07-07",
         "$1,743 ",
         111
        ],
        [
         16,
         "Karlen McCaffrey",
         "Canada",
         1,
         "50% Dark Bites",
         "2022-07-15",
         "$2,919 ",
         65
        ],
        [
         23,
         "Roddy Speechley",
         "New Zealand",
         16,
         "Orange Choco",
         "2022-04-01",
         "$49 ",
         97
        ],
        [
         3,
         "Beverie Moffet",
         "Australia",
         11,
         "Eclairs",
         "2022-06-20",
         "$1,827 ",
         6
        ],
        [
         17,
         "Kelci Walkden",
         "UK",
         12,
         "Fruit & Nut Bars",
         "2022-06-29",
         "$13,006 ",
         482
        ],
        [
         20,
         "Marney O'Breen",
         "USA",
         1,
         "50% Dark Bites",
         "2022-06-15",
         "$1,064 ",
         106
        ],
        [
         12,
         "Husein Augar",
         "USA",
         5,
         "After Nines",
         "2022-04-08",
         "$11,571 ",
         180
        ],
        [
         8,
         "Dennison Crosswaite",
         "Australia",
         19,
         "Raspberry Choco",
         "2022-03-14",
         "$5,740 ",
         31
        ],
        [
         1,
         "Andria Kimpton",
         "USA",
         12,
         "Fruit & Nut Bars",
         "2022-07-15",
         "$1,456 ",
         359
        ],
        [
         17,
         "Kelci Walkden",
         "India",
         11,
         "Eclairs",
         "2022-04-19",
         "$5,334 ",
         80
        ],
        [
         20,
         "Marney O'Breen",
         "USA",
         4,
         "99% Dark & Pure",
         "2022-03-28",
         "$4,151 ",
         296
        ],
        [
         4,
         "Brien Boise",
         "Canada",
         21,
         "Spicy Special Slims",
         "2022-03-04",
         "$8,106 ",
         101
        ],
        [
         16,
         "Karlen McCaffrey",
         "New Zealand",
         2,
         "70% Dark Bites",
         "2022-08-02",
         "$126 ",
         40
        ],
        [
         12,
         "Husein Augar",
         "UK",
         21,
         "Spicy Special Slims",
         "2022-08-25",
         "$4,697 ",
         42
        ],
        [
         20,
         "Marney O'Breen",
         "USA",
         6,
         "Almond Choco",
         "2022-02-25",
         "$7,798 ",
         167
        ],
        [
         17,
         "Kelci Walkden",
         "India",
         16,
         "Orange Choco",
         "2022-06-07",
         "$9,408 ",
         138
        ],
        [
         13,
         "Jan Morforth",
         "India",
         21,
         "Spicy Special Slims",
         "2022-04-12",
         "$1,939 ",
         520
        ],
        [
         6,
         "Ches Bonnell",
         "India",
         21,
         "Spicy Special Slims",
         "2022-07-06",
         "$10,906 ",
         94
        ],
        [
         17,
         "Kelci Walkden",
         "UK",
         20,
         "Smooth Sliky Salty",
         "2022-01-19",
         "$5,929 ",
         175
        ],
        [
         18,
         "Madelene Upcott",
         "Australia",
         12,
         "Fruit & Nut Bars",
         "2022-01-05",
         "$5,579 ",
         92
        ],
        [
         18,
         "Madelene Upcott",
         "Canada",
         2,
         "70% Dark Bites",
         "2022-01-24",
         "$10,927 ",
         141
        ],
        [
         25,
         "Wilone O'Kielt",
         "Australia",
         10,
         "Drinking Coco",
         "2022-04-06",
         "$623 ",
         283
        ],
        [
         11,
         "Gunar Cockshoot",
         "Australia",
         12,
         "Fruit & Nut Bars",
         "2022-06-15",
         "$6,013 ",
         21
        ],
        [
         10,
         "Gigi Bohling",
         "Canada",
         7,
         "Baker's Choco Chips",
         "2022-01-28",
         "$1,505 ",
         47
        ],
        [
         17,
         "Kelci Walkden",
         "India",
         8,
         "Caramel Stuffed Bars",
         "2022-03-16",
         "$476 ",
         125
        ],
        [
         22,
         "Rafaelita Blaksland",
         "Australia",
         10,
         "Drinking Coco",
         "2022-02-21",
         "$11,550 ",
         396
        ],
        [
         17,
         "Kelci Walkden",
         "USA",
         13,
         "Manuka Honey Choco",
         "2022-02-16",
         "$17,318 ",
         87
        ],
        [
         14,
         "Jehu Rudeforth",
         "Canada",
         21,
         "Spicy Special Slims",
         "2022-01-13",
         "$1,848 ",
         27
        ],
        [
         17,
         "Kelci Walkden",
         "Australia",
         11,
         "Eclairs",
         "2022-03-23",
         "$7,273 ",
         547
        ],
        [
         7,
         "Curtice Advani",
         "Canada",
         21,
         "Spicy Special Slims",
         "2022-06-16",
         "$854 ",
         118
        ],
        [
         21,
         "Oby Sorrel",
         "India",
         19,
         "Raspberry Choco",
         "2022-04-14",
         "$6,832 ",
         46
        ],
        [
         17,
         "Kelci Walkden",
         "UK",
         11,
         "Eclairs",
         "2022-01-25",
         "$4,606 ",
         57
        ],
        [
         13,
         "Jan Morforth",
         "India",
         6,
         "Almond Choco",
         "2022-03-11",
         "$4,466 ",
         22
        ],
        [
         9,
         "Dotty Strutley",
         "UK",
         6,
         "Almond Choco",
         "2022-07-28",
         "$16,114 ",
         96
        ],
        [
         20,
         "Marney O'Breen",
         "New Zealand",
         5,
         "After Nines",
         "2022-03-09",
         "$1,561 ",
         44
        ],
        [
         12,
         "Husein Augar",
         "Australia",
         16,
         "Orange Choco",
         "2022-06-28",
         "$8,897 ",
         188
        ],
        [
         20,
         "Marney O'Breen",
         "Australia",
         14,
         "Milk Bars",
         "2022-07-28",
         "$2,464 ",
         387
        ],
        [
         17,
         "Kelci Walkden",
         "Canada",
         4,
         "99% Dark & Pure",
         "2022-08-15",
         "$4,830 ",
         50
        ],
        [
         15,
         "Kaine Padly",
         "Australia",
         13,
         "Manuka Honey Choco",
         "2022-01-12",
         "$2,765 ",
         264
        ],
        [
         3,
         "Beverie Moffet",
         "New Zealand",
         22,
         "White Choc",
         "2022-03-24",
         "$7,126 ",
         7
        ],
        [
         24,
         "Van Tuxwell",
         "UK",
         14,
         "Milk Bars",
         "2022-07-25",
         "$4,263 ",
         90
        ],
        [
         21,
         "Oby Sorrel",
         "Canada",
         4,
         "99% Dark & Pure",
         "2022-08-01",
         "$3,605 ",
         403
        ],
        [
         24,
         "Van Tuxwell",
         "India",
         17,
         "Organic Choco Syrup",
         "2022-05-16",
         "$19,929 ",
         174
        ],
        [
         23,
         "Roddy Speechley",
         "India",
         20,
         "Smooth Sliky Salty",
         "2022-08-10",
         "$5,103 ",
         140
        ],
        [
         13,
         "Jan Morforth",
         "India",
         11,
         "Eclairs",
         "2022-01-05",
         "$2,541 ",
         27
        ],
        [
         6,
         "Ches Bonnell",
         "UK",
         20,
         "Smooth Sliky Salty",
         "2022-07-11",
         "$5,663 ",
         110
        ],
        [
         25,
         "Wilone O'Kielt",
         "USA",
         5,
         "After Nines",
         "2022-04-25",
         "$392 ",
         30
        ],
        [
         10,
         "Gigi Bohling",
         "New Zealand",
         12,
         "Fruit & Nut Bars",
         "2022-04-04",
         "$10,976 ",
         121
        ],
        [
         2,
         "Barr Faughny",
         "USA",
         19,
         "Raspberry Choco",
         "2022-04-12",
         "$9,282 ",
         101
        ],
        [
         25,
         "Wilone O'Kielt",
         "New Zealand",
         3,
         "85% Dark Bars",
         "2022-08-02",
         "$1,827 ",
         117
        ],
        [
         10,
         "Gigi Bohling",
         "New Zealand",
         13,
         "Manuka Honey Choco",
         "2022-06-28",
         "$8,267 ",
         272
        ],
        [
         6,
         "Ches Bonnell",
         "Australia",
         11,
         "Eclairs",
         "2022-07-05",
         "$4,116 ",
         128
        ],
        [
         22,
         "Rafaelita Blaksland",
         "New Zealand",
         9,
         "Choco Coated Almonds",
         "2022-06-07",
         "$2,093 ",
         45
        ],
        [
         4,
         "Brien Boise",
         "New Zealand",
         20,
         "Smooth Sliky Salty",
         "2022-01-18",
         "$1,015 ",
         27
        ],
        [
         4,
         "Brien Boise",
         "Australia",
         7,
         "Baker's Choco Chips",
         "2022-01-04",
         "$12,516 ",
         212
        ],
        [
         8,
         "Dennison Crosswaite",
         "Australia",
         4,
         "99% Dark & Pure",
         "2022-01-31",
         "$2,758 ",
         18
        ],
        [
         17,
         "Kelci Walkden",
         "India",
         6,
         "Almond Choco",
         "2022-03-14",
         "$3,297 ",
         149
        ],
        [
         5,
         "Camilla Castle",
         "Australia",
         2,
         "70% Dark Bites",
         "2022-04-29",
         "$6,048 ",
         477
        ],
        [
         21,
         "Oby Sorrel",
         "India",
         20,
         "Smooth Sliky Salty",
         "2022-02-07",
         "$10,101 ",
         108
        ],
        [
         15,
         "Kaine Padly",
         "UK",
         17,
         "Organic Choco Syrup",
         "2022-03-31",
         "$2,282 ",
         178
        ],
        [
         20,
         "Marney O'Breen",
         "India",
         8,
         "Caramel Stuffed Bars",
         "2022-03-16",
         "$4,361 ",
         81
        ],
        [
         16,
         "Karlen McCaffrey",
         "UK",
         11,
         "Eclairs",
         "2022-01-25",
         "$7,798 ",
         196
        ],
        [
         24,
         "Van Tuxwell",
         "India",
         7,
         "Baker's Choco Chips",
         "2022-06-20",
         "$3,052 ",
         447
        ],
        [
         10,
         "Gigi Bohling",
         "UK",
         5,
         "After Nines",
         "2022-03-29",
         "$8,029 ",
         175
        ],
        [
         7,
         "Curtice Advani",
         "Australia",
         16,
         "Orange Choco",
         "2022-07-12",
         "$854 ",
         136
        ],
        [
         14,
         "Jehu Rudeforth",
         "Canada",
         20,
         "Smooth Sliky Salty",
         "2022-07-11",
         "$5,460 ",
         138
        ],
        [
         16,
         "Karlen McCaffrey",
         "Canada",
         20,
         "Smooth Sliky Salty",
         "2022-01-19",
         "$3,017 ",
         184
        ],
        [
         1,
         "Andria Kimpton",
         "USA",
         3,
         "85% Dark Bars",
         "2022-04-05",
         "$8,911 ",
         82
        ],
        [
         14,
         "Jehu Rudeforth",
         "Canada",
         14,
         "Milk Bars",
         "2022-02-21",
         "$7,203 ",
         12
        ],
        [
         22,
         "Rafaelita Blaksland",
         "New Zealand",
         8,
         "Caramel Stuffed Bars",
         "2022-05-20",
         "$13,083 ",
         14
        ],
        [
         19,
         "Mallorie Waber",
         "Australia",
         14,
         "Milk Bars",
         "2022-07-29",
         "$2,779 ",
         104
        ],
        [
         2,
         "Barr Faughny",
         "USA",
         12,
         "Fruit & Nut Bars",
         "2022-01-28",
         "$9,058 ",
         46
        ],
        [
         20,
         "Marney O'Breen",
         "UK",
         8,
         "Caramel Stuffed Bars",
         "2022-07-19",
         "$3,549 ",
         112
        ],
        [
         19,
         "Mallorie Waber",
         "New Zealand",
         13,
         "Manuka Honey Choco",
         "2022-04-13",
         "$9,436 ",
         11
        ],
        [
         23,
         "Roddy Speechley",
         "India",
         18,
         "Peanut Butter Cubes",
         "2022-02-11",
         "$10,283 ",
         21
        ],
        [
         23,
         "Roddy Speechley",
         "New Zealand",
         14,
         "Milk Bars",
         "2022-03-02",
         "$5,446 ",
         116
        ],
        [
         6,
         "Ches Bonnell",
         "Australia",
         22,
         "White Choc",
         "2022-03-02",
         "$1,043 ",
         202
        ],
        [
         24,
         "Van Tuxwell",
         "USA",
         4,
         "99% Dark & Pure",
         "2022-07-28",
         "$12,586 ",
         6
        ],
        [
         17,
         "Kelci Walkden",
         "India",
         5,
         "After Nines",
         "2022-01-07",
         "$1,687 ",
         520
        ],
        [
         4,
         "Brien Boise",
         "UK",
         22,
         "White Choc",
         "2022-04-12",
         "$5,299 ",
         167
        ],
        [
         24,
         "Van Tuxwell",
         "Canada",
         6,
         "Almond Choco",
         "2022-06-27",
         "$3,213 ",
         72
        ],
        [
         14,
         "Jehu Rudeforth",
         "Australia",
         1,
         "50% Dark Bites",
         "2022-01-14",
         "$5,194 ",
         418
        ],
        [
         16,
         "Karlen McCaffrey",
         "UK",
         7,
         "Baker's Choco Chips",
         "2022-02-07",
         "$4,753 ",
         389
        ],
        [
         14,
         "Jehu Rudeforth",
         "Australia",
         16,
         "Orange Choco",
         "2022-03-23",
         "$13,706 ",
         26
        ],
        [
         20,
         "Marney O'Breen",
         "India",
         18,
         "Peanut Butter Cubes",
         "2022-01-10",
         "$6,489 ",
         146
        ],
        [
         21,
         "Oby Sorrel",
         "UK",
         9,
         "Choco Coated Almonds",
         "2022-03-17",
         "$9,324 ",
         41
        ],
        [
         10,
         "Gigi Bohling",
         "USA",
         21,
         "Spicy Special Slims",
         "2022-01-21",
         "$10,829 ",
         54
        ],
        [
         2,
         "Barr Faughny",
         "Australia",
         22,
         "White Choc",
         "2022-07-04",
         "$8,113 ",
         370
        ],
        [
         15,
         "Kaine Padly",
         "Canada",
         18,
         "Peanut Butter Cubes",
         "2022-07-04",
         "$3,269 ",
         176
        ],
        [
         9,
         "Dotty Strutley",
         "USA",
         13,
         "Manuka Honey Choco",
         "2022-08-10",
         "$273 ",
         210
        ],
        [
         8,
         "Dennison Crosswaite",
         "Australia",
         1,
         "50% Dark Bites",
         "2022-04-01",
         "$7,287 ",
         12
        ],
        [
         10,
         "Gigi Bohling",
         "India",
         19,
         "Raspberry Choco",
         "2022-02-22",
         "$2,583 ",
         159
        ],
        [
         5,
         "Camilla Castle",
         "UK",
         22,
         "White Choc",
         "2022-01-03",
         "$9,982 ",
         187
        ],
        [
         16,
         "Karlen McCaffrey",
         "India",
         10,
         "Drinking Coco",
         "2022-05-31",
         "$4,795 ",
         233
        ],
        [
         9,
         "Dotty Strutley",
         "UK",
         4,
         "99% Dark & Pure",
         "2022-01-03",
         "$9,310 ",
         282
        ],
        [
         12,
         "Husein Augar",
         "New Zealand",
         8,
         "Caramel Stuffed Bars",
         "2022-01-27",
         "$497 ",
         475
        ],
        [
         2,
         "Barr Faughny",
         "UK",
         1,
         "50% Dark Bites",
         "2022-01-28",
         "$581 ",
         65
        ],
        [
         7,
         "Curtice Advani",
         "Australia",
         17,
         "Organic Choco Syrup",
         "2022-06-28",
         "$3,472 ",
         311
        ],
        [
         12,
         "Husein Augar",
         "UK",
         9,
         "Choco Coated Almonds",
         "2022-03-02",
         "$4,333 ",
         43
        ],
        [
         25,
         "Wilone O'Kielt",
         "Australia",
         5,
         "After Nines",
         "2022-05-27",
         "$3,325 ",
         26
        ],
        [
         8,
         "Dennison Crosswaite",
         "USA",
         6,
         "Almond Choco",
         "2022-06-30",
         "$11,718 ",
         84
        ],
        [
         2,
         "Barr Faughny",
         "Canada",
         18,
         "Peanut Butter Cubes",
         "2022-06-07",
         "$2,100 ",
         78
        ],
        [
         15,
         "Kaine Padly",
         "USA",
         2,
         "70% Dark Bites",
         "2022-05-12",
         "$4,018 ",
         100
        ],
        [
         2,
         "Barr Faughny",
         "New Zealand",
         19,
         "Raspberry Choco",
         "2022-07-29",
         "$6,468 ",
         66
        ],
        [
         8,
         "Dennison Crosswaite",
         "UK",
         22,
         "White Choc",
         "2022-08-03",
         "$7,238 ",
         265
        ],
        [
         2,
         "Barr Faughny",
         "India",
         7,
         "Baker's Choco Chips",
         "2022-08-18",
         "$6,454 ",
         141
        ],
        [
         24,
         "Van Tuxwell",
         "New Zealand",
         20,
         "Smooth Sliky Salty",
         "2022-06-14",
         "$3,115 ",
         42
        ],
        [
         3,
         "Beverie Moffet",
         "UK",
         22,
         "White Choc",
         "2022-06-30",
         "$6,475 ",
         76
        ],
        [
         5,
         "Camilla Castle",
         "New Zealand",
         15,
         "Mint Chip Choco",
         "2022-06-13",
         "$1,162 ",
         190
        ],
        [
         6,
         "Ches Bonnell",
         "UK",
         16,
         "Orange Choco",
         "2022-04-27",
         "$14,238 ",
         54
        ],
        [
         13,
         "Jan Morforth",
         "Australia",
         22,
         "White Choc",
         "2022-07-27",
         "$3,472 ",
         32
        ],
        [
         19,
         "Mallorie Waber",
         "Canada",
         3,
         "85% Dark Bars",
         "2022-04-20",
         "$1,428 ",
         424
        ],
        [
         22,
         "Rafaelita Blaksland",
         "India",
         21,
         "Spicy Special Slims",
         "2022-01-04",
         "$8,064 ",
         134
        ],
        [
         6,
         "Ches Bonnell",
         "Australia",
         15,
         "Mint Chip Choco",
         "2022-02-21",
         "$9,660 ",
         92
        ],
        [
         16,
         "Karlen McCaffrey",
         "Australia",
         22,
         "White Choc",
         "2022-01-05",
         "$7,357 ",
         48
        ],
        [
         3,
         "Beverie Moffet",
         "India",
         10,
         "Drinking Coco",
         "2022-07-15",
         "$6,055 ",
         46
        ],
        [
         4,
         "Brien Boise",
         "Australia",
         9,
         "Choco Coated Almonds",
         "2022-05-25",
         "$5,124 ",
         62
        ],
        [
         16,
         "Karlen McCaffrey",
         "Canada",
         11,
         "Eclairs",
         "2022-04-20",
         "$3,479 ",
         358
        ],
        [
         10,
         "Gigi Bohling",
         "USA",
         4,
         "99% Dark & Pure",
         "2022-06-02",
         "$784 ",
         249
        ],
        [
         20,
         "Marney O'Breen",
         "UK",
         20,
         "Smooth Sliky Salty",
         "2022-05-13",
         "$18,991 ",
         88
        ],
        [
         3,
         "Beverie Moffet",
         "New Zealand",
         7,
         "Baker's Choco Chips",
         "2022-08-03",
         "$1,372 ",
         144
        ],
        [
         3,
         "Beverie Moffet",
         "Australia",
         14,
         "Milk Bars",
         "2022-05-25",
         "$735 ",
         390
        ],
        [
         24,
         "Van Tuxwell",
         "UK",
         19,
         "Raspberry Choco",
         "2022-03-16",
         "$6,538 ",
         79
        ],
        [
         13,
         "Jan Morforth",
         "Australia",
         16,
         "Orange Choco",
         "2022-07-04",
         "$3,199 ",
         122
        ],
        [
         14,
         "Jehu Rudeforth",
         "India",
         1,
         "50% Dark Bites",
         "2022-07-05",
         "$3,472 ",
         135
        ],
        [
         18,
         "Madelene Upcott",
         "USA",
         5,
         "After Nines",
         "2022-03-15",
         "$4,571 ",
         430
        ],
        [
         2,
         "Barr Faughny",
         "UK",
         19,
         "Raspberry Choco",
         "2022-08-22",
         "$5,481 ",
         69
        ],
        [
         6,
         "Ches Bonnell",
         "Australia",
         2,
         "70% Dark Bites",
         "2022-01-12",
         "$3,136 ",
         125
        ],
        [
         20,
         "Marney O'Breen",
         "UK",
         7,
         "Baker's Choco Chips",
         "2022-06-10",
         "$252 ",
         154
        ],
        [
         15,
         "Kaine Padly",
         "Australia",
         18,
         "Peanut Butter Cubes",
         "2022-03-25",
         "$5,460 ",
         286
        ],
        [
         22,
         "Rafaelita Blaksland",
         "India",
         6,
         "Almond Choco",
         "2022-07-27",
         "$3,395 ",
         99
        ],
        [
         12,
         "Husein Augar",
         "UK",
         8,
         "Caramel Stuffed Bars",
         "2022-04-15",
         "$14,938 ",
         433
        ],
        [
         23,
         "Roddy Speechley",
         "India",
         16,
         "Orange Choco",
         "2022-06-27",
         "$4,053 ",
         19
        ],
        [
         14,
         "Jehu Rudeforth",
         "UK",
         2,
         "70% Dark Bites",
         "2022-04-14",
         "$5,565 ",
         258
        ],
        [
         12,
         "Husein Augar",
         "Australia",
         13,
         "Manuka Honey Choco",
         "2022-03-15",
         "$7,161 ",
         92
        ],
        [
         18,
         "Madelene Upcott",
         "USA",
         11,
         "Eclairs",
         "2022-03-18",
         "$8,883 ",
         200
        ],
        [
         4,
         "Brien Boise",
         "India",
         11,
         "Eclairs",
         "2022-04-29",
         "$1,351 ",
         61
        ],
        [
         19,
         "Mallorie Waber",
         "New Zealand",
         22,
         "White Choc",
         "2022-02-25",
         "$3,171 ",
         246
        ],
        [
         12,
         "Husein Augar",
         "USA",
         14,
         "Milk Bars",
         "2022-03-02",
         "$854 ",
         56
        ],
        [
         24,
         "Van Tuxwell",
         "Australia",
         14,
         "Milk Bars",
         "2022-06-20",
         "$7,910 ",
         87
        ],
        [
         3,
         "Beverie Moffet",
         "Canada",
         22,
         "White Choc",
         "2022-07-15",
         "$9,275 ",
         173
        ],
        [
         9,
         "Dotty Strutley",
         "Australia",
         1,
         "50% Dark Bites",
         "2022-05-12",
         "$3,108 ",
         252
        ],
        [
         19,
         "Mallorie Waber",
         "New Zealand",
         17,
         "Organic Choco Syrup",
         "2022-07-01",
         "$5,075 ",
         256
        ],
        [
         12,
         "Husein Augar",
         "USA",
         3,
         "85% Dark Bars",
         "2022-08-08",
         "$378 ",
         54
        ],
        [
         18,
         "Madelene Upcott",
         "Australia",
         1,
         "50% Dark Bites",
         "2022-07-25",
         "$7,350 ",
         6
        ],
        [
         25,
         "Wilone O'Kielt",
         "UK",
         10,
         "Drinking Coco",
         "2022-05-18",
         "$3,388 ",
         55
        ],
        [
         5,
         "Camilla Castle",
         "India",
         18,
         "Peanut Butter Cubes",
         "2022-07-15",
         "$11,837 ",
         277
        ],
        [
         7,
         "Curtice Advani",
         "India",
         2,
         "70% Dark Bites",
         "2022-07-05",
         "$2,282 ",
         44
        ],
        [
         19,
         "Mallorie Waber",
         "USA",
         13,
         "Manuka Honey Choco",
         "2022-07-04",
         "$5,425 ",
         96
        ],
        [
         9,
         "Dotty Strutley",
         "UK",
         2,
         "70% Dark Bites",
         "2022-06-20",
         "$1,267 ",
         216
        ],
        [
         11,
         "Gunar Cockshoot",
         "Australia",
         6,
         "Almond Choco",
         "2022-01-25",
         "$3,752 ",
         424
        ],
        [
         15,
         "Kaine Padly",
         "New Zealand",
         21,
         "Spicy Special Slims",
         "2022-07-01",
         "$7,728 ",
         37
        ],
        [
         10,
         "Gigi Bohling",
         "USA",
         1,
         "50% Dark Bites",
         "2022-04-13",
         "$2,296 ",
         59
        ],
        [
         3,
         "Beverie Moffet",
         "UK",
         20,
         "Smooth Sliky Salty",
         "2022-05-04",
         "$4,403 ",
         76
        ],
        [
         3,
         "Beverie Moffet",
         "Australia",
         7,
         "Baker's Choco Chips",
         "2022-08-04",
         "$3,192 ",
         109
        ],
        [
         3,
         "Beverie Moffet",
         "India",
         2,
         "70% Dark Bites",
         "2022-06-01",
         "$448 ",
         146
        ],
        [
         14,
         "Jehu Rudeforth",
         "UK",
         9,
         "Choco Coated Almonds",
         "2022-04-22",
         "$4,270 ",
         185
        ],
        [
         15,
         "Kaine Padly",
         "USA",
         1,
         "50% Dark Bites",
         "2022-08-03",
         "$70 ",
         27
        ],
        [
         6,
         "Ches Bonnell",
         "USA",
         16,
         "Orange Choco",
         "2022-06-10",
         "$1,743 ",
         69
        ],
        [
         11,
         "Gunar Cockshoot",
         "UK",
         13,
         "Manuka Honey Choco",
         "2022-06-27",
         "$6,762 ",
         46
        ],
        [
         20,
         "Marney O'Breen",
         "Australia",
         20,
         "Smooth Sliky Salty",
         "2022-01-03",
         "$3,745 ",
         170
        ],
        [
         20,
         "Marney O'Breen",
         "India",
         5,
         "After Nines",
         "2022-07-11",
         "$2,639 ",
         179
        ],
        [
         6,
         "Ches Bonnell",
         "New Zealand",
         14,
         "Milk Bars",
         "2022-08-17",
         "$4,389 ",
         126
        ],
        [
         22,
         "Rafaelita Blaksland",
         "USA",
         12,
         "Fruit & Nut Bars",
         "2022-01-18",
         "$2,604 ",
         65
        ],
        [
         6,
         "Ches Bonnell",
         "India",
         17,
         "Organic Choco Syrup",
         "2022-03-08",
         "$16,569 ",
         99
        ],
        [
         19,
         "Mallorie Waber",
         "Australia",
         16,
         "Orange Choco",
         "2022-03-07",
         "$14,658 ",
         275
        ],
        [
         12,
         "Husein Augar",
         "India",
         2,
         "70% Dark Bites",
         "2022-05-09",
         "$6,454 ",
         157
        ],
        [
         2,
         "Barr Faughny",
         "New Zealand",
         3,
         "85% Dark Bars",
         "2022-05-23",
         "$2,100 ",
         157
        ],
        [
         18,
         "Madelene Upcott",
         "UK",
         8,
         "Caramel Stuffed Bars",
         "2022-04-15",
         "$161 ",
         145
        ],
        [
         10,
         "Gigi Bohling",
         "Australia",
         10,
         "Drinking Coco",
         "2022-07-27",
         "$2,807 ",
         139
        ],
        [
         20,
         "Marney O'Breen",
         "Canada",
         9,
         "Choco Coated Almonds",
         "2022-08-22",
         "$2,639 ",
         406
        ],
        [
         6,
         "Ches Bonnell",
         "USA",
         2,
         "70% Dark Bites",
         "2022-05-11",
         "$4,571 ",
         122
        ],
        [
         18,
         "Madelene Upcott",
         "India",
         17,
         "Organic Choco Syrup",
         "2022-01-26",
         "$4,781 ",
         38
        ],
        [
         2,
         "Barr Faughny",
         "USA",
         1,
         "50% Dark Bites",
         "2022-04-14",
         "$13,034 ",
         117
        ],
        [
         8,
         "Dennison Crosswaite",
         "New Zealand",
         15,
         "Mint Chip Choco",
         "2022-04-05",
         "$6,454 ",
         417
        ],
        [
         20,
         "Marney O'Breen",
         "New Zealand",
         20,
         "Smooth Sliky Salty",
         "2022-06-14",
         "$8,484 ",
         57
        ],
        [
         4,
         "Brien Boise",
         "Canada",
         6,
         "Almond Choco",
         "2022-04-13",
         "$4,781 ",
         125
        ],
        [
         3,
         "Beverie Moffet",
         "Australia",
         22,
         "White Choc",
         "2022-06-27",
         "$2,240 ",
         166
        ],
        [
         9,
         "Dotty Strutley",
         "Australia",
         11,
         "Eclairs",
         "2022-01-26",
         "$6,979 ",
         3
        ],
        [
         2,
         "Barr Faughny",
         "UK",
         22,
         "White Choc",
         "2022-07-05",
         "$1,652 ",
         72
        ],
        [
         3,
         "Beverie Moffet",
         "Canada",
         7,
         "Baker's Choco Chips",
         "2022-01-11",
         "$13,447 ",
         95
        ],
        [
         17,
         "Kelci Walkden",
         "USA",
         22,
         "White Choc",
         "2022-03-07",
         "$9,422 ",
         22
        ],
        [
         15,
         "Kaine Padly",
         "Canada",
         1,
         "50% Dark Bites",
         "2022-03-04",
         "$8,687 ",
         100
        ],
        [
         16,
         "Karlen McCaffrey",
         "Canada",
         17,
         "Organic Choco Syrup",
         "2022-07-15",
         "$2,415 ",
         312
        ],
        [
         15,
         "Kaine Padly",
         "UK",
         18,
         "Peanut Butter Cubes",
         "2022-05-11",
         "$6,272 ",
         86
        ],
        [
         16,
         "Karlen McCaffrey",
         "USA",
         14,
         "Milk Bars",
         "2022-01-27",
         "$4,389 ",
         7
        ],
        [
         16,
         "Karlen McCaffrey",
         "India",
         16,
         "Orange Choco",
         "2022-06-27",
         "$3,122 ",
         149
        ],
        [
         6,
         "Ches Bonnell",
         "India",
         20,
         "Smooth Sliky Salty",
         "2022-08-03",
         "$8,043 ",
         18
        ],
        [
         25,
         "Wilone O'Kielt",
         "New Zealand",
         15,
         "Mint Chip Choco",
         "2022-08-19",
         "$11,662 ",
         242
        ],
        [
         25,
         "Wilone O'Kielt",
         "Australia",
         12,
         "Fruit & Nut Bars",
         "2022-06-15",
         "$392 ",
         102
        ],
        [
         8,
         "Dennison Crosswaite",
         "UK",
         18,
         "Peanut Butter Cubes",
         "2022-02-07",
         "$8,925 ",
         158
        ],
        [
         16,
         "Karlen McCaffrey",
         "Australia",
         6,
         "Almond Choco",
         "2022-07-08",
         "$7,294 ",
         128
        ],
        [
         8,
         "Dennison Crosswaite",
         "India",
         14,
         "Milk Bars",
         "2022-04-21",
         "$1,526 ",
         96
        ],
        [
         6,
         "Ches Bonnell",
         "UK",
         15,
         "Mint Chip Choco",
         "2022-04-08",
         "$2,688 ",
         209
        ],
        [
         12,
         "Husein Augar",
         "Australia",
         1,
         "50% Dark Bites",
         "2022-08-19",
         "$14,889 ",
         52
        ],
        [
         13,
         "Jan Morforth",
         "India",
         12,
         "Fruit & Nut Bars",
         "2022-05-04",
         "$2,912 ",
         55
        ],
        [
         19,
         "Mallorie Waber",
         "USA",
         3,
         "85% Dark Bars",
         "2022-05-11",
         "$2,632 ",
         108
        ],
        [
         19,
         "Mallorie Waber",
         "USA",
         11,
         "Eclairs",
         "2022-03-22",
         "$6,328 ",
         51
        ],
        [
         8,
         "Dennison Crosswaite",
         "Canada",
         21,
         "Spicy Special Slims",
         "2022-08-10",
         "$2,527 ",
         216
        ],
        [
         8,
         "Dennison Crosswaite",
         "USA",
         12,
         "Fruit & Nut Bars",
         "2022-05-04",
         "$1,414 ",
         318
        ],
        [
         17,
         "Kelci Walkden",
         "USA",
         4,
         "99% Dark & Pure",
         "2022-08-18",
         "$7,714 ",
         238
        ],
        [
         9,
         "Dotty Strutley",
         "Canada",
         19,
         "Raspberry Choco",
         "2022-08-03",
         "$4,347 ",
         238
        ],
        [
         20,
         "Marney O'Breen",
         "New Zealand",
         14,
         "Milk Bars",
         "2022-01-14",
         "$7,490 ",
         315
        ],
        [
         18,
         "Madelene Upcott",
         "Australia",
         9,
         "Choco Coated Almonds",
         "2022-04-08",
         "$2,058 ",
         72
        ],
        [
         17,
         "Kelci Walkden",
         "UK",
         16,
         "Orange Choco",
         "2022-08-01",
         "$3,640 ",
         3
        ],
        [
         8,
         "Dennison Crosswaite",
         "Canada",
         11,
         "Eclairs",
         "2022-03-15",
         "$455 ",
         45
        ],
        [
         16,
         "Karlen McCaffrey",
         "India",
         15,
         "Mint Chip Choco",
         "2022-07-15",
         "$10,990 ",
         184
        ],
        [
         2,
         "Barr Faughny",
         "New Zealand",
         6,
         "Almond Choco",
         "2022-01-13",
         "$5,558 ",
         127
        ],
        [
         19,
         "Mallorie Waber",
         "Australia",
         3,
         "85% Dark Bars",
         "2022-08-26",
         "$2,541 ",
         53
        ],
        [
         6,
         "Ches Bonnell",
         "Canada",
         11,
         "Eclairs",
         "2022-01-10",
         "$1,876 ",
         172
        ],
        [
         10,
         "Gigi Bohling",
         "Australia",
         22,
         "White Choc",
         "2022-05-11",
         "$5,523 ",
         87
        ],
        [
         3,
         "Beverie Moffet",
         "New Zealand",
         3,
         "85% Dark Bars",
         "2022-08-30",
         "$11,200 ",
         22
        ],
        [
         15,
         "Kaine Padly",
         "USA",
         8,
         "Caramel Stuffed Bars",
         "2022-07-21",
         "$5,593 ",
         122
        ],
        [
         19,
         "Mallorie Waber",
         "Australia",
         6,
         "Almond Choco",
         "2022-08-01",
         "$7,882 ",
         125
        ],
        [
         4,
         "Brien Boise",
         "Canada",
         3,
         "85% Dark Bars",
         "2022-02-17",
         "$10,241 ",
         259
        ],
        [
         4,
         "Brien Boise",
         "Australia",
         10,
         "Drinking Coco",
         "2022-07-27",
         "$6,832 ",
         156
        ],
        [
         9,
         "Dotty Strutley",
         "USA",
         16,
         "Orange Choco",
         "2022-02-23",
         "$1,379 ",
         107
        ],
        [
         22,
         "Rafaelita Blaksland",
         "Australia",
         1,
         "50% Dark Bites",
         "2022-03-22",
         "$3,010 ",
         40
        ],
        [
         8,
         "Dennison Crosswaite",
         "India",
         4,
         "99% Dark & Pure",
         "2022-06-23",
         "$6,888 ",
         311
        ],
        [
         7,
         "Curtice Advani",
         "UK",
         22,
         "White Choc",
         "2022-02-01",
         "$1,540 ",
         73
        ],
        [
         17,
         "Kelci Walkden",
         "Australia",
         5,
         "After Nines",
         "2022-03-02",
         "$6,916 ",
         288
        ],
        [
         10,
         "Gigi Bohling",
         "UK",
         12,
         "Fruit & Nut Bars",
         "2022-04-06",
         "$1,232 ",
         86
        ],
        [
         11,
         "Gunar Cockshoot",
         "Australia",
         19,
         "Raspberry Choco",
         "2022-03-17",
         "$602 ",
         72
        ],
        [
         7,
         "Curtice Advani",
         "UK",
         12,
         "Fruit & Nut Bars",
         "2022-06-24",
         "$10,927 ",
         136
        ],
        [
         2,
         "Barr Faughny",
         "Canada",
         1,
         "50% Dark Bites",
         "2022-07-19",
         "$10,185 ",
         303
        ],
        [
         7,
         "Curtice Advani",
         "USA",
         21,
         "Spicy Special Slims",
         "2022-07-11",
         "$1,603 ",
         264
        ],
        [
         4,
         "Brien Boise",
         "India",
         6,
         "Almond Choco",
         "2022-01-13",
         "$2,170 ",
         218
        ],
        [
         21,
         "Oby Sorrel",
         "New Zealand",
         20,
         "Smooth Sliky Salty",
         "2022-07-07",
         "$8,673 ",
         60
        ],
        [
         13,
         "Jan Morforth",
         "India",
         3,
         "85% Dark Bars",
         "2022-05-25",
         "$4,760 ",
         418
        ],
        [
         20,
         "Marney O'Breen",
         "India",
         12,
         "Fruit & Nut Bars",
         "2022-04-13",
         "$4,753 ",
         151
        ],
        [
         1,
         "Andria Kimpton",
         "New Zealand",
         1,
         "50% Dark Bites",
         "2022-03-02",
         "$3,374 ",
         202
        ],
        [
         11,
         "Gunar Cockshoot",
         "Canada",
         19,
         "Raspberry Choco",
         "2022-06-23",
         "$2,058 ",
         126
        ],
        [
         17,
         "Kelci Walkden",
         "USA",
         10,
         "Drinking Coco",
         "2022-07-26",
         "$6,454 ",
         160
        ],
        [
         24,
         "Van Tuxwell",
         "Canada",
         22,
         "White Choc",
         "2022-03-22",
         "$420 ",
         3
        ],
        [
         22,
         "Rafaelita Blaksland",
         "USA",
         7,
         "Baker's Choco Chips",
         "2022-06-09",
         "$2,863 ",
         58
        ],
        [
         24,
         "Van Tuxwell",
         "Australia",
         8,
         "Caramel Stuffed Bars",
         "2022-05-17",
         "$5,936 ",
         59
        ],
        [
         6,
         "Ches Bonnell",
         "New Zealand",
         18,
         "Peanut Butter Cubes",
         "2022-03-04",
         "$889 ",
         273
        ],
        [
         17,
         "Kelci Walkden",
         "Canada",
         14,
         "Milk Bars",
         "2022-07-07",
         "$16,016 ",
         28
        ],
        [
         8,
         "Dennison Crosswaite",
         "Canada",
         9,
         "Choco Coated Almonds",
         "2022-01-13",
         "$10,479 ",
         118
        ],
        [
         7,
         "Curtice Advani",
         "Australia",
         6,
         "Almond Choco",
         "2022-07-13",
         "$2,912 ",
         75
        ],
        [
         18,
         "Madelene Upcott",
         "Australia",
         3,
         "85% Dark Bars",
         "2022-06-16",
         "$1,575 ",
         329
        ],
        [
         10,
         "Gigi Bohling",
         "UK",
         1,
         "50% Dark Bites",
         "2022-07-18",
         "$8,197 ",
         69
        ],
        [
         6,
         "Ches Bonnell",
         "UK",
         13,
         "Manuka Honey Choco",
         "2022-05-30",
         "$4,221 ",
         395
        ],
        [
         10,
         "Gigi Bohling",
         "UK",
         2,
         "70% Dark Bites",
         "2022-06-21",
         "$840 ",
         81
        ],
        [
         14,
         "Jehu Rudeforth",
         "Australia",
         18,
         "Peanut Butter Cubes",
         "2022-06-24",
         "$5,691 ",
         38
        ],
        [
         20,
         "Marney O'Breen",
         "India",
         11,
         "Eclairs",
         "2022-01-13",
         "$3,472 ",
         96
        ],
        [
         7,
         "Curtice Advani",
         "Canada",
         12,
         "Fruit & Nut Bars",
         "2022-04-04",
         "$4,193 ",
         195
        ],
        [
         15,
         "Kaine Padly",
         "UK",
         20,
         "Smooth Sliky Salty",
         "2022-06-08",
         "$9,016 ",
         554
        ],
        [
         16,
         "Karlen McCaffrey",
         "Canada",
         21,
         "Spicy Special Slims",
         "2022-08-02",
         "$6,328 ",
         47
        ],
        [
         17,
         "Kelci Walkden",
         "USA",
         17,
         "Organic Choco Syrup",
         "2022-07-21",
         "$9,870 ",
         152
        ],
        [
         7,
         "Curtice Advani",
         "India",
         21,
         "Spicy Special Slims",
         "2022-06-20",
         "$161 ",
         134
        ],
        [
         23,
         "Roddy Speechley",
         "India",
         5,
         "After Nines",
         "2022-06-22",
         "$2,576 ",
         112
        ],
        [
         5,
         "Camilla Castle",
         "Australia",
         8,
         "Caramel Stuffed Bars",
         "2022-05-02",
         "$3,178 ",
         16
        ],
        [
         7,
         "Curtice Advani",
         "Australia",
         4,
         "99% Dark & Pure",
         "2022-01-07",
         "$4,676 ",
         84
        ],
        [
         19,
         "Mallorie Waber",
         "UK",
         1,
         "50% Dark Bites",
         "2022-02-21",
         "$5,502 ",
         99
        ],
        [
         6,
         "Ches Bonnell",
         "Canada",
         7,
         "Baker's Choco Chips",
         "2022-03-21",
         "$7,462 ",
         371
        ],
        [
         24,
         "Van Tuxwell",
         "UK",
         10,
         "Drinking Coco",
         "2022-04-04",
         "$5,803 ",
         136
        ],
        [
         11,
         "Gunar Cockshoot",
         "Canada",
         12,
         "Fruit & Nut Bars",
         "2022-03-24",
         "$13,888 ",
         203
        ],
        [
         11,
         "Gunar Cockshoot",
         "New Zealand",
         21,
         "Spicy Special Slims",
         "2022-06-28",
         "$6,867 ",
         183
        ],
        [
         11,
         "Gunar Cockshoot",
         "Australia",
         10,
         "Drinking Coco",
         "2022-01-14",
         "$2,317 ",
         195
        ],
        [
         16,
         "Karlen McCaffrey",
         "New Zealand",
         12,
         "Fruit & Nut Bars",
         "2022-02-07",
         "$1,218 ",
         135
        ],
        [
         8,
         "Dennison Crosswaite",
         "New Zealand",
         10,
         "Drinking Coco",
         "2022-01-11",
         "$4,109 ",
         197
        ],
        [
         14,
         "Jehu Rudeforth",
         "India",
         4,
         "99% Dark & Pure",
         "2022-02-25",
         "$1,953 ",
         242
        ],
        [
         9,
         "Dotty Strutley",
         "Australia",
         15,
         "Mint Chip Choco",
         "2022-08-01",
         "$6,790 ",
         25
        ],
        [
         23,
         "Roddy Speechley",
         "Australia",
         15,
         "Mint Chip Choco",
         "2022-05-05",
         "$6,797 ",
         252
        ],
        [
         18,
         "Madelene Upcott",
         "New Zealand",
         19,
         "Raspberry Choco",
         "2022-05-18",
         "$9,226 ",
         415
        ],
        [
         9,
         "Dotty Strutley",
         "New Zealand",
         9,
         "Choco Coated Almonds",
         "2022-01-04",
         "$5,733 ",
         348
        ],
        [
         23,
         "Roddy Speechley",
         "New Zealand",
         1,
         "50% Dark Bites",
         "2022-05-09",
         "$4,312 ",
         211
        ],
        [
         22,
         "Rafaelita Blaksland",
         "India",
         20,
         "Smooth Sliky Salty",
         "2022-05-06",
         "$1,638 ",
         81
        ],
        [
         12,
         "Husein Augar",
         "UK",
         22,
         "White Choc",
         "2022-01-13",
         "$10,815 ",
         145
        ],
        [
         23,
         "Roddy Speechley",
         "Australia",
         6,
         "Almond Choco",
         "2022-06-24",
         "$4,466 ",
         74
        ],
        [
         24,
         "Van Tuxwell",
         "USA",
         8,
         "Caramel Stuffed Bars",
         "2022-02-14",
         "$987 ",
         21
        ],
        [
         5,
         "Camilla Castle",
         "Australia",
         4,
         "99% Dark & Pure",
         "2022-01-18",
         "$4,669 ",
         101
        ],
        [
         15,
         "Kaine Padly",
         "India",
         14,
         "Milk Bars",
         "2022-05-02",
         "$2,905 ",
         91
        ],
        [
         6,
         "Ches Bonnell",
         "Australia",
         20,
         "Smooth Sliky Salty",
         "2022-05-16",
         "$7,490 ",
         54
        ],
        [
         19,
         "Mallorie Waber",
         "USA",
         6,
         "Almond Choco",
         "2022-01-28",
         "$6,986 ",
         368
        ],
        [
         15,
         "Kaine Padly",
         "Canada",
         4,
         "99% Dark & Pure",
         "2022-06-24",
         "$1,288 ",
         409
        ],
        [
         21,
         "Oby Sorrel",
         "UK",
         5,
         "After Nines",
         "2022-07-18",
         "$2,345 ",
         104
        ],
        [
         11,
         "Gunar Cockshoot",
         "UK",
         11,
         "Eclairs",
         "2022-04-13",
         "$3,619 ",
         164
        ],
        [
         9,
         "Dotty Strutley",
         "USA",
         8,
         "Caramel Stuffed Bars",
         "2022-04-15",
         "$16,982 ",
         76
        ],
        [
         13,
         "Jan Morforth",
         "India",
         18,
         "Peanut Butter Cubes",
         "2022-01-04",
         "$8,092 ",
         178
        ],
        [
         12,
         "Husein Augar",
         "Australia",
         11,
         "Eclairs",
         "2022-07-04",
         "$6,993 ",
         31
        ],
        [
         3,
         "Beverie Moffet",
         "USA",
         20,
         "Smooth Sliky Salty",
         "2022-03-24",
         "$2,317 ",
         352
        ],
        [
         5,
         "Camilla Castle",
         "Australia",
         13,
         "Manuka Honey Choco",
         "2022-03-17",
         "$637 ",
         169
        ],
        [
         21,
         "Oby Sorrel",
         "Australia",
         6,
         "Almond Choco",
         "2022-02-15",
         "$6,034 ",
         223
        ],
        [
         13,
         "Jan Morforth",
         "USA",
         16,
         "Orange Choco",
         "2022-06-29",
         "$980 ",
         146
        ],
        [
         10,
         "Gigi Bohling",
         "USA",
         12,
         "Fruit & Nut Bars",
         "2022-05-24",
         "$2,821 ",
         112
        ],
        [
         19,
         "Mallorie Waber",
         "UK",
         14,
         "Milk Bars",
         "2022-01-10",
         "$3,563 ",
         284
        ],
        [
         7,
         "Curtice Advani",
         "USA",
         19,
         "Raspberry Choco",
         "2022-03-15",
         "$2,996 ",
         139
        ],
        [
         20,
         "Marney O'Breen",
         "Canada",
         14,
         "Milk Bars",
         "2022-02-08",
         "$2,436 ",
         309
        ],
        [
         4,
         "Brien Boise",
         "India",
         8,
         "Caramel Stuffed Bars",
         "2022-02-25",
         "$1,540 ",
         100
        ],
        [
         11,
         "Gunar Cockshoot",
         "USA",
         11,
         "Eclairs",
         "2022-05-03",
         "$6,916 ",
         42
        ],
        [
         23,
         "Roddy Speechley",
         "USA",
         12,
         "Fruit & Nut Bars",
         "2022-06-14",
         "$5,509 ",
         24
        ],
        [
         11,
         "Gunar Cockshoot",
         "India",
         1,
         "50% Dark Bites",
         "2022-08-09",
         "$12,992 ",
         83
        ],
        [
         25,
         "Wilone O'Kielt",
         "New Zealand",
         13,
         "Manuka Honey Choco",
         "2022-07-11",
         "$3,724 ",
         234
        ],
        [
         15,
         "Kaine Padly",
         "UK",
         13,
         "Manuka Honey Choco",
         "2022-01-14",
         "$7,133 ",
         118
        ],
        [
         24,
         "Van Tuxwell",
         "Canada",
         13,
         "Manuka Honey Choco",
         "2022-02-24",
         "$8,617 ",
         46
        ],
        [
         25,
         "Wilone O'Kielt",
         "New Zealand",
         6,
         "Almond Choco",
         "2022-03-15",
         "$9,198 ",
         144
        ],
        [
         21,
         "Oby Sorrel",
         "New Zealand",
         7,
         "Baker's Choco Chips",
         "2022-04-25",
         "$11,823 ",
         47
        ],
        [
         8,
         "Dennison Crosswaite",
         "Australia",
         17,
         "Organic Choco Syrup",
         "2022-05-10",
         "$5,775 ",
         41
        ],
        [
         20,
         "Marney O'Breen",
         "Australia",
         21,
         "Spicy Special Slims",
         "2022-06-23",
         "$13,125 ",
         275
        ],
        [
         3,
         "Beverie Moffet",
         "Canada",
         20,
         "Smooth Sliky Salty",
         "2022-02-28",
         "$14,287 ",
         370
        ],
        [
         4,
         "Brien Boise",
         "USA",
         17,
         "Organic Choco Syrup",
         "2022-05-25",
         "$16,233 ",
         138
        ],
        [
         23,
         "Roddy Speechley",
         "New Zealand",
         7,
         "Baker's Choco Chips",
         "2022-02-22",
         "$5,313 ",
         215
        ],
        [
         24,
         "Van Tuxwell",
         "UK",
         3,
         "85% Dark Bars",
         "2022-07-11",
         "$3,577 ",
         134
        ],
        [
         20,
         "Marney O'Breen",
         "Canada",
         21,
         "Spicy Special Slims",
         "2022-01-03",
         "$3,528 ",
         336
        ],
        [
         22,
         "Rafaelita Blaksland",
         "New Zealand",
         2,
         "70% Dark Bites",
         "2022-08-24",
         "$679 ",
         280
        ],
        [
         3,
         "Beverie Moffet",
         "USA",
         1,
         "50% Dark Bites",
         "2022-07-28",
         "$2,450 ",
         352
        ],
        [
         4,
         "Brien Boise",
         "USA",
         15,
         "Mint Chip Choco",
         "2022-05-25",
         "$10,577 ",
         150
        ],
        [
         16,
         "Karlen McCaffrey",
         "New Zealand",
         11,
         "Eclairs",
         "2022-05-06",
         "$2,597 ",
         177
        ],
        [
         2,
         "Barr Faughny",
         "India",
         10,
         "Drinking Coco",
         "2022-01-28",
         "$2,219 ",
         142
        ],
        [
         20,
         "Marney O'Breen",
         "UK",
         16,
         "Orange Choco",
         "2022-06-06",
         "$11,319 ",
         12
        ],
        [
         4,
         "Brien Boise",
         "New Zealand",
         7,
         "Baker's Choco Chips",
         "2022-07-12",
         "$5,978 ",
         24
        ],
        [
         6,
         "Ches Bonnell",
         "Canada",
         21,
         "Spicy Special Slims",
         "2022-08-05",
         "$5,327 ",
         183
        ],
        [
         4,
         "Brien Boise",
         "USA",
         16,
         "Orange Choco",
         "2022-01-28",
         "$6,020 ",
         147
        ],
        [
         15,
         "Kaine Padly",
         "India",
         21,
         "Spicy Special Slims",
         "2022-08-31",
         "$5,614 ",
         137
        ],
        [
         19,
         "Mallorie Waber",
         "USA",
         1,
         "50% Dark Bites",
         "2022-04-19",
         "$1,736 ",
         13
        ],
        [
         19,
         "Mallorie Waber",
         "UK",
         15,
         "Mint Chip Choco",
         "2022-06-29",
         "$6,384 ",
         2
        ],
        [
         3,
         "Beverie Moffet",
         "India",
         9,
         "Choco Coated Almonds",
         "2022-02-24",
         "$3,577 ",
         261
        ],
        [
         18,
         "Madelene Upcott",
         "UK",
         20,
         "Smooth Sliky Salty",
         "2022-03-04",
         "$14,539 ",
         84
        ],
        [
         10,
         "Gigi Bohling",
         "India",
         11,
         "Eclairs",
         "2022-06-21",
         "$3,493 ",
         68
        ],
        [
         22,
         "Rafaelita Blaksland",
         "Australia",
         17,
         "Organic Choco Syrup",
         "2022-01-26",
         "$994 ",
         105
        ],
        [
         21,
         "Oby Sorrel",
         "New Zealand",
         22,
         "White Choc",
         "2022-06-10",
         "$4,361 ",
         40
        ],
        [
         1,
         "Andria Kimpton",
         "UK",
         10,
         "Drinking Coco",
         "2022-05-23",
         "$1,554 ",
         65
        ],
        [
         17,
         "Kelci Walkden",
         "India",
         14,
         "Milk Bars",
         "2022-04-15",
         "$966 ",
         107
        ],
        [
         16,
         "Karlen McCaffrey",
         "New Zealand",
         8,
         "Caramel Stuffed Bars",
         "2022-01-31",
         "$5,334 ",
         227
        ],
        [
         1,
         "Andria Kimpton",
         "New Zealand",
         17,
         "Organic Choco Syrup",
         "2022-03-04",
         "$4,935 ",
         39
        ],
        [
         2,
         "Barr Faughny",
         "New Zealand",
         5,
         "After Nines",
         "2022-04-19",
         "$10,024 ",
         84
        ],
        [
         3,
         "Beverie Moffet",
         "UK",
         6,
         "Almond Choco",
         "2022-05-16",
         "$2,506 ",
         100
        ],
        [
         21,
         "Oby Sorrel",
         "Australia",
         19,
         "Raspberry Choco",
         "2022-02-17",
         "$1,043 ",
         120
        ],
        [
         8,
         "Dennison Crosswaite",
         "USA",
         19,
         "Raspberry Choco",
         "2022-01-18",
         "$6,524 ",
         257
        ],
        [
         23,
         "Roddy Speechley",
         "Canada",
         16,
         "Orange Choco",
         "2022-02-09",
         "$8,148 ",
         85
        ],
        [
         19,
         "Mallorie Waber",
         "Canada",
         16,
         "Orange Choco",
         "2022-03-23",
         "$3,577 ",
         178
        ],
        [
         18,
         "Madelene Upcott",
         "New Zealand",
         8,
         "Caramel Stuffed Bars",
         "2022-02-01",
         "$3,374 ",
         151
        ],
        [
         19,
         "Mallorie Waber",
         "India",
         10,
         "Drinking Coco",
         "2022-03-07",
         "$3,948 ",
         142
        ],
        [
         6,
         "Ches Bonnell",
         "UK",
         22,
         "White Choc",
         "2022-01-03",
         "$3,269 ",
         226
        ],
        [
         6,
         "Ches Bonnell",
         "USA",
         22,
         "White Choc",
         "2022-02-11",
         "$5,271 ",
         341
        ],
        [
         8,
         "Dennison Crosswaite",
         "New Zealand",
         16,
         "Orange Choco",
         "2022-03-16",
         "$4,571 ",
         140
        ],
        [
         9,
         "Dotty Strutley",
         "India",
         22,
         "White Choc",
         "2022-08-15",
         "$12,327 ",
         330
        ],
        [
         10,
         "Gigi Bohling",
         "India",
         13,
         "Manuka Honey Choco",
         "2022-05-12",
         "$4,935 ",
         73
        ],
        [
         24,
         "Van Tuxwell",
         "India",
         21,
         "Spicy Special Slims",
         "2022-04-11",
         "$6,167 ",
         4
        ],
        [
         13,
         "Jan Morforth",
         "New Zealand",
         15,
         "Mint Chip Choco",
         "2022-06-30",
         "$18,340 ",
         285
        ],
        [
         9,
         "Dotty Strutley",
         "New Zealand",
         22,
         "White Choc",
         "2022-06-15",
         "$7,014 ",
         60
        ],
        [
         22,
         "Rafaelita Blaksland",
         "Canada",
         8,
         "Caramel Stuffed Bars",
         "2022-08-01",
         "$7,119 ",
         101
        ],
        [
         15,
         "Kaine Padly",
         "USA",
         14,
         "Milk Bars",
         "2022-06-15",
         "$15,491 ",
         58
        ],
        [
         4,
         "Brien Boise",
         "India",
         5,
         "After Nines",
         "2022-06-16",
         "$5,747 ",
         45
        ],
        [
         21,
         "Oby Sorrel",
         "New Zealand",
         19,
         "Raspberry Choco",
         "2022-05-13",
         "$4,550 ",
         281
        ],
        [
         8,
         "Dennison Crosswaite",
         "USA",
         10,
         "Drinking Coco",
         "2022-05-10",
         "$2,191 ",
         138
        ],
        [
         21,
         "Oby Sorrel",
         "India",
         11,
         "Eclairs",
         "2022-08-25",
         "$5,663 ",
         322
        ],
        [
         6,
         "Ches Bonnell",
         "New Zealand",
         17,
         "Organic Choco Syrup",
         "2022-07-15",
         "$7,623 ",
         85
        ],
        [
         10,
         "Gigi Bohling",
         "UK",
         7,
         "Baker's Choco Chips",
         "2022-05-16",
         "$9,023 ",
         409
        ],
        [
         13,
         "Jan Morforth",
         "Australia",
         1,
         "50% Dark Bites",
         "2022-06-14",
         "$3,402 ",
         182
        ],
        [
         3,
         "Beverie Moffet",
         "Australia",
         20,
         "Smooth Sliky Salty",
         "2022-01-25",
         "$10,507 ",
         467
        ],
        [
         6,
         "Ches Bonnell",
         "USA",
         17,
         "Organic Choco Syrup",
         "2022-07-28",
         "$7,721 ",
         14
        ],
        [
         4,
         "Brien Boise",
         "Canada",
         15,
         "Mint Chip Choco",
         "2022-01-28",
         "$5,033 ",
         178
        ],
        [
         15,
         "Kaine Padly",
         "UK",
         16,
         "Orange Choco",
         "2022-06-29",
         "$1,960 ",
         191
        ],
        [
         16,
         "Karlen McCaffrey",
         "Australia",
         2,
         "70% Dark Bites",
         "2022-06-24",
         "$238 ",
         317
        ],
        [
         11,
         "Gunar Cockshoot",
         "Canada",
         15,
         "Mint Chip Choco",
         "2022-07-01",
         "$7,756 ",
         410
        ],
        [
         23,
         "Roddy Speechley",
         "USA",
         18,
         "Peanut Butter Cubes",
         "2022-02-25",
         "$1,736 ",
         137
        ],
        [
         7,
         "Curtice Advani",
         "Canada",
         20,
         "Smooth Sliky Salty",
         "2022-08-01",
         "$2,660 ",
         12
        ],
        [
         21,
         "Oby Sorrel",
         "Australia",
         14,
         "Milk Bars",
         "2022-06-21",
         "$7,672 ",
         254
        ],
        [
         5,
         "Camilla Castle",
         "New Zealand",
         21,
         "Spicy Special Slims",
         "2022-01-25",
         "$11,564 ",
         24
        ],
        [
         10,
         "Gigi Bohling",
         "UK",
         14,
         "Milk Bars",
         "2022-05-17",
         "$1,365 ",
         232
        ],
        [
         1,
         "Andria Kimpton",
         "Australia",
         3,
         "85% Dark Bars",
         "2022-08-23",
         "$4,186 ",
         233
        ],
        [
         5,
         "Camilla Castle",
         "Australia",
         20,
         "Smooth Sliky Salty",
         "2022-03-03",
         "$7,406 ",
         118
        ],
        [
         23,
         "Roddy Speechley",
         "India",
         8,
         "Caramel Stuffed Bars",
         "2022-05-30",
         "$8,911 ",
         543
        ],
        [
         16,
         "Karlen McCaffrey",
         "USA",
         10,
         "Drinking Coco",
         "2022-06-29",
         "$112 ",
         223
        ],
        [
         1,
         "Andria Kimpton",
         "Canada",
         17,
         "Organic Choco Syrup",
         "2022-01-04",
         "$8,204 ",
         204
        ],
        [
         14,
         "Jehu Rudeforth",
         "Australia",
         10,
         "Drinking Coco",
         "2022-01-14",
         "$2,611 ",
         65
        ],
        [
         16,
         "Karlen McCaffrey",
         "USA",
         15,
         "Mint Chip Choco",
         "2022-02-15",
         "$15,652 ",
         53
        ],
        [
         7,
         "Curtice Advani",
         "New Zealand",
         21,
         "Spicy Special Slims",
         "2022-01-10",
         "$4,074 ",
         469
        ],
        [
         18,
         "Madelene Upcott",
         "USA",
         22,
         "White Choc",
         "2022-05-04",
         "$12,250 ",
         213
        ],
        [
         1,
         "Andria Kimpton",
         "USA",
         21,
         "Spicy Special Slims",
         "2022-05-23",
         "$2,366 ",
         5
        ],
        [
         2,
         "Barr Faughny",
         "New Zealand",
         12,
         "Fruit & Nut Bars",
         "2022-04-26",
         "$1,687 ",
         147
        ],
        [
         21,
         "Oby Sorrel",
         "Canada",
         17,
         "Organic Choco Syrup",
         "2022-07-05",
         "$1,232 ",
         74
        ],
        [
         18,
         "Madelene Upcott",
         "UK",
         17,
         "Organic Choco Syrup",
         "2022-07-21",
         "$6,965 ",
         163
        ],
        [
         9,
         "Dotty Strutley",
         "USA",
         15,
         "Mint Chip Choco",
         "2022-02-21",
         "$5,292 ",
         248
        ],
        [
         17,
         "Kelci Walkden",
         "USA",
         16,
         "Orange Choco",
         "2022-02-03",
         "$1,379 ",
         138
        ],
        [
         10,
         "Gigi Bohling",
         "Australia",
         8,
         "Caramel Stuffed Bars",
         "2022-07-08",
         "$8,001 ",
         151
        ],
        [
         19,
         "Mallorie Waber",
         "India",
         1,
         "50% Dark Bites",
         "2022-05-31",
         "$588 ",
         139
        ],
        [
         24,
         "Van Tuxwell",
         "New Zealand",
         15,
         "Mint Chip Choco",
         "2022-06-27",
         "$4,046 ",
         103
        ],
        [
         24,
         "Van Tuxwell",
         "India",
         1,
         "50% Dark Bites",
         "2022-05-13",
         "$5,103 ",
         129
        ],
        [
         24,
         "Van Tuxwell",
         "USA",
         13,
         "Manuka Honey Choco",
         "2022-05-31",
         "$2,317 ",
         102
        ],
        [
         25,
         "Wilone O'Kielt",
         "USA",
         16,
         "Orange Choco",
         "2022-02-28",
         "$7,042 ",
         37
        ],
        [
         2,
         "Barr Faughny",
         "New Zealand",
         11,
         "Eclairs",
         "2022-03-28",
         "$6,713 ",
         31
        ],
        [
         10,
         "Gigi Bohling",
         "USA",
         5,
         "After Nines",
         "2022-01-14",
         "$1,848 ",
         227
        ],
        [
         2,
         "Barr Faughny",
         "New Zealand",
         15,
         "Mint Chip Choco",
         "2022-02-21",
         "$6,440 ",
         145
        ],
        [
         8,
         "Dennison Crosswaite",
         "Canada",
         3,
         "85% Dark Bars",
         "2022-08-01",
         "$10,885 ",
         90
        ],
        [
         3,
         "Beverie Moffet",
         "New Zealand",
         20,
         "Smooth Sliky Salty",
         "2022-05-19",
         "$2,387 ",
         59
        ],
        [
         12,
         "Husein Augar",
         "USA",
         22,
         "White Choc",
         "2022-07-13",
         "$2,030 ",
         60
        ],
        [
         1,
         "Andria Kimpton",
         "Australia",
         18,
         "Peanut Butter Cubes",
         "2022-04-20",
         "$6,678 ",
         148
        ],
        [
         8,
         "Dennison Crosswaite",
         "India",
         3,
         "85% Dark Bars",
         "2022-06-30",
         "$4,515 ",
         22
        ],
        [
         7,
         "Curtice Advani",
         "UK",
         1,
         "50% Dark Bites",
         "2022-03-08",
         "$3,374 ",
         142
        ],
        [
         11,
         "Gunar Cockshoot",
         "USA",
         12,
         "Fruit & Nut Bars",
         "2022-03-09",
         "$5,852 ",
         93
        ],
        [
         21,
         "Oby Sorrel",
         "Canada",
         19,
         "Raspberry Choco",
         "2022-06-16",
         "$1,750 ",
         208
        ],
        [
         10,
         "Gigi Bohling",
         "UK",
         10,
         "Drinking Coco",
         "2022-06-30",
         "$5,782 ",
         42
        ],
        [
         17,
         "Kelci Walkden",
         "India",
         15,
         "Mint Chip Choco",
         "2022-07-28",
         "$2,870 ",
         120
        ],
        [
         16,
         "Karlen McCaffrey",
         "Canada",
         18,
         "Peanut Butter Cubes",
         "2022-08-12",
         "$3,094 ",
         159
        ],
        [
         2,
         "Barr Faughny",
         "UK",
         15,
         "Mint Chip Choco",
         "2022-07-07",
         "$3,724 ",
         316
        ],
        [
         2,
         "Barr Faughny",
         "USA",
         3,
         "85% Dark Bars",
         "2022-08-25",
         "$12,761 ",
         47
        ],
        [
         12,
         "Husein Augar",
         "Canada",
         11,
         "Eclairs",
         "2022-01-17",
         "$3,696 ",
         233
        ],
        [
         13,
         "Jan Morforth",
         "Australia",
         2,
         "70% Dark Bites",
         "2022-03-04",
         "$5,222 ",
         384
        ],
        [
         20,
         "Marney O'Breen",
         "New Zealand",
         12,
         "Fruit & Nut Bars",
         "2022-08-25",
         "$8,939 ",
         4
        ],
        [
         6,
         "Ches Bonnell",
         "UK",
         18,
         "Peanut Butter Cubes",
         "2022-04-15",
         "$2,156 ",
         260
        ],
        [
         15,
         "Kaine Padly",
         "USA",
         17,
         "Organic Choco Syrup",
         "2022-03-11",
         "$2,380 ",
         22
        ],
        [
         5,
         "Camilla Castle",
         "USA",
         19,
         "Raspberry Choco",
         "2022-05-20",
         "$3,339 ",
         18
        ],
        [
         4,
         "Brien Boise",
         "New Zealand",
         13,
         "Manuka Honey Choco",
         "2022-06-14",
         "$14,980 ",
         42
        ],
        [
         14,
         "Jehu Rudeforth",
         "New Zealand",
         5,
         "After Nines",
         "2022-04-14",
         "$1,512 ",
         73
        ],
        [
         14,
         "Jehu Rudeforth",
         "USA",
         20,
         "Smooth Sliky Salty",
         "2022-07-07",
         "$6,657 ",
         154
        ],
        [
         18,
         "Madelene Upcott",
         "India",
         15,
         "Mint Chip Choco",
         "2022-08-24",
         "$3,836 ",
         71
        ],
        [
         14,
         "Jehu Rudeforth",
         "India",
         11,
         "Eclairs",
         "2022-02-24",
         "$8,771 ",
         127
        ],
        [
         16,
         "Karlen McCaffrey",
         "Canada",
         19,
         "Raspberry Choco",
         "2022-05-09",
         "$651 ",
         224
        ],
        [
         15,
         "Kaine Padly",
         "Australia",
         2,
         "70% Dark Bites",
         "2022-02-08",
         "$6,706 ",
         223
        ],
        [
         23,
         "Roddy Speechley",
         "UK",
         2,
         "70% Dark Bites",
         "2022-03-24",
         "$1,421 ",
         284
        ],
        [
         22,
         "Rafaelita Blaksland",
         "USA",
         10,
         "Drinking Coco",
         "2022-06-20",
         "$8,526 ",
         73
        ],
        [
         19,
         "Mallorie Waber",
         "Canada",
         13,
         "Manuka Honey Choco",
         "2022-03-07",
         "$1,435 ",
         112
        ],
        [
         15,
         "Kaine Padly",
         "Australia",
         12,
         "Fruit & Nut Bars",
         "2022-06-20",
         "$7,434 ",
         85
        ],
        [
         21,
         "Oby Sorrel",
         "New Zealand",
         17,
         "Organic Choco Syrup",
         "2022-02-17",
         "$15,316 ",
         270
        ],
        [
         18,
         "Madelene Upcott",
         "UK",
         4,
         "99% Dark & Pure",
         "2022-01-26",
         "$10,479 ",
         45
        ],
        [
         18,
         "Madelene Upcott",
         "Australia",
         15,
         "Mint Chip Choco",
         "2022-05-02",
         "$2,751 ",
         153
        ],
        [
         7,
         "Curtice Advani",
         "Canada",
         4,
         "99% Dark & Pure",
         "2022-07-07",
         "$12,586 ",
         7
        ],
        [
         22,
         "Rafaelita Blaksland",
         "Australia",
         7,
         "Baker's Choco Chips",
         "2022-08-22",
         "$2,786 ",
         51
        ],
        [
         16,
         "Karlen McCaffrey",
         "Australia",
         5,
         "After Nines",
         "2022-08-11",
         "$2,303 ",
         67
        ],
        [
         20,
         "Marney O'Breen",
         "UK",
         4,
         "99% Dark & Pure",
         "2022-01-13",
         "$8,113 ",
         194
        ],
        [
         11,
         "Gunar Cockshoot",
         "Australia",
         1,
         "50% Dark Bites",
         "2022-03-02",
         "$12,271 ",
         116
        ],
        [
         20,
         "Marney O'Breen",
         "Australia",
         9,
         "Choco Coated Almonds",
         "2022-07-27",
         "$11,298 ",
         41
        ],
        [
         17,
         "Kelci Walkden",
         "New Zealand",
         10,
         "Drinking Coco",
         "2022-03-10",
         "$15,855 ",
         111
        ],
        [
         3,
         "Beverie Moffet",
         "USA",
         3,
         "85% Dark Bars",
         "2022-08-23",
         "$12,404 ",
         334
        ],
        [
         23,
         "Roddy Speechley",
         "USA",
         11,
         "Eclairs",
         "2022-04-25",
         "$3,990 ",
         155
        ],
        [
         8,
         "Dennison Crosswaite",
         "UK",
         14,
         "Milk Bars",
         "2022-03-07",
         "$10,808 ",
         407
        ],
        [
         25,
         "Wilone O'Kielt",
         "UK",
         17,
         "Organic Choco Syrup",
         "2022-07-12",
         "$4,858 ",
         52
        ],
        [
         18,
         "Madelene Upcott",
         "USA",
         16,
         "Orange Choco",
         "2022-05-16",
         "$7,742 ",
         138
        ],
        [
         11,
         "Gunar Cockshoot",
         "India",
         20,
         "Smooth Sliky Salty",
         "2022-03-02",
         "$3,752 ",
         70
        ],
        [
         20,
         "Marney O'Breen",
         "New Zealand",
         3,
         "85% Dark Bars",
         "2022-05-30",
         "$1,218 ",
         149
        ],
        [
         20,
         "Marney O'Breen",
         "UK",
         13,
         "Manuka Honey Choco",
         "2022-06-10",
         "$10,983 ",
         179
        ],
        [
         4,
         "Brien Boise",
         "USA",
         4,
         "99% Dark & Pure",
         "2022-07-25",
         "$6,769 ",
         353
        ],
        [
         3,
         "Beverie Moffet",
         "New Zealand",
         15,
         "Mint Chip Choco",
         "2022-06-09",
         "$4,361 ",
         97
        ],
        [
         8,
         "Dennison Crosswaite",
         "USA",
         14,
         "Milk Bars",
         "2022-05-12",
         "$777 ",
         60
        ],
        [
         11,
         "Gunar Cockshoot",
         "USA",
         10,
         "Drinking Coco",
         "2022-05-09",
         "$3,843 ",
         5
        ],
        [
         4,
         "Brien Boise",
         "Canada",
         13,
         "Manuka Honey Choco",
         "2022-08-09",
         "$6,930 ",
         182
        ],
        [
         24,
         "Van Tuxwell",
         "India",
         9,
         "Choco Coated Almonds",
         "2022-04-13",
         "$5,733 ",
         114
        ],
        [
         1,
         "Andria Kimpton",
         "USA",
         8,
         "Caramel Stuffed Bars",
         "2022-05-02",
         "$8,393 ",
         46
        ],
        [
         9,
         "Dotty Strutley",
         "USA",
         4,
         "99% Dark & Pure",
         "2022-08-09",
         "$3,822 ",
         320
        ],
        [
         5,
         "Camilla Castle",
         "Australia",
         19,
         "Raspberry Choco",
         "2022-08-23",
         "$6,342 ",
         178
        ],
        [
         11,
         "Gunar Cockshoot",
         "India",
         21,
         "Spicy Special Slims",
         "2022-05-13",
         "$6,510 ",
         170
        ],
        [
         16,
         "Karlen McCaffrey",
         "USA",
         13,
         "Manuka Honey Choco",
         "2022-02-01",
         "$10,171 ",
         67
        ],
        [
         5,
         "Camilla Castle",
         "USA",
         1,
         "50% Dark Bites",
         "2022-06-23",
         "$5,908 ",
         301
        ],
        [
         18,
         "Madelene Upcott",
         "UK",
         9,
         "Choco Coated Almonds",
         "2022-05-24",
         "$10,164 ",
         134
        ],
        [
         13,
         "Jan Morforth",
         "Canada",
         15,
         "Mint Chip Choco",
         "2022-04-01",
         "$1,064 ",
         211
        ],
        [
         5,
         "Camilla Castle",
         "Canada",
         2,
         "70% Dark Bites",
         "2022-07-27",
         "$9,716 ",
         151
        ],
        [
         6,
         "Ches Bonnell",
         "India",
         18,
         "Peanut Butter Cubes",
         "2022-01-27",
         "$22,050 ",
         208
        ],
        [
         13,
         "Jan Morforth",
         "India",
         9,
         "Choco Coated Almonds",
         "2022-08-12",
         "$2,541 ",
         134
        ],
        [
         10,
         "Gigi Bohling",
         "Canada",
         6,
         "Almond Choco",
         "2022-02-01",
         "$9,989 ",
         49
        ],
        [
         22,
         "Rafaelita Blaksland",
         "India",
         5,
         "After Nines",
         "2022-03-02",
         "$4,739 ",
         204
        ],
        [
         17,
         "Kelci Walkden",
         "Australia",
         4,
         "99% Dark & Pure",
         "2022-06-30",
         "$3,185 ",
         34
        ],
        [
         9,
         "Dotty Strutley",
         "Australia",
         21,
         "Spicy Special Slims",
         "2022-01-17",
         "$8,225 ",
         91
        ],
        [
         4,
         "Brien Boise",
         "USA",
         14,
         "Milk Bars",
         "2022-07-07",
         "$14,301 ",
         130
        ],
        [
         19,
         "Mallorie Waber",
         "New Zealand",
         15,
         "Mint Chip Choco",
         "2022-01-31",
         "$1,316 ",
         107
        ],
        [
         3,
         "Beverie Moffet",
         "UK",
         4,
         "99% Dark & Pure",
         "2022-08-10",
         "$3,486 ",
         121
        ],
        [
         3,
         "Beverie Moffet",
         "USA",
         18,
         "Peanut Butter Cubes",
         "2022-08-18",
         "$13,930 ",
         339
        ],
        [
         4,
         "Brien Boise",
         "New Zealand",
         22,
         "White Choc",
         "2022-06-15",
         "$5,509 ",
         321
        ],
        [
         20,
         "Marney O'Breen",
         "USA",
         7,
         "Baker's Choco Chips",
         "2022-01-26",
         "$8,470 ",
         9
        ],
        [
         17,
         "Kelci Walkden",
         "USA",
         21,
         "Spicy Special Slims",
         "2022-04-29",
         "$77 ",
         69
        ],
        [
         19,
         "Mallorie Waber",
         "Canada",
         22,
         "White Choc",
         "2022-03-03",
         "$3,381 ",
         72
        ],
        [
         15,
         "Kaine Padly",
         "Australia",
         6,
         "Almond Choco",
         "2022-02-22",
         "$4,102 ",
         392
        ],
        [
         21,
         "Oby Sorrel",
         "USA",
         20,
         "Smooth Sliky Salty",
         "2022-03-04",
         "$3,577 ",
         158
        ],
        [
         8,
         "Dennison Crosswaite",
         "India",
         20,
         "Smooth Sliky Salty",
         "2022-07-07",
         "$2,975 ",
         9
        ],
        [
         5,
         "Camilla Castle",
         "New Zealand",
         8,
         "Caramel Stuffed Bars",
         "2022-06-17",
         "$4,137 ",
         347
        ],
        [
         13,
         "Jan Morforth",
         "Canada",
         8,
         "Caramel Stuffed Bars",
         "2022-08-02",
         "$9,541 ",
         114
        ],
        [
         21,
         "Oby Sorrel",
         "USA",
         7,
         "Baker's Choco Chips",
         "2022-08-12",
         "$8,001 ",
         120
        ],
        [
         18,
         "Madelene Upcott",
         "New Zealand",
         18,
         "Peanut Butter Cubes",
         "2022-01-28",
         "$5,152 ",
         333
        ],
        [
         17,
         "Kelci Walkden",
         "Australia",
         16,
         "Orange Choco",
         "2022-04-29",
         "$11,116 ",
         432
        ],
        [
         20,
         "Marney O'Breen",
         "Australia",
         13,
         "Manuka Honey Choco",
         "2022-04-05",
         "$13,076 ",
         236
        ],
        [
         15,
         "Kaine Padly",
         "Canada",
         13,
         "Manuka Honey Choco",
         "2022-01-18",
         "$10,213 ",
         135
        ],
        [
         14,
         "Jehu Rudeforth",
         "UK",
         7,
         "Baker's Choco Chips",
         "2022-05-16",
         "$2,485 ",
         97
        ],
        [
         17,
         "Kelci Walkden",
         "Australia",
         22,
         "White Choc",
         "2022-08-24",
         "$8,715 ",
         168
        ],
        [
         7,
         "Curtice Advani",
         "India",
         3,
         "85% Dark Bars",
         "2022-01-18",
         "$273 ",
         402
        ],
        [
         15,
         "Kaine Padly",
         "USA",
         11,
         "Eclairs",
         "2022-08-22",
         "$7,623 ",
         10
        ],
        [
         11,
         "Gunar Cockshoot",
         "UK",
         4,
         "99% Dark & Pure",
         "2022-03-07",
         "$7 ",
         84
        ],
        [
         3,
         "Beverie Moffet",
         "UK",
         9,
         "Choco Coated Almonds",
         "2022-03-04",
         "$3,010 ",
         69
        ],
        [
         9,
         "Dotty Strutley",
         "Canada",
         13,
         "Manuka Honey Choco",
         "2022-04-22",
         "$11,550 ",
         111
        ],
        [
         15,
         "Kaine Padly",
         "Australia",
         14,
         "Milk Bars",
         "2022-06-09",
         "$4,046 ",
         89
        ],
        [
         13,
         "Jan Morforth",
         "Canada",
         12,
         "Fruit & Nut Bars",
         "2022-07-25",
         "$8,904 ",
         199
        ],
        [
         13,
         "Jan Morforth",
         "India",
         20,
         "Smooth Sliky Salty",
         "2022-08-03",
         "$11,298 ",
         89
        ],
        [
         22,
         "Rafaelita Blaksland",
         "Australia",
         13,
         "Manuka Honey Choco",
         "2022-08-03",
         "$4,396 ",
         131
        ],
        [
         14,
         "Jehu Rudeforth",
         "UK",
         14,
         "Milk Bars",
         "2022-05-03",
         "$12,068 ",
         227
        ],
        [
         12,
         "Husein Augar",
         "Canada",
         5,
         "After Nines",
         "2022-01-19",
         "$9,772 ",
         301
        ],
        [
         23,
         "Roddy Speechley",
         "USA",
         1,
         "50% Dark Bites",
         "2022-02-11",
         "$10,458 ",
         316
        ],
        [
         24,
         "Van Tuxwell",
         "India",
         6,
         "Almond Choco",
         "2022-06-14",
         "$6,426 ",
         390
        ],
        [
         17,
         "Kelci Walkden",
         "USA",
         1,
         "50% Dark Bites",
         "2022-03-23",
         "$6,188 ",
         223
        ],
        [
         18,
         "Madelene Upcott",
         "Canada",
         3,
         "85% Dark Bars",
         "2022-02-17",
         "$7,504 ",
         101
        ],
        [
         8,
         "Dennison Crosswaite",
         "Canada",
         20,
         "Smooth Sliky Salty",
         "2022-03-17",
         "$1,750 ",
         479
        ],
        [
         19,
         "Mallorie Waber",
         "Australia",
         21,
         "Spicy Special Slims",
         "2022-06-29",
         "$5,439 ",
         287
        ],
        [
         6,
         "Ches Bonnell",
         "Canada",
         9,
         "Choco Coated Almonds",
         "2022-08-24",
         "$15,547 ",
         269
        ],
        [
         10,
         "Gigi Bohling",
         "Canada",
         21,
         "Spicy Special Slims",
         "2022-07-04",
         "$11,956 ",
         277
        ],
        [
         23,
         "Roddy Speechley",
         "New Zealand",
         6,
         "Almond Choco",
         "2022-03-28",
         "$2,723 ",
         67
        ],
        [
         7,
         "Curtice Advani",
         "India",
         20,
         "Smooth Sliky Salty",
         "2022-04-19",
         "$19,327 ",
         135
        ],
        [
         6,
         "Ches Bonnell",
         "New Zealand",
         15,
         "Mint Chip Choco",
         "2022-01-18",
         "$9,058 ",
         229
        ],
        [
         24,
         "Van Tuxwell",
         "New Zealand",
         12,
         "Fruit & Nut Bars",
         "2022-01-17",
         "$2,996 ",
         88
        ],
        [
         1,
         "Andria Kimpton",
         "New Zealand",
         15,
         "Mint Chip Choco",
         "2022-02-15",
         "$8,848 ",
         211
        ],
        [
         1,
         "Andria Kimpton",
         "UK",
         14,
         "Milk Bars",
         "2022-02-11",
         "$14,336 ",
         293
        ],
        [
         5,
         "Camilla Castle",
         "USA",
         13,
         "Manuka Honey Choco",
         "2022-03-21",
         "$16,401 ",
         179
        ],
        [
         11,
         "Gunar Cockshoot",
         "New Zealand",
         6,
         "Almond Choco",
         "2022-01-05",
         "$5,173 ",
         129
        ],
        [
         4,
         "Brien Boise",
         "India",
         19,
         "Raspberry Choco",
         "2022-05-30",
         "$6,328 ",
         164
        ],
        [
         14,
         "Jehu Rudeforth",
         "USA",
         4,
         "99% Dark & Pure",
         "2022-01-04",
         "$2,534 ",
         219
        ],
        [
         3,
         "Beverie Moffet",
         "Australia",
         12,
         "Fruit & Nut Bars",
         "2022-04-22",
         "$1,435 ",
         258
        ],
        [
         10,
         "Gigi Bohling",
         "Canada",
         14,
         "Milk Bars",
         "2022-02-10",
         "$3,052 ",
         116
        ],
        [
         9,
         "Dotty Strutley",
         "India",
         21,
         "Spicy Special Slims",
         "2022-08-12",
         "$910 ",
         204
        ],
        [
         11,
         "Gunar Cockshoot",
         "USA",
         17,
         "Organic Choco Syrup",
         "2022-08-10",
         "$2,331 ",
         321
        ],
        [
         17,
         "Kelci Walkden",
         "Australia",
         19,
         "Raspberry Choco",
         "2022-06-07",
         "$679 ",
         56
        ],
        [
         14,
         "Jehu Rudeforth",
         "India",
         7,
         "Baker's Choco Chips",
         "2022-06-06",
         "$2,086 ",
         74
        ],
        [
         16,
         "Karlen McCaffrey",
         "New Zealand",
         7,
         "Baker's Choco Chips",
         "2022-04-05",
         "$5,012 ",
         189
        ],
        [
         25,
         "Wilone O'Kielt",
         "USA",
         1,
         "50% Dark Bites",
         "2022-04-18",
         "$4,501 ",
         131
        ],
        [
         1,
         "Andria Kimpton",
         "India",
         1,
         "50% Dark Bites",
         "2022-01-31",
         "$13,482 ",
         15
        ],
        [
         18,
         "Madelene Upcott",
         "USA",
         7,
         "Baker's Choco Chips",
         "2022-08-22",
         "$5,621 ",
         140
        ],
        [
         14,
         "Jehu Rudeforth",
         "Australia",
         4,
         "99% Dark & Pure",
         "2022-02-25",
         "$10,486 ",
         198
        ],
        [
         13,
         "Jan Morforth",
         "Australia",
         15,
         "Mint Chip Choco",
         "2022-02-22",
         "$17,626 ",
         103
        ],
        [
         21,
         "Oby Sorrel",
         "New Zealand",
         14,
         "Milk Bars",
         "2022-01-12",
         "$4,494 ",
         187
        ],
        [
         4,
         "Brien Boise",
         "UK",
         6,
         "Almond Choco",
         "2022-05-25",
         "$105 ",
         125
        ],
        [
         17,
         "Kelci Walkden",
         "India",
         20,
         "Smooth Sliky Salty",
         "2022-02-01",
         "$2,464 ",
         8
        ],
        [
         22,
         "Rafaelita Blaksland",
         "UK",
         11,
         "Eclairs",
         "2022-04-27",
         "$1,379 ",
         70
        ],
        [
         10,
         "Gigi Bohling",
         "USA",
         20,
         "Smooth Sliky Salty",
         "2022-07-22",
         "$2,583 ",
         126
        ],
        [
         7,
         "Curtice Advani",
         "New Zealand",
         15,
         "Mint Chip Choco",
         "2022-01-26",
         "$3,220 ",
         265
        ],
        [
         7,
         "Curtice Advani",
         "USA",
         15,
         "Mint Chip Choco",
         "2022-08-24",
         "$4,802 ",
         296
        ],
        [
         18,
         "Madelene Upcott",
         "New Zealand",
         12,
         "Fruit & Nut Bars",
         "2022-01-18",
         "$5,677 ",
         21
        ],
        [
         16,
         "Karlen McCaffrey",
         "India",
         3,
         "85% Dark Bars",
         "2022-03-30",
         "$945 ",
         83
        ],
        [
         6,
         "Ches Bonnell",
         "Australia",
         8,
         "Caramel Stuffed Bars",
         "2022-01-17",
         "$8,757 ",
         162
        ],
        [
         17,
         "Kelci Walkden",
         "USA",
         12,
         "Fruit & Nut Bars",
         "2022-02-17",
         "$4,816 ",
         145
        ],
        [
         17,
         "Kelci Walkden",
         "Canada",
         18,
         "Peanut Butter Cubes",
         "2022-04-08",
         "$7,532 ",
         44
        ],
        [
         10,
         "Gigi Bohling",
         "Canada",
         10,
         "Drinking Coco",
         "2022-07-06",
         "$3,549 ",
         82
        ],
        [
         12,
         "Husein Augar",
         "India",
         12,
         "Fruit & Nut Bars",
         "2022-04-04",
         "$4,340 ",
         226
        ],
        [
         13,
         "Jan Morforth",
         "New Zealand",
         17,
         "Organic Choco Syrup",
         "2022-03-02",
         "$1,799 ",
         207
        ],
        [
         10,
         "Gigi Bohling",
         "New Zealand",
         19,
         "Raspberry Choco",
         "2022-08-09",
         "$1,127 ",
         176
        ],
        [
         8,
         "Dennison Crosswaite",
         "Australia",
         14,
         "Milk Bars",
         "2022-06-09",
         "$10,038 ",
         286
        ],
        [
         6,
         "Ches Bonnell",
         "UK",
         8,
         "Caramel Stuffed Bars",
         "2022-06-02",
         "$2,926 ",
         300
        ],
        [
         24,
         "Van Tuxwell",
         "USA",
         12,
         "Fruit & Nut Bars",
         "2022-07-05",
         "$6,279 ",
         235
        ],
        [
         1,
         "Andria Kimpton",
         "Canada",
         11,
         "Eclairs",
         "2022-08-11",
         "$308 ",
         125
        ],
        [
         18,
         "Madelene Upcott",
         "India",
         9,
         "Choco Coated Almonds",
         "2022-02-11",
         "$3,500 ",
         145
        ],
        [
         17,
         "Kelci Walkden",
         "New Zealand",
         21,
         "Spicy Special Slims",
         "2022-08-11",
         "$658 ",
         65
        ],
        [
         23,
         "Roddy Speechley",
         "Australia",
         10,
         "Drinking Coco",
         "2022-05-12",
         "$12,565 ",
         102
        ],
        [
         25,
         "Wilone O'Kielt",
         "USA",
         14,
         "Milk Bars",
         "2022-07-15",
         "$5,012 ",
         93
        ],
        [
         1,
         "Andria Kimpton",
         "India",
         17,
         "Organic Choco Syrup",
         "2022-01-18",
         "$3,955 ",
         134
        ],
        [
         18,
         "Madelene Upcott",
         "UK",
         12,
         "Fruit & Nut Bars",
         "2022-01-05",
         "$8,512 ",
         189
        ],
        [
         7,
         "Curtice Advani",
         "Australia",
         1,
         "50% Dark Bites",
         "2022-06-29",
         "$504 ",
         232
        ],
        [
         4,
         "Brien Boise",
         "Canada",
         19,
         "Raspberry Choco",
         "2022-06-14",
         "$2,800 ",
         45
        ],
        [
         11,
         "Gunar Cockshoot",
         "India",
         15,
         "Mint Chip Choco",
         "2022-08-08",
         "$4,256 ",
         67
        ],
        [
         8,
         "Dennison Crosswaite",
         "India",
         15,
         "Mint Chip Choco",
         "2022-03-23",
         "$13,573 ",
         138
        ],
        [
         2,
         "Barr Faughny",
         "India",
         8,
         "Caramel Stuffed Bars",
         "2022-01-04",
         "$6,566 ",
         99
        ],
        [
         4,
         "Brien Boise",
         "India",
         14,
         "Milk Bars",
         "2022-02-22",
         "$13,503 ",
         251
        ],
        [
         3,
         "Beverie Moffet",
         "UK",
         21,
         "Spicy Special Slims",
         "2022-02-17",
         "$8,680 ",
         252
        ],
        [
         2,
         "Barr Faughny",
         "USA",
         6,
         "Almond Choco",
         "2022-02-03",
         "$385 ",
         78
        ],
        [
         24,
         "Van Tuxwell",
         "Canada",
         19,
         "Raspberry Choco",
         "2022-03-17",
         "$1,267 ",
         130
        ],
        [
         25,
         "Wilone O'Kielt",
         "Australia",
         7,
         "Baker's Choco Chips",
         "2022-01-25",
         "$2,961 ",
         154
        ],
        [
         4,
         "Brien Boise",
         "Australia",
         14,
         "Milk Bars",
         "2022-07-27",
         "$1,981 ",
         52
        ],
        [
         12,
         "Husein Augar",
         "Australia",
         12,
         "Fruit & Nut Bars",
         "2022-01-28",
         "$7,959 ",
         53
        ],
        [
         18,
         "Madelene Upcott",
         "Australia",
         17,
         "Organic Choco Syrup",
         "2022-07-05",
         "$10,794 ",
         50
        ],
        [
         24,
         "Van Tuxwell",
         "India",
         22,
         "White Choc",
         "2022-03-15",
         "$1,897 ",
         44
        ],
        [
         11,
         "Gunar Cockshoot",
         "Canada",
         5,
         "After Nines",
         "2022-08-04",
         "$2,744 ",
         200
        ],
        [
         13,
         "Jan Morforth",
         "USA",
         12,
         "Fruit & Nut Bars",
         "2022-06-27",
         "$4,382 ",
         361
        ],
        [
         13,
         "Jan Morforth",
         "Canada",
         5,
         "After Nines",
         "2022-07-13",
         "$4,515 ",
         172
        ],
        [
         2,
         "Barr Faughny",
         "New Zealand",
         13,
         "Manuka Honey Choco",
         "2022-02-24",
         "$5,474 ",
         239
        ],
        [
         16,
         "Karlen McCaffrey",
         "New Zealand",
         3,
         "85% Dark Bars",
         "2022-06-28",
         "$6,069 ",
         55
        ],
        [
         21,
         "Oby Sorrel",
         "Australia",
         3,
         "85% Dark Bars",
         "2022-06-30",
         "$6,944 ",
         27
        ],
        [
         7,
         "Curtice Advani",
         "Canada",
         9,
         "Choco Coated Almonds",
         "2022-08-18",
         "$5,859 ",
         7
        ],
        [
         15,
         "Kaine Padly",
         "India",
         2,
         "70% Dark Bites",
         "2022-01-24",
         "$12,173 ",
         301
        ],
        [
         3,
         "Beverie Moffet",
         "USA",
         22,
         "White Choc",
         "2022-03-11",
         "$5,292 ",
         134
        ],
        [
         6,
         "Ches Bonnell",
         "New Zealand",
         5,
         "After Nines",
         "2022-06-23",
         "$5,705 ",
         350
        ],
        [
         12,
         "Husein Augar",
         "India",
         21,
         "Spicy Special Slims",
         "2022-08-22",
         "$2,492 ",
         33
        ],
        [
         11,
         "Gunar Cockshoot",
         "Canada",
         1,
         "50% Dark Bites",
         "2022-01-04",
         "$3,024 ",
         23
        ],
        [
         7,
         "Curtice Advani",
         "India",
         14,
         "Milk Bars",
         "2022-04-05",
         "$3,437 ",
         201
        ],
        [
         3,
         "Beverie Moffet",
         "India",
         14,
         "Milk Bars",
         "2022-04-15",
         "$1,869 ",
         323
        ],
        [
         12,
         "Husein Augar",
         "Australia",
         22,
         "White Choc",
         "2022-05-11",
         "$3,171 ",
         220
        ],
        [
         1,
         "Andria Kimpton",
         "Canada",
         13,
         "Manuka Honey Choco",
         "2022-07-21",
         "$4,858 ",
         488
        ],
        [
         13,
         "Jan Morforth",
         "New Zealand",
         16,
         "Orange Choco",
         "2022-02-11",
         "$1,225 ",
         84
        ],
        [
         1,
         "Andria Kimpton",
         "Canada",
         20,
         "Smooth Sliky Salty",
         "2022-07-08",
         "$1,155 ",
         79
        ],
        [
         11,
         "Gunar Cockshoot",
         "UK",
         19,
         "Raspberry Choco",
         "2022-08-11",
         "$6,811 ",
         344
        ],
        [
         12,
         "Husein Augar",
         "New Zealand",
         5,
         "After Nines",
         "2022-08-04",
         "$6,433 ",
         7
        ],
        [
         1,
         "Andria Kimpton",
         "New Zealand",
         16,
         "Orange Choco",
         "2022-06-14",
         "$8,169 ",
         88
        ],
        [
         8,
         "Dennison Crosswaite",
         "UK",
         7,
         "Baker's Choco Chips",
         "2022-01-17",
         "$2,275 ",
         275
        ],
        [
         14,
         "Jehu Rudeforth",
         "Canada",
         16,
         "Orange Choco",
         "2022-06-23",
         "$3,857 ",
         512
        ],
        [
         14,
         "Jehu Rudeforth",
         "UK",
         20,
         "Smooth Sliky Salty",
         "2022-08-24",
         "$1,463 ",
         113
        ],
        [
         1,
         "Andria Kimpton",
         "UK",
         8,
         "Caramel Stuffed Bars",
         "2022-06-07",
         "$7,924 ",
         275
        ],
        [
         13,
         "Jan Morforth",
         "UK",
         22,
         "White Choc",
         "2022-06-22",
         "$8,799 ",
         47
        ],
        [
         9,
         "Dotty Strutley",
         "USA",
         12,
         "Fruit & Nut Bars",
         "2022-07-13",
         "$2,898 ",
         276
        ],
        [
         17,
         "Kelci Walkden",
         "UK",
         9,
         "Choco Coated Almonds",
         "2022-05-24",
         "$9,506 ",
         212
        ],
        [
         11,
         "Gunar Cockshoot",
         "New Zealand",
         5,
         "After Nines",
         "2022-08-09",
         "$7,175 ",
         145
        ],
        [
         15,
         "Kaine Padly",
         "Canada",
         3,
         "85% Dark Bars",
         "2022-04-06",
         "$1,729 ",
         31
        ],
        [
         13,
         "Jan Morforth",
         "New Zealand",
         13,
         "Manuka Honey Choco",
         "2022-07-28",
         "$1,589 ",
         271
        ],
        [
         11,
         "Gunar Cockshoot",
         "New Zealand",
         19,
         "Raspberry Choco",
         "2022-08-24",
         "$630 ",
         52
        ],
        [
         24,
         "Van Tuxwell",
         "Australia",
         4,
         "99% Dark & Pure",
         "2022-01-17",
         "$112 ",
         128
        ],
        [
         7,
         "Curtice Advani",
         "USA",
         10,
         "Drinking Coco",
         "2022-02-07",
         "$5,187 ",
         142
        ],
        [
         4,
         "Brien Boise",
         "Australia",
         21,
         "Spicy Special Slims",
         "2022-05-09",
         "$6,223 ",
         256
        ],
        [
         19,
         "Mallorie Waber",
         "New Zealand",
         3,
         "85% Dark Bars",
         "2022-06-06",
         "$7,714 ",
         106
        ],
        [
         25,
         "Wilone O'Kielt",
         "USA",
         9,
         "Choco Coated Almonds",
         "2022-06-06",
         "$9,457 ",
         6
        ],
        [
         3,
         "Beverie Moffet",
         "New Zealand",
         17,
         "Organic Choco Syrup",
         "2022-05-24",
         "$6,678 ",
         226
        ],
        [
         11,
         "Gunar Cockshoot",
         "UK",
         1,
         "50% Dark Bites",
         "2022-01-13",
         "$2,107 ",
         121
        ],
        [
         20,
         "Marney O'Breen",
         "USA",
         19,
         "Raspberry Choco",
         "2022-05-23",
         "$6,069 ",
         151
        ],
        [
         14,
         "Jehu Rudeforth",
         "UK",
         22,
         "White Choc",
         "2022-06-29",
         "$1,862 ",
         284
        ],
        [
         14,
         "Jehu Rudeforth",
         "New Zealand",
         3,
         "85% Dark Bars",
         "2022-03-11",
         "$6,972 ",
         89
        ],
        [
         9,
         "Dotty Strutley",
         "USA",
         3,
         "85% Dark Bars",
         "2022-04-25",
         "$10,220 ",
         508
        ],
        [
         22,
         "Rafaelita Blaksland",
         "Australia",
         20,
         "Smooth Sliky Salty",
         "2022-05-30",
         "$3,969 ",
         243
        ],
        [
         7,
         "Curtice Advani",
         "India",
         13,
         "Manuka Honey Choco",
         "2022-05-23",
         "$1,547 ",
         170
        ],
        [
         19,
         "Mallorie Waber",
         "USA",
         18,
         "Peanut Butter Cubes",
         "2022-05-23",
         "$1,162 ",
         18
        ],
        [
         24,
         "Van Tuxwell",
         "Canada",
         18,
         "Peanut Butter Cubes",
         "2022-06-24",
         "$6,342 ",
         282
        ],
        [
         17,
         "Kelci Walkden",
         "New Zealand",
         20,
         "Smooth Sliky Salty",
         "2022-03-11",
         "$10,633 ",
         277
        ],
        [
         22,
         "Rafaelita Blaksland",
         "USA",
         20,
         "Smooth Sliky Salty",
         "2022-07-27",
         "$15,057 ",
         212
        ],
        [
         22,
         "Rafaelita Blaksland",
         "USA",
         22,
         "White Choc",
         "2022-08-16",
         "$4,704 ",
         126
        ],
        [
         23,
         "Roddy Speechley",
         "Canada",
         20,
         "Smooth Sliky Salty",
         "2022-03-07",
         "$9,338 ",
         11
        ],
        [
         7,
         "Curtice Advani",
         "New Zealand",
         5,
         "After Nines",
         "2022-04-05",
         "$7,959 ",
         30
        ],
        [
         5,
         "Camilla Castle",
         "India",
         3,
         "85% Dark Bars",
         "2022-05-04",
         "$9,023 ",
         51
        ],
        [
         6,
         "Ches Bonnell",
         "USA",
         9,
         "Choco Coated Almonds",
         "2022-01-04",
         "$14,525 ",
         92
        ],
        [
         20,
         "Marney O'Breen",
         "Australia",
         7,
         "Baker's Choco Chips",
         "2022-01-13",
         "$5,810 ",
         101
        ],
        [
         25,
         "Wilone O'Kielt",
         "New Zealand",
         12,
         "Fruit & Nut Bars",
         "2022-07-11",
         "$6,426 ",
         98
        ],
        [
         15,
         "Kaine Padly",
         "Australia",
         15,
         "Mint Chip Choco",
         "2022-05-17",
         "$4,403 ",
         159
        ],
        [
         5,
         "Camilla Castle",
         "New Zealand",
         18,
         "Peanut Butter Cubes",
         "2022-07-21",
         "$1,582 ",
         62
        ],
        [
         7,
         "Curtice Advani",
         "Canada",
         17,
         "Organic Choco Syrup",
         "2022-02-22",
         "$791 ",
         22
        ],
        [
         13,
         "Jan Morforth",
         "India",
         4,
         "99% Dark & Pure",
         "2022-05-23",
         "$9,100 ",
         187
        ],
        [
         22,
         "Rafaelita Blaksland",
         "Canada",
         10,
         "Drinking Coco",
         "2022-07-12",
         "$9,884 ",
         200
        ],
        [
         13,
         "Jan Morforth",
         "UK",
         16,
         "Orange Choco",
         "2022-06-15",
         "$3,780 ",
         201
        ],
        [
         2,
         "Barr Faughny",
         "New Zealand",
         1,
         "50% Dark Bites",
         "2022-06-23",
         "$4,557 ",
         308
        ],
        [
         7,
         "Curtice Advani",
         "Australia",
         11,
         "Eclairs",
         "2022-03-25",
         "$5,796 ",
         55
        ],
        [
         13,
         "Jan Morforth",
         "India",
         8,
         "Caramel Stuffed Bars",
         "2022-07-04",
         "$84 ",
         153
        ],
        [
         1,
         "Andria Kimpton",
         "UK",
         22,
         "White Choc",
         "2022-05-12",
         "$9,037 ",
         101
        ],
        [
         5,
         "Camilla Castle",
         "New Zealand",
         19,
         "Raspberry Choco",
         "2022-04-04",
         "$4,746 ",
         137
        ],
        [
         18,
         "Madelene Upcott",
         "Australia",
         16,
         "Orange Choco",
         "2022-04-15",
         "$6,713 ",
         398
        ],
        [
         23,
         "Roddy Speechley",
         "Canada",
         11,
         "Eclairs",
         "2022-03-08",
         "$6,237 ",
         88
        ],
        [
         16,
         "Karlen McCaffrey",
         "India",
         22,
         "White Choc",
         "2022-01-17",
         "$7,483 ",
         232
        ],
        [
         25,
         "Wilone O'Kielt",
         "India",
         15,
         "Mint Chip Choco",
         "2022-08-22",
         "$1,309 ",
         51
        ],
        [
         1,
         "Andria Kimpton",
         "UK",
         4,
         "99% Dark & Pure",
         "2022-07-25",
         "$1,155 ",
         66
        ],
        [
         20,
         "Marney O'Breen",
         "UK",
         1,
         "50% Dark Bites",
         "2022-06-14",
         "$2,989 ",
         124
        ],
        [
         6,
         "Ches Bonnell",
         "India",
         9,
         "Choco Coated Almonds",
         "2022-04-05",
         "$9,625 ",
         78
        ],
        [
         18,
         "Madelene Upcott",
         "UK",
         19,
         "Raspberry Choco",
         "2022-08-26",
         "$7,357 ",
         341
        ],
        [
         25,
         "Wilone O'Kielt",
         "Australia",
         1,
         "50% Dark Bites",
         "2022-08-03",
         "$10,031 ",
         114
        ],
        [
         10,
         "Gigi Bohling",
         "Canada",
         22,
         "White Choc",
         "2022-07-11",
         "$6,587 ",
         4
        ],
        [
         25,
         "Wilone O'Kielt",
         "New Zealand",
         11,
         "Eclairs",
         "2022-03-11",
         "$3,311 ",
         22
        ],
        [
         4,
         "Brien Boise",
         "UK",
         18,
         "Peanut Butter Cubes",
         "2022-01-10",
         "$15,330 ",
         30
        ],
        [
         23,
         "Roddy Speechley",
         "UK",
         7,
         "Baker's Choco Chips",
         "2022-04-04",
         "$14,028 ",
         351
        ],
        [
         16,
         "Karlen McCaffrey",
         "Australia",
         1,
         "50% Dark Bites",
         "2022-01-17",
         "$6,678 ",
         708
        ],
        [
         20,
         "Marney O'Breen",
         "New Zealand",
         17,
         "Organic Choco Syrup",
         "2022-07-08",
         "$8,624 ",
         50
        ],
        [
         13,
         "Jan Morforth",
         "UK",
         17,
         "Organic Choco Syrup",
         "2022-04-12",
         "$1,197 ",
         356
        ],
        [
         22,
         "Rafaelita Blaksland",
         "Canada",
         12,
         "Fruit & Nut Bars",
         "2022-08-24",
         "$483 ",
         185
        ],
        [
         6,
         "Ches Bonnell",
         "UK",
         9,
         "Choco Coated Almonds",
         "2022-06-07",
         "$1,687 ",
         236
        ],
        [
         11,
         "Gunar Cockshoot",
         "Canada",
         6,
         "Almond Choco",
         "2022-07-28",
         "$1,309 ",
         30
        ],
        [
         12,
         "Husein Augar",
         "USA",
         4,
         "99% Dark & Pure",
         "2022-02-21",
         "$9,534 ",
         111
        ],
        [
         8,
         "Dennison Crosswaite",
         "Canada",
         15,
         "Mint Chip Choco",
         "2022-04-08",
         "$1,694 ",
         289
        ],
        [
         4,
         "Brien Boise",
         "UK",
         13,
         "Manuka Honey Choco",
         "2022-06-28",
         "$70 ",
         103
        ],
        [
         24,
         "Van Tuxwell",
         "UK",
         7,
         "Baker's Choco Chips",
         "2022-03-24",
         "$2,443 ",
         20
        ],
        [
         2,
         "Barr Faughny",
         "Australia",
         8,
         "Caramel Stuffed Bars",
         "2022-07-29",
         "$2,933 ",
         55
        ],
        [
         8,
         "Dennison Crosswaite",
         "USA",
         11,
         "Eclairs",
         "2022-05-25",
         "$2,044 ",
         90
        ],
        [
         10,
         "Gigi Bohling",
         "Australia",
         19,
         "Raspberry Choco",
         "2022-03-30",
         "$6,524 ",
         303
        ],
        [
         8,
         "Dennison Crosswaite",
         "USA",
         17,
         "Organic Choco Syrup",
         "2022-07-18",
         "$12,656 ",
         126
        ],
        [
         3,
         "Beverie Moffet",
         "Canada",
         16,
         "Orange Choco",
         "2022-05-10",
         "$8,722 ",
         109
        ],
        [
         19,
         "Mallorie Waber",
         "Australia",
         9,
         "Choco Coated Almonds",
         "2022-03-18",
         "$15,750 ",
         92
        ],
        [
         6,
         "Ches Bonnell",
         "India",
         8,
         "Caramel Stuffed Bars",
         "2022-06-15",
         "$6,839 ",
         56
        ],
        [
         24,
         "Van Tuxwell",
         "Canada",
         1,
         "50% Dark Bites",
         "2022-05-12",
         "$13,685 ",
         58
        ],
        [
         17,
         "Kelci Walkden",
         "New Zealand",
         7,
         "Baker's Choco Chips",
         "2022-06-23",
         "$2,912 ",
         110
        ],
        [
         3,
         "Beverie Moffet",
         "India",
         21,
         "Spicy Special Slims",
         "2022-04-21",
         "$3,339 ",
         171
        ],
        [
         10,
         "Gigi Bohling",
         "Australia",
         6,
         "Almond Choco",
         "2022-08-17",
         "$910 ",
         117
        ],
        [
         22,
         "Rafaelita Blaksland",
         "New Zealand",
         11,
         "Eclairs",
         "2022-02-07",
         "$19,481 ",
         51
        ],
        [
         17,
         "Kelci Walkden",
         "Canada",
         20,
         "Smooth Sliky Salty",
         "2022-03-17",
         "$8,099 ",
         118
        ],
        [
         13,
         "Jan Morforth",
         "India",
         7,
         "Baker's Choco Chips",
         "2022-08-01",
         "$13,727 ",
         79
        ],
        [
         14,
         "Jehu Rudeforth",
         "Australia",
         14,
         "Milk Bars",
         "2022-03-18",
         "$8,659 ",
         29
        ],
        [
         10,
         "Gigi Bohling",
         "Canada",
         12,
         "Fruit & Nut Bars",
         "2022-06-14",
         "$5,782 ",
         103
        ],
        [
         3,
         "Beverie Moffet",
         "UK",
         11,
         "Eclairs",
         "2022-04-22",
         "$8,463 ",
         155
        ],
        [
         20,
         "Marney O'Breen",
         "New Zealand",
         11,
         "Eclairs",
         "2022-01-18",
         "$4,914 ",
         31
        ],
        [
         12,
         "Husein Augar",
         "Australia",
         4,
         "99% Dark & Pure",
         "2022-08-26",
         "$3,087 ",
         128
        ],
        [
         11,
         "Gunar Cockshoot",
         "New Zealand",
         12,
         "Fruit & Nut Bars",
         "2022-06-10",
         "$9,205 ",
         419
        ],
        [
         7,
         "Curtice Advani",
         "Canada",
         2,
         "70% Dark Bites",
         "2022-01-31",
         "$2,303 ",
         7
        ],
        [
         17,
         "Kelci Walkden",
         "New Zealand",
         13,
         "Manuka Honey Choco",
         "2022-04-08",
         "$1,358 ",
         106
        ],
        [
         9,
         "Dotty Strutley",
         "Australia",
         7,
         "Baker's Choco Chips",
         "2022-06-07",
         "$3,605 ",
         68
        ],
        [
         2,
         "Barr Faughny",
         "Australia",
         3,
         "85% Dark Bars",
         "2022-02-10",
         "$8,498 ",
         44
        ],
        [
         3,
         "Beverie Moffet",
         "Australia",
         1,
         "50% Dark Bites",
         "2022-05-16",
         "$700 ",
         457
        ],
        [
         11,
         "Gunar Cockshoot",
         "India",
         7,
         "Baker's Choco Chips",
         "2022-03-18",
         "$2,191 ",
         524
        ],
        [
         24,
         "Van Tuxwell",
         "Australia",
         1,
         "50% Dark Bites",
         "2022-07-13",
         "$644 ",
         137
        ],
        [
         21,
         "Oby Sorrel",
         "USA",
         13,
         "Manuka Honey Choco",
         "2022-07-25",
         "$4,340 ",
         86
        ],
        [
         24,
         "Van Tuxwell",
         "Canada",
         9,
         "Choco Coated Almonds",
         "2022-08-19",
         "$2,282 ",
         296
        ],
        [
         16,
         "Karlen McCaffrey",
         "Canada",
         2,
         "70% Dark Bites",
         "2022-06-24",
         "$7,714 ",
         597
        ],
        [
         17,
         "Kelci Walkden",
         "Canada",
         12,
         "Fruit & Nut Bars",
         "2022-06-20",
         "$826 ",
         149
        ],
        [
         5,
         "Camilla Castle",
         "India",
         4,
         "99% Dark & Pure",
         "2022-08-02",
         "$203 ",
         207
        ],
        [
         18,
         "Madelene Upcott",
         "New Zealand",
         2,
         "70% Dark Bites",
         "2022-02-22",
         "$13,356 ",
         93
        ],
        [
         19,
         "Mallorie Waber",
         "New Zealand",
         16,
         "Orange Choco",
         "2022-02-01",
         "$6,510 ",
         23
        ],
        [
         13,
         "Jan Morforth",
         "Canada",
         2,
         "70% Dark Bites",
         "2022-02-14",
         "$5,894 ",
         305
        ],
        [
         17,
         "Kelci Walkden",
         "Australia",
         14,
         "Milk Bars",
         "2022-02-24",
         "$7,910 ",
         125
        ],
        [
         8,
         "Dennison Crosswaite",
         "India",
         16,
         "Orange Choco",
         "2022-03-18",
         "$784 ",
         129
        ],
        [
         12,
         "Husein Augar",
         "UK",
         11,
         "Eclairs",
         "2022-08-30",
         "$1,750 ",
         252
        ],
        [
         10,
         "Gigi Bohling",
         "USA",
         18,
         "Peanut Butter Cubes",
         "2022-05-09",
         "$280 ",
         75
        ],
        [
         25,
         "Wilone O'Kielt",
         "USA",
         20,
         "Smooth Sliky Salty",
         "2022-01-18",
         "$504 ",
         87
        ],
        [
         7,
         "Curtice Advani",
         "India",
         22,
         "White Choc",
         "2022-07-04",
         "$7,154 ",
         342
        ],
        [
         21,
         "Oby Sorrel",
         "New Zealand",
         21,
         "Spicy Special Slims",
         "2022-06-03",
         "$1,617 ",
         13
        ],
        [
         3,
         "Beverie Moffet",
         "New Zealand",
         18,
         "Peanut Butter Cubes",
         "2022-02-23",
         "$10,822 ",
         30
        ],
        [
         9,
         "Dotty Strutley",
         "New Zealand",
         4,
         "99% Dark & Pure",
         "2022-05-09",
         "$10,724 ",
         203
        ],
        [
         17,
         "Kelci Walkden",
         "India",
         2,
         "70% Dark Bites",
         "2022-06-06",
         "$3,640 ",
         106
        ],
        [
         17,
         "Kelci Walkden",
         "India",
         10,
         "Drinking Coco",
         "2022-07-04",
         "$7,532 ",
         234
        ],
        [
         4,
         "Brien Boise",
         "New Zealand",
         10,
         "Drinking Coco",
         "2022-06-06",
         "$1,582 ",
         100
        ],
        [
         9,
         "Dotty Strutley",
         "Australia",
         6,
         "Almond Choco",
         "2022-05-13",
         "$1,456 ",
         91
        ],
        [
         25,
         "Wilone O'Kielt",
         "New Zealand",
         17,
         "Organic Choco Syrup",
         "2022-01-31",
         "$2,016 ",
         277
        ],
        [
         6,
         "Ches Bonnell",
         "New Zealand",
         8,
         "Caramel Stuffed Bars",
         "2022-06-30",
         "$7,588 ",
         42
        ],
        [
         2,
         "Barr Faughny",
         "Canada",
         13,
         "Manuka Honey Choco",
         "2022-08-25",
         "$3,402 ",
         249
        ],
        [
         10,
         "Gigi Bohling",
         "New Zealand",
         20,
         "Smooth Sliky Salty",
         "2022-01-10",
         "$700 ",
         97
        ],
        [
         4,
         "Brien Boise",
         "USA",
         13,
         "Manuka Honey Choco",
         "2022-08-22",
         "$1,904 ",
         8
        ],
        [
         23,
         "Roddy Speechley",
         "New Zealand",
         3,
         "85% Dark Bars",
         "2022-04-14",
         "$4,844 ",
         275
        ],
        [
         21,
         "Oby Sorrel",
         "UK",
         20,
         "Smooth Sliky Salty",
         "2022-05-31",
         "$9,625 ",
         313
        ],
        [
         21,
         "Oby Sorrel",
         "UK",
         19,
         "Raspberry Choco",
         "2022-04-08",
         "$4,599 ",
         323
        ],
        [
         23,
         "Roddy Speechley",
         "USA",
         10,
         "Drinking Coco",
         "2022-02-21",
         "$3,003 ",
         155
        ],
        [
         1,
         "Andria Kimpton",
         "Australia",
         13,
         "Manuka Honey Choco",
         "2022-03-30",
         "$9,744 ",
         377
        ],
        [
         19,
         "Mallorie Waber",
         "India",
         19,
         "Raspberry Choco",
         "2022-03-02",
         "$1,400 ",
         2
        ],
        [
         14,
         "Jehu Rudeforth",
         "USA",
         16,
         "Orange Choco",
         "2022-07-28",
         "$364 ",
         170
        ],
        [
         15,
         "Kaine Padly",
         "New Zealand",
         2,
         "70% Dark Bites",
         "2022-03-24",
         "$7,231 ",
         38
        ],
        [
         7,
         "Curtice Advani",
         "Australia",
         5,
         "After Nines",
         "2022-08-11",
         "$63 ",
         105
        ],
        [
         12,
         "Husein Augar",
         "UK",
         6,
         "Almond Choco",
         "2022-05-17",
         "$8,309 ",
         166
        ],
        [
         15,
         "Kaine Padly",
         "Canada",
         9,
         "Choco Coated Almonds",
         "2022-05-18",
         "$3,164 ",
         164
        ],
        [
         23,
         "Roddy Speechley",
         "UK",
         18,
         "Peanut Butter Cubes",
         "2022-08-17",
         "$5,691 ",
         171
        ],
        [
         6,
         "Ches Bonnell",
         "New Zealand",
         11,
         "Eclairs",
         "2022-04-04",
         "$490 ",
         49
        ],
        [
         4,
         "Brien Boise",
         "India",
         3,
         "85% Dark Bars",
         "2022-08-09",
         "$18,032 ",
         205
        ],
        [
         4,
         "Brien Boise",
         "New Zealand",
         17,
         "Organic Choco Syrup",
         "2022-01-17",
         "$637 ",
         313
        ],
        [
         1,
         "Andria Kimpton",
         "Canada",
         22,
         "White Choc",
         "2022-02-14",
         "$4,067 ",
         29
        ],
        [
         10,
         "Gigi Bohling",
         "New Zealand",
         16,
         "Orange Choco",
         "2022-05-16",
         "$8,204 ",
         307
        ],
        [
         6,
         "Ches Bonnell",
         "Canada",
         20,
         "Smooth Sliky Salty",
         "2022-03-16",
         "$9,870 ",
         121
        ],
        [
         12,
         "Husein Augar",
         "Canada",
         2,
         "70% Dark Bites",
         "2022-01-31",
         "$5,131 ",
         285
        ],
        [
         2,
         "Barr Faughny",
         "Canada",
         17,
         "Organic Choco Syrup",
         "2022-03-10",
         "$1,141 ",
         205
        ],
        [
         21,
         "Oby Sorrel",
         "UK",
         17,
         "Organic Choco Syrup",
         "2022-06-30",
         "$7,980 ",
         157
        ],
        [
         24,
         "Van Tuxwell",
         "New Zealand",
         11,
         "Eclairs",
         "2022-03-01",
         "$5,229 ",
         182
        ],
        [
         19,
         "Mallorie Waber",
         "UK",
         10,
         "Drinking Coco",
         "2022-05-27",
         "$3,423 ",
         100
        ],
        [
         21,
         "Oby Sorrel",
         "UK",
         14,
         "Milk Bars",
         "2022-07-11",
         "$6,468 ",
         223
        ],
        [
         16,
         "Karlen McCaffrey",
         "New Zealand",
         15,
         "Mint Chip Choco",
         "2022-03-02",
         "$4,326 ",
         61
        ],
        [
         14,
         "Jehu Rudeforth",
         "USA",
         19,
         "Raspberry Choco",
         "2022-03-04",
         "$7,154 ",
         133
        ],
        [
         17,
         "Kelci Walkden",
         "UK",
         3,
         "85% Dark Bars",
         "2022-06-23",
         "$3,997 ",
         228
        ],
        [
         17,
         "Kelci Walkden",
         "USA",
         6,
         "Almond Choco",
         "2022-01-27",
         "$5,180 ",
         233
        ],
        [
         20,
         "Marney O'Breen",
         "Canada",
         16,
         "Orange Choco",
         "2022-01-14",
         "$2,723 ",
         425
        ],
        [
         8,
         "Dennison Crosswaite",
         "India",
         12,
         "Fruit & Nut Bars",
         "2022-07-29",
         "$952 ",
         24
        ],
        [
         4,
         "Brien Boise",
         "Canada",
         20,
         "Smooth Sliky Salty",
         "2022-05-13",
         "$5,691 ",
         495
        ],
        [
         2,
         "Barr Faughny",
         "Canada",
         7,
         "Baker's Choco Chips",
         "2022-02-03",
         "$10,969 ",
         170
        ],
        [
         4,
         "Brien Boise",
         "India",
         20,
         "Smooth Sliky Salty",
         "2022-05-27",
         "$5,964 ",
         26
        ],
        [
         13,
         "Jan Morforth",
         "Australia",
         10,
         "Drinking Coco",
         "2022-02-18",
         "$2,821 ",
         24
        ],
        [
         4,
         "Brien Boise",
         "India",
         21,
         "Spicy Special Slims",
         "2022-01-28",
         "$1,302 ",
         33
        ],
        [
         24,
         "Van Tuxwell",
         "UK",
         11,
         "Eclairs",
         "2022-06-29",
         "$5,474 ",
         109
        ],
        [
         25,
         "Wilone O'Kielt",
         "India",
         8,
         "Caramel Stuffed Bars",
         "2022-01-13",
         "$4,179 ",
         276
        ],
        [
         14,
         "Jehu Rudeforth",
         "UK",
         5,
         "After Nines",
         "2022-06-27",
         "$1,946 ",
         164
        ],
        [
         2,
         "Barr Faughny",
         "Canada",
         22,
         "White Choc",
         "2022-03-29",
         "$4,291 ",
         1
        ],
        [
         11,
         "Gunar Cockshoot",
         "India",
         17,
         "Organic Choco Syrup",
         "2022-06-03",
         "$7,196 ",
         160
        ],
        [
         19,
         "Mallorie Waber",
         "Canada",
         20,
         "Smooth Sliky Salty",
         "2022-03-21",
         "$1,939 ",
         98
        ],
        [
         19,
         "Mallorie Waber",
         "India",
         11,
         "Eclairs",
         "2022-04-12",
         "$10,437 ",
         46
        ],
        [
         22,
         "Rafaelita Blaksland",
         "Australia",
         19,
         "Raspberry Choco",
         "2022-01-19",
         "$6,916 ",
         259
        ],
        [
         16,
         "Karlen McCaffrey",
         "UK",
         1,
         "50% Dark Bites",
         "2022-04-06",
         "$3,647 ",
         310
        ],
        [
         15,
         "Kaine Padly",
         "Australia",
         1,
         "50% Dark Bites",
         "2022-08-02",
         "$8,995 ",
         78
        ],
        [
         10,
         "Gigi Bohling",
         "Australia",
         11,
         "Eclairs",
         "2022-04-12",
         "$7,252 ",
         136
        ],
        [
         21,
         "Oby Sorrel",
         "India",
         10,
         "Drinking Coco",
         "2022-07-21",
         "$16,380 ",
         130
        ],
        [
         24,
         "Van Tuxwell",
         "New Zealand",
         7,
         "Baker's Choco Chips",
         "2022-03-22",
         "$9,660 ",
         24
        ],
        [
         12,
         "Husein Augar",
         "India",
         18,
         "Peanut Butter Cubes",
         "2022-05-09",
         "$4,522 ",
         5
        ],
        [
         1,
         "Andria Kimpton",
         "Australia",
         7,
         "Baker's Choco Chips",
         "2022-08-09",
         "$329 ",
         109
        ],
        [
         18,
         "Madelene Upcott",
         "Canada",
         9,
         "Choco Coated Almonds",
         "2022-07-20",
         "$3,458 ",
         294
        ],
        [
         4,
         "Brien Boise",
         "India",
         2,
         "70% Dark Bites",
         "2022-04-14",
         "$4,641 ",
         413
        ],
        [
         14,
         "Jehu Rudeforth",
         "Canada",
         22,
         "White Choc",
         "2022-01-25",
         "$4,627 ",
         136
        ],
        [
         1,
         "Andria Kimpton",
         "Australia",
         6,
         "Almond Choco",
         "2022-04-25",
         "$3,192 ",
         175
        ],
        [
         9,
         "Dotty Strutley",
         "Canada",
         5,
         "After Nines",
         "2022-01-17",
         "$252 ",
         237
        ],
        [
         16,
         "Karlen McCaffrey",
         "USA",
         11,
         "Eclairs",
         "2022-08-15",
         "$868 ",
         125
        ],
        [
         16,
         "Karlen McCaffrey",
         "Canada",
         12,
         "Fruit & Nut Bars",
         "2022-06-02",
         "$210 ",
         16
        ],
        [
         11,
         "Gunar Cockshoot",
         "USA",
         3,
         "85% Dark Bars",
         "2022-06-30",
         "$7,007 ",
         135
        ],
        [
         9,
         "Dotty Strutley",
         "New Zealand",
         19,
         "Raspberry Choco",
         "2022-02-10",
         "$5,845 ",
         91
        ],
        [
         20,
         "Marney O'Breen",
         "Canada",
         8,
         "Caramel Stuffed Bars",
         "2022-02-23",
         "$1,372 ",
         614
        ],
        [
         8,
         "Dennison Crosswaite",
         "India",
         17,
         "Organic Choco Syrup",
         "2022-01-27",
         "$8,428 ",
         216
        ],
        [
         5,
         "Camilla Castle",
         "UK",
         15,
         "Mint Chip Choco",
         "2022-05-26",
         "$4,977 ",
         317
        ],
        [
         4,
         "Brien Boise",
         "USA",
         2,
         "70% Dark Bites",
         "2022-04-14",
         "$1,694 ",
         21
        ],
        [
         18,
         "Madelene Upcott",
         "Australia",
         4,
         "99% Dark & Pure",
         "2022-08-01",
         "$4,326 ",
         154
        ],
        [
         19,
         "Mallorie Waber",
         "Australia",
         11,
         "Eclairs",
         "2022-08-22",
         "$9,527 ",
         222
        ],
        [
         20,
         "Marney O'Breen",
         "India",
         4,
         "99% Dark & Pure",
         "2022-07-22",
         "$10,766 ",
         157
        ],
        [
         12,
         "Husein Augar",
         "USA",
         12,
         "Fruit & Nut Bars",
         "2022-04-28",
         "$1,288 ",
         27
        ],
        [
         17,
         "Kelci Walkden",
         "Australia",
         6,
         "Almond Choco",
         "2022-05-30",
         "$4,879 ",
         350
        ],
        [
         6,
         "Ches Bonnell",
         "USA",
         14,
         "Milk Bars",
         "2022-07-21",
         "$2,408 ",
         157
        ],
        [
         13,
         "Jan Morforth",
         "UK",
         8,
         "Caramel Stuffed Bars",
         "2022-08-02",
         "$3,094 ",
         468
        ],
        [
         4,
         "Brien Boise",
         "New Zealand",
         2,
         "70% Dark Bites",
         "2022-06-15",
         "$7,231 ",
         130
        ],
        [
         21,
         "Oby Sorrel",
         "India",
         3,
         "85% Dark Bars",
         "2022-07-05",
         "$8,981 ",
         130
        ],
        [
         15,
         "Kaine Padly",
         "New Zealand",
         20,
         "Smooth Sliky Salty",
         "2022-04-12",
         "$7 ",
         518
        ],
        [
         10,
         "Gigi Bohling",
         "Australia",
         2,
         "70% Dark Bites",
         "2022-08-18",
         "$1,372 ",
         105
        ],
        [
         13,
         "Jan Morforth",
         "UK",
         1,
         "50% Dark Bites",
         "2022-01-12",
         "$5,250 ",
         293
        ],
        [
         11,
         "Gunar Cockshoot",
         "Canada",
         22,
         "White Choc",
         "2022-08-11",
         "$7,560 ",
         15
        ],
        [
         14,
         "Jehu Rudeforth",
         "Australia",
         21,
         "Spicy Special Slims",
         "2022-01-13",
         "$5,012 ",
         384
        ],
        [
         12,
         "Husein Augar",
         "UK",
         7,
         "Baker's Choco Chips",
         "2022-04-29",
         "$3,038 ",
         135
        ],
        [
         22,
         "Rafaelita Blaksland",
         "New Zealand",
         5,
         "After Nines",
         "2022-07-07",
         "$1,099 ",
         92
        ],
        [
         18,
         "Madelene Upcott",
         "New Zealand",
         15,
         "Mint Chip Choco",
         "2022-03-11",
         "$7,413 ",
         4
        ],
        [
         18,
         "Madelene Upcott",
         "UK",
         2,
         "70% Dark Bites",
         "2022-02-16",
         "$5,397 ",
         239
        ],
        [
         2,
         "Barr Faughny",
         "Australia",
         17,
         "Organic Choco Syrup",
         "2022-01-07",
         "$2,303 ",
         33
        ],
        [
         3,
         "Beverie Moffet",
         "New Zealand",
         10,
         "Drinking Coco",
         "2022-01-12",
         "$1,141 ",
         518
        ],
        [
         3,
         "Beverie Moffet",
         "India",
         11,
         "Eclairs",
         "2022-06-09",
         "$10,325 ",
         147
        ],
        [
         1,
         "Andria Kimpton",
         "India",
         11,
         "Eclairs",
         "2022-05-16",
         "$2,149 ",
         84
        ],
        [
         10,
         "Gigi Bohling",
         "UK",
         3,
         "85% Dark Bars",
         "2022-06-23",
         "$12,362 ",
         94
        ],
        [
         23,
         "Roddy Speechley",
         "UK",
         19,
         "Raspberry Choco",
         "2022-01-28",
         "$12,635 ",
         194
        ],
        [
         9,
         "Dotty Strutley",
         "UK",
         15,
         "Mint Chip Choco",
         "2022-07-14",
         "$2,443 ",
         216
        ],
        [
         2,
         "Barr Faughny",
         "Canada",
         10,
         "Drinking Coco",
         "2022-04-18",
         "$6,237 ",
         247
        ],
        [
         21,
         "Oby Sorrel",
         "USA",
         14,
         "Milk Bars",
         "2022-06-14",
         "$1,736 ",
         79
        ],
        [
         21,
         "Oby Sorrel",
         "UK",
         16,
         "Orange Choco",
         "2022-04-15",
         "$7,315 ",
         237
        ],
        [
         7,
         "Curtice Advani",
         "Canada",
         18,
         "Peanut Butter Cubes",
         "2022-05-19",
         "$4,935 ",
         63
        ],
        [
         10,
         "Gigi Bohling",
         "India",
         22,
         "White Choc",
         "2022-04-13",
         "$1,393 ",
         172
        ],
        [
         12,
         "Husein Augar",
         "Canada",
         9,
         "Choco Coated Almonds",
         "2022-08-15",
         "$3,381 ",
         408
        ],
        [
         25,
         "Wilone O'Kielt",
         "India",
         9,
         "Choco Coated Almonds",
         "2022-08-22",
         "$2,933 ",
         233
        ],
        [
         25,
         "Wilone O'Kielt",
         "New Zealand",
         7,
         "Baker's Choco Chips",
         "2022-04-22",
         "$3,836 ",
         59
        ],
        [
         15,
         "Kaine Padly",
         "UK",
         9,
         "Choco Coated Almonds",
         "2022-08-03",
         "$8,022 ",
         123
        ],
        [
         8,
         "Dennison Crosswaite",
         "New Zealand",
         17,
         "Organic Choco Syrup",
         "2022-01-04",
         "$371 ",
         229
        ],
        [
         17,
         "Kelci Walkden",
         "Canada",
         5,
         "After Nines",
         "2022-01-13",
         "$16,702 ",
         198
        ],
        [
         24,
         "Van Tuxwell",
         "Australia",
         7,
         "Baker's Choco Chips",
         "2022-05-11",
         "$13,258 ",
         32
        ],
        [
         12,
         "Husein Augar",
         "New Zealand",
         18,
         "Peanut Butter Cubes",
         "2022-02-16",
         "$2,058 ",
         236
        ],
        [
         15,
         "Kaine Padly",
         "UK",
         8,
         "Caramel Stuffed Bars",
         "2022-05-20",
         "$10,192 ",
         67
        ],
        [
         14,
         "Jehu Rudeforth",
         "UK",
         10,
         "Drinking Coco",
         "2022-02-03",
         "$7,140 ",
         438
        ],
        [
         3,
         "Beverie Moffet",
         "India",
         13,
         "Manuka Honey Choco",
         "2022-05-06",
         "$9,835 ",
         167
        ],
        [
         11,
         "Gunar Cockshoot",
         "UK",
         9,
         "Choco Coated Almonds",
         "2022-06-30",
         "$5,775 ",
         135
        ],
        [
         11,
         "Gunar Cockshoot",
         "UK",
         20,
         "Smooth Sliky Salty",
         "2022-03-22",
         "$749 ",
         148
        ],
        [
         5,
         "Camilla Castle",
         "Canada",
         16,
         "Orange Choco",
         "2022-02-17",
         "$7,770 ",
         54
        ],
        [
         14,
         "Jehu Rudeforth",
         "UK",
         3,
         "85% Dark Bars",
         "2022-07-07",
         "$5,502 ",
         64
        ],
        [
         21,
         "Oby Sorrel",
         "UK",
         2,
         "70% Dark Bites",
         "2022-03-16",
         "$6,223 ",
         181
        ],
        [
         17,
         "Kelci Walkden",
         "UK",
         4,
         "99% Dark & Pure",
         "2022-08-12",
         "$3,507 ",
         114
        ],
        [
         10,
         "Gigi Bohling",
         "New Zealand",
         5,
         "After Nines",
         "2022-01-21",
         "$5,600 ",
         181
        ],
        [
         21,
         "Oby Sorrel",
         "Australia",
         1,
         "50% Dark Bites",
         "2022-05-06",
         "$721 ",
         151
        ],
        [
         21,
         "Oby Sorrel",
         "Canada",
         1,
         "50% Dark Bites",
         "2022-06-24",
         "$6,615 ",
         137
        ],
        [
         2,
         "Barr Faughny",
         "USA",
         22,
         "White Choc",
         "2022-05-05",
         "$7,420 ",
         163
        ],
        [
         22,
         "Rafaelita Blaksland",
         "New Zealand",
         4,
         "99% Dark & Pure",
         "2022-03-25",
         "$3,164 ",
         84
        ],
        [
         7,
         "Curtice Advani",
         "Australia",
         8,
         "Caramel Stuffed Bars",
         "2022-02-14",
         "$9,114 ",
         140
        ],
        [
         7,
         "Curtice Advani",
         "New Zealand",
         3,
         "85% Dark Bars",
         "2022-05-12",
         "$5,404 ",
         187
        ],
        [
         2,
         "Barr Faughny",
         "New Zealand",
         20,
         "Smooth Sliky Salty",
         "2022-01-25",
         "$3,990 ",
         169
        ],
        [
         6,
         "Ches Bonnell",
         "UK",
         3,
         "85% Dark Bars",
         "2022-06-28",
         "$14,924 ",
         12
        ],
        [
         8,
         "Dennison Crosswaite",
         "Australia",
         10,
         "Drinking Coco",
         "2022-07-13",
         "$7,091 ",
         194
        ],
        [
         23,
         "Roddy Speechley",
         "USA",
         14,
         "Milk Bars",
         "2022-05-16",
         "$2,807 ",
         252
        ],
        [
         13,
         "Jan Morforth",
         "India",
         5,
         "After Nines",
         "2022-03-14",
         "$6,496 ",
         168
        ],
        [
         11,
         "Gunar Cockshoot",
         "USA",
         5,
         "After Nines",
         "2022-08-15",
         "$3,738 ",
         261
        ],
        [
         6,
         "Ches Bonnell",
         "India",
         16,
         "Orange Choco",
         "2022-02-16",
         "$1,190 ",
         256
        ],
        [
         19,
         "Mallorie Waber",
         "UK",
         13,
         "Manuka Honey Choco",
         "2022-06-15",
         "$8,379 ",
         43
        ],
        [
         2,
         "Barr Faughny",
         "Australia",
         19,
         "Raspberry Choco",
         "2022-05-27",
         "$9,268 ",
         100
        ],
        [
         25,
         "Wilone O'Kielt",
         "USA",
         10,
         "Drinking Coco",
         "2022-06-14",
         "$1,029 ",
         98
        ],
        [
         25,
         "Wilone O'Kielt",
         "India",
         11,
         "Eclairs",
         "2022-02-25",
         "$3,549 ",
         76
        ],
        [
         25,
         "Wilone O'Kielt",
         "India",
         5,
         "After Nines",
         "2022-08-04",
         "$12,026 ",
         262
        ],
        [
         17,
         "Kelci Walkden",
         "India",
         4,
         "99% Dark & Pure",
         "2022-06-28",
         "$2,303 ",
         244
        ],
        [
         11,
         "Gunar Cockshoot",
         "Canada",
         21,
         "Spicy Special Slims",
         "2022-04-05",
         "$13,405 ",
         12
        ],
        [
         18,
         "Madelene Upcott",
         "Canada",
         18,
         "Peanut Butter Cubes",
         "2022-07-05",
         "$14,763 ",
         113
        ],
        [
         15,
         "Kaine Padly",
         "New Zealand",
         11,
         "Eclairs",
         "2022-01-20",
         "$12,894 ",
         48
        ],
        [
         6,
         "Ches Bonnell",
         "New Zealand",
         10,
         "Drinking Coco",
         "2022-02-16",
         "$8,302 ",
         131
        ],
        [
         7,
         "Curtice Advani",
         "UK",
         10,
         "Drinking Coco",
         "2022-07-12",
         "$455 ",
         174
        ],
        [
         17,
         "Kelci Walkden",
         "India",
         19,
         "Raspberry Choco",
         "2022-06-16",
         "$8,183 ",
         254
        ],
        [
         9,
         "Dotty Strutley",
         "Australia",
         9,
         "Choco Coated Almonds",
         "2022-04-13",
         "$1,645 ",
         284
        ],
        [
         15,
         "Kaine Padly",
         "UK",
         1,
         "50% Dark Bites",
         "2022-02-21",
         "$3,143 ",
         67
        ],
        [
         23,
         "Roddy Speechley",
         "Canada",
         9,
         "Choco Coated Almonds",
         "2022-05-11",
         "$5,873 ",
         249
        ],
        [
         6,
         "Ches Bonnell",
         "India",
         1,
         "50% Dark Bites",
         "2022-04-15",
         "$11,298 ",
         313
        ],
        [
         21,
         "Oby Sorrel",
         "Canada",
         18,
         "Peanut Butter Cubes",
         "2022-06-07",
         "$12,425 ",
         167
        ],
        [
         21,
         "Oby Sorrel",
         "UK",
         22,
         "White Choc",
         "2022-06-27",
         "$1,715 ",
         286
        ],
        [
         2,
         "Barr Faughny",
         "India",
         5,
         "After Nines",
         "2022-07-29",
         "$8,190 ",
         109
        ],
        [
         25,
         "Wilone O'Kielt",
         "Canada",
         20,
         "Smooth Sliky Salty",
         "2022-06-02",
         "$4,991 ",
         166
        ],
        [
         22,
         "Rafaelita Blaksland",
         "India",
         15,
         "Mint Chip Choco",
         "2022-01-26",
         "$15,491 ",
         85
        ],
        [
         22,
         "Rafaelita Blaksland",
         "Canada",
         4,
         "99% Dark & Pure",
         "2022-03-02",
         "$5,096 ",
         142
        ],
        [
         24,
         "Van Tuxwell",
         "Australia",
         2,
         "70% Dark Bites",
         "2022-01-10",
         "$7,063 ",
         104
        ],
        [
         3,
         "Beverie Moffet",
         "USA",
         2,
         "70% Dark Bites",
         "2022-06-27",
         "$2,275 ",
         115
        ],
        [
         2,
         "Barr Faughny",
         "Canada",
         16,
         "Orange Choco",
         "2022-06-30",
         "$7,602 ",
         18
        ],
        [
         23,
         "Roddy Speechley",
         "Australia",
         3,
         "85% Dark Bars",
         "2022-07-08",
         "$4,200 ",
         80
        ],
        [
         21,
         "Oby Sorrel",
         "India",
         21,
         "Spicy Special Slims",
         "2022-06-08",
         "$11,137 ",
         88
        ],
        [
         13,
         "Jan Morforth",
         "UK",
         13,
         "Manuka Honey Choco",
         "2022-08-18",
         "$3,388 ",
         212
        ],
        [
         15,
         "Kaine Padly",
         "Australia",
         5,
         "After Nines",
         "2022-04-08",
         "$6,832 ",
         306
        ],
        [
         25,
         "Wilone O'Kielt",
         "Canada",
         12,
         "Fruit & Nut Bars",
         "2022-08-08",
         "$3,437 ",
         181
        ],
        [
         25,
         "Wilone O'Kielt",
         "UK",
         14,
         "Milk Bars",
         "2022-08-26",
         "$301 ",
         65
        ],
        [
         21,
         "Oby Sorrel",
         "Canada",
         12,
         "Fruit & Nut Bars",
         "2022-01-14",
         "$1,869 ",
         158
        ],
        [
         8,
         "Dennison Crosswaite",
         "USA",
         7,
         "Baker's Choco Chips",
         "2022-08-11",
         "$17,465 ",
         271
        ],
        [
         18,
         "Madelene Upcott",
         "USA",
         6,
         "Almond Choco",
         "2022-05-31",
         "$10,143 ",
         24
        ],
        [
         24,
         "Van Tuxwell",
         "New Zealand",
         1,
         "50% Dark Bites",
         "2022-07-11",
         "$3,626 ",
         10
        ],
        [
         16,
         "Karlen McCaffrey",
         "Canada",
         8,
         "Caramel Stuffed Bars",
         "2022-03-02",
         "$3,346 ",
         304
        ],
        [
         18,
         "Madelene Upcott",
         "Australia",
         19,
         "Raspberry Choco",
         "2022-07-13",
         "$6,321 ",
         88
        ],
        [
         22,
         "Rafaelita Blaksland",
         "UK",
         21,
         "Spicy Special Slims",
         "2022-08-03",
         "$9,345 ",
         133
        ],
        [
         7,
         "Curtice Advani",
         "UK",
         18,
         "Peanut Butter Cubes",
         "2022-03-01",
         "$15,008 ",
         165
        ],
        [
         17,
         "Kelci Walkden",
         "New Zealand",
         22,
         "White Choc",
         "2022-04-13",
         "$7,609 ",
         150
        ],
        [
         3,
         "Beverie Moffet",
         "Canada",
         12,
         "Fruit & Nut Bars",
         "2022-02-14",
         "$10,332 ",
         180
        ],
        [
         19,
         "Mallorie Waber",
         "India",
         22,
         "White Choc",
         "2022-07-26",
         "$819 ",
         213
        ],
        [
         4,
         "Brien Boise",
         "UK",
         10,
         "Drinking Coco",
         "2022-01-27",
         "$5,754 ",
         133
        ],
        [
         14,
         "Jehu Rudeforth",
         "India",
         18,
         "Peanut Butter Cubes",
         "2022-04-14",
         "$28 ",
         446
        ],
        [
         21,
         "Oby Sorrel",
         "USA",
         6,
         "Almond Choco",
         "2022-05-19",
         "$6,440 ",
         141
        ],
        [
         12,
         "Husein Augar",
         "India",
         11,
         "Eclairs",
         "2022-02-09",
         "$4,956 ",
         58
        ],
        [
         4,
         "Brien Boise",
         "UK",
         21,
         "Spicy Special Slims",
         "2022-05-25",
         "$2,352 ",
         58
        ],
        [
         21,
         "Oby Sorrel",
         "Australia",
         13,
         "Manuka Honey Choco",
         "2022-01-26",
         "$3,906 ",
         76
        ],
        [
         3,
         "Beverie Moffet",
         "India",
         22,
         "White Choc",
         "2022-07-04",
         "$1,813 ",
         296
        ],
        [
         6,
         "Ches Bonnell",
         "India",
         6,
         "Almond Choco",
         "2022-04-13",
         "$11,788 ",
         73
        ],
        [
         10,
         "Gigi Bohling",
         "Australia",
         20,
         "Smooth Sliky Salty",
         "2022-01-25",
         "$5,768 ",
         119
        ],
        [
         5,
         "Camilla Castle",
         "USA",
         3,
         "85% Dark Bars",
         "2022-04-25",
         "$2,401 ",
         78
        ],
        [
         5,
         "Camilla Castle",
         "USA",
         11,
         "Eclairs",
         "2022-06-10",
         "$4,515 ",
         392
        ],
        [
         18,
         "Madelene Upcott",
         "New Zealand",
         22,
         "White Choc",
         "2022-08-22",
         "$10,794 ",
         51
        ],
        [
         24,
         "Van Tuxwell",
         "India",
         5,
         "After Nines",
         "2022-06-27",
         "$13,706 ",
         207
        ],
        [
         12,
         "Husein Augar",
         "India",
         16,
         "Orange Choco",
         "2022-06-30",
         "$4,361 ",
         40
        ],
        [
         14,
         "Jehu Rudeforth",
         "India",
         6,
         "Almond Choco",
         "2022-08-30",
         "$10,122 ",
         100
        ],
        [
         16,
         "Karlen McCaffrey",
         "Australia",
         19,
         "Raspberry Choco",
         "2022-08-23",
         "$994 ",
         57
        ],
        [
         5,
         "Camilla Castle",
         "New Zealand",
         4,
         "99% Dark & Pure",
         "2022-08-26",
         "$2,268 ",
         42
        ],
        [
         10,
         "Gigi Bohling",
         "Australia",
         16,
         "Orange Choco",
         "2022-03-09",
         "$574 ",
         156
        ],
        [
         17,
         "Kelci Walkden",
         "UK",
         10,
         "Drinking Coco",
         "2022-04-20",
         "$1,792 ",
         23
        ],
        [
         19,
         "Mallorie Waber",
         "Canada",
         8,
         "Caramel Stuffed Bars",
         "2022-06-10",
         "$4,844 ",
         539
        ],
        [
         12,
         "Husein Augar",
         "Australia",
         17,
         "Organic Choco Syrup",
         "2022-02-08",
         "$938 ",
         158
        ],
        [
         4,
         "Brien Boise",
         "Australia",
         22,
         "White Choc",
         "2022-08-25",
         "$4,879 ",
         22
        ],
        [
         9,
         "Dotty Strutley",
         "India",
         18,
         "Peanut Butter Cubes",
         "2022-02-16",
         "$9,107 ",
         73
        ],
        [
         8,
         "Dennison Crosswaite",
         "UK",
         4,
         "99% Dark & Pure",
         "2022-05-30",
         "$12,187 ",
         27
        ],
        [
         10,
         "Gigi Bohling",
         "New Zealand",
         1,
         "50% Dark Bites",
         "2022-06-29",
         "$5,670 ",
         64
        ],
        [
         10,
         "Gigi Bohling",
         "USA",
         14,
         "Milk Bars",
         "2022-06-16",
         "$476 ",
         133
        ],
        [
         4,
         "Brien Boise",
         "UK",
         8,
         "Caramel Stuffed Bars",
         "2022-03-04",
         "$2,681 ",
         149
        ],
        [
         7,
         "Curtice Advani",
         "New Zealand",
         18,
         "Peanut Butter Cubes",
         "2022-03-15",
         "$1,533 ",
         434
        ],
        [
         7,
         "Curtice Advani",
         "New Zealand",
         1,
         "50% Dark Bites",
         "2022-01-27",
         "$9,765 ",
         85
        ],
        [
         3,
         "Beverie Moffet",
         "Canada",
         10,
         "Drinking Coco",
         "2022-07-05",
         "$994 ",
         118
        ],
        [
         2,
         "Barr Faughny",
         "USA",
         8,
         "Caramel Stuffed Bars",
         "2022-03-29",
         "$3,318 ",
         299
        ],
        [
         19,
         "Mallorie Waber",
         "Canada",
         6,
         "Almond Choco",
         "2022-05-12",
         "$4,214 ",
         35
        ],
        [
         21,
         "Oby Sorrel",
         "USA",
         10,
         "Drinking Coco",
         "2022-03-11",
         "$7,714 ",
         44
        ],
        [
         4,
         "Brien Boise",
         "New Zealand",
         11,
         "Eclairs",
         "2022-07-11",
         "$4,690 ",
         299
        ],
        [
         11,
         "Gunar Cockshoot",
         "New Zealand",
         9,
         "Choco Coated Almonds",
         "2022-08-01",
         "$13,062 ",
         62
        ],
        [
         11,
         "Gunar Cockshoot",
         "UK",
         21,
         "Spicy Special Slims",
         "2022-02-16",
         "$12,488 ",
         200
        ],
        [
         7,
         "Curtice Advani",
         "USA",
         5,
         "After Nines",
         "2022-04-13",
         "$14,147 ",
         235
        ],
        [
         21,
         "Oby Sorrel",
         "India",
         9,
         "Choco Coated Almonds",
         "2022-02-14",
         "$49 ",
         363
        ],
        [
         6,
         "Ches Bonnell",
         "Australia",
         18,
         "Peanut Butter Cubes",
         "2022-03-14",
         "$10,199 ",
         68
        ],
        [
         21,
         "Oby Sorrel",
         "Australia",
         21,
         "Spicy Special Slims",
         "2022-04-26",
         "$11,389 ",
         26
        ],
        [
         14,
         "Jehu Rudeforth",
         "Canada",
         13,
         "Manuka Honey Choco",
         "2022-04-05",
         "$3,584 ",
         200
        ],
        [
         5,
         "Camilla Castle",
         "Canada",
         10,
         "Drinking Coco",
         "2022-03-03",
         "$12,481 ",
         264
        ],
        [
         15,
         "Kaine Padly",
         "USA",
         21,
         "Spicy Special Slims",
         "2022-06-13",
         "$2,107 ",
         175
        ],
        [
         20,
         "Marney O'Breen",
         "New Zealand",
         2,
         "70% Dark Bites",
         "2022-02-14",
         "$8,603 ",
         352
        ],
        [
         23,
         "Roddy Speechley",
         "New Zealand",
         4,
         "99% Dark & Pure",
         "2022-04-18",
         "$7,483 ",
         183
        ],
        [
         21,
         "Oby Sorrel",
         "New Zealand",
         3,
         "85% Dark Bars",
         "2022-02-01",
         "$3,381 ",
         417
        ],
        [
         9,
         "Dotty Strutley",
         "New Zealand",
         16,
         "Orange Choco",
         "2022-08-04",
         "$2,030 ",
         146
        ],
        [
         1,
         "Andria Kimpton",
         "New Zealand",
         6,
         "Almond Choco",
         "2022-04-05",
         "$6,559 ",
         158
        ],
        [
         16,
         "Karlen McCaffrey",
         "Australia",
         4,
         "99% Dark & Pure",
         "2022-01-26",
         "$10,822 ",
         168
        ],
        [
         15,
         "Kaine Padly",
         "UK",
         5,
         "After Nines",
         "2022-01-21",
         "$18,697 ",
         176
        ],
        [
         15,
         "Kaine Padly",
         "Canada",
         5,
         "After Nines",
         "2022-08-22",
         "$5,845 ",
         172
        ],
        [
         15,
         "Kaine Padly",
         "UK",
         10,
         "Drinking Coco",
         "2022-01-27",
         "$2,317 ",
         224
        ],
        [
         22,
         "Rafaelita Blaksland",
         "UK",
         1,
         "50% Dark Bites",
         "2022-02-16",
         "$10,150 ",
         68
        ],
        [
         9,
         "Dotty Strutley",
         "USA",
         19,
         "Raspberry Choco",
         "2022-01-03",
         "$3,437 ",
         46
        ],
        [
         16,
         "Karlen McCaffrey",
         "USA",
         22,
         "White Choc",
         "2022-08-24",
         "$4,592 ",
         2
        ],
        [
         21,
         "Oby Sorrel",
         "USA",
         21,
         "Spicy Special Slims",
         "2022-02-07",
         "$5,691 ",
         417
        ],
        [
         19,
         "Mallorie Waber",
         "Australia",
         20,
         "Smooth Sliky Salty",
         "2022-02-11",
         "$4,158 ",
         109
        ],
        [
         15,
         "Kaine Padly",
         "Canada",
         17,
         "Organic Choco Syrup",
         "2022-03-29",
         "$5,684 ",
         81
        ],
        [
         20,
         "Marney O'Breen",
         "USA",
         18,
         "Peanut Butter Cubes",
         "2022-06-15",
         "$693 ",
         350
        ],
        [
         8,
         "Dennison Crosswaite",
         "UK",
         20,
         "Smooth Sliky Salty",
         "2022-04-26",
         "$546 ",
         142
        ],
        [
         4,
         "Brien Boise",
         "Australia",
         17,
         "Organic Choco Syrup",
         "2022-07-15",
         "$4,263 ",
         264
        ],
        [
         3,
         "Beverie Moffet",
         "India",
         17,
         "Organic Choco Syrup",
         "2022-06-23",
         "$1,036 ",
         20
        ],
        [
         8,
         "Dennison Crosswaite",
         "Australia",
         7,
         "Baker's Choco Chips",
         "2022-01-11",
         "$13,846 ",
         421
        ],
        [
         3,
         "Beverie Moffet",
         "UK",
         1,
         "50% Dark Bites",
         "2022-02-09",
         "$2,499 ",
         271
        ],
        [
         24,
         "Van Tuxwell",
         "UK",
         6,
         "Almond Choco",
         "2022-06-06",
         "$10,689 ",
         204
        ],
        [
         9,
         "Dotty Strutley",
         "UK",
         8,
         "Caramel Stuffed Bars",
         "2022-08-10",
         "$5,768 ",
         235
        ],
        [
         25,
         "Wilone O'Kielt",
         "Australia",
         20,
         "Smooth Sliky Salty",
         "2022-01-04",
         "$2,226 ",
         46
        ],
        [
         1,
         "Andria Kimpton",
         "Canada",
         2,
         "70% Dark Bites",
         "2022-04-08",
         "$10,262 ",
         15
        ],
        [
         2,
         "Barr Faughny",
         "UK",
         14,
         "Milk Bars",
         "2022-03-02",
         "$3,864 ",
         430
        ],
        [
         24,
         "Van Tuxwell",
         "Canada",
         10,
         "Drinking Coco",
         "2022-06-15",
         "$4,900 ",
         709
        ],
        [
         14,
         "Jehu Rudeforth",
         "Australia",
         5,
         "After Nines",
         "2022-02-14",
         "$5,250 ",
         47
        ],
        [
         12,
         "Husein Augar",
         "UK",
         5,
         "After Nines",
         "2022-07-05",
         "$3,507 ",
         380
        ],
        [
         2,
         "Barr Faughny",
         "India",
         15,
         "Mint Chip Choco",
         "2022-01-12",
         "$7,413 ",
         465
        ],
        [
         7,
         "Curtice Advani",
         "India",
         15,
         "Mint Chip Choco",
         "2022-03-03",
         "$8,155 ",
         96
        ],
        [
         14,
         "Jehu Rudeforth",
         "New Zealand",
         14,
         "Milk Bars",
         "2022-05-18",
         "$2,478 ",
         188
        ],
        [
         11,
         "Gunar Cockshoot",
         "India",
         8,
         "Caramel Stuffed Bars",
         "2022-07-28",
         "$2,471 ",
         202
        ],
        [
         7,
         "Curtice Advani",
         "UK",
         13,
         "Manuka Honey Choco",
         "2022-02-07",
         "$1,666 ",
         106
        ],
        [
         1,
         "Andria Kimpton",
         "India",
         16,
         "Orange Choco",
         "2022-05-30",
         "$301 ",
         421
        ],
        [
         19,
         "Mallorie Waber",
         "Australia",
         19,
         "Raspberry Choco",
         "2022-04-25",
         "$8,400 ",
         27
        ],
        [
         3,
         "Beverie Moffet",
         "Canada",
         3,
         "85% Dark Bars",
         "2022-02-16",
         "$6,139 ",
         45
        ],
        [
         17,
         "Kelci Walkden",
         "Australia",
         10,
         "Drinking Coco",
         "2022-05-04",
         "$1,288 ",
         60
        ],
        [
         24,
         "Van Tuxwell",
         "Canada",
         2,
         "70% Dark Bites",
         "2022-06-02",
         "$7,077 ",
         77
        ],
        [
         8,
         "Dennison Crosswaite",
         "USA",
         8,
         "Caramel Stuffed Bars",
         "2022-07-11",
         "$2,317 ",
         464
        ],
        [
         3,
         "Beverie Moffet",
         "New Zealand",
         21,
         "Spicy Special Slims",
         "2022-06-07",
         "$63 ",
         60
        ],
        [
         13,
         "Jan Morforth",
         "UK",
         6,
         "Almond Choco",
         "2022-07-06",
         "$9,744 ",
         157
        ],
        [
         12,
         "Husein Augar",
         "India",
         19,
         "Raspberry Choco",
         "2022-06-15",
         "$9,954 ",
         154
        ],
        [
         9,
         "Dotty Strutley",
         "India",
         15,
         "Mint Chip Choco",
         "2022-04-14",
         "$1,260 ",
         239
        ],
        [
         5,
         "Camilla Castle",
         "India",
         10,
         "Drinking Coco",
         "2022-08-08",
         "$469 ",
         163
        ],
        [
         20,
         "Marney O'Breen",
         "UK",
         10,
         "Drinking Coco",
         "2022-03-29",
         "$973 ",
         28
        ],
        [
         23,
         "Roddy Speechley",
         "Australia",
         17,
         "Organic Choco Syrup",
         "2022-07-04",
         "$3,647 ",
         76
        ],
        [
         6,
         "Ches Bonnell",
         "India",
         4,
         "99% Dark & Pure",
         "2022-02-16",
         "$455 ",
         96
        ],
        [
         22,
         "Rafaelita Blaksland",
         "Canada",
         21,
         "Spicy Special Slims",
         "2022-05-02",
         "$2,520 ",
         156
        ],
        [
         24,
         "Van Tuxwell",
         "India",
         11,
         "Eclairs",
         "2022-07-21",
         "$10,500 ",
         106
        ],
        [
         11,
         "Gunar Cockshoot",
         "Australia",
         4,
         "99% Dark & Pure",
         "2022-08-18",
         "$7,952 ",
         235
        ],
        [
         15,
         "Kaine Padly",
         "USA",
         3,
         "85% Dark Bars",
         "2022-06-22",
         "$483 ",
         259
        ],
        [
         5,
         "Camilla Castle",
         "UK",
         18,
         "Peanut Butter Cubes",
         "2022-07-19",
         "$4,872 ",
         126
        ],
        [
         18,
         "Madelene Upcott",
         "UK",
         18,
         "Peanut Butter Cubes",
         "2022-08-12",
         "$7,756 ",
         85
        ],
        [
         18,
         "Madelene Upcott",
         "USA",
         9,
         "Choco Coated Almonds",
         "2022-06-07",
         "$5,446 ",
         132
        ],
        [
         20,
         "Marney O'Breen",
         "Canada",
         18,
         "Peanut Butter Cubes",
         "2022-03-08",
         "$6,594 ",
         91
        ],
        [
         6,
         "Ches Bonnell",
         "Australia",
         9,
         "Choco Coated Almonds",
         "2022-04-08",
         "$1,470 ",
         167
        ],
        [
         7,
         "Curtice Advani",
         "Canada",
         11,
         "Eclairs",
         "2022-05-06",
         "$721 ",
         203
        ],
        [
         23,
         "Roddy Speechley",
         "India",
         10,
         "Drinking Coco",
         "2022-05-31",
         "$4,494 ",
         11
        ],
        [
         24,
         "Van Tuxwell",
         "Australia",
         15,
         "Mint Chip Choco",
         "2022-01-13",
         "$2,674 ",
         295
        ],
        [
         8,
         "Dennison Crosswaite",
         "USA",
         2,
         "70% Dark Bites",
         "2022-03-15",
         "$658 ",
         77
        ],
        [
         1,
         "Andria Kimpton",
         "Canada",
         18,
         "Peanut Butter Cubes",
         "2022-02-16",
         "$1,127 ",
         319
        ],
        [
         10,
         "Gigi Bohling",
         "USA",
         2,
         "70% Dark Bites",
         "2022-01-14",
         "$7,364 ",
         196
        ],
        [
         22,
         "Rafaelita Blaksland",
         "Australia",
         22,
         "White Choc",
         "2022-03-21",
         "$6,818 ",
         102
        ],
        [
         23,
         "Roddy Speechley",
         "Canada",
         10,
         "Drinking Coco",
         "2022-05-17",
         "$6,776 ",
         312
        ],
        [
         5,
         "Camilla Castle",
         "New Zealand",
         3,
         "85% Dark Bars",
         "2022-08-08",
         "$15,099 ",
         55
        ],
        [
         18,
         "Madelene Upcott",
         "Canada",
         14,
         "Milk Bars",
         "2022-04-26",
         "$3,612 ",
         82
        ],
        [
         18,
         "Madelene Upcott",
         "Australia",
         2,
         "70% Dark Bites",
         "2022-04-15",
         "$3,710 ",
         260
        ],
        [
         21,
         "Oby Sorrel",
         "Canada",
         11,
         "Eclairs",
         "2022-05-19",
         "$6,111 ",
         591
        ],
        [
         8,
         "Dennison Crosswaite",
         "Canada",
         10,
         "Drinking Coco",
         "2022-01-10",
         "$2,702 ",
         24
        ],
        [
         19,
         "Mallorie Waber",
         "New Zealand",
         5,
         "After Nines",
         "2022-05-04",
         "$483 ",
         228
        ],
        [
         23,
         "Roddy Speechley",
         "Canada",
         22,
         "White Choc",
         "2022-04-05",
         "$5,887 ",
         268
        ],
        [
         1,
         "Andria Kimpton",
         "India",
         5,
         "After Nines",
         "2022-01-17",
         "$952 ",
         68
        ],
        [
         23,
         "Roddy Speechley",
         "India",
         21,
         "Spicy Special Slims",
         "2022-03-22",
         "$10,647 ",
         173
        ],
        [
         9,
         "Dotty Strutley",
         "Australia",
         22,
         "White Choc",
         "2022-07-05",
         "$6,055 ",
         93
        ],
        [
         21,
         "Oby Sorrel",
         "Canada",
         16,
         "Orange Choco",
         "2022-04-27",
         "$8,757 ",
         338
        ],
        [
         15,
         "Kaine Padly",
         "Canada",
         6,
         "Almond Choco",
         "2022-08-12",
         "$6,055 ",
         73
        ],
        [
         13,
         "Jan Morforth",
         "UK",
         7,
         "Baker's Choco Chips",
         "2022-03-11",
         "$721 ",
         251
        ],
        [
         14,
         "Jehu Rudeforth",
         "UK",
         12,
         "Fruit & Nut Bars",
         "2022-05-13",
         "$8,589 ",
         229
        ],
        [
         8,
         "Dennison Crosswaite",
         "USA",
         20,
         "Smooth Sliky Salty",
         "2022-05-12",
         "$11,781 ",
         91
        ],
        [
         4,
         "Brien Boise",
         "USA",
         19,
         "Raspberry Choco",
         "2022-01-12",
         "$672 ",
         194
        ],
        [
         18,
         "Madelene Upcott",
         "New Zealand",
         14,
         "Milk Bars",
         "2022-03-29",
         "$12,558 ",
         403
        ],
        [
         23,
         "Roddy Speechley",
         "India",
         1,
         "50% Dark Bites",
         "2022-03-14",
         "$8,337 ",
         12
        ],
        [
         2,
         "Barr Faughny",
         "New Zealand",
         4,
         "99% Dark & Pure",
         "2022-05-24",
         "$8,134 ",
         195
        ],
        [
         8,
         "Dennison Crosswaite",
         "Canada",
         17,
         "Organic Choco Syrup",
         "2022-01-28",
         "$8,491 ",
         75
        ],
        [
         3,
         "Beverie Moffet",
         "India",
         6,
         "Almond Choco",
         "2022-05-24",
         "$3,066 ",
         96
        ],
        [
         4,
         "Brien Boise",
         "Australia",
         18,
         "Peanut Butter Cubes",
         "2022-08-19",
         "$301 ",
         205
        ],
        [
         16,
         "Karlen McCaffrey",
         "Australia",
         21,
         "Spicy Special Slims",
         "2022-05-17",
         "$4,410 ",
         323
        ],
        [
         14,
         "Jehu Rudeforth",
         "USA",
         22,
         "White Choc",
         "2022-06-07",
         "$6,559 ",
         119
        ],
        [
         6,
         "Ches Bonnell",
         "Canada",
         17,
         "Organic Choco Syrup",
         "2022-07-26",
         "$574 ",
         217
        ],
        [
         9,
         "Dotty Strutley",
         "India",
         11,
         "Eclairs",
         "2022-07-28",
         "$2,086 ",
         384
        ],
        [
         16,
         "Karlen McCaffrey",
         "India",
         2,
         "70% Dark Bites",
         "2022-05-23",
         "$5,075 ",
         344
        ]
       ],
       "datasetInfos": [],
       "dbfsResultPath": null,
       "isJsonSchema": true,
       "metadata": {},
       "overflow": false,
       "plotOptions": {
        "customPlotOptions": {},
        "displayType": "table",
        "pivotAggregation": null,
        "pivotColumns": null,
        "xColumns": null,
        "yColumns": null
       },
       "removedWidgets": [],
       "schema": [
        {
         "metadata": "{}",
         "name": "Sales_Person_ID",
         "type": "\"integer\""
        },
        {
         "metadata": "{}",
         "name": "Sales_Person",
         "type": "\"string\""
        },
        {
         "metadata": "{}",
         "name": "Country",
         "type": "\"string\""
        },
        {
         "metadata": "{}",
         "name": "Product_ID",
         "type": "\"integer\""
        },
        {
         "metadata": "{}",
         "name": "Product",
         "type": "\"string\""
        },
        {
         "metadata": "{}",
         "name": "Date",
         "type": "\"date\""
        },
        {
         "metadata": "{}",
         "name": "Amount",
         "type": "\"string\""
        },
        {
         "metadata": "{}",
         "name": "Boxes_Shipped",
         "type": "\"integer\""
        }
       ],
       "type": "table"
      }
     },
     "output_type": "display_data"
    }
   ],
   "source": [
    "df.display()"
   ]
  },
  {
   "cell_type": "markdown",
   "metadata": {
    "application/vnd.databricks.v1+cell": {
     "cellMetadata": {
      "byteLimit": 2048000,
      "rowLimit": 10000
     },
     "inputWidgets": {},
     "nuid": "f3da92a1-499b-4525-be42-3805400e7ca4",
     "showTitle": false,
     "tableResultSettingsMap": {},
     "title": ""
    }
   },
   "source": [
    "### Check column type"
   ]
  },
  {
   "cell_type": "code",
   "execution_count": 0,
   "metadata": {
    "application/vnd.databricks.v1+cell": {
     "cellMetadata": {
      "byteLimit": 2048000,
      "rowLimit": 10000
     },
     "inputWidgets": {},
     "nuid": "6f4e324b-330f-4291-9716-a897865cd9df",
     "showTitle": false,
     "tableResultSettingsMap": {},
     "title": ""
    }
   },
   "outputs": [
    {
     "name": "stdout",
     "output_type": "stream",
     "text": [
      "root\n",
      " |-- Sales_Person_ID: integer (nullable = true)\n",
      " |-- Sales_Person: string (nullable = true)\n",
      " |-- Country: string (nullable = true)\n",
      " |-- Product_ID: integer (nullable = true)\n",
      " |-- Product: string (nullable = true)\n",
      " |-- Date: date (nullable = true)\n",
      " |-- Amount: string (nullable = true)\n",
      " |-- Boxes_Shipped: integer (nullable = true)\n",
      "\n"
     ]
    }
   ],
   "source": [
    "df.printSchema()"
   ]
  },
  {
   "cell_type": "markdown",
   "metadata": {
    "application/vnd.databricks.v1+cell": {
     "cellMetadata": {
      "byteLimit": 2048000,
      "rowLimit": 10000
     },
     "inputWidgets": {},
     "nuid": "afa217c6-59d2-419e-a234-e499a9b94deb",
     "showTitle": false,
     "tableResultSettingsMap": {},
     "title": ""
    }
   },
   "source": [
    "### Check for null"
   ]
  },
  {
   "cell_type": "code",
   "execution_count": 0,
   "metadata": {
    "application/vnd.databricks.v1+cell": {
     "cellMetadata": {
      "byteLimit": 2048000,
      "rowLimit": 10000
     },
     "inputWidgets": {},
     "nuid": "92f32781-ac5c-485d-9d52-1edc4cc4a90a",
     "showTitle": false,
     "tableResultSettingsMap": {},
     "title": ""
    }
   },
   "outputs": [
    {
     "data": {
      "text/html": [
       "<style scoped>\n",
       "  .table-result-container {\n",
       "    max-height: 300px;\n",
       "    overflow: auto;\n",
       "  }\n",
       "  table, th, td {\n",
       "    border: 1px solid black;\n",
       "    border-collapse: collapse;\n",
       "  }\n",
       "  th, td {\n",
       "    padding: 5px;\n",
       "  }\n",
       "  th {\n",
       "    text-align: left;\n",
       "  }\n",
       "</style><div class='table-result-container'><table class='table-result'><thead style='background-color: white'><tr><th>summary</th><th>Sales_Person_ID</th><th>Sales_Person</th><th>Country</th><th>Product_ID</th><th>Product</th><th>Amount</th><th>Boxes_Shipped</th></tr></thead><tbody><tr><td>count</td><td>1094</td><td>1094</td><td>1094</td><td>1094</td><td>1094</td><td>1094</td><td>1094</td></tr><tr><td>mean</td><td>12.938756855575868</td><td>null</td><td>null</td><td>11.696526508226691</td><td>null</td><td>null</td><td>161.7979890310786</td></tr><tr><td>stddev</td><td>7.1687856919873685</td><td>null</td><td>null</td><td>6.475744511043245</td><td>null</td><td>null</td><td>121.5441454053633</td></tr><tr><td>min</td><td>1</td><td>Andria Kimpton</td><td>Australia</td><td>1</td><td>50% Dark Bites</td><td>$1,015 </td><td>1</td></tr><tr><td>max</td><td>25</td><td>Wilone O'Kielt</td><td>USA</td><td>22</td><td>White Choc</td><td>$994 </td><td>709</td></tr></tbody></table></div>"
      ]
     },
     "metadata": {
      "application/vnd.databricks.v1+output": {
       "addedWidgets": {},
       "aggData": [],
       "aggError": "",
       "aggOverflow": false,
       "aggSchema": [],
       "aggSeriesLimitReached": false,
       "aggType": "",
       "arguments": {},
       "columnCustomDisplayInfos": {},
       "data": [
        [
         "count",
         "1094",
         "1094",
         "1094",
         "1094",
         "1094",
         "1094",
         "1094"
        ],
        [
         "mean",
         "12.938756855575868",
         null,
         null,
         "11.696526508226691",
         null,
         null,
         "161.7979890310786"
        ],
        [
         "stddev",
         "7.1687856919873685",
         null,
         null,
         "6.475744511043245",
         null,
         null,
         "121.5441454053633"
        ],
        [
         "min",
         "1",
         "Andria Kimpton",
         "Australia",
         "1",
         "50% Dark Bites",
         "$1,015 ",
         "1"
        ],
        [
         "max",
         "25",
         "Wilone O'Kielt",
         "USA",
         "22",
         "White Choc",
         "$994 ",
         "709"
        ]
       ],
       "datasetInfos": [],
       "dbfsResultPath": null,
       "isJsonSchema": true,
       "metadata": {},
       "overflow": false,
       "plotOptions": {
        "customPlotOptions": {},
        "displayType": "table",
        "pivotAggregation": null,
        "pivotColumns": null,
        "xColumns": null,
        "yColumns": null
       },
       "removedWidgets": [],
       "schema": [
        {
         "metadata": "{}",
         "name": "summary",
         "type": "\"string\""
        },
        {
         "metadata": "{}",
         "name": "Sales_Person_ID",
         "type": "\"string\""
        },
        {
         "metadata": "{}",
         "name": "Sales_Person",
         "type": "\"string\""
        },
        {
         "metadata": "{}",
         "name": "Country",
         "type": "\"string\""
        },
        {
         "metadata": "{}",
         "name": "Product_ID",
         "type": "\"string\""
        },
        {
         "metadata": "{}",
         "name": "Product",
         "type": "\"string\""
        },
        {
         "metadata": "{}",
         "name": "Amount",
         "type": "\"string\""
        },
        {
         "metadata": "{}",
         "name": "Boxes_Shipped",
         "type": "\"string\""
        }
       ],
       "type": "table"
      }
     },
     "output_type": "display_data"
    }
   ],
   "source": [
    "df.describe().display()"
   ]
  },
  {
   "cell_type": "code",
   "execution_count": 0,
   "metadata": {
    "application/vnd.databricks.v1+cell": {
     "cellMetadata": {
      "byteLimit": 2048000,
      "rowLimit": 10000
     },
     "inputWidgets": {},
     "nuid": "851d9953-4794-4e74-9d01-ec03558e2c5f",
     "showTitle": false,
     "tableResultSettingsMap": {},
     "title": ""
    }
   },
   "outputs": [
    {
     "data": {
      "text/html": [
       "<style scoped>\n",
       "  .table-result-container {\n",
       "    max-height: 300px;\n",
       "    overflow: auto;\n",
       "  }\n",
       "  table, th, td {\n",
       "    border: 1px solid black;\n",
       "    border-collapse: collapse;\n",
       "  }\n",
       "  th, td {\n",
       "    padding: 5px;\n",
       "  }\n",
       "  th {\n",
       "    text-align: left;\n",
       "  }\n",
       "</style><div class='table-result-container'><table class='table-result'><thead style='background-color: white'><tr><th>Null Sales_Person_ID</th><th>Null Sales_Person</th><th>Null Country</th><th>Null Product_ID</th><th>Null Product</th><th>Null Date</th><th>Null Amount</th><th>Null Boxes_Shipped</th></tr></thead><tbody><tr><td>0</td><td>0</td><td>0</td><td>0</td><td>0</td><td>0</td><td>0</td><td>0</td></tr></tbody></table></div>"
      ]
     },
     "metadata": {
      "application/vnd.databricks.v1+output": {
       "addedWidgets": {},
       "aggData": [],
       "aggError": "",
       "aggOverflow": false,
       "aggSchema": [],
       "aggSeriesLimitReached": false,
       "aggType": "",
       "arguments": {},
       "columnCustomDisplayInfos": {},
       "data": [
        [
         0,
         0,
         0,
         0,
         0,
         0,
         0,
         0
        ]
       ],
       "datasetInfos": [],
       "dbfsResultPath": null,
       "isJsonSchema": true,
       "metadata": {},
       "overflow": false,
       "plotOptions": {
        "customPlotOptions": {},
        "displayType": "table",
        "pivotAggregation": null,
        "pivotColumns": null,
        "xColumns": null,
        "yColumns": null
       },
       "removedWidgets": [],
       "schema": [
        {
         "metadata": "{}",
         "name": "Null Sales_Person_ID",
         "type": "\"long\""
        },
        {
         "metadata": "{}",
         "name": "Null Sales_Person",
         "type": "\"long\""
        },
        {
         "metadata": "{}",
         "name": "Null Country",
         "type": "\"long\""
        },
        {
         "metadata": "{}",
         "name": "Null Product_ID",
         "type": "\"long\""
        },
        {
         "metadata": "{}",
         "name": "Null Product",
         "type": "\"long\""
        },
        {
         "metadata": "{}",
         "name": "Null Date",
         "type": "\"long\""
        },
        {
         "metadata": "{}",
         "name": "Null Amount",
         "type": "\"long\""
        },
        {
         "metadata": "{}",
         "name": "Null Boxes_Shipped",
         "type": "\"long\""
        }
       ],
       "type": "table"
      }
     },
     "output_type": "display_data"
    }
   ],
   "source": [
    "df.select([F.sum(F.when(df[c].isNull(), 1).otherwise(0)).alias('Null ' + c) for c in df.columns]).display()"
   ]
  },
  {
   "cell_type": "markdown",
   "metadata": {
    "application/vnd.databricks.v1+cell": {
     "cellMetadata": {
      "byteLimit": 2048000,
      "rowLimit": 10000
     },
     "inputWidgets": {},
     "nuid": "020e346f-f4d7-4f30-bd78-14254cedfc5e",
     "showTitle": false,
     "tableResultSettingsMap": {},
     "title": ""
    }
   },
   "source": [
    "### Check duplicate records"
   ]
  },
  {
   "cell_type": "code",
   "execution_count": 0,
   "metadata": {
    "application/vnd.databricks.v1+cell": {
     "cellMetadata": {
      "byteLimit": 2048000,
      "rowLimit": 10000
     },
     "inputWidgets": {},
     "nuid": "07e16b5f-7bb6-432d-8408-f856f265f758",
     "showTitle": false,
     "tableResultSettingsMap": {},
     "title": ""
    }
   },
   "outputs": [
    {
     "data": {
      "text/html": [
       "<style scoped>\n",
       "  .table-result-container {\n",
       "    max-height: 300px;\n",
       "    overflow: auto;\n",
       "  }\n",
       "  table, th, td {\n",
       "    border: 1px solid black;\n",
       "    border-collapse: collapse;\n",
       "  }\n",
       "  th, td {\n",
       "    padding: 5px;\n",
       "  }\n",
       "  th {\n",
       "    text-align: left;\n",
       "  }\n",
       "</style><div class='table-result-container'><table class='table-result'><thead style='background-color: white'><tr><th>Sales_Person_ID</th><th>Country</th><th>Product_ID</th><th>Date</th><th>Boxes_Shipped</th><th>count</th></tr></thead><tbody></tbody></table></div>"
      ]
     },
     "metadata": {
      "application/vnd.databricks.v1+output": {
       "addedWidgets": {},
       "aggData": [],
       "aggError": "",
       "aggOverflow": false,
       "aggSchema": [],
       "aggSeriesLimitReached": false,
       "aggType": "",
       "arguments": {},
       "columnCustomDisplayInfos": {},
       "data": [],
       "datasetInfos": [],
       "dbfsResultPath": null,
       "isJsonSchema": true,
       "metadata": {},
       "overflow": false,
       "plotOptions": {
        "customPlotOptions": {},
        "displayType": "table",
        "pivotAggregation": null,
        "pivotColumns": null,
        "xColumns": null,
        "yColumns": null
       },
       "removedWidgets": [],
       "schema": [
        {
         "metadata": "{}",
         "name": "Sales_Person_ID",
         "type": "\"integer\""
        },
        {
         "metadata": "{}",
         "name": "Country",
         "type": "\"string\""
        },
        {
         "metadata": "{}",
         "name": "Product_ID",
         "type": "\"integer\""
        },
        {
         "metadata": "{}",
         "name": "Date",
         "type": "\"date\""
        },
        {
         "metadata": "{}",
         "name": "Boxes_Shipped",
         "type": "\"integer\""
        },
        {
         "metadata": "{}",
         "name": "count",
         "type": "\"long\""
        }
       ],
       "type": "table"
      }
     },
     "output_type": "display_data"
    }
   ],
   "source": [
    "df.groupBy('Sales_Person_ID', 'Country', 'Product_ID', 'Date', 'Boxes_Shipped').count().filter(F.col('count') > 1).display()"
   ]
  },
  {
   "cell_type": "markdown",
   "metadata": {
    "application/vnd.databricks.v1+cell": {
     "cellMetadata": {
      "byteLimit": 2048000,
      "rowLimit": 10000
     },
     "inputWidgets": {},
     "nuid": "55eff404-1966-4344-8b65-5721d3a8d82a",
     "showTitle": false,
     "tableResultSettingsMap": {},
     "title": ""
    }
   },
   "source": [
    "### Check category"
   ]
  },
  {
   "cell_type": "code",
   "execution_count": 0,
   "metadata": {
    "application/vnd.databricks.v1+cell": {
     "cellMetadata": {
      "byteLimit": 2048000,
      "rowLimit": 10000
     },
     "inputWidgets": {},
     "nuid": "bf38101d-a81a-49ce-8243-3aebbe127a48",
     "showTitle": false,
     "tableResultSettingsMap": {},
     "title": ""
    }
   },
   "outputs": [
    {
     "data": {
      "text/html": [
       "<style scoped>\n",
       "  .table-result-container {\n",
       "    max-height: 300px;\n",
       "    overflow: auto;\n",
       "  }\n",
       "  table, th, td {\n",
       "    border: 1px solid black;\n",
       "    border-collapse: collapse;\n",
       "  }\n",
       "  th, td {\n",
       "    padding: 5px;\n",
       "  }\n",
       "  th {\n",
       "    text-align: left;\n",
       "  }\n",
       "</style><div class='table-result-container'><table class='table-result'><thead style='background-color: white'><tr><th>Sales_Person_ID</th><th>Sales_Person</th></tr></thead><tbody><tr><td>1</td><td>Andria Kimpton</td></tr><tr><td>2</td><td>Barr Faughny</td></tr><tr><td>3</td><td>Beverie Moffet</td></tr><tr><td>4</td><td>Brien Boise</td></tr><tr><td>5</td><td>Camilla Castle</td></tr><tr><td>6</td><td>Ches Bonnell</td></tr><tr><td>7</td><td>Curtice Advani</td></tr><tr><td>8</td><td>Dennison Crosswaite</td></tr><tr><td>9</td><td>Dotty Strutley</td></tr><tr><td>10</td><td>Gigi Bohling</td></tr><tr><td>11</td><td>Gunar Cockshoot</td></tr><tr><td>12</td><td>Husein Augar</td></tr><tr><td>13</td><td>Jan Morforth</td></tr><tr><td>14</td><td>Jehu Rudeforth</td></tr><tr><td>15</td><td>Kaine Padly</td></tr><tr><td>16</td><td>Karlen McCaffrey</td></tr><tr><td>17</td><td>Kelci Walkden</td></tr><tr><td>18</td><td>Madelene Upcott</td></tr><tr><td>19</td><td>Mallorie Waber</td></tr><tr><td>20</td><td>Marney O'Breen</td></tr><tr><td>21</td><td>Oby Sorrel</td></tr><tr><td>22</td><td>Rafaelita Blaksland</td></tr><tr><td>23</td><td>Roddy Speechley</td></tr><tr><td>24</td><td>Van Tuxwell</td></tr><tr><td>25</td><td>Wilone O'Kielt</td></tr></tbody></table></div>"
      ]
     },
     "metadata": {
      "application/vnd.databricks.v1+output": {
       "addedWidgets": {},
       "aggData": [],
       "aggError": "",
       "aggOverflow": false,
       "aggSchema": [],
       "aggSeriesLimitReached": false,
       "aggType": "",
       "arguments": {},
       "columnCustomDisplayInfos": {},
       "data": [
        [
         1,
         "Andria Kimpton"
        ],
        [
         2,
         "Barr Faughny"
        ],
        [
         3,
         "Beverie Moffet"
        ],
        [
         4,
         "Brien Boise"
        ],
        [
         5,
         "Camilla Castle"
        ],
        [
         6,
         "Ches Bonnell"
        ],
        [
         7,
         "Curtice Advani"
        ],
        [
         8,
         "Dennison Crosswaite"
        ],
        [
         9,
         "Dotty Strutley"
        ],
        [
         10,
         "Gigi Bohling"
        ],
        [
         11,
         "Gunar Cockshoot"
        ],
        [
         12,
         "Husein Augar"
        ],
        [
         13,
         "Jan Morforth"
        ],
        [
         14,
         "Jehu Rudeforth"
        ],
        [
         15,
         "Kaine Padly"
        ],
        [
         16,
         "Karlen McCaffrey"
        ],
        [
         17,
         "Kelci Walkden"
        ],
        [
         18,
         "Madelene Upcott"
        ],
        [
         19,
         "Mallorie Waber"
        ],
        [
         20,
         "Marney O'Breen"
        ],
        [
         21,
         "Oby Sorrel"
        ],
        [
         22,
         "Rafaelita Blaksland"
        ],
        [
         23,
         "Roddy Speechley"
        ],
        [
         24,
         "Van Tuxwell"
        ],
        [
         25,
         "Wilone O'Kielt"
        ]
       ],
       "datasetInfos": [],
       "dbfsResultPath": null,
       "isJsonSchema": true,
       "metadata": {},
       "overflow": false,
       "plotOptions": {
        "customPlotOptions": {},
        "displayType": "table",
        "pivotAggregation": null,
        "pivotColumns": null,
        "xColumns": null,
        "yColumns": null
       },
       "removedWidgets": [],
       "schema": [
        {
         "metadata": "{}",
         "name": "Sales_Person_ID",
         "type": "\"integer\""
        },
        {
         "metadata": "{}",
         "name": "Sales_Person",
         "type": "\"string\""
        }
       ],
       "type": "table"
      }
     },
     "output_type": "display_data"
    }
   ],
   "source": [
    "df.select('Sales_Person_ID', 'Sales_Person').distinct().orderBy('Sales_Person_ID').display()"
   ]
  },
  {
   "cell_type": "code",
   "execution_count": 0,
   "metadata": {
    "application/vnd.databricks.v1+cell": {
     "cellMetadata": {
      "byteLimit": 2048000,
      "rowLimit": 10000
     },
     "inputWidgets": {},
     "nuid": "b802d667-141c-4e70-aedc-169f1f445f3a",
     "showTitle": false,
     "tableResultSettingsMap": {},
     "title": ""
    }
   },
   "outputs": [
    {
     "data": {
      "text/html": [
       "<style scoped>\n",
       "  .table-result-container {\n",
       "    max-height: 300px;\n",
       "    overflow: auto;\n",
       "  }\n",
       "  table, th, td {\n",
       "    border: 1px solid black;\n",
       "    border-collapse: collapse;\n",
       "  }\n",
       "  th, td {\n",
       "    padding: 5px;\n",
       "  }\n",
       "  th {\n",
       "    text-align: left;\n",
       "  }\n",
       "</style><div class='table-result-container'><table class='table-result'><thead style='background-color: white'><tr><th>Product_ID</th><th>Product</th></tr></thead><tbody><tr><td>1</td><td>50% Dark Bites</td></tr><tr><td>2</td><td>70% Dark Bites</td></tr><tr><td>3</td><td>85% Dark Bars</td></tr><tr><td>4</td><td>99% Dark & Pure</td></tr><tr><td>5</td><td>After Nines</td></tr><tr><td>6</td><td>Almond Choco</td></tr><tr><td>7</td><td>Baker's Choco Chips</td></tr><tr><td>8</td><td>Caramel Stuffed Bars</td></tr><tr><td>9</td><td>Choco Coated Almonds</td></tr><tr><td>10</td><td>Drinking Coco</td></tr><tr><td>11</td><td>Eclairs</td></tr><tr><td>12</td><td>Fruit & Nut Bars</td></tr><tr><td>13</td><td>Manuka Honey Choco</td></tr><tr><td>14</td><td>Milk Bars</td></tr><tr><td>15</td><td>Mint Chip Choco</td></tr><tr><td>16</td><td>Orange Choco</td></tr><tr><td>17</td><td>Organic Choco Syrup</td></tr><tr><td>18</td><td>Peanut Butter Cubes</td></tr><tr><td>19</td><td>Raspberry Choco</td></tr><tr><td>20</td><td>Smooth Sliky Salty</td></tr><tr><td>21</td><td>Spicy Special Slims</td></tr><tr><td>22</td><td>White Choc</td></tr></tbody></table></div>"
      ]
     },
     "metadata": {
      "application/vnd.databricks.v1+output": {
       "addedWidgets": {},
       "aggData": [],
       "aggError": "",
       "aggOverflow": false,
       "aggSchema": [],
       "aggSeriesLimitReached": false,
       "aggType": "",
       "arguments": {},
       "columnCustomDisplayInfos": {},
       "data": [
        [
         1,
         "50% Dark Bites"
        ],
        [
         2,
         "70% Dark Bites"
        ],
        [
         3,
         "85% Dark Bars"
        ],
        [
         4,
         "99% Dark & Pure"
        ],
        [
         5,
         "After Nines"
        ],
        [
         6,
         "Almond Choco"
        ],
        [
         7,
         "Baker's Choco Chips"
        ],
        [
         8,
         "Caramel Stuffed Bars"
        ],
        [
         9,
         "Choco Coated Almonds"
        ],
        [
         10,
         "Drinking Coco"
        ],
        [
         11,
         "Eclairs"
        ],
        [
         12,
         "Fruit & Nut Bars"
        ],
        [
         13,
         "Manuka Honey Choco"
        ],
        [
         14,
         "Milk Bars"
        ],
        [
         15,
         "Mint Chip Choco"
        ],
        [
         16,
         "Orange Choco"
        ],
        [
         17,
         "Organic Choco Syrup"
        ],
        [
         18,
         "Peanut Butter Cubes"
        ],
        [
         19,
         "Raspberry Choco"
        ],
        [
         20,
         "Smooth Sliky Salty"
        ],
        [
         21,
         "Spicy Special Slims"
        ],
        [
         22,
         "White Choc"
        ]
       ],
       "datasetInfos": [],
       "dbfsResultPath": null,
       "isJsonSchema": true,
       "metadata": {},
       "overflow": false,
       "plotOptions": {
        "customPlotOptions": {},
        "displayType": "table",
        "pivotAggregation": null,
        "pivotColumns": null,
        "xColumns": null,
        "yColumns": null
       },
       "removedWidgets": [],
       "schema": [
        {
         "metadata": "{}",
         "name": "Product_ID",
         "type": "\"integer\""
        },
        {
         "metadata": "{}",
         "name": "Product",
         "type": "\"string\""
        }
       ],
       "type": "table"
      }
     },
     "output_type": "display_data"
    }
   ],
   "source": [
    "df.select('Product_ID', 'Product').distinct().orderBy('Product_ID').display()"
   ]
  },
  {
   "cell_type": "code",
   "execution_count": 0,
   "metadata": {
    "application/vnd.databricks.v1+cell": {
     "cellMetadata": {
      "byteLimit": 2048000,
      "rowLimit": 10000
     },
     "inputWidgets": {},
     "nuid": "cf2c9285-8e91-46de-9002-9363f1ba3260",
     "showTitle": false,
     "tableResultSettingsMap": {},
     "title": ""
    }
   },
   "outputs": [
    {
     "data": {
      "text/html": [
       "<style scoped>\n",
       "  .table-result-container {\n",
       "    max-height: 300px;\n",
       "    overflow: auto;\n",
       "  }\n",
       "  table, th, td {\n",
       "    border: 1px solid black;\n",
       "    border-collapse: collapse;\n",
       "  }\n",
       "  th, td {\n",
       "    padding: 5px;\n",
       "  }\n",
       "  th {\n",
       "    text-align: left;\n",
       "  }\n",
       "</style><div class='table-result-container'><table class='table-result'><thead style='background-color: white'><tr><th>Country</th></tr></thead><tbody><tr><td>India</td></tr><tr><td>USA</td></tr><tr><td>UK</td></tr><tr><td>Canada</td></tr><tr><td>New Zealand</td></tr><tr><td>Australia</td></tr></tbody></table></div>"
      ]
     },
     "metadata": {
      "application/vnd.databricks.v1+output": {
       "addedWidgets": {},
       "aggData": [],
       "aggError": "",
       "aggOverflow": false,
       "aggSchema": [],
       "aggSeriesLimitReached": false,
       "aggType": "",
       "arguments": {},
       "columnCustomDisplayInfos": {},
       "data": [
        [
         "India"
        ],
        [
         "USA"
        ],
        [
         "UK"
        ],
        [
         "Canada"
        ],
        [
         "New Zealand"
        ],
        [
         "Australia"
        ]
       ],
       "datasetInfos": [],
       "dbfsResultPath": null,
       "isJsonSchema": true,
       "metadata": {},
       "overflow": false,
       "plotOptions": {
        "customPlotOptions": {},
        "displayType": "table",
        "pivotAggregation": null,
        "pivotColumns": null,
        "xColumns": null,
        "yColumns": null
       },
       "removedWidgets": [],
       "schema": [
        {
         "metadata": "{}",
         "name": "Country",
         "type": "\"string\""
        }
       ],
       "type": "table"
      }
     },
     "output_type": "display_data"
    }
   ],
   "source": [
    "df.select('Country').distinct().display()"
   ]
  },
  {
   "cell_type": "markdown",
   "metadata": {
    "application/vnd.databricks.v1+cell": {
     "cellMetadata": {
      "byteLimit": 2048000,
      "rowLimit": 10000
     },
     "inputWidgets": {},
     "nuid": "c1ee8088-0931-4a0d-96ca-55719ed70bb2",
     "showTitle": false,
     "tableResultSettingsMap": {},
     "title": ""
    }
   },
   "source": [
    "### Find outlier"
   ]
  },
  {
   "cell_type": "code",
   "execution_count": 0,
   "metadata": {
    "application/vnd.databricks.v1+cell": {
     "cellMetadata": {
      "byteLimit": 2048000,
      "rowLimit": 10000
     },
     "inputWidgets": {},
     "nuid": "cf694aff-7be3-48b8-ae48-01771abcffce",
     "showTitle": false,
     "tableResultSettingsMap": {},
     "title": ""
    }
   },
   "outputs": [
    {
     "data": {
      "text/html": [
       "<style scoped>\n",
       "  .table-result-container {\n",
       "    max-height: 300px;\n",
       "    overflow: auto;\n",
       "  }\n",
       "  table, th, td {\n",
       "    border: 1px solid black;\n",
       "    border-collapse: collapse;\n",
       "  }\n",
       "  th, td {\n",
       "    padding: 5px;\n",
       "  }\n",
       "  th {\n",
       "    text-align: left;\n",
       "  }\n",
       "</style><div class='table-result-container'><table class='table-result'><thead style='background-color: white'><tr><th>Boxes_Shipped</th><th>count</th></tr></thead><tbody><tr><td>709</td><td>1</td></tr><tr><td>708</td><td>1</td></tr><tr><td>614</td><td>1</td></tr><tr><td>597</td><td>1</td></tr><tr><td>591</td><td>1</td></tr><tr><td>581</td><td>1</td></tr><tr><td>554</td><td>1</td></tr><tr><td>547</td><td>1</td></tr><tr><td>543</td><td>1</td></tr><tr><td>539</td><td>1</td></tr><tr><td>524</td><td>1</td></tr><tr><td>520</td><td>2</td></tr><tr><td>518</td><td>2</td></tr><tr><td>512</td><td>1</td></tr><tr><td>508</td><td>1</td></tr><tr><td>495</td><td>1</td></tr><tr><td>488</td><td>1</td></tr><tr><td>482</td><td>1</td></tr><tr><td>479</td><td>1</td></tr><tr><td>477</td><td>1</td></tr><tr><td>475</td><td>1</td></tr><tr><td>469</td><td>1</td></tr><tr><td>468</td><td>1</td></tr><tr><td>467</td><td>1</td></tr><tr><td>465</td><td>1</td></tr><tr><td>464</td><td>1</td></tr><tr><td>457</td><td>1</td></tr><tr><td>447</td><td>1</td></tr><tr><td>446</td><td>1</td></tr><tr><td>438</td><td>1</td></tr><tr><td>434</td><td>1</td></tr><tr><td>433</td><td>1</td></tr><tr><td>432</td><td>1</td></tr><tr><td>430</td><td>2</td></tr><tr><td>425</td><td>1</td></tr><tr><td>424</td><td>2</td></tr><tr><td>421</td><td>2</td></tr><tr><td>420</td><td>1</td></tr><tr><td>419</td><td>1</td></tr><tr><td>418</td><td>2</td></tr><tr><td>417</td><td>3</td></tr><tr><td>416</td><td>1</td></tr><tr><td>415</td><td>1</td></tr><tr><td>413</td><td>1</td></tr><tr><td>411</td><td>1</td></tr><tr><td>410</td><td>1</td></tr><tr><td>409</td><td>2</td></tr><tr><td>408</td><td>2</td></tr><tr><td>407</td><td>1</td></tr><tr><td>406</td><td>1</td></tr><tr><td>403</td><td>2</td></tr><tr><td>402</td><td>1</td></tr><tr><td>401</td><td>1</td></tr><tr><td>398</td><td>1</td></tr><tr><td>396</td><td>1</td></tr><tr><td>395</td><td>1</td></tr><tr><td>392</td><td>2</td></tr><tr><td>390</td><td>2</td></tr><tr><td>389</td><td>1</td></tr><tr><td>387</td><td>1</td></tr><tr><td>384</td><td>3</td></tr><tr><td>380</td><td>1</td></tr><tr><td>377</td><td>1</td></tr><tr><td>371</td><td>1</td></tr><tr><td>370</td><td>2</td></tr><tr><td>368</td><td>1</td></tr><tr><td>363</td><td>1</td></tr><tr><td>361</td><td>1</td></tr><tr><td>359</td><td>1</td></tr><tr><td>358</td><td>1</td></tr><tr><td>356</td><td>2</td></tr><tr><td>354</td><td>1</td></tr><tr><td>353</td><td>1</td></tr><tr><td>352</td><td>3</td></tr><tr><td>351</td><td>1</td></tr><tr><td>350</td><td>3</td></tr><tr><td>348</td><td>2</td></tr><tr><td>347</td><td>1</td></tr><tr><td>344</td><td>2</td></tr><tr><td>342</td><td>2</td></tr><tr><td>341</td><td>2</td></tr><tr><td>339</td><td>1</td></tr><tr><td>338</td><td>1</td></tr><tr><td>336</td><td>1</td></tr><tr><td>334</td><td>1</td></tr><tr><td>333</td><td>1</td></tr><tr><td>330</td><td>1</td></tr><tr><td>329</td><td>1</td></tr><tr><td>323</td><td>3</td></tr><tr><td>322</td><td>1</td></tr><tr><td>321</td><td>3</td></tr><tr><td>320</td><td>1</td></tr><tr><td>319</td><td>1</td></tr><tr><td>318</td><td>1</td></tr><tr><td>317</td><td>2</td></tr><tr><td>316</td><td>2</td></tr><tr><td>315</td><td>2</td></tr><tr><td>314</td><td>1</td></tr><tr><td>313</td><td>3</td></tr><tr><td>312</td><td>2</td></tr><tr><td>311</td><td>3</td></tr><tr><td>310</td><td>1</td></tr><tr><td>309</td><td>1</td></tr><tr><td>308</td><td>1</td></tr><tr><td>307</td><td>1</td></tr><tr><td>306</td><td>1</td></tr><tr><td>305</td><td>1</td></tr><tr><td>304</td><td>1</td></tr><tr><td>303</td><td>3</td></tr><tr><td>302</td><td>1</td></tr><tr><td>301</td><td>4</td></tr><tr><td>300</td><td>1</td></tr><tr><td>299</td><td>2</td></tr><tr><td>296</td><td>4</td></tr><tr><td>295</td><td>1</td></tr><tr><td>294</td><td>1</td></tr><tr><td>293</td><td>2</td></tr><tr><td>289</td><td>1</td></tr><tr><td>288</td><td>1</td></tr><tr><td>287</td><td>1</td></tr><tr><td>286</td><td>4</td></tr><tr><td>285</td><td>2</td></tr><tr><td>284</td><td>4</td></tr><tr><td>283</td><td>1</td></tr><tr><td>282</td><td>2</td></tr><tr><td>281</td><td>1</td></tr><tr><td>280</td><td>1</td></tr><tr><td>277</td><td>4</td></tr><tr><td>276</td><td>2</td></tr><tr><td>275</td><td>5</td></tr><tr><td>273</td><td>1</td></tr><tr><td>272</td><td>1</td></tr><tr><td>271</td><td>3</td></tr><tr><td>270</td><td>2</td></tr><tr><td>269</td><td>1</td></tr><tr><td>268</td><td>1</td></tr><tr><td>265</td><td>3</td></tr><tr><td>264</td><td>5</td></tr><tr><td>262</td><td>1</td></tr><tr><td>261</td><td>2</td></tr><tr><td>260</td><td>2</td></tr><tr><td>259</td><td>3</td></tr><tr><td>258</td><td>2</td></tr><tr><td>257</td><td>1</td></tr><tr><td>256</td><td>3</td></tr><tr><td>254</td><td>2</td></tr><tr><td>252</td><td>5</td></tr><tr><td>251</td><td>2</td></tr><tr><td>250</td><td>1</td></tr><tr><td>249</td><td>3</td></tr><tr><td>248</td><td>1</td></tr><tr><td>247</td><td>1</td></tr><tr><td>246</td><td>1</td></tr><tr><td>244</td><td>2</td></tr><tr><td>243</td><td>1</td></tr><tr><td>242</td><td>2</td></tr><tr><td>241</td><td>2</td></tr><tr><td>239</td><td>3</td></tr><tr><td>238</td><td>2</td></tr><tr><td>237</td><td>2</td></tr><tr><td>236</td><td>3</td></tr><tr><td>235</td><td>4</td></tr><tr><td>234</td><td>2</td></tr><tr><td>233</td><td>5</td></tr><tr><td>232</td><td>3</td></tr><tr><td>229</td><td>3</td></tr><tr><td>228</td><td>2</td></tr><tr><td>227</td><td>4</td></tr><tr><td>226</td><td>3</td></tr><tr><td>224</td><td>2</td></tr><tr><td>223</td><td>5</td></tr><tr><td>222</td><td>1</td></tr><tr><td>220</td><td>1</td></tr><tr><td>219</td><td>1</td></tr><tr><td>218</td><td>1</td></tr><tr><td>217</td><td>1</td></tr><tr><td>216</td><td>4</td></tr><tr><td>215</td><td>1</td></tr><tr><td>214</td><td>1</td></tr><tr><td>213</td><td>2</td></tr><tr><td>212</td><td>4</td></tr><tr><td>211</td><td>3</td></tr><tr><td>210</td><td>1</td></tr><tr><td>209</td><td>1</td></tr><tr><td>208</td><td>2</td></tr><tr><td>207</td><td>3</td></tr><tr><td>205</td><td>3</td></tr><tr><td>204</td><td>4</td></tr><tr><td>203</td><td>3</td></tr><tr><td>202</td><td>3</td></tr><tr><td>201</td><td>2</td></tr><tr><td>200</td><td>5</td></tr><tr><td>199</td><td>1</td></tr><tr><td>198</td><td>2</td></tr><tr><td>197</td><td>1</td></tr><tr><td>196</td><td>2</td></tr><tr><td>195</td><td>3</td></tr><tr><td>194</td><td>4</td></tr><tr><td>191</td><td>1</td></tr><tr><td>190</td><td>1</td></tr><tr><td>189</td><td>2</td></tr><tr><td>188</td><td>3</td></tr><tr><td>187</td><td>4</td></tr><tr><td>186</td><td>1</td></tr><tr><td>185</td><td>2</td></tr><tr><td>184</td><td>3</td></tr><tr><td>183</td><td>3</td></tr><tr><td>182</td><td>3</td></tr><tr><td>181</td><td>5</td></tr><tr><td>180</td><td>3</td></tr><tr><td>179</td><td>4</td></tr><tr><td>178</td><td>5</td></tr><tr><td>177</td><td>1</td></tr><tr><td>176</td><td>5</td></tr><tr><td>175</td><td>4</td></tr><tr><td>174</td><td>3</td></tr><tr><td>173</td><td>3</td></tr><tr><td>172</td><td>5</td></tr><tr><td>171</td><td>2</td></tr><tr><td>170</td><td>5</td></tr><tr><td>169</td><td>2</td></tr><tr><td>168</td><td>3</td></tr><tr><td>167</td><td>5</td></tr><tr><td>166</td><td>3</td></tr><tr><td>165</td><td>1</td></tr><tr><td>164</td><td>4</td></tr><tr><td>163</td><td>4</td></tr><tr><td>162</td><td>1</td></tr><tr><td>160</td><td>3</td></tr><tr><td>159</td><td>3</td></tr><tr><td>158</td><td>5</td></tr><tr><td>157</td><td>7</td></tr><tr><td>156</td><td>4</td></tr><tr><td>155</td><td>3</td></tr><tr><td>154</td><td>5</td></tr><tr><td>153</td><td>2</td></tr><tr><td>152</td><td>1</td></tr><tr><td>151</td><td>7</td></tr><tr><td>150</td><td>3</td></tr><tr><td>149</td><td>6</td></tr><tr><td>148</td><td>2</td></tr><tr><td>147</td><td>3</td></tr><tr><td>146</td><td>4</td></tr><tr><td>145</td><td>6</td></tr><tr><td>144</td><td>2</td></tr><tr><td>142</td><td>7</td></tr><tr><td>141</td><td>3</td></tr><tr><td>140</td><td>5</td></tr><tr><td>139</td><td>3</td></tr><tr><td>138</td><td>7</td></tr><tr><td>137</td><td>6</td></tr><tr><td>136</td><td>5</td></tr><tr><td>135</td><td>8</td></tr><tr><td>134</td><td>7</td></tr><tr><td>133</td><td>5</td></tr><tr><td>132</td><td>1</td></tr><tr><td>131</td><td>3</td></tr><tr><td>130</td><td>5</td></tr><tr><td>129</td><td>3</td></tr><tr><td>128</td><td>4</td></tr><tr><td>127</td><td>2</td></tr><tr><td>126</td><td>6</td></tr><tr><td>125</td><td>8</td></tr><tr><td>124</td><td>1</td></tr><tr><td>123</td><td>1</td></tr><tr><td>122</td><td>3</td></tr><tr><td>121</td><td>5</td></tr><tr><td>120</td><td>3</td></tr><tr><td>119</td><td>2</td></tr><tr><td>118</td><td>6</td></tr><tr><td>117</td><td>3</td></tr><tr><td>116</td><td>3</td></tr><tr><td>115</td><td>2</td></tr><tr><td>114</td><td>4</td></tr><tr><td>113</td><td>3</td></tr><tr><td>112</td><td>5</td></tr><tr><td>111</td><td>4</td></tr><tr><td>110</td><td>2</td></tr><tr><td>109</td><td>6</td></tr><tr><td>108</td><td>3</td></tr><tr><td>107</td><td>3</td></tr><tr><td>106</td><td>6</td></tr><tr><td>105</td><td>3</td></tr><tr><td>104</td><td>3</td></tr><tr><td>103</td><td>5</td></tr><tr><td>102</td><td>7</td></tr><tr><td>101</td><td>7</td></tr><tr><td>100</td><td>8</td></tr><tr><td>99</td><td>4</td></tr><tr><td>98</td><td>3</td></tr><tr><td>97</td><td>4</td></tr><tr><td>96</td><td>7</td></tr><tr><td>95</td><td>1</td></tr><tr><td>94</td><td>4</td></tr><tr><td>93</td><td>4</td></tr><tr><td>92</td><td>6</td></tr><tr><td>91</td><td>7</td></tr><tr><td>90</td><td>3</td></tr><tr><td>89</td><td>3</td></tr><tr><td>88</td><td>7</td></tr><tr><td>87</td><td>4</td></tr><tr><td>86</td><td>3</td></tr><tr><td>85</td><td>6</td></tr><tr><td>84</td><td>8</td></tr><tr><td>83</td><td>3</td></tr><tr><td>82</td><td>4</td></tr><tr><td>81</td><td>4</td></tr><tr><td>80</td><td>2</td></tr><tr><td>79</td><td>4</td></tr><tr><td>78</td><td>5</td></tr><tr><td>77</td><td>2</td></tr><tr><td>76</td><td>6</td></tr><tr><td>75</td><td>3</td></tr><tr><td>74</td><td>3</td></tr><tr><td>73</td><td>8</td></tr><tr><td>72</td><td>6</td></tr><tr><td>71</td><td>1</td></tr><tr><td>70</td><td>4</td></tr><tr><td>69</td><td>5</td></tr><tr><td>68</td><td>5</td></tr><tr><td>67</td><td>6</td></tr><tr><td>66</td><td>2</td></tr><tr><td>65</td><td>7</td></tr><tr><td>64</td><td>2</td></tr><tr><td>63</td><td>1</td></tr><tr><td>62</td><td>4</td></tr><tr><td>61</td><td>2</td></tr><tr><td>60</td><td>6</td></tr><tr><td>59</td><td>5</td></tr><tr><td>58</td><td>5</td></tr><tr><td>57</td><td>3</td></tr><tr><td>56</td><td>4</td></tr><tr><td>55</td><td>7</td></tr><tr><td>54</td><td>5</td></tr><tr><td>53</td><td>3</td></tr><tr><td>52</td><td>4</td></tr><tr><td>51</td><td>6</td></tr><tr><td>50</td><td>3</td></tr><tr><td>49</td><td>2</td></tr><tr><td>48</td><td>3</td></tr><tr><td>47</td><td>6</td></tr><tr><td>46</td><td>9</td></tr><tr><td>45</td><td>6</td></tr><tr><td>44</td><td>6</td></tr><tr><td>43</td><td>2</td></tr><tr><td>42</td><td>8</td></tr><tr><td>41</td><td>3</td></tr><tr><td>40</td><td>4</td></tr><tr><td>39</td><td>1</td></tr><tr><td>38</td><td>4</td></tr><tr><td>37</td><td>2</td></tr><tr><td>35</td><td>1</td></tr><tr><td>34</td><td>1</td></tr><tr><td>33</td><td>3</td></tr><tr><td>32</td><td>3</td></tr><tr><td>31</td><td>5</td></tr><tr><td>30</td><td>5</td></tr><tr><td>29</td><td>2</td></tr><tr><td>28</td><td>2</td></tr><tr><td>27</td><td>8</td></tr><tr><td>26</td><td>4</td></tr><tr><td>25</td><td>1</td></tr><tr><td>24</td><td>10</td></tr><tr><td>23</td><td>4</td></tr><tr><td>22</td><td>8</td></tr><tr><td>21</td><td>6</td></tr><tr><td>20</td><td>2</td></tr><tr><td>19</td><td>1</td></tr><tr><td>18</td><td>7</td></tr><tr><td>16</td><td>3</td></tr><tr><td>15</td><td>3</td></tr><tr><td>14</td><td>4</td></tr><tr><td>13</td><td>2</td></tr><tr><td>12</td><td>7</td></tr><tr><td>11</td><td>6</td></tr><tr><td>10</td><td>3</td></tr><tr><td>9</td><td>4</td></tr><tr><td>8</td><td>2</td></tr><tr><td>7</td><td>6</td></tr><tr><td>6</td><td>4</td></tr><tr><td>5</td><td>3</td></tr><tr><td>4</td><td>4</td></tr><tr><td>3</td><td>3</td></tr><tr><td>2</td><td>3</td></tr><tr><td>1</td><td>1</td></tr></tbody></table></div>"
      ]
     },
     "metadata": {
      "application/vnd.databricks.v1+output": {
       "addedWidgets": {},
       "aggData": [],
       "aggError": "",
       "aggOverflow": false,
       "aggSchema": [],
       "aggSeriesLimitReached": false,
       "aggType": "",
       "arguments": {},
       "columnCustomDisplayInfos": {},
       "data": [
        [
         709,
         1
        ],
        [
         708,
         1
        ],
        [
         614,
         1
        ],
        [
         597,
         1
        ],
        [
         591,
         1
        ],
        [
         581,
         1
        ],
        [
         554,
         1
        ],
        [
         547,
         1
        ],
        [
         543,
         1
        ],
        [
         539,
         1
        ],
        [
         524,
         1
        ],
        [
         520,
         2
        ],
        [
         518,
         2
        ],
        [
         512,
         1
        ],
        [
         508,
         1
        ],
        [
         495,
         1
        ],
        [
         488,
         1
        ],
        [
         482,
         1
        ],
        [
         479,
         1
        ],
        [
         477,
         1
        ],
        [
         475,
         1
        ],
        [
         469,
         1
        ],
        [
         468,
         1
        ],
        [
         467,
         1
        ],
        [
         465,
         1
        ],
        [
         464,
         1
        ],
        [
         457,
         1
        ],
        [
         447,
         1
        ],
        [
         446,
         1
        ],
        [
         438,
         1
        ],
        [
         434,
         1
        ],
        [
         433,
         1
        ],
        [
         432,
         1
        ],
        [
         430,
         2
        ],
        [
         425,
         1
        ],
        [
         424,
         2
        ],
        [
         421,
         2
        ],
        [
         420,
         1
        ],
        [
         419,
         1
        ],
        [
         418,
         2
        ],
        [
         417,
         3
        ],
        [
         416,
         1
        ],
        [
         415,
         1
        ],
        [
         413,
         1
        ],
        [
         411,
         1
        ],
        [
         410,
         1
        ],
        [
         409,
         2
        ],
        [
         408,
         2
        ],
        [
         407,
         1
        ],
        [
         406,
         1
        ],
        [
         403,
         2
        ],
        [
         402,
         1
        ],
        [
         401,
         1
        ],
        [
         398,
         1
        ],
        [
         396,
         1
        ],
        [
         395,
         1
        ],
        [
         392,
         2
        ],
        [
         390,
         2
        ],
        [
         389,
         1
        ],
        [
         387,
         1
        ],
        [
         384,
         3
        ],
        [
         380,
         1
        ],
        [
         377,
         1
        ],
        [
         371,
         1
        ],
        [
         370,
         2
        ],
        [
         368,
         1
        ],
        [
         363,
         1
        ],
        [
         361,
         1
        ],
        [
         359,
         1
        ],
        [
         358,
         1
        ],
        [
         356,
         2
        ],
        [
         354,
         1
        ],
        [
         353,
         1
        ],
        [
         352,
         3
        ],
        [
         351,
         1
        ],
        [
         350,
         3
        ],
        [
         348,
         2
        ],
        [
         347,
         1
        ],
        [
         344,
         2
        ],
        [
         342,
         2
        ],
        [
         341,
         2
        ],
        [
         339,
         1
        ],
        [
         338,
         1
        ],
        [
         336,
         1
        ],
        [
         334,
         1
        ],
        [
         333,
         1
        ],
        [
         330,
         1
        ],
        [
         329,
         1
        ],
        [
         323,
         3
        ],
        [
         322,
         1
        ],
        [
         321,
         3
        ],
        [
         320,
         1
        ],
        [
         319,
         1
        ],
        [
         318,
         1
        ],
        [
         317,
         2
        ],
        [
         316,
         2
        ],
        [
         315,
         2
        ],
        [
         314,
         1
        ],
        [
         313,
         3
        ],
        [
         312,
         2
        ],
        [
         311,
         3
        ],
        [
         310,
         1
        ],
        [
         309,
         1
        ],
        [
         308,
         1
        ],
        [
         307,
         1
        ],
        [
         306,
         1
        ],
        [
         305,
         1
        ],
        [
         304,
         1
        ],
        [
         303,
         3
        ],
        [
         302,
         1
        ],
        [
         301,
         4
        ],
        [
         300,
         1
        ],
        [
         299,
         2
        ],
        [
         296,
         4
        ],
        [
         295,
         1
        ],
        [
         294,
         1
        ],
        [
         293,
         2
        ],
        [
         289,
         1
        ],
        [
         288,
         1
        ],
        [
         287,
         1
        ],
        [
         286,
         4
        ],
        [
         285,
         2
        ],
        [
         284,
         4
        ],
        [
         283,
         1
        ],
        [
         282,
         2
        ],
        [
         281,
         1
        ],
        [
         280,
         1
        ],
        [
         277,
         4
        ],
        [
         276,
         2
        ],
        [
         275,
         5
        ],
        [
         273,
         1
        ],
        [
         272,
         1
        ],
        [
         271,
         3
        ],
        [
         270,
         2
        ],
        [
         269,
         1
        ],
        [
         268,
         1
        ],
        [
         265,
         3
        ],
        [
         264,
         5
        ],
        [
         262,
         1
        ],
        [
         261,
         2
        ],
        [
         260,
         2
        ],
        [
         259,
         3
        ],
        [
         258,
         2
        ],
        [
         257,
         1
        ],
        [
         256,
         3
        ],
        [
         254,
         2
        ],
        [
         252,
         5
        ],
        [
         251,
         2
        ],
        [
         250,
         1
        ],
        [
         249,
         3
        ],
        [
         248,
         1
        ],
        [
         247,
         1
        ],
        [
         246,
         1
        ],
        [
         244,
         2
        ],
        [
         243,
         1
        ],
        [
         242,
         2
        ],
        [
         241,
         2
        ],
        [
         239,
         3
        ],
        [
         238,
         2
        ],
        [
         237,
         2
        ],
        [
         236,
         3
        ],
        [
         235,
         4
        ],
        [
         234,
         2
        ],
        [
         233,
         5
        ],
        [
         232,
         3
        ],
        [
         229,
         3
        ],
        [
         228,
         2
        ],
        [
         227,
         4
        ],
        [
         226,
         3
        ],
        [
         224,
         2
        ],
        [
         223,
         5
        ],
        [
         222,
         1
        ],
        [
         220,
         1
        ],
        [
         219,
         1
        ],
        [
         218,
         1
        ],
        [
         217,
         1
        ],
        [
         216,
         4
        ],
        [
         215,
         1
        ],
        [
         214,
         1
        ],
        [
         213,
         2
        ],
        [
         212,
         4
        ],
        [
         211,
         3
        ],
        [
         210,
         1
        ],
        [
         209,
         1
        ],
        [
         208,
         2
        ],
        [
         207,
         3
        ],
        [
         205,
         3
        ],
        [
         204,
         4
        ],
        [
         203,
         3
        ],
        [
         202,
         3
        ],
        [
         201,
         2
        ],
        [
         200,
         5
        ],
        [
         199,
         1
        ],
        [
         198,
         2
        ],
        [
         197,
         1
        ],
        [
         196,
         2
        ],
        [
         195,
         3
        ],
        [
         194,
         4
        ],
        [
         191,
         1
        ],
        [
         190,
         1
        ],
        [
         189,
         2
        ],
        [
         188,
         3
        ],
        [
         187,
         4
        ],
        [
         186,
         1
        ],
        [
         185,
         2
        ],
        [
         184,
         3
        ],
        [
         183,
         3
        ],
        [
         182,
         3
        ],
        [
         181,
         5
        ],
        [
         180,
         3
        ],
        [
         179,
         4
        ],
        [
         178,
         5
        ],
        [
         177,
         1
        ],
        [
         176,
         5
        ],
        [
         175,
         4
        ],
        [
         174,
         3
        ],
        [
         173,
         3
        ],
        [
         172,
         5
        ],
        [
         171,
         2
        ],
        [
         170,
         5
        ],
        [
         169,
         2
        ],
        [
         168,
         3
        ],
        [
         167,
         5
        ],
        [
         166,
         3
        ],
        [
         165,
         1
        ],
        [
         164,
         4
        ],
        [
         163,
         4
        ],
        [
         162,
         1
        ],
        [
         160,
         3
        ],
        [
         159,
         3
        ],
        [
         158,
         5
        ],
        [
         157,
         7
        ],
        [
         156,
         4
        ],
        [
         155,
         3
        ],
        [
         154,
         5
        ],
        [
         153,
         2
        ],
        [
         152,
         1
        ],
        [
         151,
         7
        ],
        [
         150,
         3
        ],
        [
         149,
         6
        ],
        [
         148,
         2
        ],
        [
         147,
         3
        ],
        [
         146,
         4
        ],
        [
         145,
         6
        ],
        [
         144,
         2
        ],
        [
         142,
         7
        ],
        [
         141,
         3
        ],
        [
         140,
         5
        ],
        [
         139,
         3
        ],
        [
         138,
         7
        ],
        [
         137,
         6
        ],
        [
         136,
         5
        ],
        [
         135,
         8
        ],
        [
         134,
         7
        ],
        [
         133,
         5
        ],
        [
         132,
         1
        ],
        [
         131,
         3
        ],
        [
         130,
         5
        ],
        [
         129,
         3
        ],
        [
         128,
         4
        ],
        [
         127,
         2
        ],
        [
         126,
         6
        ],
        [
         125,
         8
        ],
        [
         124,
         1
        ],
        [
         123,
         1
        ],
        [
         122,
         3
        ],
        [
         121,
         5
        ],
        [
         120,
         3
        ],
        [
         119,
         2
        ],
        [
         118,
         6
        ],
        [
         117,
         3
        ],
        [
         116,
         3
        ],
        [
         115,
         2
        ],
        [
         114,
         4
        ],
        [
         113,
         3
        ],
        [
         112,
         5
        ],
        [
         111,
         4
        ],
        [
         110,
         2
        ],
        [
         109,
         6
        ],
        [
         108,
         3
        ],
        [
         107,
         3
        ],
        [
         106,
         6
        ],
        [
         105,
         3
        ],
        [
         104,
         3
        ],
        [
         103,
         5
        ],
        [
         102,
         7
        ],
        [
         101,
         7
        ],
        [
         100,
         8
        ],
        [
         99,
         4
        ],
        [
         98,
         3
        ],
        [
         97,
         4
        ],
        [
         96,
         7
        ],
        [
         95,
         1
        ],
        [
         94,
         4
        ],
        [
         93,
         4
        ],
        [
         92,
         6
        ],
        [
         91,
         7
        ],
        [
         90,
         3
        ],
        [
         89,
         3
        ],
        [
         88,
         7
        ],
        [
         87,
         4
        ],
        [
         86,
         3
        ],
        [
         85,
         6
        ],
        [
         84,
         8
        ],
        [
         83,
         3
        ],
        [
         82,
         4
        ],
        [
         81,
         4
        ],
        [
         80,
         2
        ],
        [
         79,
         4
        ],
        [
         78,
         5
        ],
        [
         77,
         2
        ],
        [
         76,
         6
        ],
        [
         75,
         3
        ],
        [
         74,
         3
        ],
        [
         73,
         8
        ],
        [
         72,
         6
        ],
        [
         71,
         1
        ],
        [
         70,
         4
        ],
        [
         69,
         5
        ],
        [
         68,
         5
        ],
        [
         67,
         6
        ],
        [
         66,
         2
        ],
        [
         65,
         7
        ],
        [
         64,
         2
        ],
        [
         63,
         1
        ],
        [
         62,
         4
        ],
        [
         61,
         2
        ],
        [
         60,
         6
        ],
        [
         59,
         5
        ],
        [
         58,
         5
        ],
        [
         57,
         3
        ],
        [
         56,
         4
        ],
        [
         55,
         7
        ],
        [
         54,
         5
        ],
        [
         53,
         3
        ],
        [
         52,
         4
        ],
        [
         51,
         6
        ],
        [
         50,
         3
        ],
        [
         49,
         2
        ],
        [
         48,
         3
        ],
        [
         47,
         6
        ],
        [
         46,
         9
        ],
        [
         45,
         6
        ],
        [
         44,
         6
        ],
        [
         43,
         2
        ],
        [
         42,
         8
        ],
        [
         41,
         3
        ],
        [
         40,
         4
        ],
        [
         39,
         1
        ],
        [
         38,
         4
        ],
        [
         37,
         2
        ],
        [
         35,
         1
        ],
        [
         34,
         1
        ],
        [
         33,
         3
        ],
        [
         32,
         3
        ],
        [
         31,
         5
        ],
        [
         30,
         5
        ],
        [
         29,
         2
        ],
        [
         28,
         2
        ],
        [
         27,
         8
        ],
        [
         26,
         4
        ],
        [
         25,
         1
        ],
        [
         24,
         10
        ],
        [
         23,
         4
        ],
        [
         22,
         8
        ],
        [
         21,
         6
        ],
        [
         20,
         2
        ],
        [
         19,
         1
        ],
        [
         18,
         7
        ],
        [
         16,
         3
        ],
        [
         15,
         3
        ],
        [
         14,
         4
        ],
        [
         13,
         2
        ],
        [
         12,
         7
        ],
        [
         11,
         6
        ],
        [
         10,
         3
        ],
        [
         9,
         4
        ],
        [
         8,
         2
        ],
        [
         7,
         6
        ],
        [
         6,
         4
        ],
        [
         5,
         3
        ],
        [
         4,
         4
        ],
        [
         3,
         3
        ],
        [
         2,
         3
        ],
        [
         1,
         1
        ]
       ],
       "datasetInfos": [],
       "dbfsResultPath": null,
       "isJsonSchema": true,
       "metadata": {},
       "overflow": false,
       "plotOptions": {
        "customPlotOptions": {},
        "displayType": "table",
        "pivotAggregation": null,
        "pivotColumns": null,
        "xColumns": null,
        "yColumns": null
       },
       "removedWidgets": [],
       "schema": [
        {
         "metadata": "{}",
         "name": "Boxes_Shipped",
         "type": "\"integer\""
        },
        {
         "metadata": "{}",
         "name": "count",
         "type": "\"long\""
        }
       ],
       "type": "table"
      }
     },
     "output_type": "display_data"
    },
    {
     "data": {
      "text/plain": [
       "Databricks visualization. Run in Databricks to view."
      ]
     },
     "metadata": {
      "application/vnd.databricks.v1.subcommand+json": {
       "baseErrorDetails": null,
       "bindings": {},
       "collapsed": false,
       "command": "%python\n__backend_agg_display_orig = display\n__backend_agg_dfs = []\ndef __backend_agg_display_new(df):\n    __backend_agg_df_modules = [\"pandas.core.frame\", \"databricks.koalas.frame\", \"pyspark.sql.dataframe\", \"pyspark.pandas.frame\", \"pyspark.sql.connect.dataframe\"]\n    if (type(df).__module__ in __backend_agg_df_modules and type(df).__name__ == 'DataFrame') or isinstance(df, list):\n        __backend_agg_dfs.append(df)\n\ndisplay = __backend_agg_display_new\n\ndef __backend_agg_user_code_fn():\n    import base64\n    exec(base64.standard_b64decode(\"ZGYuZ3JvdXBCeSgnQm94ZXNfU2hpcHBlZCcpLmNvdW50KCkub3JkZXJCeSgnQm94ZXNfU2hpcHBlZCcsIGFzY2VuZGluZz1GYWxzZSkuZGlzcGxheSgp\").decode())\n\ntry:\n    # run user code\n    __backend_agg_user_code_fn()\n\n    #reset display function\n    display = __backend_agg_display_orig\n\n    if len(__backend_agg_dfs) > 0:\n        # create a temp view\n        if type(__backend_agg_dfs[0]).__module__ == \"databricks.koalas.frame\":\n            # koalas dataframe\n            __backend_agg_dfs[0].to_spark().createOrReplaceTempView(\"DatabricksView70c30d8\")\n        elif type(__backend_agg_dfs[0]).__module__ == \"pandas.core.frame\" or isinstance(__backend_agg_dfs[0], list):\n            # pandas dataframe\n            spark.createDataFrame(__backend_agg_dfs[0]).createOrReplaceTempView(\"DatabricksView70c30d8\")\n        else:\n            __backend_agg_dfs[0].createOrReplaceTempView(\"DatabricksView70c30d8\")\n        #run backend agg\n        display(spark.sql(\"\"\"WITH q AS (select * from DatabricksView70c30d8) ,min_max AS (SELECT `Boxes_Shipped`,(SELECT MAX(`Boxes_Shipped`) FROM q) `target_column_max`,(SELECT MIN(`Boxes_Shipped`) FROM q) `target_column_min` FROM q) ,histogram_meta AS (SELECT `Boxes_Shipped`,`target_column_min` `min_value`,IF(`target_column_max` = `target_column_min`,`target_column_max` + 1,`target_column_max`) `max_value`,(`target_column_max` - `target_column_min`) / 100 `step` FROM min_max) SELECT IF(ISNULL(`Boxes_Shipped`),NULL,LEAST(WIDTH_BUCKET(`Boxes_Shipped`,`min_value`,`max_value`,100),100)) `Boxes_Shipped_BIN`,FIRST(`min_value` + ((IF(ISNULL(`Boxes_Shipped`),NULL,LEAST(WIDTH_BUCKET(`Boxes_Shipped`,`min_value`,`max_value`,100),100)) - 1) * `step`)) `Boxes_Shipped_BIN_LOWER_BOUND`,FIRST(`step`) `Boxes_Shipped_BIN_STEP`,COUNT(`Boxes_Shipped`) `COUNT` FROM histogram_meta GROUP BY `Boxes_Shipped_BIN`\"\"\"))\n    else:\n        displayHTML(\"dataframe no longer exists. If you're using dataframe.display(), use display(dataframe) instead.\")\n\n\nfinally:\n    spark.sql(\"drop view if exists DatabricksView70c30d8\")\n    display = __backend_agg_display_orig\n    del __backend_agg_display_new\n    del __backend_agg_display_orig\n    del __backend_agg_dfs\n    del __backend_agg_user_code_fn\n\n",
       "commandTitle": "Visualization 1",
       "commandType": "auto",
       "commandVersion": 0,
       "commentThread": [],
       "commentsVisible": false,
       "contentSha256Hex": null,
       "customPlotOptions": {
        "redashChart": [
         {
          "key": "type",
          "value": "CHART"
         },
         {
          "key": "options",
          "value": {
           "alignYAxesAtZero": true,
           "coefficient": 1,
           "columnConfigurationMap": {
            "x": {
             "column": "Boxes_Shipped",
             "id": "column_54080671123"
            }
           },
           "dateTimeFormat": "DD/MM/YYYY HH:mm",
           "direction": {
            "type": "counterclockwise"
           },
           "error_y": {
            "type": "data",
            "visible": true
           },
           "globalSeriesType": "histogram",
           "isAggregationOn": true,
           "legend": {
            "traceorder": "normal"
           },
           "missingValuesAsZero": true,
           "numBins": 100,
           "numberFormat": "0,0.[00000]",
           "percentFormat": "0[.]00%",
           "series": {
            "error_y": {
             "type": "data",
             "visible": true
            },
            "stacking": null
           },
           "seriesOptions": {
            "column_54080671124": {
             "name": "count",
             "type": "histogram",
             "yAxis": 0
            }
           },
           "showDataLabels": false,
           "sizemode": "diameter",
           "sortX": true,
           "sortY": true,
           "swappedAxes": false,
           "textFormat": "",
           "useAggregationsUi": true,
           "valuesOptions": {},
           "version": 2,
           "xAxis": {
            "labels": {
             "enabled": true
            },
            "type": "-"
           },
           "yAxis": [
            {
             "type": "-"
            },
            {
             "opposite": true,
             "type": "-"
            }
           ]
          }
         }
        ]
       },
       "datasetPreviewNameToCmdIdMap": {},
       "diffDeletes": [],
       "diffInserts": [],
       "displayType": "redashChart",
       "error": null,
       "errorDetails": null,
       "errorSummary": null,
       "errorTraceType": null,
       "finishTime": 0,
       "globalVars": {},
       "guid": "",
       "height": "auto",
       "hideCommandCode": false,
       "hideCommandResult": false,
       "iPythonMetadata": null,
       "inputWidgets": {},
       "isLockedInExamMode": false,
       "latestUser": "a user",
       "latestUserId": null,
       "listResultMetadata": null,
       "metadata": {
        "byteLimit": 2048000,
        "rowLimit": 10000
       },
       "nuid": "2683750a-7a5d-4fa1-a41b-e6c3a1f0bec2",
       "origId": 0,
       "parentHierarchy": [],
       "pivotAggregation": null,
       "pivotColumns": null,
       "position": 3.44390869140625,
       "resultDbfsErrorMessage": null,
       "resultDbfsStatus": "INLINED_IN_TREE",
       "results": null,
       "showCommandTitle": false,
       "startTime": 0,
       "state": "finished",
       "streamStates": {},
       "subcommandOptions": {
        "queryPlan": {
         "groups": [
          {
           "column": "Boxes_Shipped_BIN",
           "type": "column"
          }
         ],
         "selects": [
          {
           "alias": "Boxes_Shipped_BIN",
           "args": [
            {
             "column": "Boxes_Shipped",
             "type": "column"
            },
            {
             "number": 100,
             "type": "number"
            }
           ],
           "function": "BIN",
           "type": "function"
          },
          {
           "alias": "Boxes_Shipped_BIN_LOWER_BOUND",
           "args": [
            {
             "column": "Boxes_Shipped",
             "type": "column"
            },
            {
             "number": 100,
             "type": "number"
            }
           ],
           "function": "BIN_LOWER_BOUND",
           "type": "function"
          },
          {
           "alias": "Boxes_Shipped_BIN_STEP",
           "args": [
            {
             "column": "Boxes_Shipped",
             "type": "column"
            },
            {
             "number": 100,
             "type": "number"
            }
           ],
           "function": "BIN_STEP",
           "type": "function"
          },
          {
           "alias": "COUNT",
           "args": [
            {
             "column": "Boxes_Shipped",
             "type": "column"
            }
           ],
           "function": "COUNT",
           "type": "function"
          }
         ]
        }
       },
       "submitTime": 0,
       "subtype": "tableResultSubCmd.visualization",
       "tableResultIndex": 0,
       "tableResultSettingsMap": {},
       "useConsistentColors": false,
       "version": "CommandV1",
       "width": "auto",
       "workflows": [],
       "xColumns": null,
       "yColumns": null
      }
     },
     "output_type": "display_data"
    }
   ],
   "source": [
    "df.groupBy('Boxes_Shipped').count().orderBy('Boxes_Shipped', ascending=False).display()"
   ]
  },
  {
   "cell_type": "markdown",
   "metadata": {},
   "source": [
    "![histogram](../../docs/image/databricks_img/eda_outlier_histogram.JPG)"
   ]
  },
  {
   "cell_type": "code",
   "execution_count": 0,
   "metadata": {
    "application/vnd.databricks.v1+cell": {
     "cellMetadata": {
      "byteLimit": 2048000,
      "rowLimit": 10000
     },
     "inputWidgets": {},
     "nuid": "ee59b7b0-b94e-4fde-8e52-02017fdf66d3",
     "showTitle": false,
     "tableResultSettingsMap": {},
     "title": ""
    }
   },
   "outputs": [
    {
     "data": {
      "text/html": [
       "<style scoped>\n",
       "  .table-result-container {\n",
       "    max-height: 300px;\n",
       "    overflow: auto;\n",
       "  }\n",
       "  table, th, td {\n",
       "    border: 1px solid black;\n",
       "    border-collapse: collapse;\n",
       "  }\n",
       "  th, td {\n",
       "    padding: 5px;\n",
       "  }\n",
       "  th {\n",
       "    text-align: left;\n",
       "  }\n",
       "</style><div class='table-result-container'><table class='table-result'><thead style='background-color: white'><tr><th>Sales_Person_ID</th><th>Sales_Person</th><th>Country</th><th>Product_ID</th><th>Product</th><th>Date</th><th>Amount</th><th>Boxes_Shipped</th></tr></thead><tbody><tr><td>16</td><td>Karlen McCaffrey</td><td>Australia</td><td>1</td><td>50% Dark Bites</td><td>2022-01-17</td><td>$6,678 </td><td>708</td></tr><tr><td>20</td><td>Marney O'Breen</td><td>Canada</td><td>8</td><td>Caramel Stuffed Bars</td><td>2022-02-23</td><td>$1,372 </td><td>614</td></tr><tr><td>24</td><td>Van Tuxwell</td><td>Canada</td><td>10</td><td>Drinking Coco</td><td>2022-06-15</td><td>$4,900 </td><td>709</td></tr></tbody></table></div>"
      ]
     },
     "metadata": {
      "application/vnd.databricks.v1+output": {
       "addedWidgets": {},
       "aggData": [],
       "aggError": "",
       "aggOverflow": false,
       "aggSchema": [],
       "aggSeriesLimitReached": false,
       "aggType": "",
       "arguments": {},
       "columnCustomDisplayInfos": {},
       "data": [
        [
         16,
         "Karlen McCaffrey",
         "Australia",
         1,
         "50% Dark Bites",
         "2022-01-17",
         "$6,678 ",
         708
        ],
        [
         20,
         "Marney O'Breen",
         "Canada",
         8,
         "Caramel Stuffed Bars",
         "2022-02-23",
         "$1,372 ",
         614
        ],
        [
         24,
         "Van Tuxwell",
         "Canada",
         10,
         "Drinking Coco",
         "2022-06-15",
         "$4,900 ",
         709
        ]
       ],
       "datasetInfos": [],
       "dbfsResultPath": null,
       "isJsonSchema": true,
       "metadata": {},
       "overflow": false,
       "plotOptions": {
        "customPlotOptions": {},
        "displayType": "table",
        "pivotAggregation": null,
        "pivotColumns": null,
        "xColumns": null,
        "yColumns": null
       },
       "removedWidgets": [],
       "schema": [
        {
         "metadata": "{}",
         "name": "Sales_Person_ID",
         "type": "\"integer\""
        },
        {
         "metadata": "{}",
         "name": "Sales_Person",
         "type": "\"string\""
        },
        {
         "metadata": "{}",
         "name": "Country",
         "type": "\"string\""
        },
        {
         "metadata": "{}",
         "name": "Product_ID",
         "type": "\"integer\""
        },
        {
         "metadata": "{}",
         "name": "Product",
         "type": "\"string\""
        },
        {
         "metadata": "{}",
         "name": "Date",
         "type": "\"date\""
        },
        {
         "metadata": "{}",
         "name": "Amount",
         "type": "\"string\""
        },
        {
         "metadata": "{}",
         "name": "Boxes_Shipped",
         "type": "\"integer\""
        }
       ],
       "type": "table"
      }
     },
     "output_type": "display_data"
    }
   ],
   "source": [
    "df.filter(F.col('Boxes_Shipped') > 600).display()"
   ]
  }
 ],
 "metadata": {
  "application/vnd.databricks.v1+notebook": {
   "computePreferences": null,
   "dashboards": [],
   "environmentMetadata": {
    "base_environment": "",
    "environment_version": "2"
   },
   "inputWidgetPreferences": null,
   "language": "python",
   "notebookMetadata": {
    "pythonIndentUnit": 4
   },
   "notebookName": "eda_notebook",
   "widgets": {}
  },
  "language_info": {
   "name": "python"
  }
 },
 "nbformat": 4,
 "nbformat_minor": 0
}
